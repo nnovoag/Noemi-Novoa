{
  "nbformat": 4,
  "nbformat_minor": 0,
  "metadata": {
    "colab": {
      "name": "TG1.NoemíNovoa",
      "provenance": [],
      "collapsed_sections": [],
      "authorship_tag": "ABX9TyPh3diqX+mgZIC0RVopo20e",
      "include_colab_link": true
    },
    "kernelspec": {
      "name": "python3",
      "display_name": "Python 3"
    }
  },
  "cells": [
    {
      "cell_type": "markdown",
      "metadata": {
        "id": "view-in-github",
        "colab_type": "text"
      },
      "source": [
        "<a href=\"https://colab.research.google.com/github/nnovoag/Noemi-Novoa/blob/master/TG1_Noem%C3%ADNovoa.ipynb\" target=\"_parent\"><img src=\"https://colab.research.google.com/assets/colab-badge.svg\" alt=\"Open In Colab\"/></a>"
      ]
    },
    {
      "cell_type": "markdown",
      "metadata": {
        "id": "31xE9XlQ9s-A",
        "colab_type": "text"
      },
      "source": [
        "### **Tarea Grande 1**\n",
        "\n",
        "\n",
        "\n",
        "\n"
      ]
    },
    {
      "cell_type": "markdown",
      "metadata": {
        "id": "y4SYzmM4eME0",
        "colab_type": "text"
      },
      "source": [
        "## PARTE 1"
      ]
    },
    {
      "cell_type": "code",
      "metadata": {
        "id": "mVbCFzJDtIYw",
        "colab_type": "code",
        "colab": {
          "base_uri": "https://localhost:8080/",
          "height": 813
        },
        "outputId": "d0b827f9-1b55-4c4a-cdab-8fd273acc808"
      },
      "source": [
        "import pandas as pd\n",
        "import altair as alt\n",
        "import time\n",
        "from vega_datasets import data\n",
        "url='https://raw.githubusercontent.com/Exploratorio-DCC-PUC/tg1-2020-1-nnovoag/master/movies.csv?token=AO2X4JPO26ZO2SOMQYC7UG26SJRAM'\n",
        "df = pd.read_csv(url, encoding=\"latin-1\")\n",
        "df"
      ],
      "execution_count": 1,
      "outputs": [
        {
          "output_type": "execute_result",
          "data": {
            "text/html": [
              "<div>\n",
              "<style scoped>\n",
              "    .dataframe tbody tr th:only-of-type {\n",
              "        vertical-align: middle;\n",
              "    }\n",
              "\n",
              "    .dataframe tbody tr th {\n",
              "        vertical-align: top;\n",
              "    }\n",
              "\n",
              "    .dataframe thead th {\n",
              "        text-align: right;\n",
              "    }\n",
              "</style>\n",
              "<table border=\"1\" class=\"dataframe\">\n",
              "  <thead>\n",
              "    <tr style=\"text-align: right;\">\n",
              "      <th></th>\n",
              "      <th>budget</th>\n",
              "      <th>company</th>\n",
              "      <th>country</th>\n",
              "      <th>director</th>\n",
              "      <th>genre</th>\n",
              "      <th>gross</th>\n",
              "      <th>name</th>\n",
              "      <th>rating</th>\n",
              "      <th>released</th>\n",
              "      <th>runtime</th>\n",
              "      <th>score</th>\n",
              "      <th>star</th>\n",
              "      <th>votes</th>\n",
              "      <th>writer</th>\n",
              "      <th>year</th>\n",
              "    </tr>\n",
              "  </thead>\n",
              "  <tbody>\n",
              "    <tr>\n",
              "      <th>0</th>\n",
              "      <td>8000000.0</td>\n",
              "      <td>Columbia Pictures Corporation</td>\n",
              "      <td>USA</td>\n",
              "      <td>Rob Reiner</td>\n",
              "      <td>Adventure</td>\n",
              "      <td>52287414.0</td>\n",
              "      <td>Stand by Me</td>\n",
              "      <td>R</td>\n",
              "      <td>1986-08-22</td>\n",
              "      <td>89</td>\n",
              "      <td>8.1</td>\n",
              "      <td>Wil Wheaton</td>\n",
              "      <td>299174</td>\n",
              "      <td>Stephen King</td>\n",
              "      <td>1986</td>\n",
              "    </tr>\n",
              "    <tr>\n",
              "      <th>1</th>\n",
              "      <td>6000000.0</td>\n",
              "      <td>Paramount Pictures</td>\n",
              "      <td>USA</td>\n",
              "      <td>John Hughes</td>\n",
              "      <td>Comedy</td>\n",
              "      <td>70136369.0</td>\n",
              "      <td>Ferris Bueller's Day Off</td>\n",
              "      <td>PG-13</td>\n",
              "      <td>1986-06-11</td>\n",
              "      <td>103</td>\n",
              "      <td>7.8</td>\n",
              "      <td>Matthew Broderick</td>\n",
              "      <td>264740</td>\n",
              "      <td>John Hughes</td>\n",
              "      <td>1986</td>\n",
              "    </tr>\n",
              "    <tr>\n",
              "      <th>2</th>\n",
              "      <td>15000000.0</td>\n",
              "      <td>Paramount Pictures</td>\n",
              "      <td>USA</td>\n",
              "      <td>Tony Scott</td>\n",
              "      <td>Action</td>\n",
              "      <td>179800601.0</td>\n",
              "      <td>Top Gun</td>\n",
              "      <td>PG</td>\n",
              "      <td>1986-05-16</td>\n",
              "      <td>110</td>\n",
              "      <td>6.9</td>\n",
              "      <td>Tom Cruise</td>\n",
              "      <td>236909</td>\n",
              "      <td>Jim Cash</td>\n",
              "      <td>1986</td>\n",
              "    </tr>\n",
              "    <tr>\n",
              "      <th>3</th>\n",
              "      <td>18500000.0</td>\n",
              "      <td>Twentieth Century Fox Film Corporation</td>\n",
              "      <td>USA</td>\n",
              "      <td>James Cameron</td>\n",
              "      <td>Action</td>\n",
              "      <td>85160248.0</td>\n",
              "      <td>Aliens</td>\n",
              "      <td>R</td>\n",
              "      <td>1986-07-18</td>\n",
              "      <td>137</td>\n",
              "      <td>8.4</td>\n",
              "      <td>Sigourney Weaver</td>\n",
              "      <td>540152</td>\n",
              "      <td>James Cameron</td>\n",
              "      <td>1986</td>\n",
              "    </tr>\n",
              "    <tr>\n",
              "      <th>4</th>\n",
              "      <td>9000000.0</td>\n",
              "      <td>Walt Disney Pictures</td>\n",
              "      <td>USA</td>\n",
              "      <td>Randal Kleiser</td>\n",
              "      <td>Adventure</td>\n",
              "      <td>18564613.0</td>\n",
              "      <td>Flight of the Navigator</td>\n",
              "      <td>PG</td>\n",
              "      <td>1986-08-01</td>\n",
              "      <td>90</td>\n",
              "      <td>6.9</td>\n",
              "      <td>Joey Cramer</td>\n",
              "      <td>36636</td>\n",
              "      <td>Mark H. Baker</td>\n",
              "      <td>1986</td>\n",
              "    </tr>\n",
              "    <tr>\n",
              "      <th>...</th>\n",
              "      <td>...</td>\n",
              "      <td>...</td>\n",
              "      <td>...</td>\n",
              "      <td>...</td>\n",
              "      <td>...</td>\n",
              "      <td>...</td>\n",
              "      <td>...</td>\n",
              "      <td>...</td>\n",
              "      <td>...</td>\n",
              "      <td>...</td>\n",
              "      <td>...</td>\n",
              "      <td>...</td>\n",
              "      <td>...</td>\n",
              "      <td>...</td>\n",
              "      <td>...</td>\n",
              "    </tr>\n",
              "    <tr>\n",
              "      <th>6815</th>\n",
              "      <td>0.0</td>\n",
              "      <td>Fox Searchlight Pictures</td>\n",
              "      <td>UK</td>\n",
              "      <td>Mandie Fletcher</td>\n",
              "      <td>Comedy</td>\n",
              "      <td>4750497.0</td>\n",
              "      <td>Absolutely Fabulous: The Movie</td>\n",
              "      <td>R</td>\n",
              "      <td>2016-07-22</td>\n",
              "      <td>91</td>\n",
              "      <td>5.4</td>\n",
              "      <td>Jennifer Saunders</td>\n",
              "      <td>9161</td>\n",
              "      <td>Jennifer Saunders</td>\n",
              "      <td>2016</td>\n",
              "    </tr>\n",
              "    <tr>\n",
              "      <th>6816</th>\n",
              "      <td>0.0</td>\n",
              "      <td>Siempre Viva Productions</td>\n",
              "      <td>USA</td>\n",
              "      <td>Paul Duddridge</td>\n",
              "      <td>Drama</td>\n",
              "      <td>28368.0</td>\n",
              "      <td>Mothers and Daughters</td>\n",
              "      <td>PG-13</td>\n",
              "      <td>2016-05-06</td>\n",
              "      <td>90</td>\n",
              "      <td>4.9</td>\n",
              "      <td>Selma Blair</td>\n",
              "      <td>1959</td>\n",
              "      <td>Paige Cameron</td>\n",
              "      <td>2016</td>\n",
              "    </tr>\n",
              "    <tr>\n",
              "      <th>6817</th>\n",
              "      <td>3500000.0</td>\n",
              "      <td>Warner Bros. Animation</td>\n",
              "      <td>USA</td>\n",
              "      <td>Sam Liu</td>\n",
              "      <td>Animation</td>\n",
              "      <td>3775000.0</td>\n",
              "      <td>Batman: The Killing Joke</td>\n",
              "      <td>R</td>\n",
              "      <td>2016-07-25</td>\n",
              "      <td>76</td>\n",
              "      <td>6.5</td>\n",
              "      <td>Kevin Conroy</td>\n",
              "      <td>36333</td>\n",
              "      <td>Brian Azzarello</td>\n",
              "      <td>2016</td>\n",
              "    </tr>\n",
              "    <tr>\n",
              "      <th>6818</th>\n",
              "      <td>0.0</td>\n",
              "      <td>Borderline Presents</td>\n",
              "      <td>USA</td>\n",
              "      <td>Nicolas Pesce</td>\n",
              "      <td>Drama</td>\n",
              "      <td>25981.0</td>\n",
              "      <td>The Eyes of My Mother</td>\n",
              "      <td>R</td>\n",
              "      <td>2016-12-02</td>\n",
              "      <td>76</td>\n",
              "      <td>6.2</td>\n",
              "      <td>Kika Magalhães</td>\n",
              "      <td>6947</td>\n",
              "      <td>Nicolas Pesce</td>\n",
              "      <td>2016</td>\n",
              "    </tr>\n",
              "    <tr>\n",
              "      <th>6819</th>\n",
              "      <td>0.0</td>\n",
              "      <td>Les Productions du Trésor</td>\n",
              "      <td>France</td>\n",
              "      <td>Nicole Garcia</td>\n",
              "      <td>Drama</td>\n",
              "      <td>37757.0</td>\n",
              "      <td>From the Land of the Moon</td>\n",
              "      <td>R</td>\n",
              "      <td>2017-07-28</td>\n",
              "      <td>120</td>\n",
              "      <td>6.7</td>\n",
              "      <td>Marion Cotillard</td>\n",
              "      <td>2411</td>\n",
              "      <td>Milena Agus</td>\n",
              "      <td>2016</td>\n",
              "    </tr>\n",
              "  </tbody>\n",
              "</table>\n",
              "<p>6820 rows × 15 columns</p>\n",
              "</div>"
            ],
            "text/plain": [
              "          budget  ...  year\n",
              "0      8000000.0  ...  1986\n",
              "1      6000000.0  ...  1986\n",
              "2     15000000.0  ...  1986\n",
              "3     18500000.0  ...  1986\n",
              "4      9000000.0  ...  1986\n",
              "...          ...  ...   ...\n",
              "6815         0.0  ...  2016\n",
              "6816         0.0  ...  2016\n",
              "6817   3500000.0  ...  2016\n",
              "6818         0.0  ...  2016\n",
              "6819         0.0  ...  2016\n",
              "\n",
              "[6820 rows x 15 columns]"
            ]
          },
          "metadata": {
            "tags": []
          },
          "execution_count": 1
        }
      ]
    },
    {
      "cell_type": "markdown",
      "metadata": {
        "id": "OqVQeBeF9rl1",
        "colab_type": "text"
      },
      "source": [
        "Pregunta 1 "
      ]
    },
    {
      "cell_type": "code",
      "metadata": {
        "id": "cCbXisSmSOti",
        "colab_type": "code",
        "colab": {
          "base_uri": "https://localhost:8080/",
          "height": 221
        },
        "outputId": "947c8022-e51e-409d-816a-78e72a08fc54"
      },
      "source": [
        "df1= df.score\n",
        "df1 = df1.replace({1.5:2,2.5:3,3.5:4,4.5:5,5.5:6,6.5:7,7.5:8,8.5:9,9.5:10})\n",
        "df1 = df1.round()\n",
        "df1"
      ],
      "execution_count": 2,
      "outputs": [
        {
          "output_type": "execute_result",
          "data": {
            "text/plain": [
              "0       8.0\n",
              "1       8.0\n",
              "2       7.0\n",
              "3       8.0\n",
              "4       7.0\n",
              "       ... \n",
              "6815    5.0\n",
              "6816    5.0\n",
              "6817    7.0\n",
              "6818    6.0\n",
              "6819    7.0\n",
              "Name: score, Length: 6820, dtype: float64"
            ]
          },
          "metadata": {
            "tags": []
          },
          "execution_count": 2
        }
      ]
    },
    {
      "cell_type": "code",
      "metadata": {
        "id": "m9MHq-QvWwn4",
        "colab_type": "code",
        "colab": {
          "base_uri": "https://localhost:8080/",
          "height": 170
        },
        "outputId": "1feb8919-367c-4c74-8bac-5dc4cbd55df0"
      },
      "source": [
        "y= df1.value_counts()\n",
        "y"
      ],
      "execution_count": 3,
      "outputs": [
        {
          "output_type": "execute_result",
          "data": {
            "text/plain": [
              "7.0    2470\n",
              "6.0    2304\n",
              "8.0     893\n",
              "5.0     843\n",
              "4.0     213\n",
              "9.0      39\n",
              "3.0      39\n",
              "2.0      19\n",
              "Name: score, dtype: int64"
            ]
          },
          "metadata": {
            "tags": []
          },
          "execution_count": 3
        }
      ]
    },
    {
      "cell_type": "code",
      "metadata": {
        "id": "BFeUEojnGbEK",
        "colab_type": "code",
        "colab": {
          "base_uri": "https://localhost:8080/",
          "height": 380
        },
        "outputId": "217d3f86-6a67-487d-fc80-5fedbc5d9338"
      },
      "source": [
        "source = pd.DataFrame({\n",
        "    'Puntaje': [1, 2, 3, 4, 5, 6, 7, 8, 9, 10],\n",
        "    'Cantidad de peliculas': [0, 19, 39, 213, 843, 2304, 2470, 893, 39, 0]\n",
        "})\n",
        "\n",
        "alt.Chart(source).mark_bar().encode(\n",
        "    x='Puntaje',\n",
        "    y='Cantidad de peliculas'\n",
        ").interactive().properties(\n",
        "    title='Gráfico 1: Distribución de puntajes'\n",
        ")"
      ],
      "execution_count": 4,
      "outputs": [
        {
          "output_type": "execute_result",
          "data": {
            "text/plain": [
              "alt.Chart(...)"
            ],
            "text/html": [
              "\n",
              "<div id=\"altair-viz-d7b533e6d7614d3d996e2f053083d3da\"></div>\n",
              "<script type=\"text/javascript\">\n",
              "  (function(spec, embedOpt){\n",
              "    let outputDiv = document.currentScript.previousElementSibling;\n",
              "    if (outputDiv.id !== \"altair-viz-d7b533e6d7614d3d996e2f053083d3da\") {\n",
              "      outputDiv = document.getElementById(\"altair-viz-d7b533e6d7614d3d996e2f053083d3da\");\n",
              "    }\n",
              "    const paths = {\n",
              "      \"vega\": \"https://cdn.jsdelivr.net/npm//vega@5?noext\",\n",
              "      \"vega-lib\": \"https://cdn.jsdelivr.net/npm//vega-lib?noext\",\n",
              "      \"vega-lite\": \"https://cdn.jsdelivr.net/npm//vega-lite@4.8.1?noext\",\n",
              "      \"vega-embed\": \"https://cdn.jsdelivr.net/npm//vega-embed@6?noext\",\n",
              "    };\n",
              "\n",
              "    function loadScript(lib) {\n",
              "      return new Promise(function(resolve, reject) {\n",
              "        var s = document.createElement('script');\n",
              "        s.src = paths[lib];\n",
              "        s.async = true;\n",
              "        s.onload = () => resolve(paths[lib]);\n",
              "        s.onerror = () => reject(`Error loading script: ${paths[lib]}`);\n",
              "        document.getElementsByTagName(\"head\")[0].appendChild(s);\n",
              "      });\n",
              "    }\n",
              "\n",
              "    function showError(err) {\n",
              "      outputDiv.innerHTML = `<div class=\"error\" style=\"color:red;\">${err}</div>`;\n",
              "      throw err;\n",
              "    }\n",
              "\n",
              "    function displayChart(vegaEmbed) {\n",
              "      vegaEmbed(outputDiv, spec, embedOpt)\n",
              "        .catch(err => showError(`Javascript Error: ${err.message}<br>This usually means there's a typo in your chart specification. See the javascript console for the full traceback.`));\n",
              "    }\n",
              "\n",
              "    if(typeof define === \"function\" && define.amd) {\n",
              "      requirejs.config({paths});\n",
              "      require([\"vega-embed\"], displayChart, err => showError(`Error loading script: ${err.message}`));\n",
              "    } else if (typeof vegaEmbed === \"function\") {\n",
              "      displayChart(vegaEmbed);\n",
              "    } else {\n",
              "      loadScript(\"vega\")\n",
              "        .then(() => loadScript(\"vega-lite\"))\n",
              "        .then(() => loadScript(\"vega-embed\"))\n",
              "        .catch(showError)\n",
              "        .then(() => displayChart(vegaEmbed));\n",
              "    }\n",
              "  })({\"config\": {\"view\": {\"continuousWidth\": 400, \"continuousHeight\": 300}}, \"data\": {\"name\": \"data-9a73a4d91f6a7d15bc031d50c6835254\"}, \"mark\": \"bar\", \"encoding\": {\"x\": {\"type\": \"quantitative\", \"field\": \"Puntaje\"}, \"y\": {\"type\": \"quantitative\", \"field\": \"Cantidad de peliculas\"}}, \"selection\": {\"selector001\": {\"type\": \"interval\", \"bind\": \"scales\", \"encodings\": [\"x\", \"y\"]}}, \"title\": \"Gr\\u00e1fico 1: Distribuci\\u00f3n de puntajes\", \"$schema\": \"https://vega.github.io/schema/vega-lite/v4.8.1.json\", \"datasets\": {\"data-9a73a4d91f6a7d15bc031d50c6835254\": [{\"Puntaje\": 1, \"Cantidad de peliculas\": 0}, {\"Puntaje\": 2, \"Cantidad de peliculas\": 19}, {\"Puntaje\": 3, \"Cantidad de peliculas\": 39}, {\"Puntaje\": 4, \"Cantidad de peliculas\": 213}, {\"Puntaje\": 5, \"Cantidad de peliculas\": 843}, {\"Puntaje\": 6, \"Cantidad de peliculas\": 2304}, {\"Puntaje\": 7, \"Cantidad de peliculas\": 2470}, {\"Puntaje\": 8, \"Cantidad de peliculas\": 893}, {\"Puntaje\": 9, \"Cantidad de peliculas\": 39}, {\"Puntaje\": 10, \"Cantidad de peliculas\": 0}]}}, {\"mode\": \"vega-lite\"});\n",
              "</script>"
            ]
          },
          "metadata": {
            "tags": []
          },
          "execution_count": 4
        }
      ]
    },
    {
      "cell_type": "markdown",
      "metadata": {
        "id": "HeOGISYR6OwN",
        "colab_type": "text"
      },
      "source": [
        "Referencias:\n",
        "https://www.it-swarm.dev/es/python/redondear-una-sola-columna-en-pandas/1049265738/\n",
        "https://altair-viz.github.io/gallery/simple_bar_chart.html"
      ]
    },
    {
      "cell_type": "markdown",
      "metadata": {
        "id": "BR13Ee9iayzg",
        "colab_type": "text"
      },
      "source": [
        "Pregunta 2\n"
      ]
    },
    {
      "cell_type": "code",
      "metadata": {
        "id": "xidneYgBa3eq",
        "colab_type": "code",
        "colab": {
          "base_uri": "https://localhost:8080/",
          "height": 651
        },
        "outputId": "6ca6e8e9-0617-45ee-a3d8-4b6687e176e5"
      },
      "source": [
        "top10 = df.nlargest(10,\"score\")\n",
        "top10"
      ],
      "execution_count": 5,
      "outputs": [
        {
          "output_type": "execute_result",
          "data": {
            "text/html": [
              "<div>\n",
              "<style scoped>\n",
              "    .dataframe tbody tr th:only-of-type {\n",
              "        vertical-align: middle;\n",
              "    }\n",
              "\n",
              "    .dataframe tbody tr th {\n",
              "        vertical-align: top;\n",
              "    }\n",
              "\n",
              "    .dataframe thead th {\n",
              "        text-align: right;\n",
              "    }\n",
              "</style>\n",
              "<table border=\"1\" class=\"dataframe\">\n",
              "  <thead>\n",
              "    <tr style=\"text-align: right;\">\n",
              "      <th></th>\n",
              "      <th>budget</th>\n",
              "      <th>company</th>\n",
              "      <th>country</th>\n",
              "      <th>director</th>\n",
              "      <th>genre</th>\n",
              "      <th>gross</th>\n",
              "      <th>name</th>\n",
              "      <th>rating</th>\n",
              "      <th>released</th>\n",
              "      <th>runtime</th>\n",
              "      <th>score</th>\n",
              "      <th>star</th>\n",
              "      <th>votes</th>\n",
              "      <th>writer</th>\n",
              "      <th>year</th>\n",
              "    </tr>\n",
              "  </thead>\n",
              "  <tbody>\n",
              "    <tr>\n",
              "      <th>1760</th>\n",
              "      <td>25000000.0</td>\n",
              "      <td>Castle Rock Entertainment</td>\n",
              "      <td>USA</td>\n",
              "      <td>Frank Darabont</td>\n",
              "      <td>Crime</td>\n",
              "      <td>28341469.0</td>\n",
              "      <td>The Shawshank Redemption</td>\n",
              "      <td>R</td>\n",
              "      <td>1994-10-14</td>\n",
              "      <td>142</td>\n",
              "      <td>9.3</td>\n",
              "      <td>Tim Robbins</td>\n",
              "      <td>1861666</td>\n",
              "      <td>Stephen King</td>\n",
              "      <td>1994</td>\n",
              "    </tr>\n",
              "    <tr>\n",
              "      <th>4840</th>\n",
              "      <td>185000000.0</td>\n",
              "      <td>Warner Bros.</td>\n",
              "      <td>USA</td>\n",
              "      <td>Christopher Nolan</td>\n",
              "      <td>Action</td>\n",
              "      <td>534858444.0</td>\n",
              "      <td>The Dark Knight</td>\n",
              "      <td>PG-13</td>\n",
              "      <td>2008-07-18</td>\n",
              "      <td>152</td>\n",
              "      <td>9.0</td>\n",
              "      <td>Christian Bale</td>\n",
              "      <td>1839571</td>\n",
              "      <td>Jonathan Nolan</td>\n",
              "      <td>2008</td>\n",
              "    </tr>\n",
              "    <tr>\n",
              "      <th>1542</th>\n",
              "      <td>22000000.0</td>\n",
              "      <td>Universal Pictures</td>\n",
              "      <td>USA</td>\n",
              "      <td>Steven Spielberg</td>\n",
              "      <td>Biography</td>\n",
              "      <td>96067179.0</td>\n",
              "      <td>Schindler's List</td>\n",
              "      <td>R</td>\n",
              "      <td>1994-02-04</td>\n",
              "      <td>195</td>\n",
              "      <td>8.9</td>\n",
              "      <td>Liam Neeson</td>\n",
              "      <td>956124</td>\n",
              "      <td>Thomas Keneally</td>\n",
              "      <td>1993</td>\n",
              "    </tr>\n",
              "    <tr>\n",
              "      <th>1761</th>\n",
              "      <td>8000000.0</td>\n",
              "      <td>Miramax</td>\n",
              "      <td>USA</td>\n",
              "      <td>Quentin Tarantino</td>\n",
              "      <td>Crime</td>\n",
              "      <td>107928762.0</td>\n",
              "      <td>Pulp Fiction</td>\n",
              "      <td>R</td>\n",
              "      <td>1994-10-14</td>\n",
              "      <td>154</td>\n",
              "      <td>8.9</td>\n",
              "      <td>John Travolta</td>\n",
              "      <td>1456787</td>\n",
              "      <td>Quentin Tarantino</td>\n",
              "      <td>1994</td>\n",
              "    </tr>\n",
              "    <tr>\n",
              "      <th>3743</th>\n",
              "      <td>94000000.0</td>\n",
              "      <td>New Line Cinema</td>\n",
              "      <td>USA</td>\n",
              "      <td>Peter Jackson</td>\n",
              "      <td>Adventure</td>\n",
              "      <td>377845905.0</td>\n",
              "      <td>The Lord of the Rings: The Return of the King</td>\n",
              "      <td>PG-13</td>\n",
              "      <td>2003-12-17</td>\n",
              "      <td>201</td>\n",
              "      <td>8.9</td>\n",
              "      <td>Elijah Wood</td>\n",
              "      <td>1332020</td>\n",
              "      <td>J.R.R. Tolkien</td>\n",
              "      <td>2003</td>\n",
              "    </tr>\n",
              "    <tr>\n",
              "      <th>1762</th>\n",
              "      <td>55000000.0</td>\n",
              "      <td>Paramount Pictures</td>\n",
              "      <td>USA</td>\n",
              "      <td>Robert Zemeckis</td>\n",
              "      <td>Comedy</td>\n",
              "      <td>330252182.0</td>\n",
              "      <td>Forrest Gump</td>\n",
              "      <td>PG-13</td>\n",
              "      <td>1994-07-06</td>\n",
              "      <td>142</td>\n",
              "      <td>8.8</td>\n",
              "      <td>Tom Hanks</td>\n",
              "      <td>1402876</td>\n",
              "      <td>Winston Groom</td>\n",
              "      <td>1994</td>\n",
              "    </tr>\n",
              "    <tr>\n",
              "      <th>2860</th>\n",
              "      <td>63000000.0</td>\n",
              "      <td>Fox 2000 Pictures</td>\n",
              "      <td>USA</td>\n",
              "      <td>David Fincher</td>\n",
              "      <td>Drama</td>\n",
              "      <td>37030102.0</td>\n",
              "      <td>Fight Club</td>\n",
              "      <td>R</td>\n",
              "      <td>1999-10-15</td>\n",
              "      <td>139</td>\n",
              "      <td>8.8</td>\n",
              "      <td>Brad Pitt</td>\n",
              "      <td>1492073</td>\n",
              "      <td>Chuck Palahniuk</td>\n",
              "      <td>1999</td>\n",
              "    </tr>\n",
              "    <tr>\n",
              "      <th>3301</th>\n",
              "      <td>93000000.0</td>\n",
              "      <td>New Line Cinema</td>\n",
              "      <td>New Zealand</td>\n",
              "      <td>Peter Jackson</td>\n",
              "      <td>Adventure</td>\n",
              "      <td>315544750.0</td>\n",
              "      <td>The Lord of the Rings: The Fellowship of the Ring</td>\n",
              "      <td>PG-13</td>\n",
              "      <td>2001-12-19</td>\n",
              "      <td>178</td>\n",
              "      <td>8.8</td>\n",
              "      <td>Elijah Wood</td>\n",
              "      <td>1352483</td>\n",
              "      <td>J.R.R. Tolkien</td>\n",
              "      <td>2001</td>\n",
              "    </tr>\n",
              "    <tr>\n",
              "      <th>5280</th>\n",
              "      <td>160000000.0</td>\n",
              "      <td>Warner Bros.</td>\n",
              "      <td>USA</td>\n",
              "      <td>Christopher Nolan</td>\n",
              "      <td>Action</td>\n",
              "      <td>292576195.0</td>\n",
              "      <td>Inception</td>\n",
              "      <td>PG-13</td>\n",
              "      <td>2010-07-16</td>\n",
              "      <td>148</td>\n",
              "      <td>8.8</td>\n",
              "      <td>Leonardo DiCaprio</td>\n",
              "      <td>1629342</td>\n",
              "      <td>Christopher Nolan</td>\n",
              "      <td>2010</td>\n",
              "    </tr>\n",
              "    <tr>\n",
              "      <th>881</th>\n",
              "      <td>25000000.0</td>\n",
              "      <td>Warner Bros.</td>\n",
              "      <td>USA</td>\n",
              "      <td>Martin Scorsese</td>\n",
              "      <td>Crime</td>\n",
              "      <td>46836394.0</td>\n",
              "      <td>Goodfellas</td>\n",
              "      <td>R</td>\n",
              "      <td>1990-09-21</td>\n",
              "      <td>146</td>\n",
              "      <td>8.7</td>\n",
              "      <td>Robert De Niro</td>\n",
              "      <td>802599</td>\n",
              "      <td>Nicholas Pileggi</td>\n",
              "      <td>1990</td>\n",
              "    </tr>\n",
              "  </tbody>\n",
              "</table>\n",
              "</div>"
            ],
            "text/plain": [
              "           budget                    company  ...             writer  year\n",
              "1760   25000000.0  Castle Rock Entertainment  ...       Stephen King  1994\n",
              "4840  185000000.0               Warner Bros.  ...     Jonathan Nolan  2008\n",
              "1542   22000000.0         Universal Pictures  ...    Thomas Keneally  1993\n",
              "1761    8000000.0                    Miramax  ...  Quentin Tarantino  1994\n",
              "3743   94000000.0            New Line Cinema  ...     J.R.R. Tolkien  2003\n",
              "1762   55000000.0         Paramount Pictures  ...      Winston Groom  1994\n",
              "2860   63000000.0          Fox 2000 Pictures  ...    Chuck Palahniuk  1999\n",
              "3301   93000000.0            New Line Cinema  ...     J.R.R. Tolkien  2001\n",
              "5280  160000000.0               Warner Bros.  ...  Christopher Nolan  2010\n",
              "881    25000000.0               Warner Bros.  ...   Nicholas Pileggi  1990\n",
              "\n",
              "[10 rows x 15 columns]"
            ]
          },
          "metadata": {
            "tags": []
          },
          "execution_count": 5
        }
      ]
    },
    {
      "cell_type": "code",
      "metadata": {
        "id": "bn3RX7XtcoNU",
        "colab_type": "code",
        "colab": {
          "base_uri": "https://localhost:8080/",
          "height": 359
        },
        "outputId": "306b403c-0185-4f4b-ae53-2cd1d322a7fa"
      },
      "source": [
        "x = top10.loc[:,[\"name\",\"score\"]]\n",
        "x = pd.DataFrame(x)\n",
        "x = x.rename(columns ={\"name\": \"Nombre\",\"score\":\"Puntaje\"})\n",
        "x"
      ],
      "execution_count": 6,
      "outputs": [
        {
          "output_type": "execute_result",
          "data": {
            "text/html": [
              "<div>\n",
              "<style scoped>\n",
              "    .dataframe tbody tr th:only-of-type {\n",
              "        vertical-align: middle;\n",
              "    }\n",
              "\n",
              "    .dataframe tbody tr th {\n",
              "        vertical-align: top;\n",
              "    }\n",
              "\n",
              "    .dataframe thead th {\n",
              "        text-align: right;\n",
              "    }\n",
              "</style>\n",
              "<table border=\"1\" class=\"dataframe\">\n",
              "  <thead>\n",
              "    <tr style=\"text-align: right;\">\n",
              "      <th></th>\n",
              "      <th>Nombre</th>\n",
              "      <th>Puntaje</th>\n",
              "    </tr>\n",
              "  </thead>\n",
              "  <tbody>\n",
              "    <tr>\n",
              "      <th>1760</th>\n",
              "      <td>The Shawshank Redemption</td>\n",
              "      <td>9.3</td>\n",
              "    </tr>\n",
              "    <tr>\n",
              "      <th>4840</th>\n",
              "      <td>The Dark Knight</td>\n",
              "      <td>9.0</td>\n",
              "    </tr>\n",
              "    <tr>\n",
              "      <th>1542</th>\n",
              "      <td>Schindler's List</td>\n",
              "      <td>8.9</td>\n",
              "    </tr>\n",
              "    <tr>\n",
              "      <th>1761</th>\n",
              "      <td>Pulp Fiction</td>\n",
              "      <td>8.9</td>\n",
              "    </tr>\n",
              "    <tr>\n",
              "      <th>3743</th>\n",
              "      <td>The Lord of the Rings: The Return of the King</td>\n",
              "      <td>8.9</td>\n",
              "    </tr>\n",
              "    <tr>\n",
              "      <th>1762</th>\n",
              "      <td>Forrest Gump</td>\n",
              "      <td>8.8</td>\n",
              "    </tr>\n",
              "    <tr>\n",
              "      <th>2860</th>\n",
              "      <td>Fight Club</td>\n",
              "      <td>8.8</td>\n",
              "    </tr>\n",
              "    <tr>\n",
              "      <th>3301</th>\n",
              "      <td>The Lord of the Rings: The Fellowship of the Ring</td>\n",
              "      <td>8.8</td>\n",
              "    </tr>\n",
              "    <tr>\n",
              "      <th>5280</th>\n",
              "      <td>Inception</td>\n",
              "      <td>8.8</td>\n",
              "    </tr>\n",
              "    <tr>\n",
              "      <th>881</th>\n",
              "      <td>Goodfellas</td>\n",
              "      <td>8.7</td>\n",
              "    </tr>\n",
              "  </tbody>\n",
              "</table>\n",
              "</div>"
            ],
            "text/plain": [
              "                                                 Nombre  Puntaje\n",
              "1760                           The Shawshank Redemption      9.3\n",
              "4840                                    The Dark Knight      9.0\n",
              "1542                                   Schindler's List      8.9\n",
              "1761                                       Pulp Fiction      8.9\n",
              "3743      The Lord of the Rings: The Return of the King      8.9\n",
              "1762                                       Forrest Gump      8.8\n",
              "2860                                         Fight Club      8.8\n",
              "3301  The Lord of the Rings: The Fellowship of the Ring      8.8\n",
              "5280                                          Inception      8.8\n",
              "881                                          Goodfellas      8.7"
            ]
          },
          "metadata": {
            "tags": []
          },
          "execution_count": 6
        }
      ]
    },
    {
      "cell_type": "code",
      "metadata": {
        "id": "Tym-uGsFfkZY",
        "colab_type": "code",
        "colab": {
          "base_uri": "https://localhost:8080/",
          "height": 554
        },
        "outputId": "dd23cb16-df14-4d60-f407-9405166394e3"
      },
      "source": [
        "alt.Chart(x).mark_bar().encode(x=alt.X(\"Nombre\",sort=\"-y\") , y=\"Puntaje\",color = alt.condition(\n",
        "    alt.datum.Puntaje == 9.3,\n",
        "    alt.value(\"orange\"),\n",
        "    alt.value(\"steelblue\"))).interactive().properties(\n",
        "    title='Gráfico 2: Las mejores peliculas'\n",
        "    \n",
        ")"
      ],
      "execution_count": 7,
      "outputs": [
        {
          "output_type": "execute_result",
          "data": {
            "text/plain": [
              "alt.Chart(...)"
            ],
            "text/html": [
              "\n",
              "<div id=\"altair-viz-1e08d01b17134ca8833f7a8c7c53a9cf\"></div>\n",
              "<script type=\"text/javascript\">\n",
              "  (function(spec, embedOpt){\n",
              "    let outputDiv = document.currentScript.previousElementSibling;\n",
              "    if (outputDiv.id !== \"altair-viz-1e08d01b17134ca8833f7a8c7c53a9cf\") {\n",
              "      outputDiv = document.getElementById(\"altair-viz-1e08d01b17134ca8833f7a8c7c53a9cf\");\n",
              "    }\n",
              "    const paths = {\n",
              "      \"vega\": \"https://cdn.jsdelivr.net/npm//vega@5?noext\",\n",
              "      \"vega-lib\": \"https://cdn.jsdelivr.net/npm//vega-lib?noext\",\n",
              "      \"vega-lite\": \"https://cdn.jsdelivr.net/npm//vega-lite@4.8.1?noext\",\n",
              "      \"vega-embed\": \"https://cdn.jsdelivr.net/npm//vega-embed@6?noext\",\n",
              "    };\n",
              "\n",
              "    function loadScript(lib) {\n",
              "      return new Promise(function(resolve, reject) {\n",
              "        var s = document.createElement('script');\n",
              "        s.src = paths[lib];\n",
              "        s.async = true;\n",
              "        s.onload = () => resolve(paths[lib]);\n",
              "        s.onerror = () => reject(`Error loading script: ${paths[lib]}`);\n",
              "        document.getElementsByTagName(\"head\")[0].appendChild(s);\n",
              "      });\n",
              "    }\n",
              "\n",
              "    function showError(err) {\n",
              "      outputDiv.innerHTML = `<div class=\"error\" style=\"color:red;\">${err}</div>`;\n",
              "      throw err;\n",
              "    }\n",
              "\n",
              "    function displayChart(vegaEmbed) {\n",
              "      vegaEmbed(outputDiv, spec, embedOpt)\n",
              "        .catch(err => showError(`Javascript Error: ${err.message}<br>This usually means there's a typo in your chart specification. See the javascript console for the full traceback.`));\n",
              "    }\n",
              "\n",
              "    if(typeof define === \"function\" && define.amd) {\n",
              "      requirejs.config({paths});\n",
              "      require([\"vega-embed\"], displayChart, err => showError(`Error loading script: ${err.message}`));\n",
              "    } else if (typeof vegaEmbed === \"function\") {\n",
              "      displayChart(vegaEmbed);\n",
              "    } else {\n",
              "      loadScript(\"vega\")\n",
              "        .then(() => loadScript(\"vega-lite\"))\n",
              "        .then(() => loadScript(\"vega-embed\"))\n",
              "        .catch(showError)\n",
              "        .then(() => displayChart(vegaEmbed));\n",
              "    }\n",
              "  })({\"config\": {\"view\": {\"continuousWidth\": 400, \"continuousHeight\": 300}}, \"data\": {\"name\": \"data-ae39f801b0de8356bea76a07180d28af\"}, \"mark\": \"bar\", \"encoding\": {\"color\": {\"condition\": {\"value\": \"orange\", \"test\": \"(datum.Puntaje === 9.3)\"}, \"value\": \"steelblue\"}, \"x\": {\"type\": \"nominal\", \"field\": \"Nombre\", \"sort\": \"-y\"}, \"y\": {\"type\": \"quantitative\", \"field\": \"Puntaje\"}}, \"selection\": {\"selector002\": {\"type\": \"interval\", \"bind\": \"scales\", \"encodings\": [\"x\", \"y\"]}}, \"title\": \"Gr\\u00e1fico 2: Las mejores peliculas\", \"$schema\": \"https://vega.github.io/schema/vega-lite/v4.8.1.json\", \"datasets\": {\"data-ae39f801b0de8356bea76a07180d28af\": [{\"Nombre\": \"The Shawshank Redemption\", \"Puntaje\": 9.3}, {\"Nombre\": \"The Dark Knight\", \"Puntaje\": 9.0}, {\"Nombre\": \"Schindler's List\", \"Puntaje\": 8.9}, {\"Nombre\": \"Pulp Fiction\", \"Puntaje\": 8.9}, {\"Nombre\": \"The Lord of the Rings: The Return of the King\", \"Puntaje\": 8.9}, {\"Nombre\": \"Forrest Gump\", \"Puntaje\": 8.8}, {\"Nombre\": \"Fight Club\", \"Puntaje\": 8.8}, {\"Nombre\": \"The Lord of the Rings: The Fellowship of the Ring\", \"Puntaje\": 8.8}, {\"Nombre\": \"Inception\", \"Puntaje\": 8.8}, {\"Nombre\": \"Goodfellas\", \"Puntaje\": 8.7}]}}, {\"mode\": \"vega-lite\"});\n",
              "</script>"
            ]
          },
          "metadata": {
            "tags": []
          },
          "execution_count": 7
        }
      ]
    },
    {
      "cell_type": "markdown",
      "metadata": {
        "id": "Bpm9kjcb6X8u",
        "colab_type": "text"
      },
      "source": [
        "Referencias:\n",
        "https://www.analyticslane.com/2019/06/21/seleccionar-filas-y-columnas-en-pandas-con-iloc-y-loc/\n",
        "https://altair-viz.github.io/user_guide/generated/core/altair.BarConfig.html#altair.BarConfig\n",
        "https://stackoverrun.com/es/q/6766359"
      ]
    },
    {
      "cell_type": "markdown",
      "metadata": {
        "id": "90yXLq33ENTy",
        "colab_type": "text"
      },
      "source": [
        "Pregunta 3"
      ]
    },
    {
      "cell_type": "code",
      "metadata": {
        "id": "KWRHE0ppEPoK",
        "colab_type": "code",
        "colab": {
          "base_uri": "https://localhost:8080/",
          "height": 419
        },
        "outputId": "c1b2225d-f228-425e-cfed-2ce5b53c1958"
      },
      "source": [
        "y = df.loc[:,[\"budget\",\"score\",\"rating\"]]\n",
        "y = pd.DataFrame(y)\n",
        "y = y.rename(columns ={\"budget\": \"Presupuesto\",\"score\":\"Puntaje\",\"rating\":\"Rating\"})\n",
        "y"
      ],
      "execution_count": 9,
      "outputs": [
        {
          "output_type": "execute_result",
          "data": {
            "text/html": [
              "<div>\n",
              "<style scoped>\n",
              "    .dataframe tbody tr th:only-of-type {\n",
              "        vertical-align: middle;\n",
              "    }\n",
              "\n",
              "    .dataframe tbody tr th {\n",
              "        vertical-align: top;\n",
              "    }\n",
              "\n",
              "    .dataframe thead th {\n",
              "        text-align: right;\n",
              "    }\n",
              "</style>\n",
              "<table border=\"1\" class=\"dataframe\">\n",
              "  <thead>\n",
              "    <tr style=\"text-align: right;\">\n",
              "      <th></th>\n",
              "      <th>Presupuesto</th>\n",
              "      <th>Puntaje</th>\n",
              "      <th>Rating</th>\n",
              "    </tr>\n",
              "  </thead>\n",
              "  <tbody>\n",
              "    <tr>\n",
              "      <th>0</th>\n",
              "      <td>8000000.0</td>\n",
              "      <td>8.1</td>\n",
              "      <td>R</td>\n",
              "    </tr>\n",
              "    <tr>\n",
              "      <th>1</th>\n",
              "      <td>6000000.0</td>\n",
              "      <td>7.8</td>\n",
              "      <td>PG-13</td>\n",
              "    </tr>\n",
              "    <tr>\n",
              "      <th>2</th>\n",
              "      <td>15000000.0</td>\n",
              "      <td>6.9</td>\n",
              "      <td>PG</td>\n",
              "    </tr>\n",
              "    <tr>\n",
              "      <th>3</th>\n",
              "      <td>18500000.0</td>\n",
              "      <td>8.4</td>\n",
              "      <td>R</td>\n",
              "    </tr>\n",
              "    <tr>\n",
              "      <th>4</th>\n",
              "      <td>9000000.0</td>\n",
              "      <td>6.9</td>\n",
              "      <td>PG</td>\n",
              "    </tr>\n",
              "    <tr>\n",
              "      <th>...</th>\n",
              "      <td>...</td>\n",
              "      <td>...</td>\n",
              "      <td>...</td>\n",
              "    </tr>\n",
              "    <tr>\n",
              "      <th>6815</th>\n",
              "      <td>0.0</td>\n",
              "      <td>5.4</td>\n",
              "      <td>R</td>\n",
              "    </tr>\n",
              "    <tr>\n",
              "      <th>6816</th>\n",
              "      <td>0.0</td>\n",
              "      <td>4.9</td>\n",
              "      <td>PG-13</td>\n",
              "    </tr>\n",
              "    <tr>\n",
              "      <th>6817</th>\n",
              "      <td>3500000.0</td>\n",
              "      <td>6.5</td>\n",
              "      <td>R</td>\n",
              "    </tr>\n",
              "    <tr>\n",
              "      <th>6818</th>\n",
              "      <td>0.0</td>\n",
              "      <td>6.2</td>\n",
              "      <td>R</td>\n",
              "    </tr>\n",
              "    <tr>\n",
              "      <th>6819</th>\n",
              "      <td>0.0</td>\n",
              "      <td>6.7</td>\n",
              "      <td>R</td>\n",
              "    </tr>\n",
              "  </tbody>\n",
              "</table>\n",
              "<p>6820 rows × 3 columns</p>\n",
              "</div>"
            ],
            "text/plain": [
              "      Presupuesto  Puntaje Rating\n",
              "0       8000000.0      8.1      R\n",
              "1       6000000.0      7.8  PG-13\n",
              "2      15000000.0      6.9     PG\n",
              "3      18500000.0      8.4      R\n",
              "4       9000000.0      6.9     PG\n",
              "...           ...      ...    ...\n",
              "6815          0.0      5.4      R\n",
              "6816          0.0      4.9  PG-13\n",
              "6817    3500000.0      6.5      R\n",
              "6818          0.0      6.2      R\n",
              "6819          0.0      6.7      R\n",
              "\n",
              "[6820 rows x 3 columns]"
            ]
          },
          "metadata": {
            "tags": []
          },
          "execution_count": 9
        }
      ]
    },
    {
      "cell_type": "code",
      "metadata": {
        "id": "4CMi7reeGFo6",
        "colab_type": "code",
        "colab": {}
      },
      "source": [
        "z = y.loc[y.loc[:, 'Presupuesto'] == 0.0]\n",
        "z"
      ],
      "execution_count": 0,
      "outputs": []
    },
    {
      "cell_type": "code",
      "metadata": {
        "id": "HKpEFUalGTsM",
        "colab_type": "code",
        "colab": {
          "base_uri": "https://localhost:8080/",
          "height": 419
        },
        "outputId": "32054440-18ce-4713-cecb-4fd8dc7c529b"
      },
      "source": [
        "y = y.drop(y[y['Presupuesto']<1.0].index)\n",
        "y"
      ],
      "execution_count": 10,
      "outputs": [
        {
          "output_type": "execute_result",
          "data": {
            "text/html": [
              "<div>\n",
              "<style scoped>\n",
              "    .dataframe tbody tr th:only-of-type {\n",
              "        vertical-align: middle;\n",
              "    }\n",
              "\n",
              "    .dataframe tbody tr th {\n",
              "        vertical-align: top;\n",
              "    }\n",
              "\n",
              "    .dataframe thead th {\n",
              "        text-align: right;\n",
              "    }\n",
              "</style>\n",
              "<table border=\"1\" class=\"dataframe\">\n",
              "  <thead>\n",
              "    <tr style=\"text-align: right;\">\n",
              "      <th></th>\n",
              "      <th>Presupuesto</th>\n",
              "      <th>Puntaje</th>\n",
              "      <th>Rating</th>\n",
              "    </tr>\n",
              "  </thead>\n",
              "  <tbody>\n",
              "    <tr>\n",
              "      <th>0</th>\n",
              "      <td>8000000.0</td>\n",
              "      <td>8.1</td>\n",
              "      <td>R</td>\n",
              "    </tr>\n",
              "    <tr>\n",
              "      <th>1</th>\n",
              "      <td>6000000.0</td>\n",
              "      <td>7.8</td>\n",
              "      <td>PG-13</td>\n",
              "    </tr>\n",
              "    <tr>\n",
              "      <th>2</th>\n",
              "      <td>15000000.0</td>\n",
              "      <td>6.9</td>\n",
              "      <td>PG</td>\n",
              "    </tr>\n",
              "    <tr>\n",
              "      <th>3</th>\n",
              "      <td>18500000.0</td>\n",
              "      <td>8.4</td>\n",
              "      <td>R</td>\n",
              "    </tr>\n",
              "    <tr>\n",
              "      <th>4</th>\n",
              "      <td>9000000.0</td>\n",
              "      <td>6.9</td>\n",
              "      <td>PG</td>\n",
              "    </tr>\n",
              "    <tr>\n",
              "      <th>...</th>\n",
              "      <td>...</td>\n",
              "      <td>...</td>\n",
              "      <td>...</td>\n",
              "    </tr>\n",
              "    <tr>\n",
              "      <th>6808</th>\n",
              "      <td>3000000.0</td>\n",
              "      <td>6.5</td>\n",
              "      <td>PG</td>\n",
              "    </tr>\n",
              "    <tr>\n",
              "      <th>6809</th>\n",
              "      <td>3800000.0</td>\n",
              "      <td>6.5</td>\n",
              "      <td>PG-13</td>\n",
              "    </tr>\n",
              "    <tr>\n",
              "      <th>6811</th>\n",
              "      <td>8500000.0</td>\n",
              "      <td>6.1</td>\n",
              "      <td>PG</td>\n",
              "    </tr>\n",
              "    <tr>\n",
              "      <th>6814</th>\n",
              "      <td>20000000.0</td>\n",
              "      <td>6.3</td>\n",
              "      <td>PG-13</td>\n",
              "    </tr>\n",
              "    <tr>\n",
              "      <th>6817</th>\n",
              "      <td>3500000.0</td>\n",
              "      <td>6.5</td>\n",
              "      <td>R</td>\n",
              "    </tr>\n",
              "  </tbody>\n",
              "</table>\n",
              "<p>4638 rows × 3 columns</p>\n",
              "</div>"
            ],
            "text/plain": [
              "      Presupuesto  Puntaje Rating\n",
              "0       8000000.0      8.1      R\n",
              "1       6000000.0      7.8  PG-13\n",
              "2      15000000.0      6.9     PG\n",
              "3      18500000.0      8.4      R\n",
              "4       9000000.0      6.9     PG\n",
              "...           ...      ...    ...\n",
              "6808    3000000.0      6.5     PG\n",
              "6809    3800000.0      6.5  PG-13\n",
              "6811    8500000.0      6.1     PG\n",
              "6814   20000000.0      6.3  PG-13\n",
              "6817    3500000.0      6.5      R\n",
              "\n",
              "[4638 rows x 3 columns]"
            ]
          },
          "metadata": {
            "tags": []
          },
          "execution_count": 10
        }
      ]
    },
    {
      "cell_type": "code",
      "metadata": {
        "id": "-UonNA6DIVva",
        "colab_type": "code",
        "colab": {
          "base_uri": "https://localhost:8080/",
          "height": 385
        },
        "outputId": "3069c98e-fe91-4f4c-d8f2-46f2c80610cf"
      },
      "source": [
        "alt.Chart(y).mark_circle(size=60).encode(\n",
        "    x='Presupuesto',\n",
        "    y='Puntaje',\n",
        "    color='Rating',\n",
        "    tooltip=['Rating','Presupuesto', 'Puntaje']\n",
        ").interactive().properties(\n",
        "    title='Gráfico 3: ¿Importa el rating?'\n",
        "    \n",
        ")"
      ],
      "execution_count": 11,
      "outputs": [
        {
          "output_type": "execute_result",
          "data": {
            "text/plain": [
              "alt.Chart(...)"
            ],
            "text/html": [
              "\n",
              "<div id=\"altair-viz-ffe05c8ab9b44f91b0631c372614b9cf\"></div>\n",
              "<script type=\"text/javascript\">\n",
              "  (function(spec, embedOpt){\n",
              "    let outputDiv = document.currentScript.previousElementSibling;\n",
              "    if (outputDiv.id !== \"altair-viz-ffe05c8ab9b44f91b0631c372614b9cf\") {\n",
              "      outputDiv = document.getElementById(\"altair-viz-ffe05c8ab9b44f91b0631c372614b9cf\");\n",
              "    }\n",
              "    const paths = {\n",
              "      \"vega\": \"https://cdn.jsdelivr.net/npm//vega@5?noext\",\n",
              "      \"vega-lib\": \"https://cdn.jsdelivr.net/npm//vega-lib?noext\",\n",
              "      \"vega-lite\": \"https://cdn.jsdelivr.net/npm//vega-lite@4.8.1?noext\",\n",
              "      \"vega-embed\": \"https://cdn.jsdelivr.net/npm//vega-embed@6?noext\",\n",
              "    };\n",
              "\n",
              "    function loadScript(lib) {\n",
              "      return new Promise(function(resolve, reject) {\n",
              "        var s = document.createElement('script');\n",
              "        s.src = paths[lib];\n",
              "        s.async = true;\n",
              "        s.onload = () => resolve(paths[lib]);\n",
              "        s.onerror = () => reject(`Error loading script: ${paths[lib]}`);\n",
              "        document.getElementsByTagName(\"head\")[0].appendChild(s);\n",
              "      });\n",
              "    }\n",
              "\n",
              "    function showError(err) {\n",
              "      outputDiv.innerHTML = `<div class=\"error\" style=\"color:red;\">${err}</div>`;\n",
              "      throw err;\n",
              "    }\n",
              "\n",
              "    function displayChart(vegaEmbed) {\n",
              "      vegaEmbed(outputDiv, spec, embedOpt)\n",
              "        .catch(err => showError(`Javascript Error: ${err.message}<br>This usually means there's a typo in your chart specification. See the javascript console for the full traceback.`));\n",
              "    }\n",
              "\n",
              "    if(typeof define === \"function\" && define.amd) {\n",
              "      requirejs.config({paths});\n",
              "      require([\"vega-embed\"], displayChart, err => showError(`Error loading script: ${err.message}`));\n",
              "    } else if (typeof vegaEmbed === \"function\") {\n",
              "      displayChart(vegaEmbed);\n",
              "    } else {\n",
              "      loadScript(\"vega\")\n",
              "        .then(() => loadScript(\"vega-lite\"))\n",
              "        .then(() => loadScript(\"vega-embed\"))\n",
              "        .catch(showError)\n",
              "        .then(() => displayChart(vegaEmbed));\n",
              "    }\n",
              "  })({\"config\": {\"view\": {\"continuousWidth\": 400, \"continuousHeight\": 300}}, \"data\": {\"name\": \"data-0e0dc15eaff771f71cc8391f625b1a60\"}, \"mark\": {\"type\": \"circle\", \"size\": 60}, \"encoding\": {\"color\": {\"type\": \"nominal\", \"field\": \"Rating\"}, \"tooltip\": [{\"type\": \"nominal\", \"field\": \"Rating\"}, {\"type\": \"quantitative\", \"field\": \"Presupuesto\"}, {\"type\": \"quantitative\", \"field\": \"Puntaje\"}], \"x\": {\"type\": \"quantitative\", \"field\": \"Presupuesto\"}, \"y\": {\"type\": \"quantitative\", \"field\": \"Puntaje\"}}, \"selection\": {\"selector003\": {\"type\": \"interval\", \"bind\": \"scales\", \"encodings\": [\"x\", \"y\"]}}, \"title\": \"Gr\\u00e1fico 3: \\u00bfImporta el rating?\", \"$schema\": \"https://vega.github.io/schema/vega-lite/v4.8.1.json\", \"datasets\": {\"data-0e0dc15eaff771f71cc8391f625b1a60\": [{\"Presupuesto\": 8000000.0, \"Puntaje\": 8.1, \"Rating\": \"R\"}, {\"Presupuesto\": 6000000.0, \"Puntaje\": 7.8, \"Rating\": \"PG-13\"}, {\"Presupuesto\": 15000000.0, \"Puntaje\": 6.9, \"Rating\": \"PG\"}, {\"Presupuesto\": 18500000.0, \"Puntaje\": 8.4, \"Rating\": \"R\"}, {\"Presupuesto\": 9000000.0, \"Puntaje\": 6.9, \"Rating\": \"PG\"}, {\"Presupuesto\": 6000000.0, \"Puntaje\": 8.1, \"Rating\": \"R\"}, {\"Presupuesto\": 25000000.0, \"Puntaje\": 7.4, \"Rating\": \"PG\"}, {\"Presupuesto\": 6000000.0, \"Puntaje\": 7.8, \"Rating\": \"R\"}, {\"Presupuesto\": 9000000.0, \"Puntaje\": 6.8, \"Rating\": \"PG-13\"}, {\"Presupuesto\": 15000000.0, \"Puntaje\": 7.5, \"Rating\": \"R\"}, {\"Presupuesto\": 8800000.0, \"Puntaje\": 6.5, \"Rating\": \"PG-13\"}, {\"Presupuesto\": 16000000.0, \"Puntaje\": 7.2, \"Rating\": \"R\"}, {\"Presupuesto\": 6000000.0, \"Puntaje\": 6.8, \"Rating\": \"PG-13\"}, {\"Presupuesto\": 25000000.0, \"Puntaje\": 7.3, \"Rating\": \"PG-13\"}, {\"Presupuesto\": 15000000.0, \"Puntaje\": 7.2, \"Rating\": \"R\"}, {\"Presupuesto\": 17000000.0, \"Puntaje\": 5.9, \"Rating\": \"R\"}, {\"Presupuesto\": 10000000.0, \"Puntaje\": 5.4, \"Rating\": \"R\"}, {\"Presupuesto\": 25000000.0, \"Puntaje\": 6.9, \"Rating\": \"PG-13\"}, {\"Presupuesto\": 2700000.0, \"Puntaje\": 5.9, \"Rating\": \"PG-13\"}, {\"Presupuesto\": 35000000.0, \"Puntaje\": 4.6, \"Rating\": \"PG\"}, {\"Presupuesto\": 2000000.0, \"Puntaje\": 6.0, \"Rating\": \"PG-13\"}, {\"Presupuesto\": 11000000.0, \"Puntaje\": 6.6, \"Rating\": \"PG-13\"}, {\"Presupuesto\": 4700000.0, \"Puntaje\": 5.6, \"Rating\": \"UNRATED\"}, {\"Presupuesto\": 15000000.0, \"Puntaje\": 6.8, \"Rating\": \"R\"}, {\"Presupuesto\": 25000000.0, \"Puntaje\": 7.3, \"Rating\": \"PG\"}, {\"Presupuesto\": 25000000.0, \"Puntaje\": 5.9, \"Rating\": \"PG-13\"}, {\"Presupuesto\": 1900000.0, \"Puntaje\": 7.1, \"Rating\": \"R\"}, {\"Presupuesto\": 25000000.0, \"Puntaje\": 6.4, \"Rating\": \"PG\"}, {\"Presupuesto\": 25000000.0, \"Puntaje\": 5.7, \"Rating\": \"R\"}, {\"Presupuesto\": 24500000.0, \"Puntaje\": 7.5, \"Rating\": \"PG\"}, {\"Presupuesto\": 13800000.0, \"Puntaje\": 7.0, \"Rating\": \"R\"}, {\"Presupuesto\": 6000000.0, \"Puntaje\": 7.3, \"Rating\": \"R\"}, {\"Presupuesto\": 10000000.0, \"Puntaje\": 6.3, \"Rating\": \"PG\"}, {\"Presupuesto\": 3000000.0, \"Puntaje\": 5.9, \"Rating\": \"R\"}, {\"Presupuesto\": 25000000.0, \"Puntaje\": 6.6, \"Rating\": \"PG\"}, {\"Presupuesto\": 4000000.0, \"Puntaje\": 7.1, \"Rating\": \"R\"}, {\"Presupuesto\": 10000000.0, \"Puntaje\": 3.8, \"Rating\": \"PG-13\"}, {\"Presupuesto\": 4500000.0, \"Puntaje\": 6.7, \"Rating\": \"R\"}, {\"Presupuesto\": 18000000.0, \"Puntaje\": 6.3, \"Rating\": \"PG-13\"}, {\"Presupuesto\": 19000000.0, \"Puntaje\": 5.7, \"Rating\": \"PG-13\"}, {\"Presupuesto\": 1100000.0, \"Puntaje\": 4.3, \"Rating\": \"PG-13\"}, {\"Presupuesto\": 111000.0, \"Puntaje\": 7.0, \"Rating\": \"UNRATED\"}, {\"Presupuesto\": 18000000.0, \"Puntaje\": 5.6, \"Rating\": \"PG\"}, {\"Presupuesto\": 6400000.0, \"Puntaje\": 8.0, \"Rating\": \"PG-13\"}, {\"Presupuesto\": 14000000.0, \"Puntaje\": 7.2, \"Rating\": \"G\"}, {\"Presupuesto\": 8500000.0, \"Puntaje\": 5.5, \"Rating\": \"R\"}, {\"Presupuesto\": 6000000.0, \"Puntaje\": 7.3, \"Rating\": \"PG\"}, {\"Presupuesto\": 5000000.0, \"Puntaje\": 6.8, \"Rating\": \"R\"}, {\"Presupuesto\": 12000000.0, \"Puntaje\": 5.5, \"Rating\": \"PG\"}, {\"Presupuesto\": 6000000.0, \"Puntaje\": 7.6, \"Rating\": \"PG\"}, {\"Presupuesto\": 6500000.0, \"Puntaje\": 7.0, \"Rating\": \"R\"}, {\"Presupuesto\": 20000000.0, \"Puntaje\": 6.1, \"Rating\": \"R\"}, {\"Presupuesto\": 15000000.0, \"Puntaje\": 5.3, \"Rating\": \"R\"}, {\"Presupuesto\": 12000000.0, \"Puntaje\": 5.6, \"Rating\": \"R\"}, {\"Presupuesto\": 18000000.0, \"Puntaje\": 6.2, \"Rating\": \"PG-13\"}, {\"Presupuesto\": 175000.0, \"Puntaje\": 6.6, \"Rating\": \"R\"}, {\"Presupuesto\": 8700000.0, \"Puntaje\": 6.3, \"Rating\": \"R\"}, {\"Presupuesto\": 12000000.0, \"Puntaje\": 5.6, \"Rating\": \"PG-13\"}, {\"Presupuesto\": 1100000.0, \"Puntaje\": 7.8, \"Rating\": \"R\"}, {\"Presupuesto\": 10000000.0, \"Puntaje\": 6.7, \"Rating\": \"R\"}, {\"Presupuesto\": 18000000.0, \"Puntaje\": 6.1, \"Rating\": \"PG-13\"}, {\"Presupuesto\": 5000000.0, \"Puntaje\": 6.2, \"Rating\": \"R\"}, {\"Presupuesto\": 25000000.0, \"Puntaje\": 4.8, \"Rating\": \"PG-13\"}, {\"Presupuesto\": 40000000.0, \"Puntaje\": 6.1, \"Rating\": \"PG-13\"}, {\"Presupuesto\": 10000000.0, \"Puntaje\": 6.2, \"Rating\": \"PG\"}, {\"Presupuesto\": 12000000.0, \"Puntaje\": 5.9, \"Rating\": \"PG-13\"}, {\"Presupuesto\": 2000000.0, \"Puntaje\": 5.7, \"Rating\": \"R\"}, {\"Presupuesto\": 14000000.0, \"Puntaje\": 6.1, \"Rating\": \"R\"}, {\"Presupuesto\": 8500000.0, \"Puntaje\": 7.2, \"Rating\": \"PG-13\"}, {\"Presupuesto\": 18000000.0, \"Puntaje\": 5.7, \"Rating\": \"R\"}, {\"Presupuesto\": 8000000.0, \"Puntaje\": 5.0, \"Rating\": \"PG\"}, {\"Presupuesto\": 3300000.0, \"Puntaje\": 5.9, \"Rating\": \"R\"}, {\"Presupuesto\": 15000000.0, \"Puntaje\": 4.9, \"Rating\": \"PG-13\"}, {\"Presupuesto\": 40000000.0, \"Puntaje\": 5.9, \"Rating\": \"PG\"}, {\"Presupuesto\": 13000000.0, \"Puntaje\": 5.6, \"Rating\": \"R\"}, {\"Presupuesto\": 17000000.0, \"Puntaje\": 3.1, \"Rating\": \"PG-13\"}, {\"Presupuesto\": 16000000.0, \"Puntaje\": 5.7, \"Rating\": \"R\"}, {\"Presupuesto\": 20000000.0, \"Puntaje\": 6.4, \"Rating\": \"PG-13\"}, {\"Presupuesto\": 6000000.0, \"Puntaje\": 5.9, \"Rating\": \"R\"}, {\"Presupuesto\": 4000000.0, \"Puntaje\": 5.9, \"Rating\": \"R\"}, {\"Presupuesto\": 18000000.0, \"Puntaje\": 6.9, \"Rating\": \"PG-13\"}, {\"Presupuesto\": 25000000.0, \"Puntaje\": 5.5, \"Rating\": \"R\"}, {\"Presupuesto\": 17000000.0, \"Puntaje\": 5.5, \"Rating\": \"R\"}, {\"Presupuesto\": 14000000.0, \"Puntaje\": 6.3, \"Rating\": \"R\"}, {\"Presupuesto\": 3401376.0, \"Puntaje\": 4.3, \"Rating\": \"R\"}, {\"Presupuesto\": 10000000.0, \"Puntaje\": 4.4, \"Rating\": \"R\"}, {\"Presupuesto\": 2000000.0, \"Puntaje\": 5.9, \"Rating\": \"PG\"}, {\"Presupuesto\": 18000000.0, \"Puntaje\": 4.6, \"Rating\": \"PG\"}, {\"Presupuesto\": 1500000.0, \"Puntaje\": 4.9, \"Rating\": \"R\"}, {\"Presupuesto\": 16000000.0, \"Puntaje\": 8.1, \"Rating\": \"PG\"}, {\"Presupuesto\": 1000000.0, \"Puntaje\": 7.0, \"Rating\": \"R\"}, {\"Presupuesto\": 30000000.0, \"Puntaje\": 8.3, \"Rating\": \"R\"}, {\"Presupuesto\": 6000000.0, \"Puntaje\": 6.9, \"Rating\": \"PG-13\"}, {\"Presupuesto\": 15000000.0, \"Puntaje\": 7.8, \"Rating\": \"R\"}, {\"Presupuesto\": 27000000.0, \"Puntaje\": 6.6, \"Rating\": \"R\"}, {\"Presupuesto\": 22700000.0, \"Puntaje\": 7.1, \"Rating\": \"PG\"}, {\"Presupuesto\": 13000000.0, \"Puntaje\": 7.5, \"Rating\": \"R\"}, {\"Presupuesto\": 15000000.0, \"Puntaje\": 7.6, \"Rating\": \"R\"}, {\"Presupuesto\": 25000000.0, \"Puntaje\": 7.9, \"Rating\": \"R\"}, {\"Presupuesto\": 3600000.0, \"Puntaje\": 7.8, \"Rating\": \"R\"}, {\"Presupuesto\": 22000000.0, \"Puntaje\": 5.4, \"Rating\": \"PG\"}, {\"Presupuesto\": 12000000.0, \"Puntaje\": 7.2, \"Rating\": \"PG-13\"}, {\"Presupuesto\": 14000000.0, \"Puntaje\": 6.9, \"Rating\": \"R\"}, {\"Presupuesto\": 30000000.0, \"Puntaje\": 6.7, \"Rating\": \"PG\"}, {\"Presupuesto\": 15000000.0, \"Puntaje\": 7.4, \"Rating\": \"R\"}, {\"Presupuesto\": 35000000.0, \"Puntaje\": 7.8, \"Rating\": \"PG\"}, {\"Presupuesto\": 22000000.0, \"Puntaje\": 6.5, \"Rating\": \"R\"}, {\"Presupuesto\": 4500000.0, \"Puntaje\": 6.6, \"Rating\": \"R\"}, {\"Presupuesto\": 23000000.0, \"Puntaje\": 2.9, \"Rating\": \"PG-13\"}, {\"Presupuesto\": 25000000.0, \"Puntaje\": 5.7, \"Rating\": \"PG\"}, {\"Presupuesto\": 30000000.0, \"Puntaje\": 7.6, \"Rating\": \"R\"}, {\"Presupuesto\": 6000000.0, \"Puntaje\": 7.4, \"Rating\": \"PG-13\"}, {\"Presupuesto\": 17000000.0, \"Puntaje\": 7.3, \"Rating\": \"R\"}, {\"Presupuesto\": 6000000.0, \"Puntaje\": 5.8, \"Rating\": \"PG\"}, {\"Presupuesto\": 27000000.0, \"Puntaje\": 6.8, \"Rating\": \"PG\"}, {\"Presupuesto\": 15000000.0, \"Puntaje\": 7.1, \"Rating\": \"PG\"}, {\"Presupuesto\": 28000000.0, \"Puntaje\": 6.5, \"Rating\": \"R\"}, {\"Presupuesto\": 23000000.0, \"Puntaje\": 7.8, \"Rating\": \"PG-13\"}, {\"Presupuesto\": 13000000.0, \"Puntaje\": 7.3, \"Rating\": \"R\"}, {\"Presupuesto\": 2600000.0, \"Puntaje\": 7.7, \"Rating\": \"R\"}, {\"Presupuesto\": 11000000.0, \"Puntaje\": 5.9, \"Rating\": \"PG\"}, {\"Presupuesto\": 3000000.0, \"Puntaje\": 6.7, \"Rating\": \"R\"}, {\"Presupuesto\": 6500000.0, \"Puntaje\": 6.8, \"Rating\": \"PG-13\"}, {\"Presupuesto\": 5000000.0, \"Puntaje\": 7.0, \"Rating\": \"R\"}, {\"Presupuesto\": 15000000.0, \"Puntaje\": 7.1, \"Rating\": \"R\"}, {\"Presupuesto\": 20000000.0, \"Puntaje\": 7.2, \"Rating\": \"R\"}, {\"Presupuesto\": 2500000.0, \"Puntaje\": 6.0, \"Rating\": \"PG-13\"}, {\"Presupuesto\": 17000000.0, \"Puntaje\": 3.6, \"Rating\": \"PG\"}, {\"Presupuesto\": 3500000.0, \"Puntaje\": 6.0, \"Rating\": \"R\"}, {\"Presupuesto\": 3000000.0, \"Puntaje\": 3.2, \"Rating\": \"PG\"}, {\"Presupuesto\": 12000000.0, \"Puntaje\": 6.6, \"Rating\": \"PG\"}, {\"Presupuesto\": 12000000.0, \"Puntaje\": 6.5, \"Rating\": \"PG-13\"}, {\"Presupuesto\": 20000000.0, \"Puntaje\": 5.9, \"Rating\": \"PG-13\"}, {\"Presupuesto\": 18000000.0, \"Puntaje\": 5.9, \"Rating\": \"PG-13\"}, {\"Presupuesto\": 1000000.0, \"Puntaje\": 2.7, \"Rating\": \"PG\"}, {\"Presupuesto\": 14000000.0, \"Puntaje\": 6.2, \"Rating\": \"PG-13\"}, {\"Presupuesto\": 3000000.0, \"Puntaje\": 7.3, \"Rating\": \"R\"}, {\"Presupuesto\": 6000000.0, \"Puntaje\": 7.2, \"Rating\": \"PG-13\"}, {\"Presupuesto\": 15000000.0, \"Puntaje\": 5.2, \"Rating\": \"PG-13\"}, {\"Presupuesto\": 16000000.0, \"Puntaje\": 7.6, \"Rating\": \"PG\"}, {\"Presupuesto\": 3000000.0, \"Puntaje\": 5.5, \"Rating\": \"PG\"}, {\"Presupuesto\": 17000000.0, \"Puntaje\": 6.1, \"Rating\": \"R\"}, {\"Presupuesto\": 29000000.0, \"Puntaje\": 7.5, \"Rating\": \"PG\"}, {\"Presupuesto\": 6000000.0, \"Puntaje\": 6.5, \"Rating\": \"R\"}, {\"Presupuesto\": 27000000.0, \"Puntaje\": 6.8, \"Rating\": \"R\"}, {\"Presupuesto\": 5000000.0, \"Puntaje\": 5.3, \"Rating\": \"R\"}, {\"Presupuesto\": 18000000.0, \"Puntaje\": 6.1, \"Rating\": \"PG\"}, {\"Presupuesto\": 4000000.0, \"Puntaje\": 4.9, \"Rating\": \"R\"}, {\"Presupuesto\": 55000000.0, \"Puntaje\": 4.2, \"Rating\": \"PG-13\"}, {\"Presupuesto\": 100000.0, \"Puntaje\": 7.0, \"Rating\": \"R\"}, {\"Presupuesto\": 22000000.0, \"Puntaje\": 6.6, \"Rating\": \"R\"}, {\"Presupuesto\": 350000.0, \"Puntaje\": 4.8, \"Rating\": \"R\"}, {\"Presupuesto\": 4000000.0, \"Puntaje\": 7.9, \"Rating\": \"PG-13\"}, {\"Presupuesto\": 24000000.0, \"Puntaje\": 2.2, \"Rating\": \"PG\"}, {\"Presupuesto\": 5000000.0, \"Puntaje\": 6.4, \"Rating\": \"R\"}, {\"Presupuesto\": 9000000.0, \"Puntaje\": 5.3, \"Rating\": \"R\"}, {\"Presupuesto\": 7000000.0, \"Puntaje\": 6.4, \"Rating\": \"PG-13\"}, {\"Presupuesto\": 10000000.0, \"Puntaje\": 5.6, \"Rating\": \"R\"}, {\"Presupuesto\": 6000000.0, \"Puntaje\": 6.4, \"Rating\": \"R\"}, {\"Presupuesto\": 5300000.0, \"Puntaje\": 6.3, \"Rating\": \"R\"}, {\"Presupuesto\": 10000000.0, \"Puntaje\": 6.7, \"Rating\": \"PG\"}, {\"Presupuesto\": 3520000.0, \"Puntaje\": 5.0, \"Rating\": \"R\"}, {\"Presupuesto\": 1300000.0, \"Puntaje\": 5.9, \"Rating\": \"R\"}, {\"Presupuesto\": 25000000.0, \"Puntaje\": 6.7, \"Rating\": \"R\"}, {\"Presupuesto\": 11000000.0, \"Puntaje\": 6.5, \"Rating\": \"R\"}, {\"Presupuesto\": 7500000.0, \"Puntaje\": 6.3, \"Rating\": \"R\"}, {\"Presupuesto\": 3000000.0, \"Puntaje\": 5.5, \"Rating\": \"PG\"}, {\"Presupuesto\": 1000000.0, \"Puntaje\": 5.8, \"Rating\": \"R\"}, {\"Presupuesto\": 100000.0, \"Puntaje\": 3.5, \"Rating\": \"R\"}, {\"Presupuesto\": 8000000.0, \"Puntaje\": 5.8, \"Rating\": \"PG\"}, {\"Presupuesto\": 5800000.0, \"Puntaje\": 6.6, \"Rating\": \"R\"}, {\"Presupuesto\": 19000000.0, \"Puntaje\": 4.6, \"Rating\": \"PG-13\"}, {\"Presupuesto\": 5000000.0, \"Puntaje\": 5.1, \"Rating\": \"PG-13\"}, {\"Presupuesto\": 75000.0, \"Puntaje\": 3.5, \"Rating\": \"R\"}, {\"Presupuesto\": 12000000.0, \"Puntaje\": 5.5, \"Rating\": \"PG\"}, {\"Presupuesto\": 1100000.0, \"Puntaje\": 6.0, \"Rating\": \"R\"}, {\"Presupuesto\": 5000000.0, \"Puntaje\": 4.8, \"Rating\": \"R\"}, {\"Presupuesto\": 4000000.0, \"Puntaje\": 5.5, \"Rating\": \"R\"}, {\"Presupuesto\": 15000000.0, \"Puntaje\": 5.4, \"Rating\": \"PG\"}, {\"Presupuesto\": 14000000.0, \"Puntaje\": 5.2, \"Rating\": \"R\"}, {\"Presupuesto\": 12000000.0, \"Puntaje\": 6.0, \"Rating\": \"R\"}, {\"Presupuesto\": 15000000.0, \"Puntaje\": 7.5, \"Rating\": \"PG\"}, {\"Presupuesto\": 39000000.0, \"Puntaje\": 7.0, \"Rating\": \"R\"}, {\"Presupuesto\": 9000000.0, \"Puntaje\": 6.6, \"Rating\": \"R\"}, {\"Presupuesto\": 28000000.0, \"Puntaje\": 8.2, \"Rating\": \"R\"}, {\"Presupuesto\": 35000000.0, \"Puntaje\": 7.3, \"Rating\": \"PG\"}, {\"Presupuesto\": 3000000.0, \"Puntaje\": 7.3, \"Rating\": \"R\"}, {\"Presupuesto\": 25000000.0, \"Puntaje\": 8.0, \"Rating\": \"R\"}, {\"Presupuesto\": 4000000.0, \"Puntaje\": 7.3, \"Rating\": \"R\"}, {\"Presupuesto\": 70000000.0, \"Puntaje\": 7.7, \"Rating\": \"PG\"}, {\"Presupuesto\": 18000000.0, \"Puntaje\": 7.3, \"Rating\": \"PG\"}, {\"Presupuesto\": 20000000.0, \"Puntaje\": 5.8, \"Rating\": \"R\"}, {\"Presupuesto\": 5000000.0, \"Puntaje\": 8.5, \"Rating\": \"R\"}, {\"Presupuesto\": 19000000.0, \"Puntaje\": 6.4, \"Rating\": \"R\"}, {\"Presupuesto\": 3500000.0, \"Puntaje\": 6.2, \"Rating\": \"R\"}, {\"Presupuesto\": 7500000.0, \"Puntaje\": 7.6, \"Rating\": \"R\"}, {\"Presupuesto\": 2000000.0, \"Puntaje\": 6.1, \"Rating\": \"PG-13\"}, {\"Presupuesto\": 30000000.0, \"Puntaje\": 7.6, \"Rating\": \"R\"}, {\"Presupuesto\": 3000000.0, \"Puntaje\": 6.5, \"Rating\": \"R\"}, {\"Presupuesto\": 15000000.0, \"Puntaje\": 7.8, \"Rating\": \"R\"}, {\"Presupuesto\": 12000000.0, \"Puntaje\": 7.6, \"Rating\": \"PG-13\"}, {\"Presupuesto\": 1100000.0, \"Puntaje\": 6.8, \"Rating\": \"R\"}, {\"Presupuesto\": 28000000.0, \"Puntaje\": 6.7, \"Rating\": \"R\"}, {\"Presupuesto\": 14000000.0, \"Puntaje\": 5.5, \"Rating\": \"PG\"}, {\"Presupuesto\": 12500000.0, \"Puntaje\": 7.4, \"Rating\": \"G\"}, {\"Presupuesto\": 15000000.0, \"Puntaje\": 6.0, \"Rating\": \"PG\"}, {\"Presupuesto\": 14000000.0, \"Puntaje\": 7.7, \"Rating\": \"R\"}, {\"Presupuesto\": 17000000.0, \"Puntaje\": 7.4, \"Rating\": \"R\"}, {\"Presupuesto\": 5000000.0, \"Puntaje\": 5.9, \"Rating\": \"R\"}, {\"Presupuesto\": 13000000.0, \"Puntaje\": 6.8, \"Rating\": \"R\"}, {\"Presupuesto\": 29000000.0, \"Puntaje\": 6.0, \"Rating\": \"R\"}, {\"Presupuesto\": 6000000.0, \"Puntaje\": 6.2, \"Rating\": \"R\"}, {\"Presupuesto\": 63000000.0, \"Puntaje\": 5.7, \"Rating\": \"R\"}, {\"Presupuesto\": 6000000.0, \"Puntaje\": 7.1, \"Rating\": \"R\"}, {\"Presupuesto\": 7000000.0, \"Puntaje\": 7.6, \"Rating\": \"R\"}, {\"Presupuesto\": 2000000.0, \"Puntaje\": 7.0, \"Rating\": \"PG\"}, {\"Presupuesto\": 13000000.0, \"Puntaje\": 5.7, \"Rating\": \"R\"}, {\"Presupuesto\": 24000000.0, \"Puntaje\": 6.6, \"Rating\": \"PG\"}, {\"Presupuesto\": 7000000.0, \"Puntaje\": 7.1, \"Rating\": \"R\"}, {\"Presupuesto\": 7500000.0, \"Puntaje\": 6.0, \"Rating\": \"R\"}, {\"Presupuesto\": 10000000.0, \"Puntaje\": 5.2, \"Rating\": \"PG\"}, {\"Presupuesto\": 31000000.0, \"Puntaje\": 6.7, \"Rating\": \"G\"}, {\"Presupuesto\": 31000000.0, \"Puntaje\": 6.3, \"Rating\": \"R\"}, {\"Presupuesto\": 7500000.0, \"Puntaje\": 6.4, \"Rating\": \"PG-13\"}, {\"Presupuesto\": 32000000.0, \"Puntaje\": 7.0, \"Rating\": \"PG-13\"}, {\"Presupuesto\": 23000000.0, \"Puntaje\": 6.0, \"Rating\": \"R\"}, {\"Presupuesto\": 20000000.0, \"Puntaje\": 6.9, \"Rating\": \"R\"}, {\"Presupuesto\": 2800000.0, \"Puntaje\": 5.3, \"Rating\": \"R\"}, {\"Presupuesto\": 8000000.0, \"Puntaje\": 6.3, \"Rating\": \"PG-13\"}, {\"Presupuesto\": 46630000.0, \"Puntaje\": 7.2, \"Rating\": \"PG\"}, {\"Presupuesto\": 13000000.0, \"Puntaje\": 7.3, \"Rating\": \"R\"}, {\"Presupuesto\": 10500000.0, \"Puntaje\": 4.6, \"Rating\": \"PG-13\"}, {\"Presupuesto\": 7500000.0, \"Puntaje\": 5.9, \"Rating\": \"R\"}, {\"Presupuesto\": 3000000.0, \"Puntaje\": 6.6, \"Rating\": \"R\"}, {\"Presupuesto\": 22000000.0, \"Puntaje\": 4.5, \"Rating\": \"R\"}, {\"Presupuesto\": 1100000.0, \"Puntaje\": 6.0, \"Rating\": \"R\"}, {\"Presupuesto\": 10000000.0, \"Puntaje\": 6.1, \"Rating\": \"R\"}, {\"Presupuesto\": 6000000.0, \"Puntaje\": 6.7, \"Rating\": \"R\"}, {\"Presupuesto\": 17000000.0, \"Puntaje\": 5.7, \"Rating\": \"PG-13\"}, {\"Presupuesto\": 3000000.0, \"Puntaje\": 7.7, \"Rating\": \"PG-13\"}, {\"Presupuesto\": 1200000.0, \"Puntaje\": 6.3, \"Rating\": \"R\"}, {\"Presupuesto\": 13000000.0, \"Puntaje\": 3.4, \"Rating\": \"PG\"}, {\"Presupuesto\": 4500000.0, \"Puntaje\": 5.3, \"Rating\": \"PG-13\"}, {\"Presupuesto\": 20000000.0, \"Puntaje\": 5.2, \"Rating\": \"PG-13\"}, {\"Presupuesto\": 6200000.0, \"Puntaje\": 5.8, \"Rating\": \"R\"}, {\"Presupuesto\": 22000000.0, \"Puntaje\": 7.0, \"Rating\": \"PG-13\"}, {\"Presupuesto\": 2000000.0, \"Puntaje\": 5.9, \"Rating\": \"R\"}, {\"Presupuesto\": 2500000.0, \"Puntaje\": 5.9, \"Rating\": \"R\"}, {\"Presupuesto\": 7000000.0, \"Puntaje\": 6.5, \"Rating\": \"R\"}, {\"Presupuesto\": 5000000.0, \"Puntaje\": 5.9, \"Rating\": \"G\"}, {\"Presupuesto\": 6000000.0, \"Puntaje\": 7.3, \"Rating\": \"PG\"}, {\"Presupuesto\": 4700000.0, \"Puntaje\": 6.7, \"Rating\": \"PG-13\"}, {\"Presupuesto\": 700000.0, \"Puntaje\": 7.6, \"Rating\": \"R\"}, {\"Presupuesto\": 3000000.0, \"Puntaje\": 6.5, \"Rating\": \"R\"}, {\"Presupuesto\": 25000000.0, \"Puntaje\": 5.6, \"Rating\": \"R\"}, {\"Presupuesto\": 7000000.0, \"Puntaje\": 6.2, \"Rating\": \"R\"}, {\"Presupuesto\": 19000000.0, \"Puntaje\": 6.1, \"Rating\": \"PG\"}, {\"Presupuesto\": 16000000.0, \"Puntaje\": 6.3, \"Rating\": \"R\"}, {\"Presupuesto\": 7000000.0, \"Puntaje\": 5.2, \"Rating\": \"R\"}, {\"Presupuesto\": 22000000.0, \"Puntaje\": 6.9, \"Rating\": \"R\"}, {\"Presupuesto\": 23000000.0, \"Puntaje\": 6.9, \"Rating\": \"PG\"}, {\"Presupuesto\": 6500000.0, \"Puntaje\": 5.8, \"Rating\": \"R\"}, {\"Presupuesto\": 3700000.0, \"Puntaje\": 7.0, \"Rating\": \"R\"}, {\"Presupuesto\": 17500000.0, \"Puntaje\": 5.3, \"Rating\": \"PG\"}, {\"Presupuesto\": 4000000.0, \"Puntaje\": 6.9, \"Rating\": \"R\"}, {\"Presupuesto\": 10000000.0, \"Puntaje\": 7.4, \"Rating\": \"PG\"}, {\"Presupuesto\": 9000000.0, \"Puntaje\": 7.2, \"Rating\": \"R\"}, {\"Presupuesto\": 15000000.0, \"Puntaje\": 6.9, \"Rating\": \"PG-13\"}, {\"Presupuesto\": 20000000.0, \"Puntaje\": 6.6, \"Rating\": \"PG-13\"}, {\"Presupuesto\": 4000000.0, \"Puntaje\": 7.3, \"Rating\": \"R\"}, {\"Presupuesto\": 20000000.0, \"Puntaje\": 3.7, \"Rating\": \"PG\"}, {\"Presupuesto\": 18000000.0, \"Puntaje\": 5.5, \"Rating\": \"PG\"}, {\"Presupuesto\": 19000000.0, \"Puntaje\": 6.3, \"Rating\": \"R\"}, {\"Presupuesto\": 16000000.0, \"Puntaje\": 5.0, \"Rating\": \"R\"}, {\"Presupuesto\": 6000000.0, \"Puntaje\": 5.5, \"Rating\": \"PG-13\"}, {\"Presupuesto\": 14000000.0, \"Puntaje\": 5.0, \"Rating\": \"PG-13\"}, {\"Presupuesto\": 5000000.0, \"Puntaje\": 6.0, \"Rating\": \"R\"}, {\"Presupuesto\": 210000.0, \"Puntaje\": 4.5, \"Rating\": \"R\"}, {\"Presupuesto\": 15000000.0, \"Puntaje\": 6.0, \"Rating\": \"PG\"}, {\"Presupuesto\": 15000000.0, \"Puntaje\": 5.8, \"Rating\": \"R\"}, {\"Presupuesto\": 8000000.0, \"Puntaje\": 6.1, \"Rating\": \"R\"}, {\"Presupuesto\": 20000000.0, \"Puntaje\": 5.9, \"Rating\": \"PG-13\"}, {\"Presupuesto\": 6000000.0, \"Puntaje\": 5.6, \"Rating\": \"PG\"}, {\"Presupuesto\": 3000000.0, \"Puntaje\": 6.4, \"Rating\": \"R\"}, {\"Presupuesto\": 4000000.0, \"Puntaje\": 6.9, \"Rating\": \"PG\"}, {\"Presupuesto\": 6000000.0, \"Puntaje\": 5.9, \"Rating\": \"R\"}, {\"Presupuesto\": 19000000.0, \"Puntaje\": 5.7, \"Rating\": \"R\"}, {\"Presupuesto\": 8000000.0, \"Puntaje\": 6.4, \"Rating\": \"PG-13\"}, {\"Presupuesto\": 6000000.0, \"Puntaje\": 5.5, \"Rating\": \"R\"}, {\"Presupuesto\": 14000000.0, \"Puntaje\": 5.9, \"Rating\": \"R\"}, {\"Presupuesto\": 19000000.0, \"Puntaje\": 5.7, \"Rating\": \"R\"}, {\"Presupuesto\": 1000000.0, \"Puntaje\": 6.0, \"Rating\": \"R\"}, {\"Presupuesto\": 5000000.0, \"Puntaje\": 5.9, \"Rating\": \"R\"}, {\"Presupuesto\": 4000000.0, \"Puntaje\": 5.6, \"Rating\": \"R\"}, {\"Presupuesto\": 13000000.0, \"Puntaje\": 5.7, \"Rating\": \"PG-13\"}, {\"Presupuesto\": 18000000.0, \"Puntaje\": 5.9, \"Rating\": \"PG\"}, {\"Presupuesto\": 14000000.0, \"Puntaje\": 6.2, \"Rating\": \"PG\"}, {\"Presupuesto\": 13000000.0, \"Puntaje\": 4.2, \"Rating\": \"PG\"}, {\"Presupuesto\": 5000000.0, \"Puntaje\": 5.0, \"Rating\": \"R\"}, {\"Presupuesto\": 12000000.0, \"Puntaje\": 5.7, \"Rating\": \"PG-13\"}, {\"Presupuesto\": 1600000.0, \"Puntaje\": 5.4, \"Rating\": \"R\"}, {\"Presupuesto\": 7000000.0, \"Puntaje\": 4.9, \"Rating\": \"R\"}, {\"Presupuesto\": 16400000.0, \"Puntaje\": 8.0, \"Rating\": \"PG\"}, {\"Presupuesto\": 35000000.0, \"Puntaje\": 7.6, \"Rating\": \"PG-13\"}, {\"Presupuesto\": 11500000.0, \"Puntaje\": 6.6, \"Rating\": \"R\"}, {\"Presupuesto\": 48000000.0, \"Puntaje\": 8.3, \"Rating\": \"PG-13\"}, {\"Presupuesto\": 40000000.0, \"Puntaje\": 7.6, \"Rating\": \"G\"}, {\"Presupuesto\": 55000000.0, \"Puntaje\": 6.3, \"Rating\": \"R\"}, {\"Presupuesto\": 17000000.0, \"Puntaje\": 6.5, \"Rating\": \"R\"}, {\"Presupuesto\": 27000000.0, \"Puntaje\": 7.6, \"Rating\": \"PG-13\"}, {\"Presupuesto\": 10000000.0, \"Puntaje\": 6.9, \"Rating\": \"PG\"}, {\"Presupuesto\": 40000000.0, \"Puntaje\": 7.8, \"Rating\": \"PG\"}, {\"Presupuesto\": 70000000.0, \"Puntaje\": 7.6, \"Rating\": \"PG-13\"}, {\"Presupuesto\": 15000000.0, \"Puntaje\": 7.0, \"Rating\": \"PG\"}, {\"Presupuesto\": 6500000.0, \"Puntaje\": 7.9, \"Rating\": \"R\"}, {\"Presupuesto\": 18000000.0, \"Puntaje\": 7.9, \"Rating\": \"R\"}, {\"Presupuesto\": 16000000.0, \"Puntaje\": 7.6, \"Rating\": \"R\"}, {\"Presupuesto\": 37000000.0, \"Puntaje\": 6.5, \"Rating\": \"PG\"}, {\"Presupuesto\": 7500000.0, \"Puntaje\": 5.8, \"Rating\": \"PG-13\"}, {\"Presupuesto\": 25000000.0, \"Puntaje\": 5.8, \"Rating\": \"R\"}, {\"Presupuesto\": 18000000.0, \"Puntaje\": 6.3, \"Rating\": \"PG\"}, {\"Presupuesto\": 11000000.0, \"Puntaje\": 7.2, \"Rating\": \"R\"}, {\"Presupuesto\": 14000000.0, \"Puntaje\": 7.2, \"Rating\": \"R\"}, {\"Presupuesto\": 31000000.0, \"Puntaje\": 7.0, \"Rating\": \"PG-13\"}, {\"Presupuesto\": 28000000.0, \"Puntaje\": 7.2, \"Rating\": \"R\"}, {\"Presupuesto\": 32000000.0, \"Puntaje\": 6.6, \"Rating\": \"PG-13\"}, {\"Presupuesto\": 31000000.0, \"Puntaje\": 6.4, \"Rating\": \"PG\"}, {\"Presupuesto\": 1200000.0, \"Puntaje\": 7.2, \"Rating\": \"R\"}, {\"Presupuesto\": 10000000.0, \"Puntaje\": 7.4, \"Rating\": \"PG-13\"}, {\"Presupuesto\": 27800000.0, \"Puntaje\": 5.4, \"Rating\": \"PG\"}, {\"Presupuesto\": 7500000.0, \"Puntaje\": 7.4, \"Rating\": \"PG\"}, {\"Presupuesto\": 10000000.0, \"Puntaje\": 6.2, \"Rating\": \"PG-13\"}, {\"Presupuesto\": 22500000.0, \"Puntaje\": 7.1, \"Rating\": \"R\"}, {\"Presupuesto\": 18000000.0, \"Puntaje\": 6.8, \"Rating\": \"R\"}, {\"Presupuesto\": 1500000.0, \"Puntaje\": 6.4, \"Rating\": \"R\"}, {\"Presupuesto\": 6000000.0, \"Puntaje\": 5.1, \"Rating\": \"R\"}, {\"Presupuesto\": 3000000.0, \"Puntaje\": 5.2, \"Rating\": \"R\"}, {\"Presupuesto\": 5000000.0, \"Puntaje\": 4.6, \"Rating\": \"R\"}, {\"Presupuesto\": 30000000.0, \"Puntaje\": 5.9, \"Rating\": \"R\"}, {\"Presupuesto\": 30000000.0, \"Puntaje\": 6.6, \"Rating\": \"R\"}, {\"Presupuesto\": 13800000.0, \"Puntaje\": 6.7, \"Rating\": \"G\"}, {\"Presupuesto\": 500000.0, \"Puntaje\": 5.0, \"Rating\": \"R\"}, {\"Presupuesto\": 8000000.0, \"Puntaje\": 6.1, \"Rating\": \"PG\"}, {\"Presupuesto\": 6000000.0, \"Puntaje\": 6.0, \"Rating\": \"PG\"}, {\"Presupuesto\": 9000000.0, \"Puntaje\": 7.7, \"Rating\": \"PG-13\"}, {\"Presupuesto\": 18000000.0, \"Puntaje\": 5.5, \"Rating\": \"PG\"}, {\"Presupuesto\": 19000000.0, \"Puntaje\": 6.8, \"Rating\": \"R\"}, {\"Presupuesto\": 5000000.0, \"Puntaje\": 6.4, \"Rating\": \"PG-13\"}, {\"Presupuesto\": 33000000.0, \"Puntaje\": 7.0, \"Rating\": \"R\"}, {\"Presupuesto\": 2500000.0, \"Puntaje\": 7.4, \"Rating\": \"R\"}, {\"Presupuesto\": 7000000.0, \"Puntaje\": 6.2, \"Rating\": \"R\"}, {\"Presupuesto\": 35000000.0, \"Puntaje\": 7.2, \"Rating\": \"G\"}, {\"Presupuesto\": 24000000.0, \"Puntaje\": 6.4, \"Rating\": \"R\"}, {\"Presupuesto\": 3000000.0, \"Puntaje\": 5.6, \"Rating\": \"R\"}, {\"Presupuesto\": 5000000.0, \"Puntaje\": 7.0, \"Rating\": \"PG-13\"}, {\"Presupuesto\": 13000000.0, \"Puntaje\": 6.8, \"Rating\": \"R\"}, {\"Presupuesto\": 5000000.0, \"Puntaje\": 6.3, \"Rating\": \"PG\"}, {\"Presupuesto\": 19000000.0, \"Puntaje\": 8.0, \"Rating\": \"PG-13\"}, {\"Presupuesto\": 2800000.0, \"Puntaje\": 7.6, \"Rating\": \"R\"}, {\"Presupuesto\": 8000000.0, \"Puntaje\": 5.2, \"Rating\": \"R\"}, {\"Presupuesto\": 5000000.0, \"Puntaje\": 5.4, \"Rating\": \"R\"}, {\"Presupuesto\": 15000000.0, \"Puntaje\": 6.1, \"Rating\": \"PG-13\"}, {\"Presupuesto\": 10000000.0, \"Puntaje\": 6.3, \"Rating\": \"R\"}, {\"Presupuesto\": 12000000.0, \"Puntaje\": 5.7, \"Rating\": \"R\"}, {\"Presupuesto\": 15000000.0, \"Puntaje\": 6.4, \"Rating\": \"PG\"}, {\"Presupuesto\": 10000000.0, \"Puntaje\": 5.3, \"Rating\": \"PG\"}, {\"Presupuesto\": 15000000.0, \"Puntaje\": 6.5, \"Rating\": \"PG-13\"}, {\"Presupuesto\": 4000000.0, \"Puntaje\": 4.5, \"Rating\": \"PG-13\"}, {\"Presupuesto\": 20000000.0, \"Puntaje\": 6.0, \"Rating\": \"PG-13\"}, {\"Presupuesto\": 16000000.0, \"Puntaje\": 6.4, \"Rating\": \"PG\"}, {\"Presupuesto\": 20000000.0, \"Puntaje\": 6.1, \"Rating\": \"R\"}, {\"Presupuesto\": 17000000.0, \"Puntaje\": 6.0, \"Rating\": \"PG-13\"}, {\"Presupuesto\": 19000000.0, \"Puntaje\": 5.3, \"Rating\": \"PG-13\"}, {\"Presupuesto\": 8000000.0, \"Puntaje\": 4.3, \"Rating\": \"PG-13\"}, {\"Presupuesto\": 3000000.0, \"Puntaje\": 4.9, \"Rating\": \"R\"}, {\"Presupuesto\": 12000000.0, \"Puntaje\": 4.2, \"Rating\": \"PG\"}, {\"Presupuesto\": 19000000.0, \"Puntaje\": 6.2, \"Rating\": \"PG\"}, {\"Presupuesto\": 13000000.0, \"Puntaje\": 6.3, \"Rating\": \"PG-13\"}, {\"Presupuesto\": 5000000.0, \"Puntaje\": 5.7, \"Rating\": \"R\"}, {\"Presupuesto\": 3000000.0, \"Puntaje\": 6.2, \"Rating\": \"R\"}, {\"Presupuesto\": 5000000.0, \"Puntaje\": 6.3, \"Rating\": \"PG-13\"}, {\"Presupuesto\": 18000000.0, \"Puntaje\": 6.4, \"Rating\": \"R\"}, {\"Presupuesto\": 18000000.0, \"Puntaje\": 6.9, \"Rating\": \"PG-13\"}, {\"Presupuesto\": 18000000.0, \"Puntaje\": 5.9, \"Rating\": \"R\"}, {\"Presupuesto\": 3000000.0, \"Puntaje\": 7.5, \"Rating\": \"R\"}, {\"Presupuesto\": 4000000.0, \"Puntaje\": 6.3, \"Rating\": \"R\"}, {\"Presupuesto\": 2300000.0, \"Puntaje\": 5.1, \"Rating\": \"R\"}, {\"Presupuesto\": 2500000.0, \"Puntaje\": 4.1, \"Rating\": \"PG-13\"}, {\"Presupuesto\": 1500000.0, \"Puntaje\": 5.6, \"Rating\": \"R\"}, {\"Presupuesto\": 75000.0, \"Puntaje\": 7.5, \"Rating\": \"R\"}, {\"Presupuesto\": 11500000.0, \"Puntaje\": 6.8, \"Rating\": \"PG-13\"}, {\"Presupuesto\": 34000000.0, \"Puntaje\": 5.8, \"Rating\": \"R\"}, {\"Presupuesto\": 20000000.0, \"Puntaje\": 6.3, \"Rating\": \"PG-13\"}, {\"Presupuesto\": 16000000.0, \"Puntaje\": 4.6, \"Rating\": \"PG\"}, {\"Presupuesto\": 14000000.0, \"Puntaje\": 6.1, \"Rating\": \"PG-13\"}, {\"Presupuesto\": 17000000.0, \"Puntaje\": 5.1, \"Rating\": \"R\"}, {\"Presupuesto\": 4000000.0, \"Puntaje\": 5.7, \"Rating\": \"PG\"}, {\"Presupuesto\": 5000000.0, \"Puntaje\": 6.1, \"Rating\": \"G\"}, {\"Presupuesto\": 6000000.0, \"Puntaje\": 6.1, \"Rating\": \"R\"}, {\"Presupuesto\": 26000000.0, \"Puntaje\": 6.6, \"Rating\": \"R\"}, {\"Presupuesto\": 25000000.0, \"Puntaje\": 8.7, \"Rating\": \"R\"}, {\"Presupuesto\": 20000000.0, \"Puntaje\": 7.8, \"Rating\": \"R\"}, {\"Presupuesto\": 65000000.0, \"Puntaje\": 7.5, \"Rating\": \"R\"}, {\"Presupuesto\": 14000000.0, \"Puntaje\": 7.0, \"Rating\": \"R\"}, {\"Presupuesto\": 18000000.0, \"Puntaje\": 7.5, \"Rating\": \"PG\"}, {\"Presupuesto\": 20000000.0, \"Puntaje\": 7.9, \"Rating\": \"PG-13\"}, {\"Presupuesto\": 54000000.0, \"Puntaje\": 7.6, \"Rating\": \"R\"}, {\"Presupuesto\": 22000000.0, \"Puntaje\": 8.0, \"Rating\": \"PG-13\"}, {\"Presupuesto\": 30000000.0, \"Puntaje\": 7.6, \"Rating\": \"PG\"}, {\"Presupuesto\": 13000000.0, \"Puntaje\": 5.8, \"Rating\": \"R\"}, {\"Presupuesto\": 22000000.0, \"Puntaje\": 7.0, \"Rating\": \"PG-13\"}, {\"Presupuesto\": 11000000.0, \"Puntaje\": 7.1, \"Rating\": \"PG-13\"}, {\"Presupuesto\": 25000000.0, \"Puntaje\": 5.7, \"Rating\": \"PG\"}, {\"Presupuesto\": 9500000.0, \"Puntaje\": 7.2, \"Rating\": \"R\"}, {\"Presupuesto\": 25000000.0, \"Puntaje\": 7.5, \"Rating\": \"R\"}, {\"Presupuesto\": 13500000.0, \"Puntaje\": 6.7, \"Rating\": \"PG\"}, {\"Presupuesto\": 31000000.0, \"Puntaje\": 6.4, \"Rating\": \"PG-13\"}, {\"Presupuesto\": 70000000.0, \"Puntaje\": 7.1, \"Rating\": \"R\"}, {\"Presupuesto\": 47000000.0, \"Puntaje\": 6.1, \"Rating\": \"PG\"}, {\"Presupuesto\": 10000000.0, \"Puntaje\": 5.3, \"Rating\": \"PG\"}, {\"Presupuesto\": 60000000.0, \"Puntaje\": 5.9, \"Rating\": \"PG-13\"}, {\"Presupuesto\": 11000000.0, \"Puntaje\": 6.5, \"Rating\": \"PG-13\"}, {\"Presupuesto\": 40000000.0, \"Puntaje\": 7.4, \"Rating\": \"PG\"}, {\"Presupuesto\": 42000000.0, \"Puntaje\": 5.2, \"Rating\": \"PG-13\"}, {\"Presupuesto\": 26000000.0, \"Puntaje\": 6.1, \"Rating\": \"PG-13\"}, {\"Presupuesto\": 35000000.0, \"Puntaje\": 6.2, \"Rating\": \"R\"}, {\"Presupuesto\": 36000000.0, \"Puntaje\": 5.1, \"Rating\": \"PG\"}, {\"Presupuesto\": 35000000.0, \"Puntaje\": 5.8, \"Rating\": \"R\"}, {\"Presupuesto\": 14000000.0, \"Puntaje\": 7.8, \"Rating\": \"R\"}, {\"Presupuesto\": 40000000.0, \"Puntaje\": 6.3, \"Rating\": \"R\"}, {\"Presupuesto\": 16000000.0, \"Puntaje\": 6.4, \"Rating\": \"R\"}, {\"Presupuesto\": 22000000.0, \"Puntaje\": 6.9, \"Rating\": \"R\"}, {\"Presupuesto\": 50000000.0, \"Puntaje\": 6.3, \"Rating\": \"PG-13\"}, {\"Presupuesto\": 11000000.0, \"Puntaje\": 6.5, \"Rating\": \"R\"}, {\"Presupuesto\": 31000000.0, \"Puntaje\": 6.6, \"Rating\": \"PG-13\"}, {\"Presupuesto\": 4200000.0, \"Puntaje\": 6.9, \"Rating\": \"R\"}, {\"Presupuesto\": 3500000.0, \"Puntaje\": 6.2, \"Rating\": \"R\"}, {\"Presupuesto\": 3000000.0, \"Puntaje\": 6.1, \"Rating\": \"R\"}, {\"Presupuesto\": 10000000.0, \"Puntaje\": 5.7, \"Rating\": \"R\"}, {\"Presupuesto\": 10500000.0, \"Puntaje\": 4.8, \"Rating\": \"R\"}, {\"Presupuesto\": 30000000.0, \"Puntaje\": 6.9, \"Rating\": \"G\"}, {\"Presupuesto\": 20000000.0, \"Puntaje\": 6.5, \"Rating\": \"PG-13\"}, {\"Presupuesto\": 2500000.0, \"Puntaje\": 6.3, \"Rating\": \"R\"}, {\"Presupuesto\": 5200000.0, \"Puntaje\": 5.8, \"Rating\": \"R\"}, {\"Presupuesto\": 12000000.0, \"Puntaje\": 5.9, \"Rating\": \"R\"}, {\"Presupuesto\": 35000000.0, \"Puntaje\": 5.7, \"Rating\": \"R\"}, {\"Presupuesto\": 10000000.0, \"Puntaje\": 5.8, \"Rating\": \"R\"}, {\"Presupuesto\": 20000000.0, \"Puntaje\": 6.8, \"Rating\": \"PG-13\"}, {\"Presupuesto\": 18000000.0, \"Puntaje\": 6.4, \"Rating\": \"R\"}, {\"Presupuesto\": 47000000.0, \"Puntaje\": 5.5, \"Rating\": \"R\"}, {\"Presupuesto\": 25000000.0, \"Puntaje\": 5.4, \"Rating\": \"PG\"}, {\"Presupuesto\": 12000000.0, \"Puntaje\": 7.8, \"Rating\": \"PG\"}, {\"Presupuesto\": 1500000.0, \"Puntaje\": 5.9, \"Rating\": \"R\"}, {\"Presupuesto\": 23000000.0, \"Puntaje\": 6.9, \"Rating\": \"PG-13\"}, {\"Presupuesto\": 7000000.0, \"Puntaje\": 6.0, \"Rating\": \"R\"}, {\"Presupuesto\": 20000000.0, \"Puntaje\": 5.9, \"Rating\": \"PG-13\"}, {\"Presupuesto\": 18000000.0, \"Puntaje\": 5.4, \"Rating\": \"R\"}, {\"Presupuesto\": 38000000.0, \"Puntaje\": 5.8, \"Rating\": \"R\"}, {\"Presupuesto\": 22000000.0, \"Puntaje\": 6.7, \"Rating\": \"R\"}, {\"Presupuesto\": 15000000.0, \"Puntaje\": 6.8, \"Rating\": \"R\"}, {\"Presupuesto\": 19000000.0, \"Puntaje\": 6.1, \"Rating\": \"R\"}, {\"Presupuesto\": 4000000.0, \"Puntaje\": 5.6, \"Rating\": \"R\"}, {\"Presupuesto\": 2500000.0, \"Puntaje\": 6.1, \"Rating\": \"R\"}, {\"Presupuesto\": 20000000.0, \"Puntaje\": 6.3, \"Rating\": \"PG-13\"}, {\"Presupuesto\": 10000000.0, \"Puntaje\": 6.6, \"Rating\": \"R\"}, {\"Presupuesto\": 23000000.0, \"Puntaje\": 6.3, \"Rating\": \"PG-13\"}, {\"Presupuesto\": 22000000.0, \"Puntaje\": 4.7, \"Rating\": \"PG-13\"}, {\"Presupuesto\": 7000000.0, \"Puntaje\": 6.2, \"Rating\": \"R\"}, {\"Presupuesto\": 25000000.0, \"Puntaje\": 6.8, \"Rating\": \"R\"}, {\"Presupuesto\": 40000000.0, \"Puntaje\": 6.1, \"Rating\": \"R\"}, {\"Presupuesto\": 9000000.0, \"Puntaje\": 6.1, \"Rating\": \"R\"}, {\"Presupuesto\": 12000000.0, \"Puntaje\": 6.6, \"Rating\": \"PG-13\"}, {\"Presupuesto\": 24000000.0, \"Puntaje\": 6.7, \"Rating\": \"PG\"}, {\"Presupuesto\": 225000.0, \"Puntaje\": 7.5, \"Rating\": \"PG-13\"}, {\"Presupuesto\": 700000.0, \"Puntaje\": 7.5, \"Rating\": \"R\"}, {\"Presupuesto\": 2000000.0, \"Puntaje\": 6.1, \"Rating\": \"R\"}, {\"Presupuesto\": 10000000.0, \"Puntaje\": 5.7, \"Rating\": \"R\"}, {\"Presupuesto\": 3000000.0, \"Puntaje\": 5.3, \"Rating\": \"PG\"}, {\"Presupuesto\": 350000.0, \"Puntaje\": 4.4, \"Rating\": \"R\"}, {\"Presupuesto\": 15000000.0, \"Puntaje\": 4.8, \"Rating\": \"R\"}, {\"Presupuesto\": 6500000.0, \"Puntaje\": 4.7, \"Rating\": \"R\"}, {\"Presupuesto\": 11500000.0, \"Puntaje\": 5.5, \"Rating\": \"R\"}, {\"Presupuesto\": 5000000.0, \"Puntaje\": 5.4, \"Rating\": \"R\"}, {\"Presupuesto\": 242000.0, \"Puntaje\": 2.3, \"Rating\": \"R\"}, {\"Presupuesto\": 10000000.0, \"Puntaje\": 5.7, \"Rating\": \"R\"}, {\"Presupuesto\": 42000000.0, \"Puntaje\": 7.1, \"Rating\": \"PG-13\"}, {\"Presupuesto\": 19000000.0, \"Puntaje\": 8.6, \"Rating\": \"R\"}, {\"Presupuesto\": 102000000.0, \"Puntaje\": 8.5, \"Rating\": \"R\"}, {\"Presupuesto\": 25000000.0, \"Puntaje\": 8.0, \"Rating\": \"G\"}, {\"Presupuesto\": 6500000.0, \"Puntaje\": 7.8, \"Rating\": \"R\"}, {\"Presupuesto\": 30000000.0, \"Puntaje\": 6.8, \"Rating\": \"PG-13\"}, {\"Presupuesto\": 11000000.0, \"Puntaje\": 7.7, \"Rating\": \"PG-13\"}, {\"Presupuesto\": 70000000.0, \"Puntaje\": 6.7, \"Rating\": \"PG\"}, {\"Presupuesto\": 24000000.0, \"Puntaje\": 7.2, \"Rating\": \"R\"}, {\"Presupuesto\": 16500000.0, \"Puntaje\": 7.4, \"Rating\": \"R\"}, {\"Presupuesto\": 35000000.0, \"Puntaje\": 7.3, \"Rating\": \"R\"}, {\"Presupuesto\": 17000000.0, \"Puntaje\": 6.8, \"Rating\": \"PG-13\"}, {\"Presupuesto\": 48000000.0, \"Puntaje\": 6.9, \"Rating\": \"PG-13\"}, {\"Presupuesto\": 13000000.0, \"Puntaje\": 5.0, \"Rating\": \"R\"}, {\"Presupuesto\": 11000000.0, \"Puntaje\": 5.1, \"Rating\": \"PG-13\"}, {\"Presupuesto\": 30000000.0, \"Puntaje\": 7.2, \"Rating\": \"PG\"}, {\"Presupuesto\": 40000000.0, \"Puntaje\": 8.0, \"Rating\": \"R\"}, {\"Presupuesto\": 9000000.0, \"Puntaje\": 7.7, \"Rating\": \"R\"}, {\"Presupuesto\": 35000000.0, \"Puntaje\": 6.4, \"Rating\": \"PG\"}, {\"Presupuesto\": 16000000.0, \"Puntaje\": 7.1, \"Rating\": \"R\"}, {\"Presupuesto\": 26000000.0, \"Puntaje\": 6.7, \"Rating\": \"PG-13\"}, {\"Presupuesto\": 40000000.0, \"Puntaje\": 4.9, \"Rating\": \"PG-13\"}, {\"Presupuesto\": 15000000.0, \"Puntaje\": 4.6, \"Rating\": \"PG-13\"}, {\"Presupuesto\": 35000000.0, \"Puntaje\": 7.0, \"Rating\": \"PG\"}, {\"Presupuesto\": 2500000.0, \"Puntaje\": 7.1, \"Rating\": \"R\"}, {\"Presupuesto\": 27000000.0, \"Puntaje\": 6.7, \"Rating\": \"PG-13\"}, {\"Presupuesto\": 38000000.0, \"Puntaje\": 7.2, \"Rating\": \"R\"}, {\"Presupuesto\": 24000000.0, \"Puntaje\": 7.6, \"Rating\": \"R\"}, {\"Presupuesto\": 29000000.0, \"Puntaje\": 6.9, \"Rating\": \"R\"}, {\"Presupuesto\": 75000000.0, \"Puntaje\": 6.7, \"Rating\": \"R\"}, {\"Presupuesto\": 19000000.0, \"Puntaje\": 6.2, \"Rating\": \"R\"}, {\"Presupuesto\": 6000000.0, \"Puntaje\": 6.3, \"Rating\": \"R\"}, {\"Presupuesto\": 10000000.0, \"Puntaje\": 6.5, \"Rating\": \"R\"}, {\"Presupuesto\": 8500000.0, \"Puntaje\": 6.6, \"Rating\": \"R\"}, {\"Presupuesto\": 25000000.0, \"Puntaje\": 6.0, \"Rating\": \"PG\"}, {\"Presupuesto\": 11000000.0, \"Puntaje\": 4.9, \"Rating\": \"R\"}, {\"Presupuesto\": 65000000.0, \"Puntaje\": 5.8, \"Rating\": \"R\"}, {\"Presupuesto\": 20000000.0, \"Puntaje\": 6.2, \"Rating\": \"PG\"}, {\"Presupuesto\": 6788000.0, \"Puntaje\": 5.8, \"Rating\": \"PG-13\"}, {\"Presupuesto\": 15000000.0, \"Puntaje\": 5.5, \"Rating\": \"R\"}, {\"Presupuesto\": 3500000.0, \"Puntaje\": 7.8, \"Rating\": \"R\"}, {\"Presupuesto\": 13500000.0, \"Puntaje\": 6.1, \"Rating\": \"PG-13\"}, {\"Presupuesto\": 29000000.0, \"Puntaje\": 6.7, \"Rating\": \"R\"}, {\"Presupuesto\": 35000000.0, \"Puntaje\": 6.4, \"Rating\": \"PG\"}, {\"Presupuesto\": 30000000.0, \"Puntaje\": 6.8, \"Rating\": \"R\"}, {\"Presupuesto\": 30000000.0, \"Puntaje\": 6.7, \"Rating\": \"R\"}, {\"Presupuesto\": 23000000.0, \"Puntaje\": 6.8, \"Rating\": \"PG-13\"}, {\"Presupuesto\": 14000000.0, \"Puntaje\": 6.0, \"Rating\": \"R\"}, {\"Presupuesto\": 14000000.0, \"Puntaje\": 6.5, \"Rating\": \"R\"}, {\"Presupuesto\": 6000000.0, \"Puntaje\": 2.8, \"Rating\": \"PG\"}, {\"Presupuesto\": 50000000.0, \"Puntaje\": 6.7, \"Rating\": \"PG-13\"}, {\"Presupuesto\": 8000000.0, \"Puntaje\": 6.1, \"Rating\": \"R\"}, {\"Presupuesto\": 17000000.0, \"Puntaje\": 6.7, \"Rating\": \"R\"}, {\"Presupuesto\": 15000000.0, \"Puntaje\": 7.0, \"Rating\": \"R\"}, {\"Presupuesto\": 23000.0, \"Puntaje\": 7.1, \"Rating\": \"R\"}, {\"Presupuesto\": 30000000.0, \"Puntaje\": 4.1, \"Rating\": \"R\"}, {\"Presupuesto\": 25000000.0, \"Puntaje\": 5.7, \"Rating\": \"PG\"}, {\"Presupuesto\": 18000000.0, \"Puntaje\": 6.0, \"Rating\": \"G\"}, {\"Presupuesto\": 23000000.0, \"Puntaje\": 6.0, \"Rating\": \"R\"}, {\"Presupuesto\": 14000000.0, \"Puntaje\": 6.7, \"Rating\": \"PG\"}, {\"Presupuesto\": 23000000.0, \"Puntaje\": 5.9, \"Rating\": \"R\"}, {\"Presupuesto\": 17000000.0, \"Puntaje\": 5.9, \"Rating\": \"R\"}, {\"Presupuesto\": 17000000.0, \"Puntaje\": 5.3, \"Rating\": \"R\"}, {\"Presupuesto\": 10000000.0, \"Puntaje\": 6.7, \"Rating\": \"PG\"}, {\"Presupuesto\": 23000000.0, \"Puntaje\": 6.8, \"Rating\": \"R\"}, {\"Presupuesto\": 1400000.0, \"Puntaje\": 5.6, \"Rating\": \"R\"}, {\"Presupuesto\": 8000000.0, \"Puntaje\": 5.7, \"Rating\": \"R\"}, {\"Presupuesto\": 10000000.0, \"Puntaje\": 5.5, \"Rating\": \"R\"}, {\"Presupuesto\": 22000000.0, \"Puntaje\": 6.5, \"Rating\": \"R\"}, {\"Presupuesto\": 13000000.0, \"Puntaje\": 5.8, \"Rating\": \"PG-13\"}, {\"Presupuesto\": 18000000.0, \"Puntaje\": 5.7, \"Rating\": \"PG\"}, {\"Presupuesto\": 7000000.0, \"Puntaje\": 7.1, \"Rating\": \"R\"}, {\"Presupuesto\": 11000000.0, \"Puntaje\": 6.9, \"Rating\": \"PG-13\"}, {\"Presupuesto\": 17000000.0, \"Puntaje\": 6.4, \"Rating\": \"PG-13\"}, {\"Presupuesto\": 48000000.0, \"Puntaje\": 5.9, \"Rating\": \"R\"}, {\"Presupuesto\": 3000000.0, \"Puntaje\": 6.8, \"Rating\": \"R\"}, {\"Presupuesto\": 8000000.0, \"Puntaje\": 5.9, \"Rating\": \"R\"}, {\"Presupuesto\": 7500000.0, \"Puntaje\": 6.7, \"Rating\": \"R\"}, {\"Presupuesto\": 13000000.0, \"Puntaje\": 4.1, \"Rating\": \"PG\"}, {\"Presupuesto\": 10000000.0, \"Puntaje\": 6.0, \"Rating\": \"R\"}, {\"Presupuesto\": 18000000.0, \"Puntaje\": 5.7, \"Rating\": \"PG-13\"}, {\"Presupuesto\": 35000000.0, \"Puntaje\": 5.7, \"Rating\": \"PG-13\"}, {\"Presupuesto\": 40000000.0, \"Puntaje\": 6.3, \"Rating\": \"R\"}, {\"Presupuesto\": 14000000.0, \"Puntaje\": 6.8, \"Rating\": \"PG-13\"}, {\"Presupuesto\": 2000000.0, \"Puntaje\": 6.1, \"Rating\": \"R\"}, {\"Presupuesto\": 5000000.0, \"Puntaje\": 5.1, \"Rating\": \"R\"}, {\"Presupuesto\": 36000000.0, \"Puntaje\": 6.8, \"Rating\": \"R\"}, {\"Presupuesto\": 26000000.0, \"Puntaje\": 5.7, \"Rating\": \"R\"}, {\"Presupuesto\": 17010000.0, \"Puntaje\": 5.7, \"Rating\": \"PG\"}, {\"Presupuesto\": 22000000.0, \"Puntaje\": 5.5, \"Rating\": \"R\"}, {\"Presupuesto\": 16400000.0, \"Puntaje\": 5.8, \"Rating\": \"PG-13\"}, {\"Presupuesto\": 28000000.0, \"Puntaje\": 7.6, \"Rating\": \"R\"}, {\"Presupuesto\": 250000.0, \"Puntaje\": 6.5, \"Rating\": \"R\"}, {\"Presupuesto\": 16000000.0, \"Puntaje\": 6.1, \"Rating\": \"R\"}, {\"Presupuesto\": 4000000.0, \"Puntaje\": 5.8, \"Rating\": \"R\"}, {\"Presupuesto\": 16000000.0, \"Puntaje\": 6.5, \"Rating\": \"R\"}, {\"Presupuesto\": 6000000.0, \"Puntaje\": 3.8, \"Rating\": \"PG-13\"}, {\"Presupuesto\": 10000000.0, \"Puntaje\": 6.0, \"Rating\": \"PG-13\"}, {\"Presupuesto\": 4000000.0, \"Puntaje\": 7.2, \"Rating\": \"R\"}, {\"Presupuesto\": 10000000.0, \"Puntaje\": 4.7, \"Rating\": \"PG\"}, {\"Presupuesto\": 19000000.0, \"Puntaje\": 4.9, \"Rating\": \"R\"}, {\"Presupuesto\": 1900000.0, \"Puntaje\": 7.0, \"Rating\": \"R\"}, {\"Presupuesto\": 450000.0, \"Puntaje\": 5.9, \"Rating\": \"R\"}, {\"Presupuesto\": 3000000.0, \"Puntaje\": 5.3, \"Rating\": \"R\"}, {\"Presupuesto\": 3000000.0, \"Puntaje\": 7.4, \"Rating\": \"R\"}, {\"Presupuesto\": 13000000.0, \"Puntaje\": 4.8, \"Rating\": \"R\"}, {\"Presupuesto\": 6000000.0, \"Puntaje\": 5.5, \"Rating\": \"R\"}, {\"Presupuesto\": 14000000.0, \"Puntaje\": 5.9, \"Rating\": \"R\"}, {\"Presupuesto\": 15000000.0, \"Puntaje\": 5.1, \"Rating\": \"R\"}, {\"Presupuesto\": 1200000.0, \"Puntaje\": 8.3, \"Rating\": \"R\"}, {\"Presupuesto\": 40000000.0, \"Puntaje\": 7.5, \"Rating\": \"R\"}, {\"Presupuesto\": 28000000.0, \"Puntaje\": 8.0, \"Rating\": \"G\"}, {\"Presupuesto\": 80000000.0, \"Puntaje\": 7.0, \"Rating\": \"PG-13\"}, {\"Presupuesto\": 49000000.0, \"Puntaje\": 6.9, \"Rating\": \"R\"}, {\"Presupuesto\": 40000000.0, \"Puntaje\": 7.8, \"Rating\": \"R\"}, {\"Presupuesto\": 14400000.0, \"Puntaje\": 8.2, \"Rating\": \"R\"}, {\"Presupuesto\": 11000000.0, \"Puntaje\": 7.5, \"Rating\": \"R\"}, {\"Presupuesto\": 40000000.0, \"Puntaje\": 7.7, \"Rating\": \"R\"}, {\"Presupuesto\": 10000000.0, \"Puntaje\": 7.2, \"Rating\": \"R\"}, {\"Presupuesto\": 50000000.0, \"Puntaje\": 6.4, \"Rating\": \"R\"}, {\"Presupuesto\": 31000000.0, \"Puntaje\": 6.3, \"Rating\": \"PG\"}, {\"Presupuesto\": 40000000.0, \"Puntaje\": 7.2, \"Rating\": \"PG\"}, {\"Presupuesto\": 55000000.0, \"Puntaje\": 6.5, \"Rating\": \"PG-13\"}, {\"Presupuesto\": 31000000.0, \"Puntaje\": 8.0, \"Rating\": \"R\"}, {\"Presupuesto\": 15000000.0, \"Puntaje\": 7.0, \"Rating\": \"PG\"}, {\"Presupuesto\": 25000000.0, \"Puntaje\": 6.2, \"Rating\": \"R\"}, {\"Presupuesto\": 20000000.0, \"Puntaje\": 7.0, \"Rating\": \"PG-13\"}, {\"Presupuesto\": 10000000.0, \"Puntaje\": 6.4, \"Rating\": \"PG\"}, {\"Presupuesto\": 11000000.0, \"Puntaje\": 7.6, \"Rating\": \"R\"}, {\"Presupuesto\": 18000000.0, \"Puntaje\": 6.6, \"Rating\": \"PG\"}, {\"Presupuesto\": 35000000.0, \"Puntaje\": 6.5, \"Rating\": \"R\"}, {\"Presupuesto\": 12500000.0, \"Puntaje\": 7.8, \"Rating\": \"R\"}, {\"Presupuesto\": 3000000.0, \"Puntaje\": 7.6, \"Rating\": \"R\"}, {\"Presupuesto\": 6000000.0, \"Puntaje\": 6.6, \"Rating\": \"R\"}, {\"Presupuesto\": 45000000.0, \"Puntaje\": 6.9, \"Rating\": \"R\"}, {\"Presupuesto\": 24000000.0, \"Puntaje\": 5.7, \"Rating\": \"PG-13\"}, {\"Presupuesto\": 31000000.0, \"Puntaje\": 7.6, \"Rating\": \"PG-13\"}, {\"Presupuesto\": 33000000.0, \"Puntaje\": 7.7, \"Rating\": \"PG-13\"}, {\"Presupuesto\": 15000000.0, \"Puntaje\": 5.2, \"Rating\": \"R\"}, {\"Presupuesto\": 24000000.0, \"Puntaje\": 6.5, \"Rating\": \"G\"}, {\"Presupuesto\": 5000000.0, \"Puntaje\": 5.5, \"Rating\": \"R\"}, {\"Presupuesto\": 7000000.0, \"Puntaje\": 5.6, \"Rating\": \"PG-13\"}, {\"Presupuesto\": 8000000.0, \"Puntaje\": 4.8, \"Rating\": \"R\"}, {\"Presupuesto\": 23000000.0, \"Puntaje\": 6.0, \"Rating\": \"R\"}, {\"Presupuesto\": 7000000.0, \"Puntaje\": 5.7, \"Rating\": \"PG\"}, {\"Presupuesto\": 5000000.0, \"Puntaje\": 7.1, \"Rating\": \"R\"}, {\"Presupuesto\": 60000000.0, \"Puntaje\": 6.5, \"Rating\": \"PG-13\"}, {\"Presupuesto\": 35000000.0, \"Puntaje\": 6.7, \"Rating\": \"R\"}, {\"Presupuesto\": 5000000.0, \"Puntaje\": 7.2, \"Rating\": \"R\"}, {\"Presupuesto\": 10000000.0, \"Puntaje\": 5.4, \"Rating\": \"R\"}, {\"Presupuesto\": 3000000.0, \"Puntaje\": 5.4, \"Rating\": \"R\"}, {\"Presupuesto\": 11700000.0, \"Puntaje\": 6.6, \"Rating\": \"R\"}, {\"Presupuesto\": 16000000.0, \"Puntaje\": 6.3, \"Rating\": \"R\"}, {\"Presupuesto\": 1000000.0, \"Puntaje\": 7.1, \"Rating\": \"NC-17\"}, {\"Presupuesto\": 6500000.0, \"Puntaje\": 5.2, \"Rating\": \"PG\"}, {\"Presupuesto\": 35000000.0, \"Puntaje\": 7.1, \"Rating\": \"PG-13\"}, {\"Presupuesto\": 40000000.0, \"Puntaje\": 5.4, \"Rating\": \"R\"}, {\"Presupuesto\": 8000000.0, \"Puntaje\": 7.6, \"Rating\": \"R\"}, {\"Presupuesto\": 43000000.0, \"Puntaje\": 5.0, \"Rating\": \"PG-13\"}, {\"Presupuesto\": 47000000.0, \"Puntaje\": 6.5, \"Rating\": \"PG-13\"}, {\"Presupuesto\": 35000000.0, \"Puntaje\": 6.6, \"Rating\": \"R\"}, {\"Presupuesto\": 15000000.0, \"Puntaje\": 5.8, \"Rating\": \"R\"}, {\"Presupuesto\": 2000000.0, \"Puntaje\": 7.2, \"Rating\": \"R\"}, {\"Presupuesto\": 7000.0, \"Puntaje\": 6.9, \"Rating\": \"R\"}, {\"Presupuesto\": 16000000.0, \"Puntaje\": 7.2, \"Rating\": \"R\"}, {\"Presupuesto\": 30000000.0, \"Puntaje\": 4.8, \"Rating\": \"PG-13\"}, {\"Presupuesto\": 40000000.0, \"Puntaje\": 4.7, \"Rating\": \"PG\"}, {\"Presupuesto\": 4000000.0, \"Puntaje\": 7.2, \"Rating\": \"PG-13\"}, {\"Presupuesto\": 35000000.0, \"Puntaje\": 6.9, \"Rating\": \"PG-13\"}, {\"Presupuesto\": 8000000.0, \"Puntaje\": 5.9, \"Rating\": \"R\"}, {\"Presupuesto\": 14000000.0, \"Puntaje\": 5.3, \"Rating\": \"PG\"}, {\"Presupuesto\": 12000000.0, \"Puntaje\": 6.0, \"Rating\": \"R\"}, {\"Presupuesto\": 3500000.0, \"Puntaje\": 5.3, \"Rating\": \"G\"}, {\"Presupuesto\": 40000000.0, \"Puntaje\": 6.0, \"Rating\": \"PG-13\"}, {\"Presupuesto\": 30000000.0, \"Puntaje\": 7.2, \"Rating\": \"PG-13\"}, {\"Presupuesto\": 7000000.0, \"Puntaje\": 6.2, \"Rating\": \"R\"}, {\"Presupuesto\": 18000000.0, \"Puntaje\": 5.7, \"Rating\": \"R\"}, {\"Presupuesto\": 10000000.0, \"Puntaje\": 6.3, \"Rating\": \"R\"}, {\"Presupuesto\": 12000000.0, \"Puntaje\": 7.5, \"Rating\": \"PG-13\"}, {\"Presupuesto\": 42000000.0, \"Puntaje\": 6.5, \"Rating\": \"PG-13\"}, {\"Presupuesto\": 27000000.0, \"Puntaje\": 6.4, \"Rating\": \"PG-13\"}, {\"Presupuesto\": 900000.0, \"Puntaje\": 6.9, \"Rating\": \"R\"}, {\"Presupuesto\": 15000000.0, \"Puntaje\": 6.8, \"Rating\": \"R\"}, {\"Presupuesto\": 25000000.0, \"Puntaje\": 5.8, \"Rating\": \"PG-13\"}, {\"Presupuesto\": 12000000.0, \"Puntaje\": 7.7, \"Rating\": \"G\"}, {\"Presupuesto\": 900000.0, \"Puntaje\": 4.2, \"Rating\": \"R\"}, {\"Presupuesto\": 45000000.0, \"Puntaje\": 4.1, \"Rating\": \"PG-13\"}, {\"Presupuesto\": 5000000.0, \"Puntaje\": 7.0, \"Rating\": \"R\"}, {\"Presupuesto\": 14000000.0, \"Puntaje\": 6.2, \"Rating\": \"R\"}, {\"Presupuesto\": 20000000.0, \"Puntaje\": 7.6, \"Rating\": \"R\"}, {\"Presupuesto\": 20000000.0, \"Puntaje\": 6.2, \"Rating\": \"R\"}, {\"Presupuesto\": 40000000.0, \"Puntaje\": 5.9, \"Rating\": \"PG-13\"}, {\"Presupuesto\": 15000000.0, \"Puntaje\": 5.4, \"Rating\": \"R\"}, {\"Presupuesto\": 7500000.0, \"Puntaje\": 6.0, \"Rating\": \"PG-13\"}, {\"Presupuesto\": 4000000.0, \"Puntaje\": 6.8, \"Rating\": \"R\"}, {\"Presupuesto\": 32000000.0, \"Puntaje\": 5.8, \"Rating\": \"R\"}, {\"Presupuesto\": 15500000.0, \"Puntaje\": 6.4, \"Rating\": \"R\"}, {\"Presupuesto\": 30000000.0, \"Puntaje\": 5.3, \"Rating\": \"R\"}, {\"Presupuesto\": 50000000.0, \"Puntaje\": 5.9, \"Rating\": \"R\"}, {\"Presupuesto\": 40000000.0, \"Puntaje\": 4.4, \"Rating\": \"PG-13\"}, {\"Presupuesto\": 10000000.0, \"Puntaje\": 6.4, \"Rating\": \"PG-13\"}, {\"Presupuesto\": 17000000.0, \"Puntaje\": 7.0, \"Rating\": \"R\"}, {\"Presupuesto\": 5000000.0, \"Puntaje\": 7.2, \"Rating\": \"R\"}, {\"Presupuesto\": 29000000.0, \"Puntaje\": 6.5, \"Rating\": \"PG-13\"}, {\"Presupuesto\": 18000000.0, \"Puntaje\": 6.7, \"Rating\": \"PG-13\"}, {\"Presupuesto\": 40000000.0, \"Puntaje\": 5.9, \"Rating\": \"PG-13\"}, {\"Presupuesto\": 20000000.0, \"Puntaje\": 5.8, \"Rating\": \"R\"}, {\"Presupuesto\": 10000000.0, \"Puntaje\": 6.7, \"Rating\": \"R\"}, {\"Presupuesto\": 5000000.0, \"Puntaje\": 6.9, \"Rating\": \"R\"}, {\"Presupuesto\": 43000000.0, \"Puntaje\": 5.8, \"Rating\": \"R\"}, {\"Presupuesto\": 30000000.0, \"Puntaje\": 4.6, \"Rating\": \"PG-13\"}, {\"Presupuesto\": 10000000.0, \"Puntaje\": 6.8, \"Rating\": \"R\"}, {\"Presupuesto\": 2700000.0, \"Puntaje\": 6.9, \"Rating\": \"R\"}, {\"Presupuesto\": 3330000.0, \"Puntaje\": 7.5, \"Rating\": \"R\"}, {\"Presupuesto\": 18000000.0, \"Puntaje\": 6.1, \"Rating\": \"R\"}, {\"Presupuesto\": 3000000.0, \"Puntaje\": 7.2, \"Rating\": \"R\"}, {\"Presupuesto\": 800000.0, \"Puntaje\": 5.6, \"Rating\": \"R\"}, {\"Presupuesto\": 18000000.0, \"Puntaje\": 5.6, \"Rating\": \"R\"}, {\"Presupuesto\": 400000.0, \"Puntaje\": 7.3, \"Rating\": \"NOT RATED\"}, {\"Presupuesto\": 3000000.0, \"Puntaje\": 4.9, \"Rating\": \"R\"}, {\"Presupuesto\": 18000000.0, \"Puntaje\": 6.3, \"Rating\": \"PG-13\"}, {\"Presupuesto\": 22769.0, \"Puntaje\": 6.5, \"Rating\": \"UNRATED\"}, {\"Presupuesto\": 24000000.0, \"Puntaje\": 5.0, \"Rating\": \"PG-13\"}, {\"Presupuesto\": 13000000.0, \"Puntaje\": 5.0, \"Rating\": \"PG-13\"}, {\"Presupuesto\": 16000000.0, \"Puntaje\": 6.0, \"Rating\": \"PG-13\"}, {\"Presupuesto\": 130000.0, \"Puntaje\": 4.9, \"Rating\": \"UNRATED\"}, {\"Presupuesto\": 250000.0, \"Puntaje\": 6.8, \"Rating\": \"UNRATED\"}, {\"Presupuesto\": 38000.0, \"Puntaje\": 7.0, \"Rating\": \"R\"}, {\"Presupuesto\": 28000000.0, \"Puntaje\": 6.7, \"Rating\": \"PG\"}, {\"Presupuesto\": 25000000.0, \"Puntaje\": 7.8, \"Rating\": \"R\"}, {\"Presupuesto\": 22000000.0, \"Puntaje\": 8.9, \"Rating\": \"R\"}, {\"Presupuesto\": 63000000.0, \"Puntaje\": 8.1, \"Rating\": \"PG-13\"}, {\"Presupuesto\": 18000000.0, \"Puntaje\": 8.0, \"Rating\": \"PG\"}, {\"Presupuesto\": 6900000.0, \"Puntaje\": 7.7, \"Rating\": \"R\"}, {\"Presupuesto\": 25000000.0, \"Puntaje\": 7.6, \"Rating\": \"R\"}, {\"Presupuesto\": 42000000.0, \"Puntaje\": 6.8, \"Rating\": \"R\"}, {\"Presupuesto\": 13000000.0, \"Puntaje\": 8.0, \"Rating\": \"R\"}, {\"Presupuesto\": 75000000.0, \"Puntaje\": 6.6, \"Rating\": \"PG-13\"}, {\"Presupuesto\": 22000000.0, \"Puntaje\": 7.8, \"Rating\": \"R\"}, {\"Presupuesto\": 11000000.0, \"Puntaje\": 7.8, \"Rating\": \"PG-13\"}, {\"Presupuesto\": 14600000.0, \"Puntaje\": 8.0, \"Rating\": \"PG\"}, {\"Presupuesto\": 20000000.0, \"Puntaje\": 6.7, \"Rating\": \"PG-13\"}, {\"Presupuesto\": 25000000.0, \"Puntaje\": 6.9, \"Rating\": \"PG-13\"}, {\"Presupuesto\": 21000000.0, \"Puntaje\": 6.8, \"Rating\": \"PG\"}, {\"Presupuesto\": 85000000.0, \"Puntaje\": 6.3, \"Rating\": \"PG-13\"}, {\"Presupuesto\": 35000000.0, \"Puntaje\": 8.0, \"Rating\": \"R\"}, {\"Presupuesto\": 70000000.0, \"Puntaje\": 6.4, \"Rating\": \"R\"}, {\"Presupuesto\": 44000000.0, \"Puntaje\": 7.8, \"Rating\": \"PG-13\"}, {\"Presupuesto\": 20000000.0, \"Puntaje\": 5.9, \"Rating\": \"PG\"}, {\"Presupuesto\": 38000000.0, \"Puntaje\": 5.8, \"Rating\": \"R\"}, {\"Presupuesto\": 26000000.0, \"Puntaje\": 7.7, \"Rating\": \"PG-13\"}, {\"Presupuesto\": 7000000.0, \"Puntaje\": 7.6, \"Rating\": \"R\"}, {\"Presupuesto\": 30000000.0, \"Puntaje\": 7.9, \"Rating\": \"R\"}, {\"Presupuesto\": 38000000.0, \"Puntaje\": 5.4, \"Rating\": \"PG\"}, {\"Presupuesto\": 57000000.0, \"Puntaje\": 6.6, \"Rating\": \"R\"}, {\"Presupuesto\": 42000000.0, \"Puntaje\": 4.0, \"Rating\": \"PG\"}, {\"Presupuesto\": 30000000.0, \"Puntaje\": 6.4, \"Rating\": \"PG\"}, {\"Presupuesto\": 13000000.0, \"Puntaje\": 8.1, \"Rating\": \"R\"}, {\"Presupuesto\": 40000000.0, \"Puntaje\": 4.9, \"Rating\": \"R\"}, {\"Presupuesto\": 32000000.0, \"Puntaje\": 7.1, \"Rating\": \"R\"}, {\"Presupuesto\": 30000000.0, \"Puntaje\": 7.2, \"Rating\": \"PG\"}, {\"Presupuesto\": 17000000.0, \"Puntaje\": 6.4, \"Rating\": \"R\"}, {\"Presupuesto\": 15000000.0, \"Puntaje\": 6.9, \"Rating\": \"PG\"}, {\"Presupuesto\": 11000000.0, \"Puntaje\": 7.4, \"Rating\": \"PG-13\"}, {\"Presupuesto\": 15000000.0, \"Puntaje\": 6.4, \"Rating\": \"R\"}, {\"Presupuesto\": 14000000.0, \"Puntaje\": 7.0, \"Rating\": \"PG-13\"}, {\"Presupuesto\": 3500000.0, \"Puntaje\": 7.5, \"Rating\": \"R\"}, {\"Presupuesto\": 18000000.0, \"Puntaje\": 6.1, \"Rating\": \"R\"}, {\"Presupuesto\": 25000000.0, \"Puntaje\": 7.7, \"Rating\": \"PG\"}, {\"Presupuesto\": 8000000.0, \"Puntaje\": 7.0, \"Rating\": \"R\"}, {\"Presupuesto\": 20000000.0, \"Puntaje\": 6.4, \"Rating\": \"PG-13\"}, {\"Presupuesto\": 15000000.0, \"Puntaje\": 5.9, \"Rating\": \"R\"}, {\"Presupuesto\": 3000000.0, \"Puntaje\": 4.3, \"Rating\": \"R\"}, {\"Presupuesto\": 40000000.0, \"Puntaje\": 6.1, \"Rating\": \"PG-13\"}, {\"Presupuesto\": 45000000.0, \"Puntaje\": 6.6, \"Rating\": \"PG-13\"}, {\"Presupuesto\": 15000000.0, \"Puntaje\": 7.2, \"Rating\": \"R\"}, {\"Presupuesto\": 40000000.0, \"Puntaje\": 7.2, \"Rating\": \"R\"}, {\"Presupuesto\": 6000000.0, \"Puntaje\": 5.7, \"Rating\": \"R\"}, {\"Presupuesto\": 15000000.0, \"Puntaje\": 6.5, \"Rating\": \"PG-13\"}, {\"Presupuesto\": 900000.0, \"Puntaje\": 4.7, \"Rating\": \"R\"}, {\"Presupuesto\": 30000000.0, \"Puntaje\": 7.5, \"Rating\": \"PG-13\"}, {\"Presupuesto\": 15000000.0, \"Puntaje\": 7.9, \"Rating\": \"PG\"}, {\"Presupuesto\": 2000000.0, \"Puntaje\": 6.7, \"Rating\": \"R\"}, {\"Presupuesto\": 2600000.0, \"Puntaje\": 6.2, \"Rating\": \"PG\"}, {\"Presupuesto\": 22000000.0, \"Puntaje\": 4.0, \"Rating\": \"PG-13\"}, {\"Presupuesto\": 9000000.0, \"Puntaje\": 6.7, \"Rating\": \"R\"}, {\"Presupuesto\": 25000000.0, \"Puntaje\": 6.6, \"Rating\": \"PG-13\"}, {\"Presupuesto\": 25000000.0, \"Puntaje\": 6.9, \"Rating\": \"R\"}, {\"Presupuesto\": 10000000.0, \"Puntaje\": 5.9, \"Rating\": \"PG\"}, {\"Presupuesto\": 6000000.0, \"Puntaje\": 7.9, \"Rating\": \"PG\"}, {\"Presupuesto\": 35000000.0, \"Puntaje\": 6.2, \"Rating\": \"R\"}, {\"Presupuesto\": 14000000.0, \"Puntaje\": 5.9, \"Rating\": \"R\"}, {\"Presupuesto\": 11000000.0, \"Puntaje\": 6.3, \"Rating\": \"PG-13\"}, {\"Presupuesto\": 35000000.0, \"Puntaje\": 6.5, \"Rating\": \"PG-13\"}, {\"Presupuesto\": 19000000.0, \"Puntaje\": 7.4, \"Rating\": \"R\"}, {\"Presupuesto\": 20000000.0, \"Puntaje\": 6.4, \"Rating\": \"R\"}, {\"Presupuesto\": 30000000.0, \"Puntaje\": 4.4, \"Rating\": \"R\"}, {\"Presupuesto\": 14000000.0, \"Puntaje\": 6.3, \"Rating\": \"PG-13\"}, {\"Presupuesto\": 15000000.0, \"Puntaje\": 4.8, \"Rating\": \"PG\"}, {\"Presupuesto\": 35000000.0, \"Puntaje\": 6.0, \"Rating\": \"PG\"}, {\"Presupuesto\": 12000000.0, \"Puntaje\": 6.9, \"Rating\": \"R\"}, {\"Presupuesto\": 33000000.0, \"Puntaje\": 6.8, \"Rating\": \"R\"}, {\"Presupuesto\": 17000000.0, \"Puntaje\": 4.8, \"Rating\": \"PG\"}, {\"Presupuesto\": 8200000.0, \"Puntaje\": 6.1, \"Rating\": \"PG-13\"}, {\"Presupuesto\": 13000000.0, \"Puntaje\": 5.9, \"Rating\": \"R\"}, {\"Presupuesto\": 22000000.0, \"Puntaje\": 7.4, \"Rating\": \"PG\"}, {\"Presupuesto\": 11000000.0, \"Puntaje\": 7.6, \"Rating\": \"R\"}, {\"Presupuesto\": 2000000.0, \"Puntaje\": 5.9, \"Rating\": \"R\"}, {\"Presupuesto\": 21000000.0, \"Puntaje\": 6.6, \"Rating\": \"R\"}, {\"Presupuesto\": 1500000.0, \"Puntaje\": 6.5, \"Rating\": \"R\"}, {\"Presupuesto\": 30000000.0, \"Puntaje\": 5.8, \"Rating\": \"R\"}, {\"Presupuesto\": 15000000.0, \"Puntaje\": 5.6, \"Rating\": \"R\"}, {\"Presupuesto\": 7500000.0, \"Puntaje\": 6.8, \"Rating\": \"PG-13\"}, {\"Presupuesto\": 30000000.0, \"Puntaje\": 6.1, \"Rating\": \"PG\"}, {\"Presupuesto\": 13500000.0, \"Puntaje\": 7.4, \"Rating\": \"PG\"}, {\"Presupuesto\": 22000000.0, \"Puntaje\": 4.9, \"Rating\": \"PG-13\"}, {\"Presupuesto\": 11500000.0, \"Puntaje\": 6.6, \"Rating\": \"R\"}, {\"Presupuesto\": 6500000.0, \"Puntaje\": 6.2, \"Rating\": \"PG\"}, {\"Presupuesto\": 15000000.0, \"Puntaje\": 5.1, \"Rating\": \"R\"}, {\"Presupuesto\": 6000000.0, \"Puntaje\": 6.7, \"Rating\": \"PG-13\"}, {\"Presupuesto\": 8000000.0, \"Puntaje\": 4.3, \"Rating\": \"R\"}, {\"Presupuesto\": 7000000.0, \"Puntaje\": 4.6, \"Rating\": \"PG\"}, {\"Presupuesto\": 9000000.0, \"Puntaje\": 6.5, \"Rating\": \"PG-13\"}, {\"Presupuesto\": 13000000.0, \"Puntaje\": 6.5, \"Rating\": \"G\"}, {\"Presupuesto\": 28000000.0, \"Puntaje\": 7.1, \"Rating\": \"G\"}, {\"Presupuesto\": 30000000.0, \"Puntaje\": 5.0, \"Rating\": \"PG\"}, {\"Presupuesto\": 14000000.0, \"Puntaje\": 3.9, \"Rating\": \"PG\"}, {\"Presupuesto\": 3000000.0, \"Puntaje\": 5.3, \"Rating\": \"R\"}, {\"Presupuesto\": 8000000.0, \"Puntaje\": 7.6, \"Rating\": \"PG-13\"}, {\"Presupuesto\": 10000000.0, \"Puntaje\": 3.6, \"Rating\": \"PG\"}, {\"Presupuesto\": 11000000.0, \"Puntaje\": 7.6, \"Rating\": \"PG-13\"}, {\"Presupuesto\": 10500000.0, \"Puntaje\": 7.3, \"Rating\": \"PG-13\"}, {\"Presupuesto\": 18000000.0, \"Puntaje\": 5.8, \"Rating\": \"PG-13\"}, {\"Presupuesto\": 25000000.0, \"Puntaje\": 5.8, \"Rating\": \"R\"}, {\"Presupuesto\": 10000000.0, \"Puntaje\": 3.7, \"Rating\": \"R\"}, {\"Presupuesto\": 11000000.0, \"Puntaje\": 6.2, \"Rating\": \"R\"}, {\"Presupuesto\": 1000000.0, \"Puntaje\": 7.7, \"Rating\": \"R\"}, {\"Presupuesto\": 10000000.0, \"Puntaje\": 5.9, \"Rating\": \"R\"}, {\"Presupuesto\": 6000000.0, \"Puntaje\": 5.1, \"Rating\": \"R\"}, {\"Presupuesto\": 10000000.0, \"Puntaje\": 5.5, \"Rating\": \"R\"}, {\"Presupuesto\": 1000000.0, \"Puntaje\": 3.5, \"Rating\": \"R\"}, {\"Presupuesto\": 14000000.0, \"Puntaje\": 5.8, \"Rating\": \"PG-13\"}, {\"Presupuesto\": 12000000.0, \"Puntaje\": 4.4, \"Rating\": \"R\"}, {\"Presupuesto\": 25000000.0, \"Puntaje\": 3.8, \"Rating\": \"PG\"}, {\"Presupuesto\": 10000000.0, \"Puntaje\": 5.7, \"Rating\": \"R\"}, {\"Presupuesto\": 12000000.0, \"Puntaje\": 7.1, \"Rating\": \"PG\"}, {\"Presupuesto\": 19000000.0, \"Puntaje\": 5.8, \"Rating\": \"G\"}, {\"Presupuesto\": 11000000.0, \"Puntaje\": 5.7, \"Rating\": \"R\"}, {\"Presupuesto\": 8000000.0, \"Puntaje\": 5.4, \"Rating\": \"R\"}, {\"Presupuesto\": 11900000.0, \"Puntaje\": 7.4, \"Rating\": \"Not specified\"}, {\"Presupuesto\": 13000000.0, \"Puntaje\": 5.9, \"Rating\": \"PG-13\"}, {\"Presupuesto\": 9000000.0, \"Puntaje\": 4.9, \"Rating\": \"R\"}, {\"Presupuesto\": 999999.0, \"Puntaje\": 7.2, \"Rating\": \"R\"}, {\"Presupuesto\": 8030000.0, \"Puntaje\": 5.2, \"Rating\": \"R\"}, {\"Presupuesto\": 13000000.0, \"Puntaje\": 5.0, \"Rating\": \"PG-13\"}, {\"Presupuesto\": 2500000.0, \"Puntaje\": 5.6, \"Rating\": \"R\"}, {\"Presupuesto\": 1000000.0, \"Puntaje\": 7.1, \"Rating\": \"Not specified\"}, {\"Presupuesto\": 5000000.0, \"Puntaje\": 4.5, \"Rating\": \"PG-13\"}, {\"Presupuesto\": 800000.0, \"Puntaje\": 7.1, \"Rating\": \"R\"}, {\"Presupuesto\": 25000000.0, \"Puntaje\": 9.3, \"Rating\": \"R\"}, {\"Presupuesto\": 8000000.0, \"Puntaje\": 8.9, \"Rating\": \"R\"}, {\"Presupuesto\": 55000000.0, \"Puntaje\": 8.8, \"Rating\": \"PG-13\"}, {\"Presupuesto\": 45000000.0, \"Puntaje\": 8.5, \"Rating\": \"G\"}, {\"Presupuesto\": 60000000.0, \"Puntaje\": 7.6, \"Rating\": \"R\"}, {\"Presupuesto\": 30000000.0, \"Puntaje\": 7.2, \"Rating\": \"R\"}, {\"Presupuesto\": 4400000.0, \"Puntaje\": 7.1, \"Rating\": \"R\"}, {\"Presupuesto\": 18000000.0, \"Puntaje\": 6.9, \"Rating\": \"PG-13\"}, {\"Presupuesto\": 16000000.0, \"Puntaje\": 7.3, \"Rating\": \"PG-13\"}, {\"Presupuesto\": 34000000.0, \"Puntaje\": 7.3, \"Rating\": \"R\"}, {\"Presupuesto\": 30000000.0, \"Puntaje\": 7.5, \"Rating\": \"R\"}, {\"Presupuesto\": 55000000.0, \"Puntaje\": 7.1, \"Rating\": \"PG-13\"}, {\"Presupuesto\": 115000000.0, \"Puntaje\": 7.2, \"Rating\": \"R\"}, {\"Presupuesto\": 23000000.0, \"Puntaje\": 7.6, \"Rating\": \"R\"}, {\"Presupuesto\": 12000000.0, \"Puntaje\": 6.9, \"Rating\": \"PG-13\"}, {\"Presupuesto\": 63000000.0, \"Puntaje\": 6.7, \"Rating\": \"PG-13\"}, {\"Presupuesto\": 46000000.0, \"Puntaje\": 4.8, \"Rating\": \"PG\"}, {\"Presupuesto\": 11500000.0, \"Puntaje\": 6.6, \"Rating\": \"PG-13\"}, {\"Presupuesto\": 35000000.0, \"Puntaje\": 6.6, \"Rating\": \"PG\"}, {\"Presupuesto\": 18000000.0, \"Puntaje\": 7.9, \"Rating\": \"R\"}, {\"Presupuesto\": 8000000.0, \"Puntaje\": 6.4, \"Rating\": \"R\"}, {\"Presupuesto\": 230000.0, \"Puntaje\": 7.8, \"Rating\": \"R\"}, {\"Presupuesto\": 45000000.0, \"Puntaje\": 6.4, \"Rating\": \"R\"}, {\"Presupuesto\": 62000000.0, \"Puntaje\": 6.9, \"Rating\": \"PG-13\"}, {\"Presupuesto\": 15000000.0, \"Puntaje\": 7.3, \"Rating\": \"PG\"}, {\"Presupuesto\": 40000000.0, \"Puntaje\": 5.3, \"Rating\": \"PG\"}, {\"Presupuesto\": 600000.0, \"Puntaje\": 3.2, \"Rating\": \"R\"}, {\"Presupuesto\": 50000000.0, \"Puntaje\": 6.0, \"Rating\": \"PG\"}, {\"Presupuesto\": 35000000.0, \"Puntaje\": 3.8, \"Rating\": \"PG-13\"}, {\"Presupuesto\": 20000000.0, \"Puntaje\": 6.3, \"Rating\": \"PG\"}, {\"Presupuesto\": 5000000.0, \"Puntaje\": 7.4, \"Rating\": \"R\"}, {\"Presupuesto\": 8000000.0, \"Puntaje\": 7.2, \"Rating\": \"R\"}, {\"Presupuesto\": 31000000.0, \"Puntaje\": 6.5, \"Rating\": \"PG-13\"}, {\"Presupuesto\": 45000000.0, \"Puntaje\": 6.7, \"Rating\": \"PG-13\"}, {\"Presupuesto\": 75000000.0, \"Puntaje\": 7.0, \"Rating\": \"PG\"}, {\"Presupuesto\": 22000000.0, \"Puntaje\": 6.4, \"Rating\": \"PG\"}, {\"Presupuesto\": 45000000.0, \"Puntaje\": 5.5, \"Rating\": \"R\"}, {\"Presupuesto\": 40000000.0, \"Puntaje\": 6.1, \"Rating\": \"PG-13\"}, {\"Presupuesto\": 27000000.0, \"Puntaje\": 6.0, \"Rating\": \"PG\"}, {\"Presupuesto\": 3000000.0, \"Puntaje\": 7.2, \"Rating\": \"R\"}, {\"Presupuesto\": 24000000.0, \"Puntaje\": 6.1, \"Rating\": \"PG\"}, {\"Presupuesto\": 55000000.0, \"Puntaje\": 5.5, \"Rating\": \"R\"}, {\"Presupuesto\": 31000000.0, \"Puntaje\": 7.5, \"Rating\": \"PG-13\"}, {\"Presupuesto\": 55000000.0, \"Puntaje\": 6.0, \"Rating\": \"R\"}, {\"Presupuesto\": 70000000.0, \"Puntaje\": 6.2, \"Rating\": \"R\"}, {\"Presupuesto\": 30000000.0, \"Puntaje\": 6.5, \"Rating\": \"PG-13\"}, {\"Presupuesto\": 27000000.0, \"Puntaje\": 6.0, \"Rating\": \"G\"}, {\"Presupuesto\": 30000000.0, \"Puntaje\": 7.3, \"Rating\": \"PG\"}, {\"Presupuesto\": 40000000.0, \"Puntaje\": 5.1, \"Rating\": \"R\"}, {\"Presupuesto\": 45000000.0, \"Puntaje\": 6.3, \"Rating\": \"PG-13\"}, {\"Presupuesto\": 8000000.0, \"Puntaje\": 6.6, \"Rating\": \"PG-13\"}, {\"Presupuesto\": 25000000.0, \"Puntaje\": 6.7, \"Rating\": \"PG-13\"}, {\"Presupuesto\": 10000000.0, \"Puntaje\": 7.6, \"Rating\": \"R\"}, {\"Presupuesto\": 60000000.0, \"Puntaje\": 4.6, \"Rating\": \"PG-13\"}, {\"Presupuesto\": 27000000.0, \"Puntaje\": 5.8, \"Rating\": \"R\"}, {\"Presupuesto\": 20000000.0, \"Puntaje\": 6.4, \"Rating\": \"G\"}, {\"Presupuesto\": 3500000.0, \"Puntaje\": 6.6, \"Rating\": \"R\"}, {\"Presupuesto\": 18000000.0, \"Puntaje\": 5.0, \"Rating\": \"R\"}, {\"Presupuesto\": 2500000.0, \"Puntaje\": 7.1, \"Rating\": \"R\"}, {\"Presupuesto\": 50000000.0, \"Puntaje\": 4.4, \"Rating\": \"R\"}, {\"Presupuesto\": 25000000.0, \"Puntaje\": 4.1, \"Rating\": \"R\"}, {\"Presupuesto\": 7400000.0, \"Puntaje\": 6.1, \"Rating\": \"R\"}, {\"Presupuesto\": 2500000.0, \"Puntaje\": 7.3, \"Rating\": \"R\"}, {\"Presupuesto\": 14000000.0, \"Puntaje\": 6.9, \"Rating\": \"PG-13\"}, {\"Presupuesto\": 16000000.0, \"Puntaje\": 6.4, \"Rating\": \"PG-13\"}, {\"Presupuesto\": 12000000.0, \"Puntaje\": 4.3, \"Rating\": \"PG\"}, {\"Presupuesto\": 50000000.0, \"Puntaje\": 6.2, \"Rating\": \"R\"}, {\"Presupuesto\": 28000000.0, \"Puntaje\": 6.4, \"Rating\": \"G\"}, {\"Presupuesto\": 25000000.0, \"Puntaje\": 6.0, \"Rating\": \"PG-13\"}, {\"Presupuesto\": 20000000.0, \"Puntaje\": 7.5, \"Rating\": \"R\"}, {\"Presupuesto\": 13000000.0, \"Puntaje\": 6.7, \"Rating\": \"R\"}, {\"Presupuesto\": 40000000.0, \"Puntaje\": 4.4, \"Rating\": \"PG\"}, {\"Presupuesto\": 20000000.0, \"Puntaje\": 6.1, \"Rating\": \"R\"}, {\"Presupuesto\": 3000000.0, \"Puntaje\": 7.7, \"Rating\": \"PG\"}, {\"Presupuesto\": 20000000.0, \"Puntaje\": 7.4, \"Rating\": \"R\"}, {\"Presupuesto\": 3500000.0, \"Puntaje\": 7.6, \"Rating\": \"R\"}, {\"Presupuesto\": 25000000.0, \"Puntaje\": 5.8, \"Rating\": \"R\"}, {\"Presupuesto\": 11000000.0, \"Puntaje\": 6.9, \"Rating\": \"R\"}, {\"Presupuesto\": 7000000.0, \"Puntaje\": 6.5, \"Rating\": \"PG-13\"}, {\"Presupuesto\": 6200000.0, \"Puntaje\": 3.3, \"Rating\": \"PG\"}, {\"Presupuesto\": 10000000.0, \"Puntaje\": 5.9, \"Rating\": \"R\"}, {\"Presupuesto\": 7850000.0, \"Puntaje\": 3.7, \"Rating\": \"PG-13\"}, {\"Presupuesto\": 200000.0, \"Puntaje\": 6.3, \"Rating\": \"UNRATED\"}, {\"Presupuesto\": 12000000.0, \"Puntaje\": 7.3, \"Rating\": \"R\"}, {\"Presupuesto\": 40000000.0, \"Puntaje\": 5.5, \"Rating\": \"PG-13\"}, {\"Presupuesto\": 25000000.0, \"Puntaje\": 6.2, \"Rating\": \"PG\"}, {\"Presupuesto\": 19000000.0, \"Puntaje\": 5.3, \"Rating\": \"PG\"}, {\"Presupuesto\": 35000000.0, \"Puntaje\": 5.8, \"Rating\": \"PG-13\"}, {\"Presupuesto\": 20000000.0, \"Puntaje\": 4.4, \"Rating\": \"PG\"}, {\"Presupuesto\": 15000000.0, \"Puntaje\": 5.4, \"Rating\": \"PG-13\"}, {\"Presupuesto\": 700000.0, \"Puntaje\": 7.1, \"Rating\": \"R\"}, {\"Presupuesto\": 45000000.0, \"Puntaje\": 5.6, \"Rating\": \"R\"}, {\"Presupuesto\": 5000000.0, \"Puntaje\": 4.7, \"Rating\": \"R\"}, {\"Presupuesto\": 7000000.0, \"Puntaje\": 6.6, \"Rating\": \"R\"}, {\"Presupuesto\": 45000000.0, \"Puntaje\": 5.2, \"Rating\": \"R\"}, {\"Presupuesto\": 4000000.0, \"Puntaje\": 7.3, \"Rating\": \"R\"}, {\"Presupuesto\": 50000000.0, \"Puntaje\": 5.4, \"Rating\": \"PG-13\"}, {\"Presupuesto\": 26000000.0, \"Puntaje\": 4.3, \"Rating\": \"PG-13\"}, {\"Presupuesto\": 1900000.0, \"Puntaje\": 8.1, \"Rating\": \"NOT RATED\"}, {\"Presupuesto\": 6000000.0, \"Puntaje\": 6.6, \"Rating\": \"R\"}, {\"Presupuesto\": 2800000.0, \"Puntaje\": 8.0, \"Rating\": \"R\"}, {\"Presupuesto\": 60000000.0, \"Puntaje\": 5.9, \"Rating\": \"PG-13\"}, {\"Presupuesto\": 30000000.0, \"Puntaje\": 4.6, \"Rating\": \"PG\"}, {\"Presupuesto\": 45000000.0, \"Puntaje\": 5.2, \"Rating\": \"PG\"}, {\"Presupuesto\": 2000000.0, \"Puntaje\": 4.4, \"Rating\": \"R\"}, {\"Presupuesto\": 3000000.0, \"Puntaje\": 7.5, \"Rating\": \"PG\"}, {\"Presupuesto\": 7000000.0, \"Puntaje\": 6.4, \"Rating\": \"R\"}, {\"Presupuesto\": 20000000.0, \"Puntaje\": 6.2, \"Rating\": \"PG-13\"}, {\"Presupuesto\": 15000000.0, \"Puntaje\": 6.2, \"Rating\": \"R\"}, {\"Presupuesto\": 30000000.0, \"Puntaje\": 5.4, \"Rating\": \"PG-13\"}, {\"Presupuesto\": 17080000.0, \"Puntaje\": 5.5, \"Rating\": \"PG\"}, {\"Presupuesto\": 20000000.0, \"Puntaje\": 6.4, \"Rating\": \"R\"}, {\"Presupuesto\": 2300000.0, \"Puntaje\": 6.8, \"Rating\": \"R\"}, {\"Presupuesto\": 13000000.0, \"Puntaje\": 5.3, \"Rating\": \"R\"}, {\"Presupuesto\": 15000000.0, \"Puntaje\": 5.7, \"Rating\": \"PG\"}, {\"Presupuesto\": 2300000.0, \"Puntaje\": 7.0, \"Rating\": \"R\"}, {\"Presupuesto\": 30000000.0, \"Puntaje\": 5.9, \"Rating\": \"R\"}, {\"Presupuesto\": 3200000.0, \"Puntaje\": 7.0, \"Rating\": \"PG-13\"}, {\"Presupuesto\": 10500000.0, \"Puntaje\": 6.4, \"Rating\": \"R\"}, {\"Presupuesto\": 30000000.0, \"Puntaje\": 5.3, \"Rating\": \"R\"}, {\"Presupuesto\": 44000000.0, \"Puntaje\": 5.6, \"Rating\": \"PG-13\"}, {\"Presupuesto\": 15000000.0, \"Puntaje\": 6.2, \"Rating\": \"PG\"}, {\"Presupuesto\": 200000.0, \"Puntaje\": 4.6, \"Rating\": \"R\"}, {\"Presupuesto\": 15000.0, \"Puntaje\": 5.6, \"Rating\": \"R\"}, {\"Presupuesto\": 10700000.0, \"Puntaje\": 2.4, \"Rating\": \"PG-13\"}, {\"Presupuesto\": 1000000.0, \"Puntaje\": 6.0, \"Rating\": \"R\"}, {\"Presupuesto\": 19200000.0, \"Puntaje\": 6.1, \"Rating\": \"PG\"}, {\"Presupuesto\": 18000000.0, \"Puntaje\": 5.7, \"Rating\": \"PG-13\"}, {\"Presupuesto\": 20000000.0, \"Puntaje\": 5.0, \"Rating\": \"R\"}, {\"Presupuesto\": 33000000.0, \"Puntaje\": 8.6, \"Rating\": \"R\"}, {\"Presupuesto\": 50000000.0, \"Puntaje\": 6.9, \"Rating\": \"PG\"}, {\"Presupuesto\": 72000000.0, \"Puntaje\": 8.4, \"Rating\": \"R\"}, {\"Presupuesto\": 6000000.0, \"Puntaje\": 8.6, \"Rating\": \"R\"}, {\"Presupuesto\": 60000000.0, \"Puntaje\": 8.2, \"Rating\": \"R\"}, {\"Presupuesto\": 12000000.0, \"Puntaje\": 6.8, \"Rating\": \"PG-13\"}, {\"Presupuesto\": 55000000.0, \"Puntaje\": 6.7, \"Rating\": \"G\"}, {\"Presupuesto\": 29000001.0, \"Puntaje\": 8.0, \"Rating\": \"R\"}, {\"Presupuesto\": 30000000.0, \"Puntaje\": 8.3, \"Rating\": \"G\"}, {\"Presupuesto\": 100000000.0, \"Puntaje\": 5.4, \"Rating\": \"PG-13\"}, {\"Presupuesto\": 60000000.0, \"Puntaje\": 7.2, \"Rating\": \"PG-13\"}, {\"Presupuesto\": 52000000.0, \"Puntaje\": 8.2, \"Rating\": \"R\"}, {\"Presupuesto\": 1500000.0, \"Puntaje\": 7.0, \"Rating\": \"UNRATED\"}, {\"Presupuesto\": 45000000.0, \"Puntaje\": 4.7, \"Rating\": \"NC-17\"}, {\"Presupuesto\": 50000000.0, \"Puntaje\": 6.0, \"Rating\": \"PG\"}, {\"Presupuesto\": 3500000.0, \"Puntaje\": 7.3, \"Rating\": \"R\"}, {\"Presupuesto\": 2500000.0, \"Puntaje\": 8.1, \"Rating\": \"R\"}, {\"Presupuesto\": 18000000.0, \"Puntaje\": 5.8, \"Rating\": \"PG-13\"}, {\"Presupuesto\": 52000000.0, \"Puntaje\": 7.6, \"Rating\": \"PG\"}, {\"Presupuesto\": 20000000.0, \"Puntaje\": 6.2, \"Rating\": \"PG-13\"}, {\"Presupuesto\": 19000000.0, \"Puntaje\": 6.8, \"Rating\": \"R\"}, {\"Presupuesto\": 90000000.0, \"Puntaje\": 7.6, \"Rating\": \"R\"}, {\"Presupuesto\": 10000000.0, \"Puntaje\": 6.4, \"Rating\": \"PG-13\"}, {\"Presupuesto\": 175000000.0, \"Puntaje\": 6.1, \"Rating\": \"PG-13\"}, {\"Presupuesto\": 50000000.0, \"Puntaje\": 5.1, \"Rating\": \"PG-13\"}, {\"Presupuesto\": 16000000.0, \"Puntaje\": 7.7, \"Rating\": \"PG\"}, {\"Presupuesto\": 30250000.0, \"Puntaje\": 6.9, \"Rating\": \"R\"}, {\"Presupuesto\": 62000000.0, \"Puntaje\": 6.8, \"Rating\": \"PG-13\"}, {\"Presupuesto\": 25000000.0, \"Puntaje\": 5.3, \"Rating\": \"R\"}, {\"Presupuesto\": 9500000.0, \"Puntaje\": 6.6, \"Rating\": \"PG-13\"}, {\"Presupuesto\": 35000000.0, \"Puntaje\": 5.8, \"Rating\": \"R\"}, {\"Presupuesto\": 18000000.0, \"Puntaje\": 7.7, \"Rating\": \"R\"}, {\"Presupuesto\": 3600000.0, \"Puntaje\": 7.6, \"Rating\": \"R\"}, {\"Presupuesto\": 7000000.0, \"Puntaje\": 7.2, \"Rating\": \"R\"}, {\"Presupuesto\": 30000000.0, \"Puntaje\": 6.8, \"Rating\": \"G\"}, {\"Presupuesto\": 42000000.0, \"Puntaje\": 7.2, \"Rating\": \"R\"}, {\"Presupuesto\": 30000000.0, \"Puntaje\": 6.3, \"Rating\": \"PG-13\"}, {\"Presupuesto\": 4000000.0, \"Puntaje\": 6.7, \"Rating\": \"R\"}, {\"Presupuesto\": 17000000.0, \"Puntaje\": 6.7, \"Rating\": \"PG\"}, {\"Presupuesto\": 32000000.0, \"Puntaje\": 6.4, \"Rating\": \"R\"}, {\"Presupuesto\": 70000000.0, \"Puntaje\": 5.5, \"Rating\": \"R\"}, {\"Presupuesto\": 22000000.0, \"Puntaje\": 5.6, \"Rating\": \"R\"}, {\"Presupuesto\": 17000000.0, \"Puntaje\": 7.7, \"Rating\": \"G\"}, {\"Presupuesto\": 12000000.0, \"Puntaje\": 5.9, \"Rating\": \"PG-13\"}, {\"Presupuesto\": 11000000.0, \"Puntaje\": 7.6, \"Rating\": \"R\"}, {\"Presupuesto\": 25000000.0, \"Puntaje\": 6.6, \"Rating\": \"PG-13\"}, {\"Presupuesto\": 20000000.0, \"Puntaje\": 6.6, \"Rating\": \"R\"}, {\"Presupuesto\": 15000000.0, \"Puntaje\": 5.1, \"Rating\": \"PG\"}, {\"Presupuesto\": 50000000.0, \"Puntaje\": 6.6, \"Rating\": \"R\"}, {\"Presupuesto\": 9000000.0, \"Puntaje\": 7.7, \"Rating\": \"R\"}, {\"Presupuesto\": 53000000.0, \"Puntaje\": 7.3, \"Rating\": \"R\"}, {\"Presupuesto\": 24000000.0, \"Puntaje\": 7.6, \"Rating\": \"PG-13\"}, {\"Presupuesto\": 23000000.0, \"Puntaje\": 6.4, \"Rating\": \"R\"}, {\"Presupuesto\": 20000000.0, \"Puntaje\": 6.8, \"Rating\": \"R\"}, {\"Presupuesto\": 6000000.0, \"Puntaje\": 7.2, \"Rating\": \"R\"}, {\"Presupuesto\": 5000000.0, \"Puntaje\": 5.0, \"Rating\": \"R\"}, {\"Presupuesto\": 60000000.0, \"Puntaje\": 5.4, \"Rating\": \"R\"}, {\"Presupuesto\": 25000000.0, \"Puntaje\": 5.6, \"Rating\": \"R\"}, {\"Presupuesto\": 20000000.0, \"Puntaje\": 6.7, \"Rating\": \"PG-13\"}, {\"Presupuesto\": 15000000.0, \"Puntaje\": 7.1, \"Rating\": \"R\"}, {\"Presupuesto\": 50000000.0, \"Puntaje\": 6.3, \"Rating\": \"R\"}, {\"Presupuesto\": 58000000.0, \"Puntaje\": 6.3, \"Rating\": \"PG\"}, {\"Presupuesto\": 28000000.0, \"Puntaje\": 6.9, \"Rating\": \"R\"}, {\"Presupuesto\": 55000000.0, \"Puntaje\": 5.9, \"Rating\": \"PG-13\"}, {\"Presupuesto\": 30000000.0, \"Puntaje\": 5.8, \"Rating\": \"PG-13\"}, {\"Presupuesto\": 98000000.0, \"Puntaje\": 5.6, \"Rating\": \"PG-13\"}, {\"Presupuesto\": 13000000.0, \"Puntaje\": 6.7, \"Rating\": \"R\"}, {\"Presupuesto\": 22000000.0, \"Puntaje\": 5.9, \"Rating\": \"PG-13\"}, {\"Presupuesto\": 10000000.0, \"Puntaje\": 6.8, \"Rating\": \"R\"}, {\"Presupuesto\": 45000000.0, \"Puntaje\": 5.9, \"Rating\": \"PG\"}, {\"Presupuesto\": 23000000.0, \"Puntaje\": 7.3, \"Rating\": \"PG\"}, {\"Presupuesto\": 50000000.0, \"Puntaje\": 5.2, \"Rating\": \"R\"}, {\"Presupuesto\": 20000000.0, \"Puntaje\": 4.5, \"Rating\": \"R\"}, {\"Presupuesto\": 15000000.0, \"Puntaje\": 4.8, \"Rating\": \"PG\"}, {\"Presupuesto\": 8000000.0, \"Puntaje\": 6.6, \"Rating\": \"R\"}, {\"Presupuesto\": 30000000.0, \"Puntaje\": 5.9, \"Rating\": \"PG\"}, {\"Presupuesto\": 800000.0, \"Puntaje\": 7.4, \"Rating\": \"R\"}, {\"Presupuesto\": 30000000.0, \"Puntaje\": 5.9, \"Rating\": \"R\"}, {\"Presupuesto\": 20000000.0, \"Puntaje\": 6.4, \"Rating\": \"R\"}, {\"Presupuesto\": 6500000.0, \"Puntaje\": 5.7, \"Rating\": \"PG\"}, {\"Presupuesto\": 8000000.0, \"Puntaje\": 6.6, \"Rating\": \"R\"}, {\"Presupuesto\": 30000000.0, \"Puntaje\": 5.6, \"Rating\": \"R\"}, {\"Presupuesto\": 50000000.0, \"Puntaje\": 7.1, \"Rating\": \"R\"}, {\"Presupuesto\": 50000000.0, \"Puntaje\": 5.2, \"Rating\": \"R\"}, {\"Presupuesto\": 12000000.0, \"Puntaje\": 5.5, \"Rating\": \"PG\"}, {\"Presupuesto\": 12000000.0, \"Puntaje\": 6.0, \"Rating\": \"R\"}, {\"Presupuesto\": 7500000.0, \"Puntaje\": 6.7, \"Rating\": \"R\"}, {\"Presupuesto\": 1000000.0, \"Puntaje\": 7.2, \"Rating\": \"R\"}, {\"Presupuesto\": 10000000.0, \"Puntaje\": 6.2, \"Rating\": \"PG-13\"}, {\"Presupuesto\": 11000000.0, \"Puntaje\": 6.9, \"Rating\": \"R\"}, {\"Presupuesto\": 16000000.0, \"Puntaje\": 5.7, \"Rating\": \"R\"}, {\"Presupuesto\": 35000000.0, \"Puntaje\": 5.7, \"Rating\": \"R\"}, {\"Presupuesto\": 25000000.0, \"Puntaje\": 6.9, \"Rating\": \"R\"}, {\"Presupuesto\": 7000000.0, \"Puntaje\": 6.8, \"Rating\": \"R\"}, {\"Presupuesto\": 11000000.0, \"Puntaje\": 5.9, \"Rating\": \"PG\"}, {\"Presupuesto\": 5500000.0, \"Puntaje\": 7.3, \"Rating\": \"R\"}, {\"Presupuesto\": 500000.0, \"Puntaje\": 7.6, \"Rating\": \"R\"}, {\"Presupuesto\": 7000000.0, \"Puntaje\": 7.4, \"Rating\": \"R\"}, {\"Presupuesto\": 27000000.0, \"Puntaje\": 6.7, \"Rating\": \"R\"}, {\"Presupuesto\": 9000000.0, \"Puntaje\": 6.3, \"Rating\": \"R\"}, {\"Presupuesto\": 68000000.0, \"Puntaje\": 5.6, \"Rating\": \"R\"}, {\"Presupuesto\": 33000000.0, \"Puntaje\": 6.3, \"Rating\": \"R\"}, {\"Presupuesto\": 20000000.0, \"Puntaje\": 6.6, \"Rating\": \"PG-13\"}, {\"Presupuesto\": 40000000.0, \"Puntaje\": 5.9, \"Rating\": \"R\"}, {\"Presupuesto\": 6000000.0, \"Puntaje\": 6.2, \"Rating\": \"R\"}, {\"Presupuesto\": 17000000.0, \"Puntaje\": 6.4, \"Rating\": \"R\"}, {\"Presupuesto\": 21000000.0, \"Puntaje\": 6.4, \"Rating\": \"R\"}, {\"Presupuesto\": 32000000.0, \"Puntaje\": 5.9, \"Rating\": \"PG\"}, {\"Presupuesto\": 15000000.0, \"Puntaje\": 4.8, \"Rating\": \"R\"}, {\"Presupuesto\": 25000.0, \"Puntaje\": 6.6, \"Rating\": \"R\"}, {\"Presupuesto\": 50000000.0, \"Puntaje\": 4.1, \"Rating\": \"R\"}, {\"Presupuesto\": 250000.0, \"Puntaje\": 6.5, \"Rating\": \"R\"}, {\"Presupuesto\": 7000000.0, \"Puntaje\": 5.2, \"Rating\": \"R\"}, {\"Presupuesto\": 15000000.0, \"Puntaje\": 6.7, \"Rating\": \"PG\"}, {\"Presupuesto\": 19000000.0, \"Puntaje\": 6.7, \"Rating\": \"R\"}, {\"Presupuesto\": 2000000.0, \"Puntaje\": 6.7, \"Rating\": \"R\"}, {\"Presupuesto\": 10000000.0, \"Puntaje\": 5.9, \"Rating\": \"R\"}, {\"Presupuesto\": 10500000.0, \"Puntaje\": 5.9, \"Rating\": \"PG\"}, {\"Presupuesto\": 15000000.0, \"Puntaje\": 5.3, \"Rating\": \"R\"}, {\"Presupuesto\": 28000000.0, \"Puntaje\": 5.6, \"Rating\": \"G\"}, {\"Presupuesto\": 6400000.0, \"Puntaje\": 5.1, \"Rating\": \"R\"}, {\"Presupuesto\": 8000000.0, \"Puntaje\": 4.4, \"Rating\": \"PG-13\"}, {\"Presupuesto\": 14000000.0, \"Puntaje\": 5.7, \"Rating\": \"PG-13\"}, {\"Presupuesto\": 5000000.0, \"Puntaje\": 6.7, \"Rating\": \"R\"}, {\"Presupuesto\": 4000000.0, \"Puntaje\": 6.0, \"Rating\": \"R\"}, {\"Presupuesto\": 150000.0, \"Puntaje\": 6.6, \"Rating\": \"R\"}, {\"Presupuesto\": 23000000.0, \"Puntaje\": 6.6, \"Rating\": \"R\"}, {\"Presupuesto\": 3000000.0, \"Puntaje\": 4.4, \"Rating\": \"R\"}, {\"Presupuesto\": 6500000.0, \"Puntaje\": 6.2, \"Rating\": \"R\"}, {\"Presupuesto\": 11000000.0, \"Puntaje\": 6.1, \"Rating\": \"R\"}, {\"Presupuesto\": 6000000.0, \"Puntaje\": 4.1, \"Rating\": \"PG-13\"}, {\"Presupuesto\": 2000000.0, \"Puntaje\": 6.8, \"Rating\": \"R\"}, {\"Presupuesto\": 8000000.0, \"Puntaje\": 7.2, \"Rating\": \"PG\"}, {\"Presupuesto\": 22000000.0, \"Puntaje\": 6.4, \"Rating\": \"PG\"}, {\"Presupuesto\": 150000.0, \"Puntaje\": 7.8, \"Rating\": \"UNRATED\"}, {\"Presupuesto\": 10000000.0, \"Puntaje\": 5.8, \"Rating\": \"PG\"}, {\"Presupuesto\": 92000000.0, \"Puntaje\": 6.3, \"Rating\": \"PG-13\"}, {\"Presupuesto\": 3500000.0, \"Puntaje\": 8.2, \"Rating\": \"R\"}, {\"Presupuesto\": 7000000.0, \"Puntaje\": 8.1, \"Rating\": \"R\"}, {\"Presupuesto\": 14000000.0, \"Puntaje\": 7.2, \"Rating\": \"R\"}, {\"Presupuesto\": 19000000.0, \"Puntaje\": 7.3, \"Rating\": \"R\"}, {\"Presupuesto\": 75000000.0, \"Puntaje\": 7.0, \"Rating\": \"PG-13\"}, {\"Presupuesto\": 14500000.0, \"Puntaje\": 6.8, \"Rating\": \"PG-13\"}, {\"Presupuesto\": 36000000.0, \"Puntaje\": 6.8, \"Rating\": \"PG\"}, {\"Presupuesto\": 12000000.0, \"Puntaje\": 7.0, \"Rating\": \"PG-13\"}, {\"Presupuesto\": 3000000.0, \"Puntaje\": 6.0, \"Rating\": \"R\"}, {\"Presupuesto\": 44000000.0, \"Puntaje\": 7.6, \"Rating\": \"R\"}, {\"Presupuesto\": 27000000.0, \"Puntaje\": 7.4, \"Rating\": \"R\"}, {\"Presupuesto\": 50000000.0, \"Puntaje\": 7.3, \"Rating\": \"R\"}, {\"Presupuesto\": 15000000.0, \"Puntaje\": 6.3, \"Rating\": \"R\"}, {\"Presupuesto\": 80000000.0, \"Puntaje\": 7.1, \"Rating\": \"PG-13\"}, {\"Presupuesto\": 30000000.0, \"Puntaje\": 7.7, \"Rating\": \"R\"}, {\"Presupuesto\": 80000000.0, \"Puntaje\": 6.3, \"Rating\": \"PG\"}, {\"Presupuesto\": 75000000.0, \"Puntaje\": 7.4, \"Rating\": \"R\"}, {\"Presupuesto\": 40000000.0, \"Puntaje\": 7.4, \"Rating\": \"R\"}, {\"Presupuesto\": 70000000.0, \"Puntaje\": 6.3, \"Rating\": \"PG-13\"}, {\"Presupuesto\": 4000000.0, \"Puntaje\": 5.1, \"Rating\": \"R\"}, {\"Presupuesto\": 36000000.0, \"Puntaje\": 7.3, \"Rating\": \"R\"}, {\"Presupuesto\": 31000000.0, \"Puntaje\": 7.0, \"Rating\": \"R\"}, {\"Presupuesto\": 40000000.0, \"Puntaje\": 4.4, \"Rating\": \"PG-13\"}, {\"Presupuesto\": 100000000.0, \"Puntaje\": 6.9, \"Rating\": \"G\"}, {\"Presupuesto\": 25000000.0, \"Puntaje\": 6.8, \"Rating\": \"PG-13\"}, {\"Presupuesto\": 26000000.0, \"Puntaje\": 6.9, \"Rating\": \"PG\"}, {\"Presupuesto\": 890000.0, \"Puntaje\": 8.0, \"Rating\": \"R\"}, {\"Presupuesto\": 45000000.0, \"Puntaje\": 7.6, \"Rating\": \"PG-13\"}, {\"Presupuesto\": 9000000.0, \"Puntaje\": 6.4, \"Rating\": \"NC-17\"}, {\"Presupuesto\": 55000000.0, \"Puntaje\": 6.4, \"Rating\": \"R\"}, {\"Presupuesto\": 45000000.0, \"Puntaje\": 6.3, \"Rating\": \"R\"}, {\"Presupuesto\": 7000000.0, \"Puntaje\": 7.1, \"Rating\": \"R\"}, {\"Presupuesto\": 15000000.0, \"Puntaje\": 4.4, \"Rating\": \"PG-13\"}, {\"Presupuesto\": 75000000.0, \"Puntaje\": 5.7, \"Rating\": \"G\"}, {\"Presupuesto\": 3800000.0, \"Puntaje\": 6.6, \"Rating\": \"R\"}, {\"Presupuesto\": 27000000.0, \"Puntaje\": 6.9, \"Rating\": \"PG-13\"}, {\"Presupuesto\": 38000000.0, \"Puntaje\": 6.7, \"Rating\": \"PG\"}, {\"Presupuesto\": 4500000.0, \"Puntaje\": 7.4, \"Rating\": \"R\"}, {\"Presupuesto\": 40000000.0, \"Puntaje\": 4.3, \"Rating\": \"R\"}, {\"Presupuesto\": 26000000.0, \"Puntaje\": 6.2, \"Rating\": \"PG\"}, {\"Presupuesto\": 8500000.0, \"Puntaje\": 5.7, \"Rating\": \"R\"}, {\"Presupuesto\": 57000000.0, \"Puntaje\": 6.4, \"Rating\": \"PG-13\"}, {\"Presupuesto\": 54000000.0, \"Puntaje\": 5.6, \"Rating\": \"PG-13\"}, {\"Presupuesto\": 200000.0, \"Puntaje\": 7.3, \"Rating\": \"R\"}, {\"Presupuesto\": 47000000.0, \"Puntaje\": 6.1, \"Rating\": \"PG-13\"}, {\"Presupuesto\": 18000000.0, \"Puntaje\": 7.8, \"Rating\": \"PG-13\"}, {\"Presupuesto\": 30000000.0, \"Puntaje\": 7.1, \"Rating\": \"R\"}, {\"Presupuesto\": 10000000.0, \"Puntaje\": 6.6, \"Rating\": \"R\"}, {\"Presupuesto\": 6000000.0, \"Puntaje\": 6.7, \"Rating\": \"PG\"}, {\"Presupuesto\": 50000000.0, \"Puntaje\": 5.7, \"Rating\": \"R\"}, {\"Presupuesto\": 65000000.0, \"Puntaje\": 6.7, \"Rating\": \"R\"}, {\"Presupuesto\": 45000000.0, \"Puntaje\": 5.8, \"Rating\": \"PG-13\"}, {\"Presupuesto\": 100000000.0, \"Puntaje\": 6.1, \"Rating\": \"R\"}, {\"Presupuesto\": 50000000.0, \"Puntaje\": 6.0, \"Rating\": \"R\"}, {\"Presupuesto\": 45000000.0, \"Puntaje\": 6.0, \"Rating\": \"PG-13\"}, {\"Presupuesto\": 9000000.0, \"Puntaje\": 6.8, \"Rating\": \"R\"}, {\"Presupuesto\": 25000000.0, \"Puntaje\": 6.3, \"Rating\": \"PG-13\"}, {\"Presupuesto\": 55000000.0, \"Puntaje\": 6.8, \"Rating\": \"R\"}, {\"Presupuesto\": 4100000.0, \"Puntaje\": 7.3, \"Rating\": \"R\"}, {\"Presupuesto\": 60000000.0, \"Puntaje\": 5.5, \"Rating\": \"PG\"}, {\"Presupuesto\": 31000000.0, \"Puntaje\": 6.0, \"Rating\": \"PG-13\"}, {\"Presupuesto\": 80000000.0, \"Puntaje\": 6.6, \"Rating\": \"R\"}, {\"Presupuesto\": 55000000.0, \"Puntaje\": 6.3, \"Rating\": \"PG\"}, {\"Presupuesto\": 67000000.0, \"Puntaje\": 6.4, \"Rating\": \"R\"}, {\"Presupuesto\": 32000000.0, \"Puntaje\": 6.4, \"Rating\": \"PG\"}, {\"Presupuesto\": 23000000.0, \"Puntaje\": 6.7, \"Rating\": \"PG-13\"}, {\"Presupuesto\": 46000000.0, \"Puntaje\": 6.6, \"Rating\": \"R\"}, {\"Presupuesto\": 20000000.0, \"Puntaje\": 6.8, \"Rating\": \"R\"}, {\"Presupuesto\": 3000000.0, \"Puntaje\": 7.3, \"Rating\": \"R\"}, {\"Presupuesto\": 5500000.0, \"Puntaje\": 7.7, \"Rating\": \"PG-13\"}, {\"Presupuesto\": 80000000.0, \"Puntaje\": 5.8, \"Rating\": \"PG-13\"}, {\"Presupuesto\": 45000000.0, \"Puntaje\": 4.9, \"Rating\": \"PG\"}, {\"Presupuesto\": 3300000.0, \"Puntaje\": 6.9, \"Rating\": \"R\"}, {\"Presupuesto\": 3500000.0, \"Puntaje\": 6.0, \"Rating\": \"R\"}, {\"Presupuesto\": 3000000.0, \"Puntaje\": 6.9, \"Rating\": \"R\"}, {\"Presupuesto\": 18000000.0, \"Puntaje\": 5.3, \"Rating\": \"PG-13\"}, {\"Presupuesto\": 8000000.0, \"Puntaje\": 5.7, \"Rating\": \"R\"}, {\"Presupuesto\": 30000000.0, \"Puntaje\": 5.5, \"Rating\": \"PG-13\"}, {\"Presupuesto\": 55000000.0, \"Puntaje\": 5.8, \"Rating\": \"R\"}, {\"Presupuesto\": 13000000.0, \"Puntaje\": 5.3, \"Rating\": \"R\"}, {\"Presupuesto\": 4000000.0, \"Puntaje\": 7.6, \"Rating\": \"R\"}, {\"Presupuesto\": 28000000.0, \"Puntaje\": 7.1, \"Rating\": \"R\"}, {\"Presupuesto\": 38000000.0, \"Puntaje\": 6.6, \"Rating\": \"PG-13\"}, {\"Presupuesto\": 4500000.0, \"Puntaje\": 8.0, \"Rating\": \"R\"}, {\"Presupuesto\": 5000000.0, \"Puntaje\": 7.5, \"Rating\": \"R\"}, {\"Presupuesto\": 20000000.0, \"Puntaje\": 2.8, \"Rating\": \"PG\"}, {\"Presupuesto\": 20000000.0, \"Puntaje\": 6.1, \"Rating\": \"R\"}, {\"Presupuesto\": 13000000.0, \"Puntaje\": 4.5, \"Rating\": \"R\"}, {\"Presupuesto\": 25000000.0, \"Puntaje\": 5.8, \"Rating\": \"R\"}, {\"Presupuesto\": 36000000.0, \"Puntaje\": 6.7, \"Rating\": \"PG-13\"}, {\"Presupuesto\": 50000000.0, \"Puntaje\": 5.6, \"Rating\": \"PG-13\"}, {\"Presupuesto\": 29000000.0, \"Puntaje\": 6.2, \"Rating\": \"R\"}, {\"Presupuesto\": 45000000.0, \"Puntaje\": 5.3, \"Rating\": \"R\"}, {\"Presupuesto\": 42000000.0, \"Puntaje\": 6.5, \"Rating\": \"PG-13\"}, {\"Presupuesto\": 15000000.0, \"Puntaje\": 5.6, \"Rating\": \"PG-13\"}, {\"Presupuesto\": 60000000.0, \"Puntaje\": 6.1, \"Rating\": \"PG-13\"}, {\"Presupuesto\": 25530000.0, \"Puntaje\": 5.2, \"Rating\": \"PG\"}, {\"Presupuesto\": 40000000.0, \"Puntaje\": 5.5, \"Rating\": \"PG\"}, {\"Presupuesto\": 12000000.0, \"Puntaje\": 6.8, \"Rating\": \"PG-13\"}, {\"Presupuesto\": 13000000.0, \"Puntaje\": 5.4, \"Rating\": \"PG-13\"}, {\"Presupuesto\": 7000000.0, \"Puntaje\": 5.7, \"Rating\": \"R\"}, {\"Presupuesto\": 13000000.0, \"Puntaje\": 5.9, \"Rating\": \"PG\"}, {\"Presupuesto\": 8000000.0, \"Puntaje\": 5.7, \"Rating\": \"R\"}, {\"Presupuesto\": 7000000.0, \"Puntaje\": 6.8, \"Rating\": \"R\"}, {\"Presupuesto\": 44000000.0, \"Puntaje\": 5.6, \"Rating\": \"R\"}, {\"Presupuesto\": 39000000.0, \"Puntaje\": 5.7, \"Rating\": \"PG\"}, {\"Presupuesto\": 25000000.0, \"Puntaje\": 5.4, \"Rating\": \"R\"}, {\"Presupuesto\": 30000000.0, \"Puntaje\": 5.6, \"Rating\": \"PG\"}, {\"Presupuesto\": 21500000.0, \"Puntaje\": 6.5, \"Rating\": \"PG-13\"}, {\"Presupuesto\": 25000000.0, \"Puntaje\": 5.3, \"Rating\": \"G\"}, {\"Presupuesto\": 7000000.0, \"Puntaje\": 7.0, \"Rating\": \"R\"}, {\"Presupuesto\": 47000000.0, \"Puntaje\": 5.8, \"Rating\": \"R\"}, {\"Presupuesto\": 8000000.0, \"Puntaje\": 5.0, \"Rating\": \"PG-13\"}, {\"Presupuesto\": 38000000.0, \"Puntaje\": 6.1, \"Rating\": \"R\"}, {\"Presupuesto\": 1300000.0, \"Puntaje\": 7.2, \"Rating\": \"R\"}, {\"Presupuesto\": 3000000.0, \"Puntaje\": 7.0, \"Rating\": \"R\"}, {\"Presupuesto\": 35000000.0, \"Puntaje\": 6.1, \"Rating\": \"PG-13\"}, {\"Presupuesto\": 24000000.0, \"Puntaje\": 2.6, \"Rating\": \"PG\"}, {\"Presupuesto\": 18000000.0, \"Puntaje\": 6.0, \"Rating\": \"R\"}, {\"Presupuesto\": 50000000.0, \"Puntaje\": 6.0, \"Rating\": \"R\"}, {\"Presupuesto\": 15000000.0, \"Puntaje\": 2.4, \"Rating\": \"PG-13\"}, {\"Presupuesto\": 40000000.0, \"Puntaje\": 6.2, \"Rating\": \"R\"}, {\"Presupuesto\": 23000000.0, \"Puntaje\": 5.7, \"Rating\": \"PG\"}, {\"Presupuesto\": 5000000.0, \"Puntaje\": 7.3, \"Rating\": \"PG\"}, {\"Presupuesto\": 25000000.0, \"Puntaje\": 5.3, \"Rating\": \"R\"}, {\"Presupuesto\": 12500000.0, \"Puntaje\": 6.6, \"Rating\": \"R\"}, {\"Presupuesto\": 12000000.0, \"Puntaje\": 5.0, \"Rating\": \"R\"}, {\"Presupuesto\": 2309723.0, \"Puntaje\": 5.9, \"Rating\": \"R\"}, {\"Presupuesto\": 22000000.0, \"Puntaje\": 6.1, \"Rating\": \"R\"}, {\"Presupuesto\": 25000000.0, \"Puntaje\": 5.7, \"Rating\": \"R\"}, {\"Presupuesto\": 30000000.0, \"Puntaje\": 5.1, \"Rating\": \"PG-13\"}, {\"Presupuesto\": 8000000.0, \"Puntaje\": 5.5, \"Rating\": \"R\"}, {\"Presupuesto\": 25000000.0, \"Puntaje\": 4.1, \"Rating\": \"PG\"}, {\"Presupuesto\": 25000000.0, \"Puntaje\": 6.2, \"Rating\": \"PG-13\"}, {\"Presupuesto\": 5000000.0, \"Puntaje\": 6.1, \"Rating\": \"R\"}, {\"Presupuesto\": 500000.0, \"Puntaje\": 6.7, \"Rating\": \"R\"}, {\"Presupuesto\": 17000000.0, \"Puntaje\": 4.9, \"Rating\": \"PG\"}, {\"Presupuesto\": 6000000.0, \"Puntaje\": 7.2, \"Rating\": \"R\"}, {\"Presupuesto\": 16000000.0, \"Puntaje\": 6.4, \"Rating\": \"R\"}, {\"Presupuesto\": 24000000.0, \"Puntaje\": 5.4, \"Rating\": \"PG-13\"}, {\"Presupuesto\": 30000000.0, \"Puntaje\": 5.3, \"Rating\": \"PG\"}, {\"Presupuesto\": 19000000.0, \"Puntaje\": 6.3, \"Rating\": \"R\"}, {\"Presupuesto\": 5000000.0, \"Puntaje\": 4.9, \"Rating\": \"R\"}, {\"Presupuesto\": 7000000.0, \"Puntaje\": 5.8, \"Rating\": \"R\"}, {\"Presupuesto\": 6000000.0, \"Puntaje\": 6.9, \"Rating\": \"PG-13\"}, {\"Presupuesto\": 19000000.0, \"Puntaje\": 3.9, \"Rating\": \"PG-13\"}, {\"Presupuesto\": 200000000.0, \"Puntaje\": 7.8, \"Rating\": \"PG-13\"}, {\"Presupuesto\": 10000000.0, \"Puntaje\": 8.3, \"Rating\": \"R\"}, {\"Presupuesto\": 93000000.0, \"Puntaje\": 7.7, \"Rating\": \"PG-13\"}, {\"Presupuesto\": 80000000.0, \"Puntaje\": 6.0, \"Rating\": \"R\"}, {\"Presupuesto\": 85000000.0, \"Puntaje\": 7.2, \"Rating\": \"G\"}, {\"Presupuesto\": 20000000.0, \"Puntaje\": 8.6, \"Rating\": \"PG-13\"}, {\"Presupuesto\": 105000000.0, \"Puntaje\": 7.2, \"Rating\": \"R\"}, {\"Presupuesto\": 90000000.0, \"Puntaje\": 7.4, \"Rating\": \"PG\"}, {\"Presupuesto\": 62000000.0, \"Puntaje\": 6.9, \"Rating\": \"R\"}, {\"Presupuesto\": 75000000.0, \"Puntaje\": 6.8, \"Rating\": \"R\"}, {\"Presupuesto\": 15000000.0, \"Puntaje\": 7.9, \"Rating\": \"R\"}, {\"Presupuesto\": 90000000.0, \"Puntaje\": 7.3, \"Rating\": \"PG-13\"}, {\"Presupuesto\": 35000000.0, \"Puntaje\": 8.3, \"Rating\": \"R\"}, {\"Presupuesto\": 125000000.0, \"Puntaje\": 3.7, \"Rating\": \"PG-13\"}, {\"Presupuesto\": 80000000.0, \"Puntaje\": 7.3, \"Rating\": \"R\"}, {\"Presupuesto\": 50000000.0, \"Puntaje\": 7.8, \"Rating\": \"R\"}, {\"Presupuesto\": 36000000.0, \"Puntaje\": 7.8, \"Rating\": \"PG-13\"}, {\"Presupuesto\": 57000000.0, \"Puntaje\": 7.5, \"Rating\": \"R\"}, {\"Presupuesto\": 17000000.0, \"Puntaje\": 5.6, \"Rating\": \"R\"}, {\"Presupuesto\": 12000000.0, \"Puntaje\": 7.5, \"Rating\": \"R\"}, {\"Presupuesto\": 75000000.0, \"Puntaje\": 6.2, \"Rating\": \"R\"}, {\"Presupuesto\": 73000000.0, \"Puntaje\": 6.5, \"Rating\": \"PG-13\"}, {\"Presupuesto\": 60000000.0, \"Puntaje\": 6.7, \"Rating\": \"R\"}, {\"Presupuesto\": 110000000.0, \"Puntaje\": 6.5, \"Rating\": \"PG-13\"}, {\"Presupuesto\": 50000000.0, \"Puntaje\": 7.1, \"Rating\": \"G\"}, {\"Presupuesto\": 90000000.0, \"Puntaje\": 5.4, \"Rating\": \"PG-13\"}, {\"Presupuesto\": 35000000.0, \"Puntaje\": 7.8, \"Rating\": \"R\"}, {\"Presupuesto\": 50000000.0, \"Puntaje\": 7.7, \"Rating\": \"PG-13\"}, {\"Presupuesto\": 17000000.0, \"Puntaje\": 7.0, \"Rating\": \"PG-13\"}, {\"Presupuesto\": 15000000.0, \"Puntaje\": 7.6, \"Rating\": \"R\"}, {\"Presupuesto\": 40000000.0, \"Puntaje\": 7.1, \"Rating\": \"PG-13\"}, {\"Presupuesto\": 45000000.0, \"Puntaje\": 6.8, \"Rating\": \"PG-13\"}, {\"Presupuesto\": 116000000.0, \"Puntaje\": 5.9, \"Rating\": \"PG-13\"}, {\"Presupuesto\": 20000000.0, \"Puntaje\": 6.7, \"Rating\": \"PG\"}, {\"Presupuesto\": 40000000.0, \"Puntaje\": 5.2, \"Rating\": \"R\"}, {\"Presupuesto\": 46000000.0, \"Puntaje\": 6.3, \"Rating\": \"PG-13\"}, {\"Presupuesto\": 24000000.0, \"Puntaje\": 6.1, \"Rating\": \"R\"}, {\"Presupuesto\": 45000000.0, \"Puntaje\": 4.7, \"Rating\": \"PG-13\"}, {\"Presupuesto\": 1300000.0, \"Puntaje\": 6.7, \"Rating\": \"R\"}, {\"Presupuesto\": 36000000.0, \"Puntaje\": 7.3, \"Rating\": \"R\"}, {\"Presupuesto\": 55000000.0, \"Puntaje\": 5.4, \"Rating\": \"PG\"}, {\"Presupuesto\": 85000000.0, \"Puntaje\": 6.5, \"Rating\": \"R\"}, {\"Presupuesto\": 30000000.0, \"Puntaje\": 5.9, \"Rating\": \"R\"}, {\"Presupuesto\": 32000000.0, \"Puntaje\": 4.3, \"Rating\": \"PG\"}, {\"Presupuesto\": 1000000.0, \"Puntaje\": 6.2, \"Rating\": \"NC-17\"}, {\"Presupuesto\": 22000000.0, \"Puntaje\": 6.4, \"Rating\": \"PG-13\"}, {\"Presupuesto\": 70000000.0, \"Puntaje\": 7.0, \"Rating\": \"PG-13\"}, {\"Presupuesto\": 180000.0, \"Puntaje\": 8.4, \"Rating\": \"PG\"}, {\"Presupuesto\": 15000000.0, \"Puntaje\": 7.4, \"Rating\": \"R\"}, {\"Presupuesto\": 50000000.0, \"Puntaje\": 5.9, \"Rating\": \"R\"}, {\"Presupuesto\": 3500000.0, \"Puntaje\": 7.2, \"Rating\": \"R\"}, {\"Presupuesto\": 27000000.0, \"Puntaje\": 6.6, \"Rating\": \"R\"}, {\"Presupuesto\": 250000.0, \"Puntaje\": 7.3, \"Rating\": \"R\"}, {\"Presupuesto\": 25000000.0, \"Puntaje\": 3.4, \"Rating\": \"PG\"}, {\"Presupuesto\": 50000000.0, \"Puntaje\": 6.7, \"Rating\": \"R\"}, {\"Presupuesto\": 30000000.0, \"Puntaje\": 3.7, \"Rating\": \"PG-13\"}, {\"Presupuesto\": 10000000.0, \"Puntaje\": 6.9, \"Rating\": \"R\"}, {\"Presupuesto\": 35000000.0, \"Puntaje\": 6.3, \"Rating\": \"PG-13\"}, {\"Presupuesto\": 18000000.0, \"Puntaje\": 7.5, \"Rating\": \"R\"}, {\"Presupuesto\": 60000000.0, \"Puntaje\": 6.4, \"Rating\": \"R\"}, {\"Presupuesto\": 19000000.0, \"Puntaje\": 6.8, \"Rating\": \"R\"}, {\"Presupuesto\": 20000000.0, \"Puntaje\": 6.8, \"Rating\": \"R\"}, {\"Presupuesto\": 9000000.0, \"Puntaje\": 5.7, \"Rating\": \"PG\"}, {\"Presupuesto\": 35000000.0, \"Puntaje\": 6.6, \"Rating\": \"R\"}, {\"Presupuesto\": 15000000.0, \"Puntaje\": 7.1, \"Rating\": \"R\"}, {\"Presupuesto\": 68000000.0, \"Puntaje\": 6.2, \"Rating\": \"PG-13\"}, {\"Presupuesto\": 160000000.0, \"Puntaje\": 3.8, \"Rating\": \"PG-13\"}, {\"Presupuesto\": 25000000.0, \"Puntaje\": 5.9, \"Rating\": \"PG\"}, {\"Presupuesto\": 86000000.0, \"Puntaje\": 6.1, \"Rating\": \"R\"}, {\"Presupuesto\": 75000000.0, \"Puntaje\": 6.7, \"Rating\": \"R\"}, {\"Presupuesto\": 29000000.0, \"Puntaje\": 5.8, \"Rating\": \"PG\"}, {\"Presupuesto\": 32000000.0, \"Puntaje\": 5.1, \"Rating\": \"PG\"}, {\"Presupuesto\": 36000000.0, \"Puntaje\": 6.9, \"Rating\": \"R\"}, {\"Presupuesto\": 80000000.0, \"Puntaje\": 5.2, \"Rating\": \"PG\"}, {\"Presupuesto\": 38000000.0, \"Puntaje\": 6.4, \"Rating\": \"PG\"}, {\"Presupuesto\": 10000000.0, \"Puntaje\": 5.5, \"Rating\": \"PG-13\"}, {\"Presupuesto\": 50000000.0, \"Puntaje\": 5.9, \"Rating\": \"R\"}, {\"Presupuesto\": 30000000.0, \"Puntaje\": 6.3, \"Rating\": \"R\"}, {\"Presupuesto\": 16000000.0, \"Puntaje\": 2.8, \"Rating\": \"PG-13\"}, {\"Presupuesto\": 10000000.0, \"Puntaje\": 6.9, \"Rating\": \"R\"}, {\"Presupuesto\": 22000000.0, \"Puntaje\": 5.1, \"Rating\": \"R\"}, {\"Presupuesto\": 5000000.0, \"Puntaje\": 5.7, \"Rating\": \"R\"}, {\"Presupuesto\": 60000000.0, \"Puntaje\": 5.0, \"Rating\": \"R\"}, {\"Presupuesto\": 3000000.0, \"Puntaje\": 5.1, \"Rating\": \"PG\"}, {\"Presupuesto\": 40000000.0, \"Puntaje\": 5.7, \"Rating\": \"R\"}, {\"Presupuesto\": 7500000.0, \"Puntaje\": 7.0, \"Rating\": \"R\"}, {\"Presupuesto\": 25000000.0, \"Puntaje\": 6.2, \"Rating\": \"R\"}, {\"Presupuesto\": 37000000.0, \"Puntaje\": 6.4, \"Rating\": \"R\"}, {\"Presupuesto\": 1000000.0, \"Puntaje\": 6.0, \"Rating\": \"R\"}, {\"Presupuesto\": 20000000.0, \"Puntaje\": 7.4, \"Rating\": \"R\"}, {\"Presupuesto\": 25000000.0, \"Puntaje\": 6.7, \"Rating\": \"R\"}, {\"Presupuesto\": 28000000.0, \"Puntaje\": 7.0, \"Rating\": \"PG-13\"}, {\"Presupuesto\": 30000000.0, \"Puntaje\": 4.7, \"Rating\": \"R\"}, {\"Presupuesto\": 20000000.0, \"Puntaje\": 5.3, \"Rating\": \"PG-13\"}, {\"Presupuesto\": 1000000.0, \"Puntaje\": 5.6, \"Rating\": \"NC-17\"}, {\"Presupuesto\": 12000000.0, \"Puntaje\": 6.4, \"Rating\": \"R\"}, {\"Presupuesto\": 35000000.0, \"Puntaje\": 6.4, \"Rating\": \"PG-13\"}, {\"Presupuesto\": 12000000.0, \"Puntaje\": 5.6, \"Rating\": \"R\"}, {\"Presupuesto\": 35000000.0, \"Puntaje\": 4.6, \"Rating\": \"PG\"}, {\"Presupuesto\": 48000000.0, \"Puntaje\": 6.3, \"Rating\": \"R\"}, {\"Presupuesto\": 20000000.0, \"Puntaje\": 6.6, \"Rating\": \"PG\"}, {\"Presupuesto\": 25000000.0, \"Puntaje\": 7.2, \"Rating\": \"R\"}, {\"Presupuesto\": 18000000.0, \"Puntaje\": 5.9, \"Rating\": \"R\"}, {\"Presupuesto\": 25000000.0, \"Puntaje\": 6.4, \"Rating\": \"PG-13\"}, {\"Presupuesto\": 5000000.0, \"Puntaje\": 7.0, \"Rating\": \"R\"}, {\"Presupuesto\": 8000000.0, \"Puntaje\": 6.8, \"Rating\": \"PG-13\"}, {\"Presupuesto\": 28000000.0, \"Puntaje\": 5.4, \"Rating\": \"PG\"}, {\"Presupuesto\": 30000000.0, \"Puntaje\": 3.9, \"Rating\": \"PG\"}, {\"Presupuesto\": 20000000.0, \"Puntaje\": 6.7, \"Rating\": \"R\"}, {\"Presupuesto\": 32000000.0, \"Puntaje\": 6.9, \"Rating\": \"G\"}, {\"Presupuesto\": 6000000.0, \"Puntaje\": 7.0, \"Rating\": \"R\"}, {\"Presupuesto\": 6000000.0, \"Puntaje\": 7.3, \"Rating\": \"R\"}, {\"Presupuesto\": 8000000.0, \"Puntaje\": 3.5, \"Rating\": \"PG\"}, {\"Presupuesto\": 50000000.0, \"Puntaje\": 6.2, \"Rating\": \"PG-13\"}, {\"Presupuesto\": 3300000.0, \"Puntaje\": 6.7, \"Rating\": \"UNRATED\"}, {\"Presupuesto\": 55000000.0, \"Puntaje\": 5.5, \"Rating\": \"R\"}, {\"Presupuesto\": 9000000.0, \"Puntaje\": 6.9, \"Rating\": \"R\"}, {\"Presupuesto\": 17000000.0, \"Puntaje\": 5.0, \"Rating\": \"PG-13\"}, {\"Presupuesto\": 35000000.0, \"Puntaje\": 6.4, \"Rating\": \"R\"}, {\"Presupuesto\": 5000000.0, \"Puntaje\": 7.2, \"Rating\": \"PG-13\"}, {\"Presupuesto\": 24000000.0, \"Puntaje\": 5.8, \"Rating\": \"R\"}, {\"Presupuesto\": 85000000.0, \"Puntaje\": 5.1, \"Rating\": \"PG-13\"}, {\"Presupuesto\": 35000000.0, \"Puntaje\": 5.7, \"Rating\": \"PG-13\"}, {\"Presupuesto\": 1500000.0, \"Puntaje\": 6.7, \"Rating\": \"R\"}, {\"Presupuesto\": 3000000.0, \"Puntaje\": 5.3, \"Rating\": \"R\"}, {\"Presupuesto\": 10000000.0, \"Puntaje\": 7.3, \"Rating\": \"PG\"}, {\"Presupuesto\": 53000000.0, \"Puntaje\": 4.7, \"Rating\": \"PG\"}, {\"Presupuesto\": 8000000.0, \"Puntaje\": 6.2, \"Rating\": \"R\"}, {\"Presupuesto\": 15000000.0, \"Puntaje\": 5.7, \"Rating\": \"PG-13\"}, {\"Presupuesto\": 11000000.0, \"Puntaje\": 5.6, \"Rating\": \"PG-13\"}, {\"Presupuesto\": 31190000.0, \"Puntaje\": 4.4, \"Rating\": \"PG\"}, {\"Presupuesto\": 10000000.0, \"Puntaje\": 7.4, \"Rating\": \"R\"}, {\"Presupuesto\": 25000.0, \"Puntaje\": 7.3, \"Rating\": \"R\"}, {\"Presupuesto\": 15000000.0, \"Puntaje\": 5.1, \"Rating\": \"PG\"}, {\"Presupuesto\": 12000000.0, \"Puntaje\": 5.4, \"Rating\": \"PG\"}, {\"Presupuesto\": 16000000.0, \"Puntaje\": 5.3, \"Rating\": \"PG\"}, {\"Presupuesto\": 7000000.0, \"Puntaje\": 7.6, \"Rating\": \"R\"}, {\"Presupuesto\": 18000000.0, \"Puntaje\": 4.8, \"Rating\": \"R\"}, {\"Presupuesto\": 1000000.0, \"Puntaje\": 4.8, \"Rating\": \"PG-13\"}, {\"Presupuesto\": 16000000.0, \"Puntaje\": 6.8, \"Rating\": \"R\"}, {\"Presupuesto\": 2700000.0, \"Puntaje\": 7.1, \"Rating\": \"R\"}, {\"Presupuesto\": 45000000.0, \"Puntaje\": 4.9, \"Rating\": \"R\"}, {\"Presupuesto\": 71000000.0, \"Puntaje\": 4.8, \"Rating\": \"R\"}, {\"Presupuesto\": 25000000.0, \"Puntaje\": 5.5, \"Rating\": \"R\"}, {\"Presupuesto\": 3000000.0, \"Puntaje\": 6.6, \"Rating\": \"PG\"}, {\"Presupuesto\": 5000000.0, \"Puntaje\": 5.6, \"Rating\": \"R\"}, {\"Presupuesto\": 4000000.0, \"Puntaje\": 5.8, \"Rating\": \"R\"}, {\"Presupuesto\": 10000000.0, \"Puntaje\": 3.5, \"Rating\": \"R\"}, {\"Presupuesto\": 4500000.0, \"Puntaje\": 7.8, \"Rating\": \"R\"}, {\"Presupuesto\": 70000000.0, \"Puntaje\": 8.6, \"Rating\": \"R\"}, {\"Presupuesto\": 15000000.0, \"Puntaje\": 8.2, \"Rating\": \"R\"}, {\"Presupuesto\": 7500000.0, \"Puntaje\": 8.5, \"Rating\": \"R\"}, {\"Presupuesto\": 90000000.0, \"Puntaje\": 7.6, \"Rating\": \"G\"}, {\"Presupuesto\": 140000000.0, \"Puntaje\": 6.6, \"Rating\": \"PG-13\"}, {\"Presupuesto\": 60000000.0, \"Puntaje\": 8.1, \"Rating\": \"PG\"}, {\"Presupuesto\": 60000.0, \"Puntaje\": 7.5, \"Rating\": \"R\"}, {\"Presupuesto\": 23000000.0, \"Puntaje\": 7.1, \"Rating\": \"R\"}, {\"Presupuesto\": 45000000.0, \"Puntaje\": 7.1, \"Rating\": \"R\"}, {\"Presupuesto\": 25000000.0, \"Puntaje\": 5.4, \"Rating\": \"R\"}, {\"Presupuesto\": 90000000.0, \"Puntaje\": 7.1, \"Rating\": \"PG-13\"}, {\"Presupuesto\": 48000000.0, \"Puntaje\": 6.2, \"Rating\": \"PG-13\"}, {\"Presupuesto\": 60000000.0, \"Puntaje\": 6.1, \"Rating\": \"R\"}, {\"Presupuesto\": 52000000.0, \"Puntaje\": 7.6, \"Rating\": \"R\"}, {\"Presupuesto\": 27000000.0, \"Puntaje\": 7.7, \"Rating\": \"R\"}, {\"Presupuesto\": 20000000.0, \"Puntaje\": 6.5, \"Rating\": \"R\"}, {\"Presupuesto\": 55000000.0, \"Puntaje\": 7.3, \"Rating\": \"R\"}, {\"Presupuesto\": 18500000.0, \"Puntaje\": 7.7, \"Rating\": \"R\"}, {\"Presupuesto\": 25000000.0, \"Puntaje\": 7.2, \"Rating\": \"R\"}, {\"Presupuesto\": 33000000.0, \"Puntaje\": 6.9, \"Rating\": \"PG-13\"}, {\"Presupuesto\": 65000000.0, \"Puntaje\": 6.6, \"Rating\": \"PG\"}, {\"Presupuesto\": 20000000.0, \"Puntaje\": 6.1, \"Rating\": \"PG-13\"}, {\"Presupuesto\": 75000000.0, \"Puntaje\": 6.1, \"Rating\": \"PG-13\"}, {\"Presupuesto\": 80000000.0, \"Puntaje\": 5.1, \"Rating\": \"PG-13\"}, {\"Presupuesto\": 120000000.0, \"Puntaje\": 7.2, \"Rating\": \"G\"}, {\"Presupuesto\": 9000000.0, \"Puntaje\": 7.7, \"Rating\": \"R\"}, {\"Presupuesto\": 70000000.0, \"Puntaje\": 7.0, \"Rating\": \"PG\"}, {\"Presupuesto\": 15000000.0, \"Puntaje\": 6.4, \"Rating\": \"R\"}, {\"Presupuesto\": 90000000.0, \"Puntaje\": 7.3, \"Rating\": \"R\"}, {\"Presupuesto\": 85000000.0, \"Puntaje\": 7.0, \"Rating\": \"PG-13\"}, {\"Presupuesto\": 48000000.0, \"Puntaje\": 7.0, \"Rating\": \"R\"}, {\"Presupuesto\": 20000000.0, \"Puntaje\": 6.1, \"Rating\": \"R\"}, {\"Presupuesto\": 65000000.0, \"Puntaje\": 6.7, \"Rating\": \"PG-13\"}, {\"Presupuesto\": 35000000.0, \"Puntaje\": 6.5, \"Rating\": \"PG-13\"}, {\"Presupuesto\": 26000000.0, \"Puntaje\": 7.0, \"Rating\": \"PG-13\"}, {\"Presupuesto\": 18000000.0, \"Puntaje\": 6.8, \"Rating\": \"PG-13\"}, {\"Presupuesto\": 60000000.0, \"Puntaje\": 4.6, \"Rating\": \"R\"}, {\"Presupuesto\": 17000000.0, \"Puntaje\": 5.7, \"Rating\": \"R\"}, {\"Presupuesto\": 70000000.0, \"Puntaje\": 5.8, \"Rating\": \"PG-13\"}, {\"Presupuesto\": 15000000.0, \"Puntaje\": 5.5, \"Rating\": \"R\"}, {\"Presupuesto\": 130000000.0, \"Puntaje\": 5.3, \"Rating\": \"PG-13\"}, {\"Presupuesto\": 40000000.0, \"Puntaje\": 7.5, \"Rating\": \"PG-13\"}, {\"Presupuesto\": 30000000.0, \"Puntaje\": 5.9, \"Rating\": \"PG-13\"}, {\"Presupuesto\": 60000000.0, \"Puntaje\": 6.0, \"Rating\": \"R\"}, {\"Presupuesto\": 40000000.0, \"Puntaje\": 6.1, \"Rating\": \"PG-13\"}, {\"Presupuesto\": 12000000.0, \"Puntaje\": 7.4, \"Rating\": \"R\"}, {\"Presupuesto\": 10000000.0, \"Puntaje\": 6.5, \"Rating\": \"PG-13\"}, {\"Presupuesto\": 60000000.0, \"Puntaje\": 6.5, \"Rating\": \"PG-13\"}, {\"Presupuesto\": 6000.0, \"Puntaje\": 7.6, \"Rating\": \"R\"}, {\"Presupuesto\": 30000000.0, \"Puntaje\": 7.5, \"Rating\": \"R\"}, {\"Presupuesto\": 25000000.0, \"Puntaje\": 6.8, \"Rating\": \"R\"}, {\"Presupuesto\": 8000000.0, \"Puntaje\": 6.7, \"Rating\": \"R\"}, {\"Presupuesto\": 14000000.0, \"Puntaje\": 5.5, \"Rating\": \"R\"}, {\"Presupuesto\": 58000000.0, \"Puntaje\": 6.4, \"Rating\": \"PG\"}, {\"Presupuesto\": 28000000.0, \"Puntaje\": 4.8, \"Rating\": \"PG-13\"}, {\"Presupuesto\": 17000000.0, \"Puntaje\": 6.2, \"Rating\": \"PG-13\"}, {\"Presupuesto\": 50000000.0, \"Puntaje\": 6.7, \"Rating\": \"PG-13\"}, {\"Presupuesto\": 140000000.0, \"Puntaje\": 6.6, \"Rating\": \"R\"}, {\"Presupuesto\": 90000000.0, \"Puntaje\": 6.7, \"Rating\": \"PG-13\"}, {\"Presupuesto\": 60000000.0, \"Puntaje\": 3.7, \"Rating\": \"PG-13\"}, {\"Presupuesto\": 71500000.0, \"Puntaje\": 5.3, \"Rating\": \"PG-13\"}, {\"Presupuesto\": 105000000.0, \"Puntaje\": 6.6, \"Rating\": \"PG\"}, {\"Presupuesto\": 73000000.0, \"Puntaje\": 6.0, \"Rating\": \"R\"}, {\"Presupuesto\": 50000000.0, \"Puntaje\": 7.3, \"Rating\": \"R\"}, {\"Presupuesto\": 24000000.0, \"Puntaje\": 4.6, \"Rating\": \"R\"}, {\"Presupuesto\": 66000000.0, \"Puntaje\": 7.0, \"Rating\": \"PG-13\"}, {\"Presupuesto\": 14000000.0, \"Puntaje\": 6.7, \"Rating\": \"R\"}, {\"Presupuesto\": 3000000.0, \"Puntaje\": 7.8, \"Rating\": \"UNRATED\"}, {\"Presupuesto\": 55000000.0, \"Puntaje\": 6.7, \"Rating\": \"PG-13\"}, {\"Presupuesto\": 13000000.0, \"Puntaje\": 5.8, \"Rating\": \"R\"}, {\"Presupuesto\": 1500000.0, \"Puntaje\": 7.5, \"Rating\": \"R\"}, {\"Presupuesto\": 60000000.0, \"Puntaje\": 6.5, \"Rating\": \"R\"}, {\"Presupuesto\": 9000000.0, \"Puntaje\": 6.8, \"Rating\": \"PG-13\"}, {\"Presupuesto\": 80000000.0, \"Puntaje\": 6.0, \"Rating\": \"PG-13\"}, {\"Presupuesto\": 70000000.0, \"Puntaje\": 6.3, \"Rating\": \"R\"}, {\"Presupuesto\": 10000000.0, \"Puntaje\": 7.7, \"Rating\": \"R\"}, {\"Presupuesto\": 60000000.0, \"Puntaje\": 6.6, \"Rating\": \"PG-13\"}, {\"Presupuesto\": 8000000.0, \"Puntaje\": 7.3, \"Rating\": \"R\"}, {\"Presupuesto\": 9000000.0, \"Puntaje\": 8.1, \"Rating\": \"R\"}, {\"Presupuesto\": 30000000.0, \"Puntaje\": 6.1, \"Rating\": \"R\"}, {\"Presupuesto\": 24000000.0, \"Puntaje\": 5.9, \"Rating\": \"G\"}, {\"Presupuesto\": 30000000.0, \"Puntaje\": 6.8, \"Rating\": \"R\"}, {\"Presupuesto\": 1300000.0, \"Puntaje\": 8.1, \"Rating\": \"R\"}, {\"Presupuesto\": 10000000.0, \"Puntaje\": 6.3, \"Rating\": \"R\"}, {\"Presupuesto\": 85000000.0, \"Puntaje\": 5.3, \"Rating\": \"PG\"}, {\"Presupuesto\": 4500000.0, \"Puntaje\": 5.7, \"Rating\": \"R\"}, {\"Presupuesto\": 25000000.0, \"Puntaje\": 6.9, \"Rating\": \"R\"}, {\"Presupuesto\": 13000000.0, \"Puntaje\": 6.4, \"Rating\": \"PG-13\"}, {\"Presupuesto\": 45000000.0, \"Puntaje\": 6.0, \"Rating\": \"R\"}, {\"Presupuesto\": 17000000.0, \"Puntaje\": 7.5, \"Rating\": \"R\"}, {\"Presupuesto\": 2500000.0, \"Puntaje\": 6.9, \"Rating\": \"R\"}, {\"Presupuesto\": 30000000.0, \"Puntaje\": 7.0, \"Rating\": \"R\"}, {\"Presupuesto\": 13000000.0, \"Puntaje\": 6.1, \"Rating\": \"R\"}, {\"Presupuesto\": 40000000.0, \"Puntaje\": 6.2, \"Rating\": \"G\"}, {\"Presupuesto\": 30000000.0, \"Puntaje\": 6.9, \"Rating\": \"PG\"}, {\"Presupuesto\": 90000000.0, \"Puntaje\": 5.6, \"Rating\": \"PG\"}, {\"Presupuesto\": 27000000.0, \"Puntaje\": 6.0, \"Rating\": \"PG-13\"}, {\"Presupuesto\": 2000000.0, \"Puntaje\": 7.2, \"Rating\": \"PG-13\"}, {\"Presupuesto\": 3000000.0, \"Puntaje\": 6.0, \"Rating\": \"R\"}, {\"Presupuesto\": 12000000.0, \"Puntaje\": 6.3, \"Rating\": \"R\"}, {\"Presupuesto\": 5000000.0, \"Puntaje\": 6.5, \"Rating\": \"R\"}, {\"Presupuesto\": 75000000.0, \"Puntaje\": 6.5, \"Rating\": \"PG-13\"}, {\"Presupuesto\": 30000000.0, \"Puntaje\": 6.0, \"Rating\": \"G\"}, {\"Presupuesto\": 15000000.0, \"Puntaje\": 6.0, \"Rating\": \"R\"}, {\"Presupuesto\": 70000000.0, \"Puntaje\": 5.8, \"Rating\": \"R\"}, {\"Presupuesto\": 3500000.0, \"Puntaje\": 7.5, \"Rating\": \"R\"}, {\"Presupuesto\": 5000000.0, \"Puntaje\": 6.6, \"Rating\": \"R\"}, {\"Presupuesto\": 6000000.0, \"Puntaje\": 6.4, \"Rating\": \"R\"}, {\"Presupuesto\": 14000000.0, \"Puntaje\": 7.2, \"Rating\": \"R\"}, {\"Presupuesto\": 20000000.0, \"Puntaje\": 5.6, \"Rating\": \"R\"}, {\"Presupuesto\": 80000000.0, \"Puntaje\": 5.9, \"Rating\": \"R\"}, {\"Presupuesto\": 3000000.0, \"Puntaje\": 7.3, \"Rating\": \"PG\"}, {\"Presupuesto\": 65000000.0, \"Puntaje\": 6.7, \"Rating\": \"R\"}, {\"Presupuesto\": 50000000.0, \"Puntaje\": 6.1, \"Rating\": \"R\"}, {\"Presupuesto\": 30000000.0, \"Puntaje\": 5.8, \"Rating\": \"PG-13\"}, {\"Presupuesto\": 10000000.0, \"Puntaje\": 5.5, \"Rating\": \"PG-13\"}, {\"Presupuesto\": 80000000.0, \"Puntaje\": 5.8, \"Rating\": \"G\"}, {\"Presupuesto\": 18000000.0, \"Puntaje\": 4.5, \"Rating\": \"PG-13\"}, {\"Presupuesto\": 8000000.0, \"Puntaje\": 6.6, \"Rating\": \"R\"}, {\"Presupuesto\": 14000000.0, \"Puntaje\": 6.1, \"Rating\": \"R\"}, {\"Presupuesto\": 25000000.0, \"Puntaje\": 5.7, \"Rating\": \"R\"}, {\"Presupuesto\": 20000000.0, \"Puntaje\": 6.2, \"Rating\": \"R\"}, {\"Presupuesto\": 25000000.0, \"Puntaje\": 7.2, \"Rating\": \"PG-13\"}, {\"Presupuesto\": 4500000.0, \"Puntaje\": 6.5, \"Rating\": \"R\"}, {\"Presupuesto\": 1100000.0, \"Puntaje\": 5.0, \"Rating\": \"R\"}, {\"Presupuesto\": 15000000.0, \"Puntaje\": 6.0, \"Rating\": \"R\"}, {\"Presupuesto\": 35000000.0, \"Puntaje\": 4.8, \"Rating\": \"R\"}, {\"Presupuesto\": 23000000.0, \"Puntaje\": 6.5, \"Rating\": \"PG\"}, {\"Presupuesto\": 20000000.0, \"Puntaje\": 3.9, \"Rating\": \"PG\"}, {\"Presupuesto\": 12000000.0, \"Puntaje\": 6.1, \"Rating\": \"R\"}, {\"Presupuesto\": 7000000.0, \"Puntaje\": 6.1, \"Rating\": \"PG\"}, {\"Presupuesto\": 15000000.0, \"Puntaje\": 2.9, \"Rating\": \"G\"}, {\"Presupuesto\": 2900000.0, \"Puntaje\": 8.0, \"Rating\": \"R\"}, {\"Presupuesto\": 60000000.0, \"Puntaje\": 4.9, \"Rating\": \"PG\"}, {\"Presupuesto\": 5000000.0, \"Puntaje\": 7.0, \"Rating\": \"R\"}, {\"Presupuesto\": 19000000.0, \"Puntaje\": 4.6, \"Rating\": \"R\"}, {\"Presupuesto\": 7000000.0, \"Puntaje\": 7.4, \"Rating\": \"R\"}, {\"Presupuesto\": 30000000.0, \"Puntaje\": 5.4, \"Rating\": \"PG\"}, {\"Presupuesto\": 6000000.0, \"Puntaje\": 4.9, \"Rating\": \"R\"}, {\"Presupuesto\": 700000.0, \"Puntaje\": 6.8, \"Rating\": \"NOT RATED\"}, {\"Presupuesto\": 5000000.0, \"Puntaje\": 6.4, \"Rating\": \"R\"}, {\"Presupuesto\": 8000000.0, \"Puntaje\": 6.6, \"Rating\": \"R\"}, {\"Presupuesto\": 20000000.0, \"Puntaje\": 5.7, \"Rating\": \"R\"}, {\"Presupuesto\": 1000000.0, \"Puntaje\": 6.0, \"Rating\": \"R\"}, {\"Presupuesto\": 15000000.0, \"Puntaje\": 5.0, \"Rating\": \"PG-13\"}, {\"Presupuesto\": 24000000.0, \"Puntaje\": 3.9, \"Rating\": \"PG\"}, {\"Presupuesto\": 13000000.0, \"Puntaje\": 3.9, \"Rating\": \"R\"}, {\"Presupuesto\": 2000000.0, \"Puntaje\": 6.7, \"Rating\": \"PG-13\"}, {\"Presupuesto\": 3500000.0, \"Puntaje\": 3.2, \"Rating\": \"R\"}, {\"Presupuesto\": 10000000.0, \"Puntaje\": 7.3, \"Rating\": \"R\"}, {\"Presupuesto\": 800000.0, \"Puntaje\": 7.8, \"Rating\": \"PG-13\"}, {\"Presupuesto\": 63000000.0, \"Puntaje\": 8.8, \"Rating\": \"R\"}, {\"Presupuesto\": 15000000.0, \"Puntaje\": 8.4, \"Rating\": \"R\"}, {\"Presupuesto\": 63000000.0, \"Puntaje\": 8.7, \"Rating\": \"R\"}, {\"Presupuesto\": 60000000.0, \"Puntaje\": 8.5, \"Rating\": \"R\"}, {\"Presupuesto\": 11000000.0, \"Puntaje\": 7.0, \"Rating\": \"R\"}, {\"Presupuesto\": 65000000.0, \"Puntaje\": 7.3, \"Rating\": \"R\"}, {\"Presupuesto\": 80000000.0, \"Puntaje\": 7.0, \"Rating\": \"PG-13\"}, {\"Presupuesto\": 40000000.0, \"Puntaje\": 8.1, \"Rating\": \"PG-13\"}, {\"Presupuesto\": 30000000.0, \"Puntaje\": 7.2, \"Rating\": \"PG-13\"}, {\"Presupuesto\": 100000000.0, \"Puntaje\": 7.4, \"Rating\": \"R\"}, {\"Presupuesto\": 115000000.0, \"Puntaje\": 6.5, \"Rating\": \"PG\"}, {\"Presupuesto\": 60000000.0, \"Puntaje\": 5.8, \"Rating\": \"R\"}, {\"Presupuesto\": 10000000.0, \"Puntaje\": 7.8, \"Rating\": \"R\"}, {\"Presupuesto\": 6000000.0, \"Puntaje\": 7.2, \"Rating\": \"R\"}, {\"Presupuesto\": 10500000.0, \"Puntaje\": 6.8, \"Rating\": \"R\"}, {\"Presupuesto\": 45000000.0, \"Puntaje\": 7.3, \"Rating\": \"PG\"}, {\"Presupuesto\": 37000000.0, \"Puntaje\": 8.0, \"Rating\": \"R\"}, {\"Presupuesto\": 33000000.0, \"Puntaje\": 6.6, \"Rating\": \"PG-13\"}, {\"Presupuesto\": 25000000.0, \"Puntaje\": 6.0, \"Rating\": \"PG-13\"}, {\"Presupuesto\": 7000000.0, \"Puntaje\": 7.9, \"Rating\": \"R\"}, {\"Presupuesto\": 40000000.0, \"Puntaje\": 7.4, \"Rating\": \"R\"}, {\"Presupuesto\": 90000000.0, \"Puntaje\": 7.9, \"Rating\": \"G\"}, {\"Presupuesto\": 40000000.0, \"Puntaje\": 7.3, \"Rating\": \"R\"}, {\"Presupuesto\": 170000000.0, \"Puntaje\": 4.8, \"Rating\": \"PG-13\"}, {\"Presupuesto\": 42000000.0, \"Puntaje\": 7.1, \"Rating\": \"PG-13\"}, {\"Presupuesto\": 60000.0, \"Puntaje\": 6.4, \"Rating\": \"R\"}, {\"Presupuesto\": 13000000.0, \"Puntaje\": 7.8, \"Rating\": \"R\"}, {\"Presupuesto\": 34200000.0, \"Puntaje\": 6.4, \"Rating\": \"PG-13\"}, {\"Presupuesto\": 10000000.0, \"Puntaje\": 5.8, \"Rating\": \"PG-13\"}, {\"Presupuesto\": 135000000.0, \"Puntaje\": 6.4, \"Rating\": \"PG-13\"}, {\"Presupuesto\": 100000000.0, \"Puntaje\": 5.7, \"Rating\": \"R\"}, {\"Presupuesto\": 10000000.0, \"Puntaje\": 7.4, \"Rating\": \"R\"}, {\"Presupuesto\": 130000000.0, \"Puntaje\": 7.2, \"Rating\": \"G\"}, {\"Presupuesto\": 16000000.0, \"Puntaje\": 6.4, \"Rating\": \"R\"}, {\"Presupuesto\": 82000000.0, \"Puntaje\": 7.4, \"Rating\": \"R\"}, {\"Presupuesto\": 66000000.0, \"Puntaje\": 6.3, \"Rating\": \"PG-13\"}, {\"Presupuesto\": 70000000.0, \"Puntaje\": 8.0, \"Rating\": \"PG\"}, {\"Presupuesto\": 17000000.0, \"Puntaje\": 5.7, \"Rating\": \"R\"}, {\"Presupuesto\": 48000000.0, \"Puntaje\": 6.8, \"Rating\": \"R\"}, {\"Presupuesto\": 12000000.0, \"Puntaje\": 7.0, \"Rating\": \"R\"}, {\"Presupuesto\": 80000000.0, \"Puntaje\": 6.7, \"Rating\": \"R\"}, {\"Presupuesto\": 25000000.0, \"Puntaje\": 7.8, \"Rating\": \"PG\"}, {\"Presupuesto\": 68000000.0, \"Puntaje\": 7.9, \"Rating\": \"R\"}, {\"Presupuesto\": 75000000.0, \"Puntaje\": 7.1, \"Rating\": \"R\"}, {\"Presupuesto\": 38000000.0, \"Puntaje\": 6.7, \"Rating\": \"R\"}, {\"Presupuesto\": 55000000.0, \"Puntaje\": 6.8, \"Rating\": \"R\"}, {\"Presupuesto\": 100000000.0, \"Puntaje\": 6.8, \"Rating\": \"PG\"}, {\"Presupuesto\": 55000000.0, \"Puntaje\": 6.4, \"Rating\": \"PG-13\"}, {\"Presupuesto\": 2000000.0, \"Puntaje\": 7.6, \"Rating\": \"R\"}, {\"Presupuesto\": 160000000.0, \"Puntaje\": 6.6, \"Rating\": \"R\"}, {\"Presupuesto\": 3500000.0, \"Puntaje\": 5.5, \"Rating\": \"R\"}, {\"Presupuesto\": 73000000.0, \"Puntaje\": 6.7, \"Rating\": \"R\"}, {\"Presupuesto\": 70000000.0, \"Puntaje\": 6.4, \"Rating\": \"R\"}, {\"Presupuesto\": 10000000.0, \"Puntaje\": 8.0, \"Rating\": \"G\"}, {\"Presupuesto\": 25000000.0, \"Puntaje\": 7.3, \"Rating\": \"R\"}, {\"Presupuesto\": 68000000.0, \"Puntaje\": 6.1, \"Rating\": \"PG-13\"}, {\"Presupuesto\": 15000000.0, \"Puntaje\": 6.6, \"Rating\": \"PG-13\"}, {\"Presupuesto\": 24000000.0, \"Puntaje\": 7.4, \"Rating\": \"PG-13\"}, {\"Presupuesto\": 35000000.0, \"Puntaje\": 5.6, \"Rating\": \"R\"}, {\"Presupuesto\": 12000000.0, \"Puntaje\": 7.0, \"Rating\": \"R\"}, {\"Presupuesto\": 80000000.0, \"Puntaje\": 4.9, \"Rating\": \"PG-13\"}, {\"Presupuesto\": 133000000.0, \"Puntaje\": 5.9, \"Rating\": \"PG\"}, {\"Presupuesto\": 35000000.0, \"Puntaje\": 6.6, \"Rating\": \"PG-13\"}, {\"Presupuesto\": 90000000.0, \"Puntaje\": 7.1, \"Rating\": \"R\"}, {\"Presupuesto\": 20000000.0, \"Puntaje\": 7.3, \"Rating\": \"R\"}, {\"Presupuesto\": 50000000.0, \"Puntaje\": 7.6, \"Rating\": \"R\"}, {\"Presupuesto\": 40000000.0, \"Puntaje\": 6.5, \"Rating\": \"R\"}, {\"Presupuesto\": 37000000.0, \"Puntaje\": 5.6, \"Rating\": \"R\"}, {\"Presupuesto\": 95000000.0, \"Puntaje\": 6.3, \"Rating\": \"R\"}, {\"Presupuesto\": 21000000.0, \"Puntaje\": 7.8, \"Rating\": \"R\"}, {\"Presupuesto\": 75000000.0, \"Puntaje\": 5.3, \"Rating\": \"R\"}, {\"Presupuesto\": 16000000.0, \"Puntaje\": 7.0, \"Rating\": \"R\"}, {\"Presupuesto\": 25000000.0, \"Puntaje\": 6.2, \"Rating\": \"R\"}, {\"Presupuesto\": 28000000.0, \"Puntaje\": 6.7, \"Rating\": \"R\"}, {\"Presupuesto\": 11000000.0, \"Puntaje\": 6.5, \"Rating\": \"PG-13\"}, {\"Presupuesto\": 25000000.0, \"Puntaje\": 6.4, \"Rating\": \"PG-13\"}, {\"Presupuesto\": 70000000.0, \"Puntaje\": 5.5, \"Rating\": \"PG\"}, {\"Presupuesto\": 22000000.0, \"Puntaje\": 6.6, \"Rating\": \"R\"}, {\"Presupuesto\": 6500000.0, \"Puntaje\": 6.8, \"Rating\": \"R\"}, {\"Presupuesto\": 55000000.0, \"Puntaje\": 6.8, \"Rating\": \"R\"}, {\"Presupuesto\": 85000000.0, \"Puntaje\": 6.4, \"Rating\": \"R\"}, {\"Presupuesto\": 21000000.0, \"Puntaje\": 4.6, \"Rating\": \"R\"}, {\"Presupuesto\": 80000000.0, \"Puntaje\": 6.7, \"Rating\": \"R\"}, {\"Presupuesto\": 1200000.0, \"Puntaje\": 6.6, \"Rating\": \"R\"}, {\"Presupuesto\": 80000000.0, \"Puntaje\": 6.2, \"Rating\": \"PG-13\"}, {\"Presupuesto\": 29000000.0, \"Puntaje\": 6.2, \"Rating\": \"R\"}, {\"Presupuesto\": 90000000.0, \"Puntaje\": 4.1, \"Rating\": \"PG\"}, {\"Presupuesto\": 15000000.0, \"Puntaje\": 6.4, \"Rating\": \"R\"}, {\"Presupuesto\": 8500000.0, \"Puntaje\": 5.7, \"Rating\": \"PG-13\"}, {\"Presupuesto\": 80000000.0, \"Puntaje\": 6.6, \"Rating\": \"PG-13\"}, {\"Presupuesto\": 65000000.0, \"Puntaje\": 6.3, \"Rating\": \"PG-13\"}, {\"Presupuesto\": 34000000.0, \"Puntaje\": 5.0, \"Rating\": \"PG-13\"}, {\"Presupuesto\": 13000000.0, \"Puntaje\": 6.1, \"Rating\": \"PG-13\"}, {\"Presupuesto\": 80000000.0, \"Puntaje\": 7.2, \"Rating\": \"G\"}, {\"Presupuesto\": 31000000.0, \"Puntaje\": 7.2, \"Rating\": \"R\"}, {\"Presupuesto\": 35000000.0, \"Puntaje\": 6.5, \"Rating\": \"PG-13\"}, {\"Presupuesto\": 92000000.0, \"Puntaje\": 6.7, \"Rating\": \"PG-13\"}, {\"Presupuesto\": 20000000.0, \"Puntaje\": 5.4, \"Rating\": \"PG-13\"}, {\"Presupuesto\": 75000000.0, \"Puntaje\": 5.4, \"Rating\": \"PG-13\"}, {\"Presupuesto\": 9000000.0, \"Puntaje\": 6.7, \"Rating\": \"R\"}, {\"Presupuesto\": 50000000.0, \"Puntaje\": 7.3, \"Rating\": \"R\"}, {\"Presupuesto\": 23000000.0, \"Puntaje\": 7.2, \"Rating\": \"R\"}, {\"Presupuesto\": 55000000.0, \"Puntaje\": 6.6, \"Rating\": \"R\"}, {\"Presupuesto\": 30000000.0, \"Puntaje\": 5.1, \"Rating\": \"R\"}, {\"Presupuesto\": 80000000.0, \"Puntaje\": 6.1, \"Rating\": \"PG-13\"}, {\"Presupuesto\": 80000000.0, \"Puntaje\": 6.5, \"Rating\": \"R\"}, {\"Presupuesto\": 64000000.0, \"Puntaje\": 5.1, \"Rating\": \"R\"}, {\"Presupuesto\": 6000000.0, \"Puntaje\": 6.9, \"Rating\": \"R\"}, {\"Presupuesto\": 75000000.0, \"Puntaje\": 4.9, \"Rating\": \"R\"}, {\"Presupuesto\": 9000000.0, \"Puntaje\": 7.1, \"Rating\": \"R\"}, {\"Presupuesto\": 12000000.0, \"Puntaje\": 2.6, \"Rating\": \"PG\"}, {\"Presupuesto\": 14000000.0, \"Puntaje\": 6.6, \"Rating\": \"R\"}, {\"Presupuesto\": 14000000.0, \"Puntaje\": 6.9, \"Rating\": \"PG-13\"}, {\"Presupuesto\": 50000000.0, \"Puntaje\": 5.9, \"Rating\": \"R\"}, {\"Presupuesto\": 24000000.0, \"Puntaje\": 5.4, \"Rating\": \"R\"}, {\"Presupuesto\": 33000000.0, \"Puntaje\": 6.0, \"Rating\": \"R\"}, {\"Presupuesto\": 38000000.0, \"Puntaje\": 6.3, \"Rating\": \"PG-13\"}, {\"Presupuesto\": 6000000.0, \"Puntaje\": 5.3, \"Rating\": \"PG-13\"}, {\"Presupuesto\": 29750000.0, \"Puntaje\": 7.3, \"Rating\": \"PG-13\"}, {\"Presupuesto\": 75000000.0, \"Puntaje\": 5.8, \"Rating\": \"PG-13\"}, {\"Presupuesto\": 27000000.0, \"Puntaje\": 6.8, \"Rating\": \"PG\"}, {\"Presupuesto\": 6000000.0, \"Puntaje\": 5.9, \"Rating\": \"R\"}, {\"Presupuesto\": 23000000.0, \"Puntaje\": 6.2, \"Rating\": \"PG-13\"}, {\"Presupuesto\": 13000000.0, \"Puntaje\": 5.2, \"Rating\": \"PG-13\"}, {\"Presupuesto\": 65000000.0, \"Puntaje\": 5.0, \"Rating\": \"PG\"}, {\"Presupuesto\": 45000000.0, \"Puntaje\": 6.5, \"Rating\": \"PG-13\"}, {\"Presupuesto\": 13000000.0, \"Puntaje\": 6.1, \"Rating\": \"PG\"}, {\"Presupuesto\": 60000000.0, \"Puntaje\": 5.9, \"Rating\": \"PG-13\"}, {\"Presupuesto\": 35000000.0, \"Puntaje\": 6.8, \"Rating\": \"R\"}, {\"Presupuesto\": 15000000.0, \"Puntaje\": 6.3, \"Rating\": \"PG-13\"}, {\"Presupuesto\": 28000000.0, \"Puntaje\": 6.9, \"Rating\": \"R\"}, {\"Presupuesto\": 12000000.0, \"Puntaje\": 6.9, \"Rating\": \"PG\"}, {\"Presupuesto\": 45000000.0, \"Puntaje\": 4.1, \"Rating\": \"R\"}, {\"Presupuesto\": 3000000.0, \"Puntaje\": 5.2, \"Rating\": \"R\"}, {\"Presupuesto\": 4000000.0, \"Puntaje\": 5.8, \"Rating\": \"R\"}, {\"Presupuesto\": 26000000.0, \"Puntaje\": 5.8, \"Rating\": \"G\"}, {\"Presupuesto\": 51000000.0, \"Puntaje\": 5.0, \"Rating\": \"PG-13\"}, {\"Presupuesto\": 30000000.0, \"Puntaje\": 6.0, \"Rating\": \"G\"}, {\"Presupuesto\": 24000000.0, \"Puntaje\": 6.3, \"Rating\": \"G\"}, {\"Presupuesto\": 7000000.0, \"Puntaje\": 6.4, \"Rating\": \"R\"}, {\"Presupuesto\": 35000000.0, \"Puntaje\": 4.9, \"Rating\": \"R\"}, {\"Presupuesto\": 25000000.0, \"Puntaje\": 6.0, \"Rating\": \"R\"}, {\"Presupuesto\": 8500000.0, \"Puntaje\": 6.9, \"Rating\": \"PG-13\"}, {\"Presupuesto\": 35000000.0, \"Puntaje\": 6.8, \"Rating\": \"PG-13\"}, {\"Presupuesto\": 30000.0, \"Puntaje\": 7.5, \"Rating\": \"NOT RATED\"}, {\"Presupuesto\": 7000000.0, \"Puntaje\": 6.2, \"Rating\": \"R\"}, {\"Presupuesto\": 450000.0, \"Puntaje\": 7.2, \"Rating\": \"R\"}, {\"Presupuesto\": 4000000.0, \"Puntaje\": 5.4, \"Rating\": \"R\"}, {\"Presupuesto\": 20000000.0, \"Puntaje\": 6.1, \"Rating\": \"PG-13\"}, {\"Presupuesto\": 5000000.0, \"Puntaje\": 6.7, \"Rating\": \"R\"}, {\"Presupuesto\": 30000000.0, \"Puntaje\": 4.2, \"Rating\": \"PG-13\"}, {\"Presupuesto\": 30000000.0, \"Puntaje\": 5.5, \"Rating\": \"R\"}, {\"Presupuesto\": 25000000.0, \"Puntaje\": 4.1, \"Rating\": \"G\"}, {\"Presupuesto\": 7000000.0, \"Puntaje\": 6.2, \"Rating\": \"R\"}, {\"Presupuesto\": 12000000.0, \"Puntaje\": 4.6, \"Rating\": \"R\"}, {\"Presupuesto\": 75000000.0, \"Puntaje\": 5.3, \"Rating\": \"PG-13\"}, {\"Presupuesto\": 12000000.0, \"Puntaje\": 5.0, \"Rating\": \"R\"}, {\"Presupuesto\": 32000000.0, \"Puntaje\": 6.9, \"Rating\": \"R\"}, {\"Presupuesto\": 50000000.0, \"Puntaje\": 4.2, \"Rating\": \"R\"}, {\"Presupuesto\": 2500000.0, \"Puntaje\": 7.0, \"Rating\": \"R\"}, {\"Presupuesto\": 70000000.0, \"Puntaje\": 3.9, \"Rating\": \"PG\"}, {\"Presupuesto\": 30000000.0, \"Puntaje\": 5.0, \"Rating\": \"PG-13\"}, {\"Presupuesto\": 30000000.0, \"Puntaje\": 6.0, \"Rating\": \"PG-13\"}, {\"Presupuesto\": 5250000.0, \"Puntaje\": 3.7, \"Rating\": \"PG-13\"}, {\"Presupuesto\": 10000000.0, \"Puntaje\": 2.5, \"Rating\": \"PG-13\"}, {\"Presupuesto\": 15000000.0, \"Puntaje\": 5.6, \"Rating\": \"PG-13\"}, {\"Presupuesto\": 500000.0, \"Puntaje\": 6.3, \"Rating\": \"R\"}, {\"Presupuesto\": 70000000.0, \"Puntaje\": 5.2, \"Rating\": \"R\"}, {\"Presupuesto\": 14000000.0, \"Puntaje\": 6.9, \"Rating\": \"R\"}, {\"Presupuesto\": 21000000.0, \"Puntaje\": 5.8, \"Rating\": \"PG-13\"}, {\"Presupuesto\": 1700000.0, \"Puntaje\": 6.3, \"Rating\": \"PG-13\"}, {\"Presupuesto\": 10000000.0, \"Puntaje\": 4.5, \"Rating\": \"R\"}, {\"Presupuesto\": 312000.0, \"Puntaje\": 6.7, \"Rating\": \"PG-13\"}, {\"Presupuesto\": 7500000.0, \"Puntaje\": 3.5, \"Rating\": \"PG-13\"}, {\"Presupuesto\": 4500000.0, \"Puntaje\": 8.3, \"Rating\": \"R\"}, {\"Presupuesto\": 103000000.0, \"Puntaje\": 8.5, \"Rating\": \"R\"}, {\"Presupuesto\": 7000000.0, \"Puntaje\": 7.6, \"Rating\": \"R\"}, {\"Presupuesto\": 110000000.0, \"Puntaje\": 7.2, \"Rating\": \"R\"}, {\"Presupuesto\": 9000000.0, \"Puntaje\": 8.5, \"Rating\": \"R\"}, {\"Presupuesto\": 30000000.0, \"Puntaje\": 7.8, \"Rating\": \"PG\"}, {\"Presupuesto\": 75000000.0, \"Puntaje\": 7.2, \"Rating\": \"PG-13\"}, {\"Presupuesto\": 60000000.0, \"Puntaje\": 7.9, \"Rating\": \"R\"}, {\"Presupuesto\": 90000000.0, \"Puntaje\": 7.8, \"Rating\": \"PG-13\"}, {\"Presupuesto\": 75000000.0, \"Puntaje\": 7.4, \"Rating\": \"PG-13\"}, {\"Presupuesto\": 95000000.0, \"Puntaje\": 5.7, \"Rating\": \"R\"}, {\"Presupuesto\": 19000000.0, \"Puntaje\": 6.2, \"Rating\": \"R\"}, {\"Presupuesto\": 50000000.0, \"Puntaje\": 6.6, \"Rating\": \"R\"}, {\"Presupuesto\": 100000000.0, \"Puntaje\": 6.6, \"Rating\": \"PG-13\"}, {\"Presupuesto\": 23000000.0, \"Puntaje\": 6.7, \"Rating\": \"R\"}, {\"Presupuesto\": 93000000.0, \"Puntaje\": 5.5, \"Rating\": \"PG-13\"}, {\"Presupuesto\": 16000000.0, \"Puntaje\": 6.5, \"Rating\": \"R\"}, {\"Presupuesto\": 26000000.0, \"Puntaje\": 7.8, \"Rating\": \"PG-13\"}, {\"Presupuesto\": 90000000.0, \"Puntaje\": 6.5, \"Rating\": \"PG-13\"}, {\"Presupuesto\": 33000000.0, \"Puntaje\": 6.3, \"Rating\": \"R\"}, {\"Presupuesto\": 17000000.0, \"Puntaje\": 7.9, \"Rating\": \"PG-13\"}, {\"Presupuesto\": 123000000.0, \"Puntaje\": 6.0, \"Rating\": \"PG\"}, {\"Presupuesto\": 100000000.0, \"Puntaje\": 5.6, \"Rating\": \"PG\"}, {\"Presupuesto\": 125000000.0, \"Puntaje\": 6.1, \"Rating\": \"PG-13\"}, {\"Presupuesto\": 11000000.0, \"Puntaje\": 6.0, \"Rating\": \"PG-13\"}, {\"Presupuesto\": 52000000.0, \"Puntaje\": 7.3, \"Rating\": \"R\"}, {\"Presupuesto\": 45000000.0, \"Puntaje\": 6.2, \"Rating\": \"PG-13\"}, {\"Presupuesto\": 25000000.0, \"Puntaje\": 7.3, \"Rating\": \"PG-13\"}, {\"Presupuesto\": 70000000.0, \"Puntaje\": 6.4, \"Rating\": \"PG-13\"}, {\"Presupuesto\": 85000000.0, \"Puntaje\": 5.3, \"Rating\": \"PG-13\"}, {\"Presupuesto\": 48000000.0, \"Puntaje\": 7.6, \"Rating\": \"R\"}, {\"Presupuesto\": 45000000.0, \"Puntaje\": 5.6, \"Rating\": \"PG-13\"}, {\"Presupuesto\": 100000000.0, \"Puntaje\": 7.3, \"Rating\": \"G\"}, {\"Presupuesto\": 73000000.0, \"Puntaje\": 2.4, \"Rating\": \"PG-13\"}, {\"Presupuesto\": 95000000.0, \"Puntaje\": 6.9, \"Rating\": \"PG\"}, {\"Presupuesto\": 23000000.0, \"Puntaje\": 7.1, \"Rating\": \"R\"}, {\"Presupuesto\": 50000000.0, \"Puntaje\": 6.5, \"Rating\": \"PG-13\"}, {\"Presupuesto\": 5000000.0, \"Puntaje\": 7.7, \"Rating\": \"R\"}, {\"Presupuesto\": 2000000.0, \"Puntaje\": 8.1, \"Rating\": \"R\"}, {\"Presupuesto\": 30000000.0, \"Puntaje\": 7.5, \"Rating\": \"R\"}, {\"Presupuesto\": 51000000.0, \"Puntaje\": 6.6, \"Rating\": \"R\"}, {\"Presupuesto\": 6000000.0, \"Puntaje\": 7.5, \"Rating\": \"PG-13\"}, {\"Presupuesto\": 12800000.0, \"Puntaje\": 8.0, \"Rating\": \"R\"}, {\"Presupuesto\": 127500000.0, \"Puntaje\": 6.5, \"Rating\": \"PG\"}, {\"Presupuesto\": 48000000.0, \"Puntaje\": 6.0, \"Rating\": \"PG-13\"}, {\"Presupuesto\": 55000000.0, \"Puntaje\": 7.0, \"Rating\": \"PG-13\"}, {\"Presupuesto\": 40000000.0, \"Puntaje\": 5.5, \"Rating\": \"R\"}, {\"Presupuesto\": 31000000.0, \"Puntaje\": 7.4, \"Rating\": \"PG-13\"}, {\"Presupuesto\": 45000000.0, \"Puntaje\": 7.0, \"Rating\": \"G\"}, {\"Presupuesto\": 32000000.0, \"Puntaje\": 7.2, \"Rating\": \"R\"}, {\"Presupuesto\": 140000000.0, \"Puntaje\": 6.4, \"Rating\": \"PG-13\"}, {\"Presupuesto\": 46000000.0, \"Puntaje\": 5.9, \"Rating\": \"R\"}, {\"Presupuesto\": 41300000.0, \"Puntaje\": 6.7, \"Rating\": \"R\"}, {\"Presupuesto\": 80000000.0, \"Puntaje\": 7.3, \"Rating\": \"PG-13\"}, {\"Presupuesto\": 40000000.0, \"Puntaje\": 7.2, \"Rating\": \"PG-13\"}, {\"Presupuesto\": 13500000.0, \"Puntaje\": 7.3, \"Rating\": \"R\"}, {\"Presupuesto\": 13000000.0, \"Puntaje\": 5.5, \"Rating\": \"PG-13\"}, {\"Presupuesto\": 15000000.0, \"Puntaje\": 6.8, \"Rating\": \"PG-13\"}, {\"Presupuesto\": 7000000.0, \"Puntaje\": 7.0, \"Rating\": \"R\"}, {\"Presupuesto\": 83000000.0, \"Puntaje\": 3.6, \"Rating\": \"PG\"}, {\"Presupuesto\": 84000000.0, \"Puntaje\": 4.3, \"Rating\": \"PG-13\"}, {\"Presupuesto\": 29000000.0, \"Puntaje\": 6.7, \"Rating\": \"PG-13\"}, {\"Presupuesto\": 11000000.0, \"Puntaje\": 6.1, \"Rating\": \"R\"}, {\"Presupuesto\": 10000000.0, \"Puntaje\": 6.7, \"Rating\": \"R\"}, {\"Presupuesto\": 60000000.0, \"Puntaje\": 6.7, \"Rating\": \"PG-13\"}, {\"Presupuesto\": 5000000.0, \"Puntaje\": 6.8, \"Rating\": \"UNRATED\"}, {\"Presupuesto\": 80000000.0, \"Puntaje\": 6.7, \"Rating\": \"PG-13\"}, {\"Presupuesto\": 62000000.0, \"Puntaje\": 6.6, \"Rating\": \"PG-13\"}, {\"Presupuesto\": 29000000.0, \"Puntaje\": 6.4, \"Rating\": \"PG-13\"}, {\"Presupuesto\": 55000000.0, \"Puntaje\": 6.6, \"Rating\": \"PG-13\"}, {\"Presupuesto\": 57000000.0, \"Puntaje\": 5.8, \"Rating\": \"PG-13\"}, {\"Presupuesto\": 30000000.0, \"Puntaje\": 5.1, \"Rating\": \"PG-13\"}, {\"Presupuesto\": 65000000.0, \"Puntaje\": 6.4, \"Rating\": \"PG-13\"}, {\"Presupuesto\": 82000000.0, \"Puntaje\": 5.9, \"Rating\": \"PG-13\"}, {\"Presupuesto\": 43000000.0, \"Puntaje\": 6.0, \"Rating\": \"PG-13\"}, {\"Presupuesto\": 75000000.0, \"Puntaje\": 5.9, \"Rating\": \"PG-13\"}, {\"Presupuesto\": 38000000.0, \"Puntaje\": 5.6, \"Rating\": \"PG-13\"}, {\"Presupuesto\": 20000000.0, \"Puntaje\": 7.2, \"Rating\": \"PG-13\"}, {\"Presupuesto\": 25000000.0, \"Puntaje\": 6.1, \"Rating\": \"R\"}, {\"Presupuesto\": 1200000.0, \"Puntaje\": 7.7, \"Rating\": \"R\"}, {\"Presupuesto\": 54000000.0, \"Puntaje\": 4.9, \"Rating\": \"R\"}, {\"Presupuesto\": 65000000.0, \"Puntaje\": 5.5, \"Rating\": \"PG-13\"}, {\"Presupuesto\": 43000000.0, \"Puntaje\": 7.3, \"Rating\": \"PG-13\"}, {\"Presupuesto\": 75000000.0, \"Puntaje\": 6.6, \"Rating\": \"PG\"}, {\"Presupuesto\": 8000000.0, \"Puntaje\": 6.9, \"Rating\": \"R\"}, {\"Presupuesto\": 32000000.0, \"Puntaje\": 5.5, \"Rating\": \"PG-13\"}, {\"Presupuesto\": 45000000.0, \"Puntaje\": 3.6, \"Rating\": \"PG-13\"}, {\"Presupuesto\": 76000000.0, \"Puntaje\": 4.2, \"Rating\": \"PG\"}, {\"Presupuesto\": 60000000.0, \"Puntaje\": 6.4, \"Rating\": \"R\"}, {\"Presupuesto\": 42000000.0, \"Puntaje\": 5.7, \"Rating\": \"R\"}, {\"Presupuesto\": 80000000.0, \"Puntaje\": 5.7, \"Rating\": \"PG-13\"}, {\"Presupuesto\": 85000000.0, \"Puntaje\": 4.8, \"Rating\": \"G\"}, {\"Presupuesto\": 35000000.0, \"Puntaje\": 5.7, \"Rating\": \"PG\"}, {\"Presupuesto\": 10000000.0, \"Puntaje\": 7.0, \"Rating\": \"R\"}, {\"Presupuesto\": 20000000.0, \"Puntaje\": 5.3, \"Rating\": \"PG-13\"}, {\"Presupuesto\": 90000000.0, \"Puntaje\": 4.8, \"Rating\": \"PG-13\"}, {\"Presupuesto\": 25000000.0, \"Puntaje\": 6.5, \"Rating\": \"R\"}, {\"Presupuesto\": 55000000.0, \"Puntaje\": 7.4, \"Rating\": \"R\"}, {\"Presupuesto\": 65000000.0, \"Puntaje\": 6.1, \"Rating\": \"PG\"}, {\"Presupuesto\": 63600000.0, \"Puntaje\": 5.1, \"Rating\": \"R\"}, {\"Presupuesto\": 24000000.0, \"Puntaje\": 6.9, \"Rating\": \"PG\"}, {\"Presupuesto\": 1500000.0, \"Puntaje\": 7.9, \"Rating\": \"R\"}, {\"Presupuesto\": 15000000.0, \"Puntaje\": 4.0, \"Rating\": \"R\"}, {\"Presupuesto\": 24000000.0, \"Puntaje\": 6.4, \"Rating\": \"R\"}, {\"Presupuesto\": 65000000.0, \"Puntaje\": 6.2, \"Rating\": \"R\"}, {\"Presupuesto\": 24000000.0, \"Puntaje\": 5.3, \"Rating\": \"PG-13\"}, {\"Presupuesto\": 30000000.0, \"Puntaje\": 5.3, \"Rating\": \"R\"}, {\"Presupuesto\": 35000000.0, \"Puntaje\": 5.6, \"Rating\": \"PG-13\"}, {\"Presupuesto\": 6000000.0, \"Puntaje\": 7.0, \"Rating\": \"R\"}, {\"Presupuesto\": 10000000.0, \"Puntaje\": 6.9, \"Rating\": \"R\"}, {\"Presupuesto\": 14000000.0, \"Puntaje\": 5.4, \"Rating\": \"PG-13\"}, {\"Presupuesto\": 8500000.0, \"Puntaje\": 6.7, \"Rating\": \"R\"}, {\"Presupuesto\": 6000000.0, \"Puntaje\": 7.0, \"Rating\": \"PG\"}, {\"Presupuesto\": 23000000.0, \"Puntaje\": 4.6, \"Rating\": \"R\"}, {\"Presupuesto\": 19000000.0, \"Puntaje\": 3.7, \"Rating\": \"G\"}, {\"Presupuesto\": 60000000.0, \"Puntaje\": 4.8, \"Rating\": \"PG-13\"}, {\"Presupuesto\": 35000000.0, \"Puntaje\": 5.4, \"Rating\": \"PG-13\"}, {\"Presupuesto\": 25000000.0, \"Puntaje\": 4.6, \"Rating\": \"R\"}, {\"Presupuesto\": 35000000.0, \"Puntaje\": 4.9, \"Rating\": \"PG-13\"}, {\"Presupuesto\": 16000000.0, \"Puntaje\": 5.9, \"Rating\": \"R\"}, {\"Presupuesto\": 24000000.0, \"Puntaje\": 5.1, \"Rating\": \"R\"}, {\"Presupuesto\": 25000000.0, \"Puntaje\": 6.7, \"Rating\": \"PG\"}, {\"Presupuesto\": 20000000.0, \"Puntaje\": 7.0, \"Rating\": \"R\"}, {\"Presupuesto\": 60000000.0, \"Puntaje\": 5.7, \"Rating\": \"R\"}, {\"Presupuesto\": 10000000.0, \"Puntaje\": 6.5, \"Rating\": \"R\"}, {\"Presupuesto\": 13000000.0, \"Puntaje\": 5.0, \"Rating\": \"PG\"}, {\"Presupuesto\": 30000000.0, \"Puntaje\": 6.1, \"Rating\": \"G\"}, {\"Presupuesto\": 14000000.0, \"Puntaje\": 4.1, \"Rating\": \"R\"}, {\"Presupuesto\": 35000000.0, \"Puntaje\": 5.7, \"Rating\": \"PG-13\"}, {\"Presupuesto\": 24000000.0, \"Puntaje\": 5.9, \"Rating\": \"R\"}, {\"Presupuesto\": 65000000.0, \"Puntaje\": 5.1, \"Rating\": \"R\"}, {\"Presupuesto\": 2000000.0, \"Puntaje\": 6.0, \"Rating\": \"R\"}, {\"Presupuesto\": 1000000.0, \"Puntaje\": 6.8, \"Rating\": \"R\"}, {\"Presupuesto\": 10000000.0, \"Puntaje\": 5.7, \"Rating\": \"R\"}, {\"Presupuesto\": 50000000.0, \"Puntaje\": 4.8, \"Rating\": \"R\"}, {\"Presupuesto\": 10000000.0, \"Puntaje\": 6.2, \"Rating\": \"R\"}, {\"Presupuesto\": 1800000.0, \"Puntaje\": 7.2, \"Rating\": \"PG-13\"}, {\"Presupuesto\": 8000000.0, \"Puntaje\": 5.3, \"Rating\": \"R\"}, {\"Presupuesto\": 10000000.0, \"Puntaje\": 7.2, \"Rating\": \"R\"}, {\"Presupuesto\": 63000000.0, \"Puntaje\": 5.0, \"Rating\": \"R\"}, {\"Presupuesto\": 15000000.0, \"Puntaje\": 6.0, \"Rating\": \"R\"}, {\"Presupuesto\": 3600000.0, \"Puntaje\": 6.6, \"Rating\": \"R\"}, {\"Presupuesto\": 1500000.0, \"Puntaje\": 6.3, \"Rating\": \"UNRATED\"}, {\"Presupuesto\": 42000.0, \"Puntaje\": 7.4, \"Rating\": \"NOT RATED\"}, {\"Presupuesto\": 150000.0, \"Puntaje\": 6.2, \"Rating\": \"PG-13\"}, {\"Presupuesto\": 12500000.0, \"Puntaje\": 4.6, \"Rating\": \"PG-13\"}, {\"Presupuesto\": 1000000.0, \"Puntaje\": 7.0, \"Rating\": \"R\"}, {\"Presupuesto\": 6000000.0, \"Puntaje\": 5.6, \"Rating\": \"PG-13\"}, {\"Presupuesto\": 13000000.0, \"Puntaje\": 6.1, \"Rating\": \"PG\"}, {\"Presupuesto\": 24000000.0, \"Puntaje\": 6.2, \"Rating\": \"R\"}, {\"Presupuesto\": 8000000.0, \"Puntaje\": 5.9, \"Rating\": \"R\"}, {\"Presupuesto\": 30000000.0, \"Puntaje\": 6.3, \"Rating\": \"G\"}, {\"Presupuesto\": 8500000.0, \"Puntaje\": 6.7, \"Rating\": \"R\"}, {\"Presupuesto\": 10000000.0, \"Puntaje\": 7.1, \"Rating\": \"PG\"}, {\"Presupuesto\": 120000.0, \"Puntaje\": 5.3, \"Rating\": \"R\"}, {\"Presupuesto\": 10000000.0, \"Puntaje\": 5.7, \"Rating\": \"PG-13\"}, {\"Presupuesto\": 16000000.0, \"Puntaje\": 5.7, \"Rating\": \"G\"}, {\"Presupuesto\": 50000000.0, \"Puntaje\": 5.6, \"Rating\": \"PG-13\"}, {\"Presupuesto\": 3000000.0, \"Puntaje\": 5.2, \"Rating\": \"R\"}, {\"Presupuesto\": 51000000.0, \"Puntaje\": 5.7, \"Rating\": \"R\"}, {\"Presupuesto\": 15000000.0, \"Puntaje\": 5.1, \"Rating\": \"PG-13\"}, {\"Presupuesto\": 4000000.0, \"Puntaje\": 6.2, \"Rating\": \"R\"}, {\"Presupuesto\": 250000.0, \"Puntaje\": 6.6, \"Rating\": \"R\"}, {\"Presupuesto\": 1000000.0, \"Puntaje\": 7.1, \"Rating\": \"UNRATED\"}, {\"Presupuesto\": 25000000.0, \"Puntaje\": 4.7, \"Rating\": \"PG-13\"}, {\"Presupuesto\": 36000000.0, \"Puntaje\": 6.6, \"Rating\": \"PG-13\"}, {\"Presupuesto\": 1000000.0, \"Puntaje\": 6.0, \"Rating\": \"R\"}, {\"Presupuesto\": 60000000.0, \"Puntaje\": 5.6, \"Rating\": \"R\"}, {\"Presupuesto\": 1000000.0, \"Puntaje\": 6.8, \"Rating\": \"R\"}, {\"Presupuesto\": 4500000.0, \"Puntaje\": 3.8, \"Rating\": \"PG\"}, {\"Presupuesto\": 1000000.0, \"Puntaje\": 6.1, \"Rating\": \"Not specified\"}, {\"Presupuesto\": 28000000.0, \"Puntaje\": 6.3, \"Rating\": \"PG-13\"}, {\"Presupuesto\": 5000000.0, \"Puntaje\": 6.0, \"Rating\": \"PG\"}, {\"Presupuesto\": 125000000.0, \"Puntaje\": 7.5, \"Rating\": \"PG\"}, {\"Presupuesto\": 93000000.0, \"Puntaje\": 8.8, \"Rating\": \"PG-13\"}, {\"Presupuesto\": 10000000.0, \"Puntaje\": 6.1, \"Rating\": \"R\"}, {\"Presupuesto\": 15000000.0, \"Puntaje\": 8.0, \"Rating\": \"R\"}, {\"Presupuesto\": 4500000.0, \"Puntaje\": 8.1, \"Rating\": \"R\"}, {\"Presupuesto\": 19000000.0, \"Puntaje\": 8.6, \"Rating\": \"PG\"}, {\"Presupuesto\": 115000000.0, \"Puntaje\": 5.8, \"Rating\": \"PG-13\"}, {\"Presupuesto\": 58000000.0, \"Puntaje\": 8.2, \"Rating\": \"PG-13\"}, {\"Presupuesto\": 115000000.0, \"Puntaje\": 8.1, \"Rating\": \"G\"}, {\"Presupuesto\": 45000000.0, \"Puntaje\": 7.7, \"Rating\": \"R\"}, {\"Presupuesto\": 18000000.0, \"Puntaje\": 6.2, \"Rating\": \"PG-13\"}, {\"Presupuesto\": 92000000.0, \"Puntaje\": 7.7, \"Rating\": \"R\"}, {\"Presupuesto\": 38000000.0, \"Puntaje\": 6.7, \"Rating\": \"PG-13\"}, {\"Presupuesto\": 60000000.0, \"Puntaje\": 7.9, \"Rating\": \"PG\"}, {\"Presupuesto\": 87000000.0, \"Puntaje\": 6.8, \"Rating\": \"R\"}, {\"Presupuesto\": 53000000.0, \"Puntaje\": 7.6, \"Rating\": \"R\"}, {\"Presupuesto\": 5000000.0, \"Puntaje\": 6.7, \"Rating\": \"R\"}, {\"Presupuesto\": 100000000.0, \"Puntaje\": 5.7, \"Rating\": \"PG-13\"}, {\"Presupuesto\": 1200000.0, \"Puntaje\": 7.1, \"Rating\": \"R\"}, {\"Presupuesto\": 85000000.0, \"Puntaje\": 7.8, \"Rating\": \"PG-13\"}, {\"Presupuesto\": 140000000.0, \"Puntaje\": 6.1, \"Rating\": \"PG-13\"}, {\"Presupuesto\": 17000000.0, \"Puntaje\": 7.6, \"Rating\": \"PG-13\"}, {\"Presupuesto\": 21000000.0, \"Puntaje\": 7.6, \"Rating\": \"R\"}, {\"Presupuesto\": 50000000.0, \"Puntaje\": 7.6, \"Rating\": \"PG-13\"}, {\"Presupuesto\": 57000000.0, \"Puntaje\": 6.2, \"Rating\": \"R\"}, {\"Presupuesto\": 100000000.0, \"Puntaje\": 7.1, \"Rating\": \"PG-13\"}, {\"Presupuesto\": 2000000.0, \"Puntaje\": 7.7, \"Rating\": \"R\"}, {\"Presupuesto\": 26000000.0, \"Puntaje\": 6.3, \"Rating\": \"G\"}, {\"Presupuesto\": 35000000.0, \"Puntaje\": 5.4, \"Rating\": \"PG\"}, {\"Presupuesto\": 15000000.0, \"Puntaje\": 5.7, \"Rating\": \"R\"}, {\"Presupuesto\": 98000000.0, \"Puntaje\": 6.3, \"Rating\": \"PG-13\"}, {\"Presupuesto\": 68000000.0, \"Puntaje\": 6.9, \"Rating\": \"R\"}, {\"Presupuesto\": 65000000.0, \"Puntaje\": 6.9, \"Rating\": \"PG-13\"}, {\"Presupuesto\": 120000000.0, \"Puntaje\": 6.8, \"Rating\": \"PG\"}, {\"Presupuesto\": 45000000.0, \"Puntaje\": 5.3, \"Rating\": \"R\"}, {\"Presupuesto\": 35000000.0, \"Puntaje\": 6.8, \"Rating\": \"R\"}, {\"Presupuesto\": 25000000.0, \"Puntaje\": 6.7, \"Rating\": \"R\"}, {\"Presupuesto\": 42000000.0, \"Puntaje\": 5.6, \"Rating\": \"R\"}, {\"Presupuesto\": 42000000.0, \"Puntaje\": 6.0, \"Rating\": \"R\"}, {\"Presupuesto\": 30000000.0, \"Puntaje\": 6.4, \"Rating\": \"R\"}, {\"Presupuesto\": 68000000.0, \"Puntaje\": 7.6, \"Rating\": \"R\"}, {\"Presupuesto\": 28000000.0, \"Puntaje\": 6.6, \"Rating\": \"PG-13\"}, {\"Presupuesto\": 22000000.0, \"Puntaje\": 7.6, \"Rating\": \"PG-13\"}, {\"Presupuesto\": 28000000.0, \"Puntaje\": 6.9, \"Rating\": \"PG-13\"}, {\"Presupuesto\": 93000000.0, \"Puntaje\": 5.9, \"Rating\": \"PG-13\"}, {\"Presupuesto\": 107000000.0, \"Puntaje\": 6.8, \"Rating\": \"R\"}, {\"Presupuesto\": 4000000.0, \"Puntaje\": 7.1, \"Rating\": \"R\"}, {\"Presupuesto\": 22000000.0, \"Puntaje\": 6.9, \"Rating\": \"R\"}, {\"Presupuesto\": 7000000.0, \"Puntaje\": 7.4, \"Rating\": \"R\"}, {\"Presupuesto\": 48000000.0, \"Puntaje\": 6.4, \"Rating\": \"PG-13\"}, {\"Presupuesto\": 39000000.0, \"Puntaje\": 5.3, \"Rating\": \"PG-13\"}, {\"Presupuesto\": 68000000.0, \"Puntaje\": 7.4, \"Rating\": \"PG-13\"}, {\"Presupuesto\": 40000000.0, \"Puntaje\": 5.9, \"Rating\": \"PG-13\"}, {\"Presupuesto\": 68000000.0, \"Puntaje\": 6.8, \"Rating\": \"R\"}, {\"Presupuesto\": 20000000.0, \"Puntaje\": 6.3, \"Rating\": \"R\"}, {\"Presupuesto\": 11000000.0, \"Puntaje\": 4.4, \"Rating\": \"R\"}, {\"Presupuesto\": 102000000.0, \"Puntaje\": 6.5, \"Rating\": \"R\"}, {\"Presupuesto\": 35000000.0, \"Puntaje\": 6.8, \"Rating\": \"R\"}, {\"Presupuesto\": 1500000.0, \"Puntaje\": 6.5, \"Rating\": \"R\"}, {\"Presupuesto\": 90000000.0, \"Puntaje\": 6.6, \"Rating\": \"PG-13\"}, {\"Presupuesto\": 11000000.0, \"Puntaje\": 7.3, \"Rating\": \"R\"}, {\"Presupuesto\": 17700000.0, \"Puntaje\": 5.9, \"Rating\": \"PG-13\"}, {\"Presupuesto\": 57000000.0, \"Puntaje\": 6.1, \"Rating\": \"R\"}, {\"Presupuesto\": 4500000.0, \"Puntaje\": 7.5, \"Rating\": \"R\"}, {\"Presupuesto\": 23000000.0, \"Puntaje\": 6.6, \"Rating\": \"R\"}, {\"Presupuesto\": 60000000.0, \"Puntaje\": 6.3, \"Rating\": \"R\"}, {\"Presupuesto\": 20000000.0, \"Puntaje\": 7.6, \"Rating\": \"R\"}, {\"Presupuesto\": 13000000.0, \"Puntaje\": 6.2, \"Rating\": \"PG-13\"}, {\"Presupuesto\": 40000000.0, \"Puntaje\": 6.4, \"Rating\": \"PG-13\"}, {\"Presupuesto\": 19800000.0, \"Puntaje\": 7.3, \"Rating\": \"R\"}, {\"Presupuesto\": 13000000.0, \"Puntaje\": 5.6, \"Rating\": \"PG-13\"}, {\"Presupuesto\": 80000000.0, \"Puntaje\": 6.1, \"Rating\": \"PG-13\"}, {\"Presupuesto\": 115000000.0, \"Puntaje\": 7.1, \"Rating\": \"R\"}, {\"Presupuesto\": 16000000.0, \"Puntaje\": 6.4, \"Rating\": \"R\"}, {\"Presupuesto\": 48000000.0, \"Puntaje\": 6.4, \"Rating\": \"PG-13\"}, {\"Presupuesto\": 35000000.0, \"Puntaje\": 6.2, \"Rating\": \"PG-13\"}, {\"Presupuesto\": 28000000.0, \"Puntaje\": 4.9, \"Rating\": \"R\"}, {\"Presupuesto\": 50000000.0, \"Puntaje\": 6.3, \"Rating\": \"R\"}, {\"Presupuesto\": 70000000.0, \"Puntaje\": 6.3, \"Rating\": \"PG\"}, {\"Presupuesto\": 21150000.0, \"Puntaje\": 4.8, \"Rating\": \"PG\"}, {\"Presupuesto\": 1500000.0, \"Puntaje\": 7.2, \"Rating\": \"R\"}, {\"Presupuesto\": 40000000.0, \"Puntaje\": 6.7, \"Rating\": \"PG-13\"}, {\"Presupuesto\": 75000000.0, \"Puntaje\": 6.5, \"Rating\": \"PG-13\"}, {\"Presupuesto\": 72000000.0, \"Puntaje\": 6.9, \"Rating\": \"R\"}, {\"Presupuesto\": 10000000.0, \"Puntaje\": 4.7, \"Rating\": \"R\"}, {\"Presupuesto\": 35000000.0, \"Puntaje\": 5.2, \"Rating\": \"PG-13\"}, {\"Presupuesto\": 6000000.0, \"Puntaje\": 8.2, \"Rating\": \"PG\"}, {\"Presupuesto\": 10000000.0, \"Puntaje\": 7.3, \"Rating\": \"PG\"}, {\"Presupuesto\": 60000000.0, \"Puntaje\": 6.1, \"Rating\": \"R\"}, {\"Presupuesto\": 31000000.0, \"Puntaje\": 6.9, \"Rating\": \"PG-13\"}, {\"Presupuesto\": 7000000.0, \"Puntaje\": 5.2, \"Rating\": \"PG-13\"}, {\"Presupuesto\": 72000000.0, \"Puntaje\": 6.9, \"Rating\": \"PG\"}, {\"Presupuesto\": 27000000.0, \"Puntaje\": 7.5, \"Rating\": \"R\"}, {\"Presupuesto\": 25000000.0, \"Puntaje\": 6.6, \"Rating\": \"R\"}, {\"Presupuesto\": 23000000.0, \"Puntaje\": 6.1, \"Rating\": \"PG-13\"}, {\"Presupuesto\": 46000000.0, \"Puntaje\": 5.7, \"Rating\": \"PG-13\"}, {\"Presupuesto\": 48000000.0, \"Puntaje\": 6.5, \"Rating\": \"PG-13\"}, {\"Presupuesto\": 30000000.0, \"Puntaje\": 6.0, \"Rating\": \"G\"}, {\"Presupuesto\": 39000000.0, \"Puntaje\": 6.5, \"Rating\": \"R\"}, {\"Presupuesto\": 24000000.0, \"Puntaje\": 6.3, \"Rating\": \"PG-13\"}, {\"Presupuesto\": 60000000.0, \"Puntaje\": 5.1, \"Rating\": \"PG\"}, {\"Presupuesto\": 30000000.0, \"Puntaje\": 5.8, \"Rating\": \"PG-13\"}, {\"Presupuesto\": 49000000.0, \"Puntaje\": 5.9, \"Rating\": \"PG-13\"}, {\"Presupuesto\": 5000000.0, \"Puntaje\": 6.2, \"Rating\": \"R\"}, {\"Presupuesto\": 22000000.0, \"Puntaje\": 5.8, \"Rating\": \"PG-13\"}, {\"Presupuesto\": 137000000.0, \"Puntaje\": 6.4, \"Rating\": \"PG-13\"}, {\"Presupuesto\": 22000000.0, \"Puntaje\": 5.9, \"Rating\": \"PG-13\"}, {\"Presupuesto\": 1700000.0, \"Puntaje\": 7.5, \"Rating\": \"R\"}, {\"Presupuesto\": 28000000.0, \"Puntaje\": 6.3, \"Rating\": \"R\"}, {\"Presupuesto\": 34000000.0, \"Puntaje\": 5.0, \"Rating\": \"PG-13\"}, {\"Presupuesto\": 14000000.0, \"Puntaje\": 4.5, \"Rating\": \"R\"}, {\"Presupuesto\": 11000000.0, \"Puntaje\": 5.6, \"Rating\": \"PG-13\"}, {\"Presupuesto\": 75000000.0, \"Puntaje\": 4.7, \"Rating\": \"PG-13\"}, {\"Presupuesto\": 32000000.0, \"Puntaje\": 6.4, \"Rating\": \"PG-13\"}, {\"Presupuesto\": 18000000.0, \"Puntaje\": 6.1, \"Rating\": \"R\"}, {\"Presupuesto\": 75000000.0, \"Puntaje\": 5.5, \"Rating\": \"PG-13\"}, {\"Presupuesto\": 94000000.0, \"Puntaje\": 4.5, \"Rating\": \"PG-13\"}, {\"Presupuesto\": 57000000.0, \"Puntaje\": 5.9, \"Rating\": \"R\"}, {\"Presupuesto\": 6000000.0, \"Puntaje\": 7.8, \"Rating\": \"R\"}, {\"Presupuesto\": 15000000.0, \"Puntaje\": 6.9, \"Rating\": \"R\"}, {\"Presupuesto\": 47000000.0, \"Puntaje\": 4.8, \"Rating\": \"PG-13\"}, {\"Presupuesto\": 14000000.0, \"Puntaje\": 5.4, \"Rating\": \"PG-13\"}, {\"Presupuesto\": 50000000.0, \"Puntaje\": 4.8, \"Rating\": \"PG-13\"}, {\"Presupuesto\": 13000000.0, \"Puntaje\": 6.5, \"Rating\": \"PG-13\"}, {\"Presupuesto\": 62000000.0, \"Puntaje\": 5.9, \"Rating\": \"R\"}, {\"Presupuesto\": 5500000.0, \"Puntaje\": 7.1, \"Rating\": \"R\"}, {\"Presupuesto\": 50000000.0, \"Puntaje\": 5.5, \"Rating\": \"R\"}, {\"Presupuesto\": 18000000.0, \"Puntaje\": 6.1, \"Rating\": \"R\"}, {\"Presupuesto\": 35000000.0, \"Puntaje\": 6.8, \"Rating\": \"R\"}, {\"Presupuesto\": 30000000.0, \"Puntaje\": 6.1, \"Rating\": \"PG-13\"}, {\"Presupuesto\": 53000000.0, \"Puntaje\": 5.6, \"Rating\": \"R\"}, {\"Presupuesto\": 25000000.0, \"Puntaje\": 5.4, \"Rating\": \"PG\"}, {\"Presupuesto\": 49000000.0, \"Puntaje\": 5.4, \"Rating\": \"PG-13\"}, {\"Presupuesto\": 700000.0, \"Puntaje\": 7.2, \"Rating\": \"R\"}, {\"Presupuesto\": 90000000.0, \"Puntaje\": 4.4, \"Rating\": \"R\"}, {\"Presupuesto\": 35000000.0, \"Puntaje\": 6.0, \"Rating\": \"PG-13\"}, {\"Presupuesto\": 40000000.0, \"Puntaje\": 6.2, \"Rating\": \"R\"}, {\"Presupuesto\": 60000000.0, \"Puntaje\": 5.5, \"Rating\": \"PG-13\"}, {\"Presupuesto\": 38000000.0, \"Puntaje\": 5.2, \"Rating\": \"PG-13\"}, {\"Presupuesto\": 11000000.0, \"Puntaje\": 5.3, \"Rating\": \"R\"}, {\"Presupuesto\": 13000000.0, \"Puntaje\": 6.1, \"Rating\": \"R\"}, {\"Presupuesto\": 33000000.0, \"Puntaje\": 6.8, \"Rating\": \"PG-13\"}, {\"Presupuesto\": 1000000.0, \"Puntaje\": 6.6, \"Rating\": \"R\"}, {\"Presupuesto\": 70000000.0, \"Puntaje\": 4.7, \"Rating\": \"PG\"}, {\"Presupuesto\": 100000.0, \"Puntaje\": 7.3, \"Rating\": \"R\"}, {\"Presupuesto\": 5000000.0, \"Puntaje\": 6.4, \"Rating\": \"R\"}, {\"Presupuesto\": 35000000.0, \"Puntaje\": 5.8, \"Rating\": \"PG-13\"}, {\"Presupuesto\": 22000000.0, \"Puntaje\": 2.2, \"Rating\": \"PG-13\"}, {\"Presupuesto\": 40000000.0, \"Puntaje\": 4.7, \"Rating\": \"PG-13\"}, {\"Presupuesto\": 250000.0, \"Puntaje\": 6.9, \"Rating\": \"R\"}, {\"Presupuesto\": 4500000.0, \"Puntaje\": 7.1, \"Rating\": \"R\"}, {\"Presupuesto\": 5000000.0, \"Puntaje\": 7.1, \"Rating\": \"R\"}, {\"Presupuesto\": 7000000.0, \"Puntaje\": 6.5, \"Rating\": \"PG\"}, {\"Presupuesto\": 25000000.0, \"Puntaje\": 4.9, \"Rating\": \"R\"}, {\"Presupuesto\": 16000000.0, \"Puntaje\": 4.1, \"Rating\": \"R\"}, {\"Presupuesto\": 35000000.0, \"Puntaje\": 5.4, \"Rating\": \"PG\"}, {\"Presupuesto\": 6000000.0, \"Puntaje\": 6.4, \"Rating\": \"R\"}, {\"Presupuesto\": 7000000.0, \"Puntaje\": 4.7, \"Rating\": \"R\"}, {\"Presupuesto\": 3000000.0, \"Puntaje\": 6.7, \"Rating\": \"R\"}, {\"Presupuesto\": 20000000.0, \"Puntaje\": 6.4, \"Rating\": \"PG-13\"}, {\"Presupuesto\": 15000000.0, \"Puntaje\": 5.3, \"Rating\": \"R\"}, {\"Presupuesto\": 11000000.0, \"Puntaje\": 4.6, \"Rating\": \"PG-13\"}, {\"Presupuesto\": 30000000.0, \"Puntaje\": 6.1, \"Rating\": \"R\"}, {\"Presupuesto\": 23000000.0, \"Puntaje\": 6.6, \"Rating\": \"G\"}, {\"Presupuesto\": 12000000.0, \"Puntaje\": 5.7, \"Rating\": \"R\"}, {\"Presupuesto\": 38000000.0, \"Puntaje\": 5.5, \"Rating\": \"PG\"}, {\"Presupuesto\": 7000000.0, \"Puntaje\": 6.4, \"Rating\": \"PG-13\"}, {\"Presupuesto\": 17000000.0, \"Puntaje\": 3.9, \"Rating\": \"PG-13\"}, {\"Presupuesto\": 7000000.0, \"Puntaje\": 6.3, \"Rating\": \"R\"}, {\"Presupuesto\": 13000000.0, \"Puntaje\": 6.1, \"Rating\": \"R\"}, {\"Presupuesto\": 7000000.0, \"Puntaje\": 5.7, \"Rating\": \"PG\"}, {\"Presupuesto\": 13500000.0, \"Puntaje\": 6.0, \"Rating\": \"R\"}, {\"Presupuesto\": 10000000.0, \"Puntaje\": 4.1, \"Rating\": \"PG\"}, {\"Presupuesto\": 2500000.0, \"Puntaje\": 6.5, \"Rating\": \"PG\"}, {\"Presupuesto\": 100000000.0, \"Puntaje\": 7.5, \"Rating\": \"R\"}, {\"Presupuesto\": 100000000.0, \"Puntaje\": 7.4, \"Rating\": \"PG\"}, {\"Presupuesto\": 139000000.0, \"Puntaje\": 7.3, \"Rating\": \"PG-13\"}, {\"Presupuesto\": 52000000.0, \"Puntaje\": 8.1, \"Rating\": \"PG-13\"}, {\"Presupuesto\": 3300000.0, \"Puntaje\": 8.7, \"Rating\": \"R\"}, {\"Presupuesto\": 35000000.0, \"Puntaje\": 8.5, \"Rating\": \"R\"}, {\"Presupuesto\": 11000000.0, \"Puntaje\": 7.4, \"Rating\": \"PG\"}, {\"Presupuesto\": 45000000.0, \"Puntaje\": 7.2, \"Rating\": \"PG-13\"}, {\"Presupuesto\": 8000000.0, \"Puntaje\": 7.6, \"Rating\": \"R\"}, {\"Presupuesto\": 94000000.0, \"Puntaje\": 8.7, \"Rating\": \"PG-13\"}, {\"Presupuesto\": 48000000.0, \"Puntaje\": 7.1, \"Rating\": \"PG-13\"}, {\"Presupuesto\": 41000000.0, \"Puntaje\": 7.0, \"Rating\": \"R\"}, {\"Presupuesto\": 84000000.0, \"Puntaje\": 5.0, \"Rating\": \"PG\"}, {\"Presupuesto\": 50000000.0, \"Puntaje\": 6.7, \"Rating\": \"R\"}, {\"Presupuesto\": 102000000.0, \"Puntaje\": 7.7, \"Rating\": \"PG-13\"}, {\"Presupuesto\": 4000000.0, \"Puntaje\": 7.0, \"Rating\": \"R\"}, {\"Presupuesto\": 60000000.0, \"Puntaje\": 7.9, \"Rating\": \"PG-13\"}, {\"Presupuesto\": 35000000.0, \"Puntaje\": 7.7, \"Rating\": \"PG-13\"}, {\"Presupuesto\": 80000000.0, \"Puntaje\": 7.7, \"Rating\": \"R\"}, {\"Presupuesto\": 38000000.0, \"Puntaje\": 6.2, \"Rating\": \"PG-13\"}, {\"Presupuesto\": 115000000.0, \"Puntaje\": 6.6, \"Rating\": \"PG\"}, {\"Presupuesto\": 75000000.0, \"Puntaje\": 7.2, \"Rating\": \"R\"}, {\"Presupuesto\": 48000000.0, \"Puntaje\": 6.8, \"Rating\": \"R\"}, {\"Presupuesto\": 46000000.0, \"Puntaje\": 7.2, \"Rating\": \"R\"}, {\"Presupuesto\": 25000000.0, \"Puntaje\": 7.6, \"Rating\": \"PG-13\"}, {\"Presupuesto\": 78000000.0, \"Puntaje\": 7.2, \"Rating\": \"R\"}, {\"Presupuesto\": 33000000.0, \"Puntaje\": 6.7, \"Rating\": \"R\"}, {\"Presupuesto\": 20000000.0, \"Puntaje\": 7.5, \"Rating\": \"R\"}, {\"Presupuesto\": 142000000.0, \"Puntaje\": 6.1, \"Rating\": \"PG-13\"}, {\"Presupuesto\": 140000000.0, \"Puntaje\": 6.1, \"Rating\": \"PG-13\"}, {\"Presupuesto\": 72000000.0, \"Puntaje\": 6.7, \"Rating\": \"PG-13\"}, {\"Presupuesto\": 19000000.0, \"Puntaje\": 7.7, \"Rating\": \"R\"}, {\"Presupuesto\": 54000000.0, \"Puntaje\": 6.7, \"Rating\": \"R\"}, {\"Presupuesto\": 5000000.0, \"Puntaje\": 6.6, \"Rating\": \"PG\"}, {\"Presupuesto\": 60000000.0, \"Puntaje\": 6.4, \"Rating\": \"PG-13\"}, {\"Presupuesto\": 59000000.0, \"Puntaje\": 7.6, \"Rating\": \"PG\"}, {\"Presupuesto\": 70000000.0, \"Puntaje\": 5.8, \"Rating\": \"PG-13\"}, {\"Presupuesto\": 80000000.0, \"Puntaje\": 7.2, \"Rating\": \"PG\"}, {\"Presupuesto\": 63000000.0, \"Puntaje\": 6.2, \"Rating\": \"PG-13\"}, {\"Presupuesto\": 13000000.0, \"Puntaje\": 7.1, \"Rating\": \"R\"}, {\"Presupuesto\": 12000000.0, \"Puntaje\": 7.4, \"Rating\": \"R\"}, {\"Presupuesto\": 18000000.0, \"Puntaje\": 6.2, \"Rating\": \"PG-13\"}, {\"Presupuesto\": 140000000.0, \"Puntaje\": 7.1, \"Rating\": \"PG\"}, {\"Presupuesto\": 100000000.0, \"Puntaje\": 6.7, \"Rating\": \"PG-13\"}, {\"Presupuesto\": 6000000.0, \"Puntaje\": 6.4, \"Rating\": \"R\"}, {\"Presupuesto\": 60000000.0, \"Puntaje\": 6.2, \"Rating\": \"PG-13\"}, {\"Presupuesto\": 60000000.0, \"Puntaje\": 5.5, \"Rating\": \"PG-13\"}, {\"Presupuesto\": 25000000.0, \"Puntaje\": 7.3, \"Rating\": \"R\"}, {\"Presupuesto\": 35000000.0, \"Puntaje\": 5.5, \"Rating\": \"R\"}, {\"Presupuesto\": 43000000.0, \"Puntaje\": 5.1, \"Rating\": \"R\"}, {\"Presupuesto\": 47000000.0, \"Puntaje\": 6.2, \"Rating\": \"PG-13\"}, {\"Presupuesto\": 21000000.0, \"Puntaje\": 6.8, \"Rating\": \"PG-13\"}, {\"Presupuesto\": 30000000.0, \"Puntaje\": 7.1, \"Rating\": \"PG-13\"}, {\"Presupuesto\": 40000000.0, \"Puntaje\": 5.8, \"Rating\": \"PG-13\"}, {\"Presupuesto\": 31000000.0, \"Puntaje\": 7.9, \"Rating\": \"PG-13\"}, {\"Presupuesto\": 6428966.0, \"Puntaje\": 8.1, \"Rating\": \"R\"}, {\"Presupuesto\": 35000000.0, \"Puntaje\": 5.3, \"Rating\": \"R\"}, {\"Presupuesto\": 32000000.0, \"Puntaje\": 6.5, \"Rating\": \"PG-13\"}, {\"Presupuesto\": 60000000.0, \"Puntaje\": 6.1, \"Rating\": \"PG-13\"}, {\"Presupuesto\": 38000000.0, \"Puntaje\": 5.7, \"Rating\": \"PG-13\"}, {\"Presupuesto\": 8000000.0, \"Puntaje\": 6.5, \"Rating\": \"R\"}, {\"Presupuesto\": 5000000.0, \"Puntaje\": 7.7, \"Rating\": \"R\"}, {\"Presupuesto\": 1500000.0, \"Puntaje\": 5.6, \"Rating\": \"R\"}, {\"Presupuesto\": 80000000.0, \"Puntaje\": 7.1, \"Rating\": \"G\"}, {\"Presupuesto\": 80000000.0, \"Puntaje\": 5.9, \"Rating\": \"PG-13\"}, {\"Presupuesto\": 15000000.0, \"Puntaje\": 4.1, \"Rating\": \"R\"}, {\"Presupuesto\": 30000000.0, \"Puntaje\": 5.6, \"Rating\": \"PG-13\"}, {\"Presupuesto\": 115000000.0, \"Puntaje\": 6.0, \"Rating\": \"R\"}, {\"Presupuesto\": 85000000.0, \"Puntaje\": 5.5, \"Rating\": \"R\"}, {\"Presupuesto\": 50000000.0, \"Puntaje\": 5.8, \"Rating\": \"PG-13\"}, {\"Presupuesto\": 68000000.0, \"Puntaje\": 6.4, \"Rating\": \"PG-13\"}, {\"Presupuesto\": 55000000.0, \"Puntaje\": 5.1, \"Rating\": \"PG-13\"}, {\"Presupuesto\": 36000000.0, \"Puntaje\": 7.1, \"Rating\": \"PG-13\"}, {\"Presupuesto\": 4000000.0, \"Puntaje\": 6.7, \"Rating\": \"R\"}, {\"Presupuesto\": 70000000.0, \"Puntaje\": 5.6, \"Rating\": \"PG-13\"}, {\"Presupuesto\": 42000000.0, \"Puntaje\": 6.3, \"Rating\": \"PG-13\"}, {\"Presupuesto\": 15000000.0, \"Puntaje\": 6.7, \"Rating\": \"PG\"}, {\"Presupuesto\": 38000000.0, \"Puntaje\": 5.1, \"Rating\": \"PG\"}, {\"Presupuesto\": 21000000.0, \"Puntaje\": 6.7, \"Rating\": \"PG-13\"}, {\"Presupuesto\": 8000000.0, \"Puntaje\": 6.8, \"Rating\": \"R\"}, {\"Presupuesto\": 29000000.0, \"Puntaje\": 7.1, \"Rating\": \"R\"}, {\"Presupuesto\": 30000000.0, \"Puntaje\": 7.2, \"Rating\": \"R\"}, {\"Presupuesto\": 50000000.0, \"Puntaje\": 6.1, \"Rating\": \"R\"}, {\"Presupuesto\": 13500000.0, \"Puntaje\": 7.4, \"Rating\": \"PG-13\"}, {\"Presupuesto\": 34000000.0, \"Puntaje\": 5.3, \"Rating\": \"PG-13\"}, {\"Presupuesto\": 10000000.0, \"Puntaje\": 5.8, \"Rating\": \"R\"}, {\"Presupuesto\": 12000000.0, \"Puntaje\": 3.4, \"Rating\": \"PG-13\"}, {\"Presupuesto\": 12000000.0, \"Puntaje\": 6.8, \"Rating\": \"R\"}, {\"Presupuesto\": 30000000.0, \"Puntaje\": 5.4, \"Rating\": \"PG-13\"}, {\"Presupuesto\": 17000000.0, \"Puntaje\": 5.6, \"Rating\": \"R\"}, {\"Presupuesto\": 4000000.0, \"Puntaje\": 7.7, \"Rating\": \"R\"}, {\"Presupuesto\": 15000000.0, \"Puntaje\": 5.4, \"Rating\": \"PG\"}, {\"Presupuesto\": 10000000.0, \"Puntaje\": 7.2, \"Rating\": \"PG\"}, {\"Presupuesto\": 60000000.0, \"Puntaje\": 5.3, \"Rating\": \"PG-13\"}, {\"Presupuesto\": 30000000.0, \"Puntaje\": 6.2, \"Rating\": \"R\"}, {\"Presupuesto\": 13000000.0, \"Puntaje\": 5.9, \"Rating\": \"PG-13\"}, {\"Presupuesto\": 500000.0, \"Puntaje\": 6.7, \"Rating\": \"R\"}, {\"Presupuesto\": 2000000.0, \"Puntaje\": 6.8, \"Rating\": \"R\"}, {\"Presupuesto\": 20000000.0, \"Puntaje\": 7.0, \"Rating\": \"G\"}, {\"Presupuesto\": 10000000.0, \"Puntaje\": 3.6, \"Rating\": \"R\"}, {\"Presupuesto\": 20000000.0, \"Puntaje\": 4.9, \"Rating\": \"R\"}, {\"Presupuesto\": 20000000.0, \"Puntaje\": 6.2, \"Rating\": \"R\"}, {\"Presupuesto\": 10000000.0, \"Puntaje\": 6.2, \"Rating\": \"PG-13\"}, {\"Presupuesto\": 16000000.0, \"Puntaje\": 7.2, \"Rating\": \"PG-13\"}, {\"Presupuesto\": 35000000.0, \"Puntaje\": 6.3, \"Rating\": \"R\"}, {\"Presupuesto\": 15000000.0, \"Puntaje\": 6.6, \"Rating\": \"R\"}, {\"Presupuesto\": 65000000.0, \"Puntaje\": 5.6, \"Rating\": \"G\"}, {\"Presupuesto\": 45000000.0, \"Puntaje\": 6.5, \"Rating\": \"R\"}, {\"Presupuesto\": 40000000.0, \"Puntaje\": 6.2, \"Rating\": \"R\"}, {\"Presupuesto\": 26000000.0, \"Puntaje\": 5.2, \"Rating\": \"PG\"}, {\"Presupuesto\": 40000000.0, \"Puntaje\": 6.5, \"Rating\": \"PG-13\"}, {\"Presupuesto\": 16000000.0, \"Puntaje\": 6.6, \"Rating\": \"PG-13\"}, {\"Presupuesto\": 35000000.0, \"Puntaje\": 5.1, \"Rating\": \"PG\"}, {\"Presupuesto\": 8500000.0, \"Puntaje\": 5.0, \"Rating\": \"PG-13\"}, {\"Presupuesto\": 20000000.0, \"Puntaje\": 5.7, \"Rating\": \"PG-13\"}, {\"Presupuesto\": 50000000.0, \"Puntaje\": 6.4, \"Rating\": \"R\"}, {\"Presupuesto\": 35000000.0, \"Puntaje\": 6.5, \"Rating\": \"PG-13\"}, {\"Presupuesto\": 12000000.0, \"Puntaje\": 6.3, \"Rating\": \"PG-13\"}, {\"Presupuesto\": 30000000.0, \"Puntaje\": 5.1, \"Rating\": \"PG\"}, {\"Presupuesto\": 85000000.0, \"Puntaje\": 5.5, \"Rating\": \"PG-13\"}, {\"Presupuesto\": 70000000.0, \"Puntaje\": 5.4, \"Rating\": \"PG-13\"}, {\"Presupuesto\": 18000000.0, \"Puntaje\": 7.2, \"Rating\": \"R\"}, {\"Presupuesto\": 16000000.0, \"Puntaje\": 3.3, \"Rating\": \"PG\"}, {\"Presupuesto\": 15000000.0, \"Puntaje\": 6.9, \"Rating\": \"PG\"}, {\"Presupuesto\": 70000000.0, \"Puntaje\": 6.3, \"Rating\": \"R\"}, {\"Presupuesto\": 1000000.0, \"Puntaje\": 7.2, \"Rating\": \"R\"}, {\"Presupuesto\": 3500000.0, \"Puntaje\": 6.7, \"Rating\": \"R\"}, {\"Presupuesto\": 25000000.0, \"Puntaje\": 5.8, \"Rating\": \"PG-13\"}, {\"Presupuesto\": 10000000.0, \"Puntaje\": 7.4, \"Rating\": \"R\"}, {\"Presupuesto\": 27000000.0, \"Puntaje\": 6.0, \"Rating\": \"PG-13\"}, {\"Presupuesto\": 100000000.0, \"Puntaje\": 3.8, \"Rating\": \"PG-13\"}, {\"Presupuesto\": 12500000.0, \"Puntaje\": 7.3, \"Rating\": \"PG-13\"}, {\"Presupuesto\": 120000000.0, \"Puntaje\": 5.4, \"Rating\": \"PG\"}, {\"Presupuesto\": 7500000.0, \"Puntaje\": 7.2, \"Rating\": \"R\"}, {\"Presupuesto\": 70000000.0, \"Puntaje\": 3.0, \"Rating\": \"R\"}, {\"Presupuesto\": 60000000.0, \"Puntaje\": 6.1, \"Rating\": \"PG-13\"}, {\"Presupuesto\": 55000000.0, \"Puntaje\": 6.4, \"Rating\": \"R\"}, {\"Presupuesto\": 29000000.0, \"Puntaje\": 5.3, \"Rating\": \"PG-13\"}, {\"Presupuesto\": 12000000.0, \"Puntaje\": 5.4, \"Rating\": \"R\"}, {\"Presupuesto\": 10600000.0, \"Puntaje\": 5.4, \"Rating\": \"PG-13\"}, {\"Presupuesto\": 30000000.0, \"Puntaje\": 7.1, \"Rating\": \"R\"}, {\"Presupuesto\": 17000000.0, \"Puntaje\": 4.8, \"Rating\": \"PG-13\"}, {\"Presupuesto\": 6000000.0, \"Puntaje\": 7.5, \"Rating\": \"PG\"}, {\"Presupuesto\": 4000000.0, \"Puntaje\": 7.0, \"Rating\": \"R\"}, {\"Presupuesto\": 1200000.0, \"Puntaje\": 5.9, \"Rating\": \"R\"}, {\"Presupuesto\": 20000000.0, \"Puntaje\": 5.8, \"Rating\": \"G\"}, {\"Presupuesto\": 25000000.0, \"Puntaje\": 4.9, \"Rating\": \"PG-13\"}, {\"Presupuesto\": 3000000.0, \"Puntaje\": 7.0, \"Rating\": \"PG-13\"}, {\"Presupuesto\": 42000000.0, \"Puntaje\": 3.3, \"Rating\": \"R\"}, {\"Presupuesto\": 35000000.0, \"Puntaje\": 4.0, \"Rating\": \"G\"}, {\"Presupuesto\": 10000000.0, \"Puntaje\": 7.0, \"Rating\": \"PG\"}, {\"Presupuesto\": 11000000.0, \"Puntaje\": 5.3, \"Rating\": \"R\"}, {\"Presupuesto\": 70000000.0, \"Puntaje\": 3.6, \"Rating\": \"R\"}, {\"Presupuesto\": 60000000.0, \"Puntaje\": 5.9, \"Rating\": \"R\"}, {\"Presupuesto\": 3500000.0, \"Puntaje\": 6.2, \"Rating\": \"R\"}, {\"Presupuesto\": 7000000.0, \"Puntaje\": 6.6, \"Rating\": \"R\"}, {\"Presupuesto\": 12500000.0, \"Puntaje\": 6.9, \"Rating\": \"PG-13\"}, {\"Presupuesto\": 25000000.0, \"Puntaje\": 6.4, \"Rating\": \"PG-13\"}, {\"Presupuesto\": 10000000.0, \"Puntaje\": 5.6, \"Rating\": \"R\"}, {\"Presupuesto\": 9000000.0, \"Puntaje\": 7.0, \"Rating\": \"R\"}, {\"Presupuesto\": 11000000.0, \"Puntaje\": 7.1, \"Rating\": \"R\"}, {\"Presupuesto\": 60000000.0, \"Puntaje\": 6.1, \"Rating\": \"R\"}, {\"Presupuesto\": 55000000.0, \"Puntaje\": 5.3, \"Rating\": \"R\"}, {\"Presupuesto\": 60000000.0, \"Puntaje\": 4.8, \"Rating\": \"PG-13\"}, {\"Presupuesto\": 9000000.0, \"Puntaje\": 7.6, \"Rating\": \"R\"}, {\"Presupuesto\": 2000000.0, \"Puntaje\": 4.8, \"Rating\": \"R\"}, {\"Presupuesto\": 13000000.0, \"Puntaje\": 4.6, \"Rating\": \"PG-13\"}, {\"Presupuesto\": 8000000.0, \"Puntaje\": 6.5, \"Rating\": \"PG-13\"}, {\"Presupuesto\": 14000000.0, \"Puntaje\": 5.8, \"Rating\": \"R\"}, {\"Presupuesto\": 10000000.0, \"Puntaje\": 5.6, \"Rating\": \"R\"}, {\"Presupuesto\": 1800000.0, \"Puntaje\": 6.8, \"Rating\": \"R\"}, {\"Presupuesto\": 11000000.0, \"Puntaje\": 5.4, \"Rating\": \"R\"}, {\"Presupuesto\": 500000.0, \"Puntaje\": 6.1, \"Rating\": \"R\"}, {\"Presupuesto\": 17500000.0, \"Puntaje\": 6.0, \"Rating\": \"R\"}, {\"Presupuesto\": 4000000.0, \"Puntaje\": 7.7, \"Rating\": \"R\"}, {\"Presupuesto\": 11000000.0, \"Puntaje\": 6.5, \"Rating\": \"PG\"}, {\"Presupuesto\": 25000000.0, \"Puntaje\": 5.3, \"Rating\": \"PG\"}, {\"Presupuesto\": 12000000.0, \"Puntaje\": 6.4, \"Rating\": \"R\"}, {\"Presupuesto\": 15600000.0, \"Puntaje\": 4.5, \"Rating\": \"PG-13\"}, {\"Presupuesto\": 3500000.0, \"Puntaje\": 6.0, \"Rating\": \"R\"}, {\"Presupuesto\": 250000.0, \"Puntaje\": 7.2, \"Rating\": \"R\"}, {\"Presupuesto\": 3000000.0, \"Puntaje\": 5.9, \"Rating\": \"PG\"}, {\"Presupuesto\": 11000000.0, \"Puntaje\": 6.6, \"Rating\": \"R\"}, {\"Presupuesto\": 6000000.0, \"Puntaje\": 3.6, \"Rating\": \"R\"}, {\"Presupuesto\": 140000000.0, \"Puntaje\": 8.0, \"Rating\": \"PG-13\"}, {\"Presupuesto\": 30000000.0, \"Puntaje\": 8.1, \"Rating\": \"R\"}, {\"Presupuesto\": 94000000.0, \"Puntaje\": 8.9, \"Rating\": \"PG-13\"}, {\"Presupuesto\": 40000000.0, \"Puntaje\": 7.7, \"Rating\": \"R\"}, {\"Presupuesto\": 3000000.0, \"Puntaje\": 8.4, \"Rating\": \"R\"}, {\"Presupuesto\": 17000000.0, \"Puntaje\": 5.6, \"Rating\": \"R\"}, {\"Presupuesto\": 25000000.0, \"Puntaje\": 8.0, \"Rating\": \"R\"}, {\"Presupuesto\": 137000000.0, \"Puntaje\": 5.7, \"Rating\": \"PG-13\"}, {\"Presupuesto\": 94000000.0, \"Puntaje\": 8.1, \"Rating\": \"G\"}, {\"Presupuesto\": 4000000.0, \"Puntaje\": 7.8, \"Rating\": \"R\"}, {\"Presupuesto\": 9200000.0, \"Puntaje\": 6.2, \"Rating\": \"R\"}, {\"Presupuesto\": 1500000.0, \"Puntaje\": 6.8, \"Rating\": \"R\"}, {\"Presupuesto\": 4500000.0, \"Puntaje\": 7.3, \"Rating\": \"R\"}, {\"Presupuesto\": 12600000.0, \"Puntaje\": 6.1, \"Rating\": \"R\"}, {\"Presupuesto\": 40000000.0, \"Puntaje\": 5.8, \"Rating\": \"PG\"}, {\"Presupuesto\": 150000000.0, \"Puntaje\": 7.2, \"Rating\": \"R\"}, {\"Presupuesto\": 20000000.0, \"Puntaje\": 7.1, \"Rating\": \"PG\"}, {\"Presupuesto\": 22000000.0, \"Puntaje\": 7.0, \"Rating\": \"R\"}, {\"Presupuesto\": 70000000.0, \"Puntaje\": 8.0, \"Rating\": \"PG-13\"}, {\"Presupuesto\": 78000000.0, \"Puntaje\": 5.3, \"Rating\": \"PG-13\"}, {\"Presupuesto\": 140000000.0, \"Puntaje\": 7.7, \"Rating\": \"R\"}, {\"Presupuesto\": 35000000.0, \"Puntaje\": 7.1, \"Rating\": \"PG-13\"}, {\"Presupuesto\": 200000000.0, \"Puntaje\": 6.3, \"Rating\": \"R\"}, {\"Presupuesto\": 60000000.0, \"Puntaje\": 7.0, \"Rating\": \"PG-13\"}, {\"Presupuesto\": 30000000.0, \"Puntaje\": 7.3, \"Rating\": \"R\"}, {\"Presupuesto\": 30000000.0, \"Puntaje\": 5.8, \"Rating\": \"R\"}, {\"Presupuesto\": 24000000.0, \"Puntaje\": 7.2, \"Rating\": \"R\"}, {\"Presupuesto\": 76000000.0, \"Puntaje\": 5.9, \"Rating\": \"PG-13\"}, {\"Presupuesto\": 150000000.0, \"Puntaje\": 6.7, \"Rating\": \"R\"}, {\"Presupuesto\": 78000000.0, \"Puntaje\": 5.8, \"Rating\": \"PG-13\"}, {\"Presupuesto\": 100000000.0, \"Puntaje\": 6.9, \"Rating\": \"PG\"}, {\"Presupuesto\": 7000000.0, \"Puntaje\": 6.0, \"Rating\": \"R\"}, {\"Presupuesto\": 68000000.0, \"Puntaje\": 5.5, \"Rating\": \"R\"}, {\"Presupuesto\": 95000000.0, \"Puntaje\": 5.5, \"Rating\": \"PG-13\"}, {\"Presupuesto\": 79000000.0, \"Puntaje\": 7.2, \"Rating\": \"R\"}, {\"Presupuesto\": 81000000.0, \"Puntaje\": 6.7, \"Rating\": \"PG-13\"}, {\"Presupuesto\": 110000000.0, \"Puntaje\": 7.5, \"Rating\": \"PG-13\"}, {\"Presupuesto\": 150000000.0, \"Puntaje\": 7.4, \"Rating\": \"PG-13\"}, {\"Presupuesto\": 22000000.0, \"Puntaje\": 7.5, \"Rating\": \"R\"}, {\"Presupuesto\": 85000000.0, \"Puntaje\": 6.7, \"Rating\": \"PG-13\"}, {\"Presupuesto\": 33000000.0, \"Puntaje\": 6.9, \"Rating\": \"PG\"}, {\"Presupuesto\": 50000000.0, \"Puntaje\": 6.4, \"Rating\": \"PG-13\"}, {\"Presupuesto\": 109000000.0, \"Puntaje\": 3.8, \"Rating\": \"PG\"}, {\"Presupuesto\": 26000000.0, \"Puntaje\": 6.1, \"Rating\": \"PG\"}, {\"Presupuesto\": 120000000.0, \"Puntaje\": 4.8, \"Rating\": \"PG-13\"}, {\"Presupuesto\": 130000000.0, \"Puntaje\": 6.6, \"Rating\": \"R\"}, {\"Presupuesto\": 55000000.0, \"Puntaje\": 6.3, \"Rating\": \"R\"}, {\"Presupuesto\": 30000000.0, \"Puntaje\": 7.6, \"Rating\": \"PG\"}, {\"Presupuesto\": 26000000.0, \"Puntaje\": 6.2, \"Rating\": \"R\"}, {\"Presupuesto\": 20000000.0, \"Puntaje\": 7.7, \"Rating\": \"R\"}, {\"Presupuesto\": 50000000.0, \"Puntaje\": 7.6, \"Rating\": \"R\"}, {\"Presupuesto\": 2800000.0, \"Puntaje\": 8.1, \"Rating\": \"NOT RATED\"}, {\"Presupuesto\": 15000000.0, \"Puntaje\": 7.6, \"Rating\": \"R\"}, {\"Presupuesto\": 17000000.0, \"Puntaje\": 5.4, \"Rating\": \"PG\"}, {\"Presupuesto\": 29000000.0, \"Puntaje\": 6.4, \"Rating\": \"R\"}, {\"Presupuesto\": 60000000.0, \"Puntaje\": 5.5, \"Rating\": \"PG-13\"}, {\"Presupuesto\": 48000000.0, \"Puntaje\": 5.5, \"Rating\": \"PG-13\"}, {\"Presupuesto\": 65000000.0, \"Puntaje\": 6.4, \"Rating\": \"PG-13\"}, {\"Presupuesto\": 10000000.0, \"Puntaje\": 5.0, \"Rating\": \"NOT RATED\"}, {\"Presupuesto\": 75000000.0, \"Puntaje\": 6.2, \"Rating\": \"PG-13\"}, {\"Presupuesto\": 35000000.0, \"Puntaje\": 6.3, \"Rating\": \"PG-13\"}, {\"Presupuesto\": 30000000.0, \"Puntaje\": 6.3, \"Rating\": \"R\"}, {\"Presupuesto\": 120000.0, \"Puntaje\": 5.7, \"Rating\": \"R\"}, {\"Presupuesto\": 18000000.0, \"Puntaje\": 6.8, \"Rating\": \"PG-13\"}, {\"Presupuesto\": 70000000.0, \"Puntaje\": 6.6, \"Rating\": \"R\"}, {\"Presupuesto\": 75000000.0, \"Puntaje\": 5.3, \"Rating\": \"PG-13\"}, {\"Presupuesto\": 38000000.0, \"Puntaje\": 4.2, \"Rating\": \"PG\"}, {\"Presupuesto\": 60000000.0, \"Puntaje\": 6.7, \"Rating\": \"PG\"}, {\"Presupuesto\": 20000000.0, \"Puntaje\": 5.8, \"Rating\": \"PG\"}, {\"Presupuesto\": 60000000.0, \"Puntaje\": 6.5, \"Rating\": \"R\"}, {\"Presupuesto\": 80000000.0, \"Puntaje\": 6.7, \"Rating\": \"PG-13\"}, {\"Presupuesto\": 40000000.0, \"Puntaje\": 5.8, \"Rating\": \"R\"}, {\"Presupuesto\": 80000000.0, \"Puntaje\": 6.0, \"Rating\": \"PG-13\"}, {\"Presupuesto\": 35000000.0, \"Puntaje\": 6.1, \"Rating\": \"PG\"}, {\"Presupuesto\": 26000000.0, \"Puntaje\": 5.0, \"Rating\": \"PG\"}, {\"Presupuesto\": 90000000.0, \"Puntaje\": 4.9, \"Rating\": \"PG\"}, {\"Presupuesto\": 50000000.0, \"Puntaje\": 6.5, \"Rating\": \"R\"}, {\"Presupuesto\": 23000000.0, \"Puntaje\": 7.1, \"Rating\": \"R\"}, {\"Presupuesto\": 30000000.0, \"Puntaje\": 5.2, \"Rating\": \"PG-13\"}, {\"Presupuesto\": 60000000.0, \"Puntaje\": 6.3, \"Rating\": \"PG-13\"}, {\"Presupuesto\": 62000000.0, \"Puntaje\": 7.3, \"Rating\": \"PG-13\"}, {\"Presupuesto\": 60000000.0, \"Puntaje\": 5.5, \"Rating\": \"PG\"}, {\"Presupuesto\": 46000000.0, \"Puntaje\": 6.6, \"Rating\": \"PG-13\"}, {\"Presupuesto\": 3000000.0, \"Puntaje\": 7.2, \"Rating\": \"R\"}, {\"Presupuesto\": 128000000.0, \"Puntaje\": 6.8, \"Rating\": \"G\"}, {\"Presupuesto\": 36000000.0, \"Puntaje\": 6.1, \"Rating\": \"R\"}, {\"Presupuesto\": 16000000.0, \"Puntaje\": 5.1, \"Rating\": \"PG-13\"}, {\"Presupuesto\": 33000000.0, \"Puntaje\": 5.6, \"Rating\": \"PG-13\"}, {\"Presupuesto\": 35000000.0, \"Puntaje\": 6.5, \"Rating\": \"R\"}, {\"Presupuesto\": 80000000.0, \"Puntaje\": 5.6, \"Rating\": \"PG-13\"}, {\"Presupuesto\": 80000000.0, \"Puntaje\": 5.7, \"Rating\": \"PG\"}, {\"Presupuesto\": 50000000.0, \"Puntaje\": 6.5, \"Rating\": \"PG-13\"}, {\"Presupuesto\": 5000000.0, \"Puntaje\": 6.6, \"Rating\": \"R\"}, {\"Presupuesto\": 60000000.0, \"Puntaje\": 7.1, \"Rating\": \"PG-13\"}, {\"Presupuesto\": 55000000.0, \"Puntaje\": 5.8, \"Rating\": \"PG-13\"}, {\"Presupuesto\": 60000000.0, \"Puntaje\": 4.4, \"Rating\": \"PG\"}, {\"Presupuesto\": 60000000.0, \"Puntaje\": 6.3, \"Rating\": \"PG-13\"}, {\"Presupuesto\": 11000000.0, \"Puntaje\": 5.0, \"Rating\": \"PG-13\"}, {\"Presupuesto\": 18000000.0, \"Puntaje\": 5.3, \"Rating\": \"PG-13\"}, {\"Presupuesto\": 54000000.0, \"Puntaje\": 2.4, \"Rating\": \"R\"}, {\"Presupuesto\": 12000000.0, \"Puntaje\": 5.3, \"Rating\": \"R\"}, {\"Presupuesto\": 38000000.0, \"Puntaje\": 5.2, \"Rating\": \"R\"}, {\"Presupuesto\": 55000000.0, \"Puntaje\": 6.0, \"Rating\": \"R\"}, {\"Presupuesto\": 19000000.0, \"Puntaje\": 3.4, \"Rating\": \"PG-13\"}, {\"Presupuesto\": 18000000.0, \"Puntaje\": 5.4, \"Rating\": \"PG-13\"}, {\"Presupuesto\": 50000000.0, \"Puntaje\": 6.2, \"Rating\": \"PG-13\"}, {\"Presupuesto\": 45000000.0, \"Puntaje\": 4.7, \"Rating\": \"PG-13\"}, {\"Presupuesto\": 87000000.0, \"Puntaje\": 7.3, \"Rating\": \"PG-13\"}, {\"Presupuesto\": 20000000.0, \"Puntaje\": 6.1, \"Rating\": \"PG-13\"}, {\"Presupuesto\": 500000.0, \"Puntaje\": 7.7, \"Rating\": \"R\"}, {\"Presupuesto\": 7000000.0, \"Puntaje\": 2.0, \"Rating\": \"R\"}, {\"Presupuesto\": 30000000.0, \"Puntaje\": 5.8, \"Rating\": \"R\"}, {\"Presupuesto\": 35000000.0, \"Puntaje\": 6.9, \"Rating\": \"PG\"}, {\"Presupuesto\": 41000000.0, \"Puntaje\": 5.2, \"Rating\": \"PG-13\"}, {\"Presupuesto\": 56000000.0, \"Puntaje\": 6.3, \"Rating\": \"PG-13\"}, {\"Presupuesto\": 6000000.0, \"Puntaje\": 7.2, \"Rating\": \"PG-13\"}, {\"Presupuesto\": 20000000.0, \"Puntaje\": 5.6, \"Rating\": \"PG-13\"}, {\"Presupuesto\": 22000000.0, \"Puntaje\": 6.2, \"Rating\": \"PG-13\"}, {\"Presupuesto\": 12000000.0, \"Puntaje\": 2.1, \"Rating\": \"PG\"}, {\"Presupuesto\": 5000000.0, \"Puntaje\": 6.3, \"Rating\": \"R\"}, {\"Presupuesto\": 18000000.0, \"Puntaje\": 6.4, \"Rating\": \"R\"}, {\"Presupuesto\": 52000000.0, \"Puntaje\": 5.5, \"Rating\": \"PG-13\"}, {\"Presupuesto\": 40000000.0, \"Puntaje\": 5.7, \"Rating\": \"PG-13\"}, {\"Presupuesto\": 25000000.0, \"Puntaje\": 5.6, \"Rating\": \"PG\"}, {\"Presupuesto\": 35200000.0, \"Puntaje\": 5.4, \"Rating\": \"PG-13\"}, {\"Presupuesto\": 9500000.0, \"Puntaje\": 7.8, \"Rating\": \"PG-13\"}, {\"Presupuesto\": 17000000.0, \"Puntaje\": 5.6, \"Rating\": \"PG-13\"}, {\"Presupuesto\": 2500000.0, \"Puntaje\": 6.9, \"Rating\": \"R\"}, {\"Presupuesto\": 40000000.0, \"Puntaje\": 5.9, \"Rating\": \"PG-13\"}, {\"Presupuesto\": 780000.0, \"Puntaje\": 6.8, \"Rating\": \"PG-13\"}, {\"Presupuesto\": 10000000.0, \"Puntaje\": 6.9, \"Rating\": \"PG-13\"}, {\"Presupuesto\": 8000000.0, \"Puntaje\": 7.1, \"Rating\": \"R\"}, {\"Presupuesto\": 15000000.0, \"Puntaje\": 6.7, \"Rating\": \"R\"}, {\"Presupuesto\": 3200000.0, \"Puntaje\": 7.0, \"Rating\": \"R\"}, {\"Presupuesto\": 17000000.0, \"Puntaje\": 6.9, \"Rating\": \"R\"}, {\"Presupuesto\": 4000000.0, \"Puntaje\": 6.7, \"Rating\": \"R\"}, {\"Presupuesto\": 300000.0, \"Puntaje\": 7.1, \"Rating\": \"PG-13\"}, {\"Presupuesto\": 850000.0, \"Puntaje\": 7.1, \"Rating\": \"R\"}, {\"Presupuesto\": 14000000.0, \"Puntaje\": 4.7, \"Rating\": \"PG-13\"}, {\"Presupuesto\": 16000000.0, \"Puntaje\": 5.6, \"Rating\": \"PG-13\"}, {\"Presupuesto\": 20000000.0, \"Puntaje\": 5.4, \"Rating\": \"G\"}, {\"Presupuesto\": 8000000.0, \"Puntaje\": 5.6, \"Rating\": \"R\"}, {\"Presupuesto\": 17000000.0, \"Puntaje\": 5.1, \"Rating\": \"PG\"}, {\"Presupuesto\": 15000000.0, \"Puntaje\": 5.5, \"Rating\": \"PG-13\"}, {\"Presupuesto\": 5000000.0, \"Puntaje\": 6.9, \"Rating\": \"R\"}, {\"Presupuesto\": 7500000.0, \"Puntaje\": 6.2, \"Rating\": \"R\"}, {\"Presupuesto\": 6800000.0, \"Puntaje\": 6.4, \"Rating\": \"R\"}, {\"Presupuesto\": 15000000.0, \"Puntaje\": 6.4, \"Rating\": \"PG-13\"}, {\"Presupuesto\": 30000000.0, \"Puntaje\": 5.6, \"Rating\": \"PG-13\"}, {\"Presupuesto\": 5740000.0, \"Puntaje\": 6.7, \"Rating\": \"R\"}, {\"Presupuesto\": 15000000.0, \"Puntaje\": 7.2, \"Rating\": \"R\"}, {\"Presupuesto\": 10000000.0, \"Puntaje\": 7.1, \"Rating\": \"R\"}, {\"Presupuesto\": 20000.0, \"Puntaje\": 7.3, \"Rating\": \"UNRATED\"}, {\"Presupuesto\": 1000000.0, \"Puntaje\": 6.1, \"Rating\": \"PG-13\"}, {\"Presupuesto\": 29000000.0, \"Puntaje\": 7.9, \"Rating\": \"PG-13\"}, {\"Presupuesto\": 1200000.0, \"Puntaje\": 7.7, \"Rating\": \"R\"}, {\"Presupuesto\": 175000000.0, \"Puntaje\": 7.2, \"Rating\": \"R\"}, {\"Presupuesto\": 60000000.0, \"Puntaje\": 6.5, \"Rating\": \"PG-13\"}, {\"Presupuesto\": 66000000.0, \"Puntaje\": 6.8, \"Rating\": \"PG-13\"}, {\"Presupuesto\": 17000000.0, \"Puntaje\": 7.0, \"Rating\": \"PG-13\"}, {\"Presupuesto\": 130000000.0, \"Puntaje\": 7.8, \"Rating\": \"PG\"}, {\"Presupuesto\": 92000000.0, \"Puntaje\": 8.0, \"Rating\": \"PG\"}, {\"Presupuesto\": 20000000.0, \"Puntaje\": 8.3, \"Rating\": \"R\"}, {\"Presupuesto\": 125000000.0, \"Puntaje\": 6.4, \"Rating\": \"PG-13\"}, {\"Presupuesto\": 30000000.0, \"Puntaje\": 8.0, \"Rating\": \"R\"}, {\"Presupuesto\": 33000000.0, \"Puntaje\": 6.5, \"Rating\": \"R\"}, {\"Presupuesto\": 25000000.0, \"Puntaje\": 6.6, \"Rating\": \"R\"}, {\"Presupuesto\": 160000000.0, \"Puntaje\": 6.0, \"Rating\": \"PG-13\"}, {\"Presupuesto\": 70000000.0, \"Puntaje\": 7.3, \"Rating\": \"PG-13\"}, {\"Presupuesto\": 25000000.0, \"Puntaje\": 6.8, \"Rating\": \"R\"}, {\"Presupuesto\": 37000000.0, \"Puntaje\": 5.5, \"Rating\": \"PG-13\"}, {\"Presupuesto\": 5000000.0, \"Puntaje\": 7.7, \"Rating\": \"R\"}, {\"Presupuesto\": 6500000.0, \"Puntaje\": 7.8, \"Rating\": \"R\"}, {\"Presupuesto\": 400000.0, \"Puntaje\": 6.9, \"Rating\": \"PG\"}, {\"Presupuesto\": 30000000.0, \"Puntaje\": 8.1, \"Rating\": \"PG-13\"}, {\"Presupuesto\": 13000000.0, \"Puntaje\": 7.7, \"Rating\": \"R\"}, {\"Presupuesto\": 12000000.0, \"Puntaje\": 4.9, \"Rating\": \"R\"}, {\"Presupuesto\": 26000000.0, \"Puntaje\": 7.3, \"Rating\": \"R\"}, {\"Presupuesto\": 30000000.0, \"Puntaje\": 7.2, \"Rating\": \"R\"}, {\"Presupuesto\": 50000000.0, \"Puntaje\": 7.3, \"Rating\": \"R\"}, {\"Presupuesto\": 27000000.0, \"Puntaje\": 7.3, \"Rating\": \"R\"}, {\"Presupuesto\": 24000000.0, \"Puntaje\": 8.2, \"Rating\": \"PG\"}, {\"Presupuesto\": 110000000.0, \"Puntaje\": 7.5, \"Rating\": \"PG-13\"}, {\"Presupuesto\": 20000000.0, \"Puntaje\": 6.7, \"Rating\": \"PG-13\"}, {\"Presupuesto\": 120000000.0, \"Puntaje\": 6.3, \"Rating\": \"PG-13\"}, {\"Presupuesto\": 140000000.0, \"Puntaje\": 6.8, \"Rating\": \"PG\"}, {\"Presupuesto\": 37000000.0, \"Puntaje\": 6.1, \"Rating\": \"PG-13\"}, {\"Presupuesto\": 25000000.0, \"Puntaje\": 7.7, \"Rating\": \"PG\"}, {\"Presupuesto\": 200000000.0, \"Puntaje\": 7.3, \"Rating\": \"PG-13\"}, {\"Presupuesto\": 65000000.0, \"Puntaje\": 7.6, \"Rating\": \"R\"}, {\"Presupuesto\": 120000000.0, \"Puntaje\": 7.1, \"Rating\": \"PG-13\"}, {\"Presupuesto\": 75000000.0, \"Puntaje\": 7.8, \"Rating\": \"PG-13\"}, {\"Presupuesto\": 150000000.0, \"Puntaje\": 7.2, \"Rating\": \"PG\"}, {\"Presupuesto\": 70000000.0, \"Puntaje\": 7.7, \"Rating\": \"R\"}, {\"Presupuesto\": 155000000.0, \"Puntaje\": 5.5, \"Rating\": \"R\"}, {\"Presupuesto\": 105000000.0, \"Puntaje\": 6.7, \"Rating\": \"PG-13\"}, {\"Presupuesto\": 20000000.0, \"Puntaje\": 5.9, \"Rating\": \"PG\"}, {\"Presupuesto\": 60000000.0, \"Puntaje\": 7.3, \"Rating\": \"PG-13\"}, {\"Presupuesto\": 12000000.0, \"Puntaje\": 7.5, \"Rating\": \"R\"}, {\"Presupuesto\": 75000000.0, \"Puntaje\": 6.8, \"Rating\": \"PG-13\"}, {\"Presupuesto\": 26000000.0, \"Puntaje\": 7.2, \"Rating\": \"PG-13\"}, {\"Presupuesto\": 60000000.0, \"Puntaje\": 5.6, \"Rating\": \"PG-13\"}, {\"Presupuesto\": 100000000.0, \"Puntaje\": 6.9, \"Rating\": \"PG\"}, {\"Presupuesto\": 40000000.0, \"Puntaje\": 5.7, \"Rating\": \"G\"}, {\"Presupuesto\": 65000000.0, \"Puntaje\": 5.9, \"Rating\": \"R\"}, {\"Presupuesto\": 30000000.0, \"Puntaje\": 7.3, \"Rating\": \"PG-13\"}, {\"Presupuesto\": 110000000.0, \"Puntaje\": 6.5, \"Rating\": \"PG-13\"}, {\"Presupuesto\": 42000000.0, \"Puntaje\": 5.9, \"Rating\": \"PG-13\"}, {\"Presupuesto\": 25000000.0, \"Puntaje\": 6.0, \"Rating\": \"PG-13\"}, {\"Presupuesto\": 7000.0, \"Puntaje\": 6.9, \"Rating\": \"PG-13\"}, {\"Presupuesto\": 9000000.0, \"Puntaje\": 7.1, \"Rating\": \"R\"}, {\"Presupuesto\": 30000000.0, \"Puntaje\": 7.2, \"Rating\": \"R\"}, {\"Presupuesto\": 35000000.0, \"Puntaje\": 6.3, \"Rating\": \"PG\"}, {\"Presupuesto\": 2500000.0, \"Puntaje\": 7.5, \"Rating\": \"R\"}, {\"Presupuesto\": 90000000.0, \"Puntaje\": 5.2, \"Rating\": \"PG-13\"}, {\"Presupuesto\": 10000000.0, \"Puntaje\": 5.3, \"Rating\": \"PG\"}, {\"Presupuesto\": 10000000.0, \"Puntaje\": 5.9, \"Rating\": \"PG-13\"}, {\"Presupuesto\": 15000000.0, \"Puntaje\": 4.6, \"Rating\": \"PG\"}, {\"Presupuesto\": 165000000.0, \"Puntaje\": 6.6, \"Rating\": \"G\"}, {\"Presupuesto\": 45000000.0, \"Puntaje\": 6.2, \"Rating\": \"R\"}, {\"Presupuesto\": 2700000.0, \"Puntaje\": 8.0, \"Rating\": \"R\"}, {\"Presupuesto\": 17500000.0, \"Puntaje\": 8.1, \"Rating\": \"PG-13\"}, {\"Presupuesto\": 40000000.0, \"Puntaje\": 6.6, \"Rating\": \"PG-13\"}, {\"Presupuesto\": 80000000.0, \"Puntaje\": 6.3, \"Rating\": \"PG-13\"}, {\"Presupuesto\": 80000000.0, \"Puntaje\": 6.6, \"Rating\": \"R\"}, {\"Presupuesto\": 75000000.0, \"Puntaje\": 6.0, \"Rating\": \"PG\"}, {\"Presupuesto\": 45000000.0, \"Puntaje\": 6.2, \"Rating\": \"R\"}, {\"Presupuesto\": 100000000.0, \"Puntaje\": 3.3, \"Rating\": \"PG-13\"}, {\"Presupuesto\": 20000000.0, \"Puntaje\": 7.8, \"Rating\": \"R\"}, {\"Presupuesto\": 35000000.0, \"Puntaje\": 6.2, \"Rating\": \"R\"}, {\"Presupuesto\": 56000000.0, \"Puntaje\": 6.2, \"Rating\": \"PG-13\"}, {\"Presupuesto\": 80000000.0, \"Puntaje\": 5.0, \"Rating\": \"PG\"}, {\"Presupuesto\": 80000000.0, \"Puntaje\": 6.4, \"Rating\": \"PG-13\"}, {\"Presupuesto\": 70000000.0, \"Puntaje\": 6.1, \"Rating\": \"PG\"}, {\"Presupuesto\": 110000000.0, \"Puntaje\": 5.8, \"Rating\": \"PG\"}, {\"Presupuesto\": 30000000.0, \"Puntaje\": 7.0, \"Rating\": \"PG\"}, {\"Presupuesto\": 28000000.0, \"Puntaje\": 7.5, \"Rating\": \"PG\"}, {\"Presupuesto\": 40000000.0, \"Puntaje\": 7.7, \"Rating\": \"PG-13\"}, {\"Presupuesto\": 40000000.0, \"Puntaje\": 5.9, \"Rating\": \"R\"}, {\"Presupuesto\": 15000000.0, \"Puntaje\": 5.9, \"Rating\": \"PG\"}, {\"Presupuesto\": 47000000.0, \"Puntaje\": 7.7, \"Rating\": \"R\"}, {\"Presupuesto\": 30000000.0, \"Puntaje\": 7.0, \"Rating\": \"PG-13\"}, {\"Presupuesto\": 25000000.0, \"Puntaje\": 4.4, \"Rating\": \"PG-13\"}, {\"Presupuesto\": 60000000.0, \"Puntaje\": 6.1, \"Rating\": \"PG-13\"}, {\"Presupuesto\": 45000000.0, \"Puntaje\": 6.1, \"Rating\": \"PG-13\"}, {\"Presupuesto\": 23000000.0, \"Puntaje\": 6.1, \"Rating\": \"PG-13\"}, {\"Presupuesto\": 18000000.0, \"Puntaje\": 5.2, \"Rating\": \"PG\"}, {\"Presupuesto\": 31000000.0, \"Puntaje\": 6.3, \"Rating\": \"PG-13\"}, {\"Presupuesto\": 3500000.0, \"Puntaje\": 5.3, \"Rating\": \"PG-13\"}, {\"Presupuesto\": 25000000.0, \"Puntaje\": 6.5, \"Rating\": \"PG-13\"}, {\"Presupuesto\": 27000000.0, \"Puntaje\": 6.4, \"Rating\": \"R\"}, {\"Presupuesto\": 22000000.0, \"Puntaje\": 6.7, \"Rating\": \"R\"}, {\"Presupuesto\": 35000000.0, \"Puntaje\": 5.0, \"Rating\": \"PG\"}, {\"Presupuesto\": 11000000.0, \"Puntaje\": 7.1, \"Rating\": \"R\"}, {\"Presupuesto\": 42000000.0, \"Puntaje\": 5.8, \"Rating\": \"PG-13\"}, {\"Presupuesto\": 19000000.0, \"Puntaje\": 5.9, \"Rating\": \"PG-13\"}, {\"Presupuesto\": 35000000.0, \"Puntaje\": 6.2, \"Rating\": \"PG-13\"}, {\"Presupuesto\": 23000000.0, \"Puntaje\": 6.2, \"Rating\": \"PG-13\"}, {\"Presupuesto\": 12000000.0, \"Puntaje\": 7.5, \"Rating\": \"R\"}, {\"Presupuesto\": 16000000.0, \"Puntaje\": 4.4, \"Rating\": \"R\"}, {\"Presupuesto\": 57000000.0, \"Puntaje\": 4.2, \"Rating\": \"PG\"}, {\"Presupuesto\": 50000000.0, \"Puntaje\": 5.1, \"Rating\": \"R\"}, {\"Presupuesto\": 8600000.0, \"Puntaje\": 5.7, \"Rating\": \"R\"}, {\"Presupuesto\": 24000000.0, \"Puntaje\": 5.6, \"Rating\": \"PG-13\"}, {\"Presupuesto\": 40000000.0, \"Puntaje\": 5.7, \"Rating\": \"PG-13\"}, {\"Presupuesto\": 5000000.0, \"Puntaje\": 6.8, \"Rating\": \"PG-13\"}, {\"Presupuesto\": 100000000.0, \"Puntaje\": 6.7, \"Rating\": \"PG-13\"}, {\"Presupuesto\": 500000.0, \"Puntaje\": 7.3, \"Rating\": \"R\"}, {\"Presupuesto\": 8000000.0, \"Puntaje\": 3.5, \"Rating\": \"PG-13\"}, {\"Presupuesto\": 60000000.0, \"Puntaje\": 5.2, \"Rating\": \"PG\"}, {\"Presupuesto\": 58000000.0, \"Puntaje\": 6.3, \"Rating\": \"PG-13\"}, {\"Presupuesto\": 40000000.0, \"Puntaje\": 4.0, \"Rating\": \"PG-13\"}, {\"Presupuesto\": 23000000.0, \"Puntaje\": 6.7, \"Rating\": \"PG-13\"}, {\"Presupuesto\": 15000000.0, \"Puntaje\": 5.1, \"Rating\": \"NC-17\"}, {\"Presupuesto\": 30000000.0, \"Puntaje\": 4.9, \"Rating\": \"PG\"}, {\"Presupuesto\": 30000000.0, \"Puntaje\": 5.0, \"Rating\": \"PG\"}, {\"Presupuesto\": 18000000.0, \"Puntaje\": 7.1, \"Rating\": \"R\"}, {\"Presupuesto\": 20000000.0, \"Puntaje\": 6.1, \"Rating\": \"R\"}, {\"Presupuesto\": 5000000.0, \"Puntaje\": 7.5, \"Rating\": \"NC-17\"}, {\"Presupuesto\": 60000000.0, \"Puntaje\": 6.2, \"Rating\": \"R\"}, {\"Presupuesto\": 7000000.0, \"Puntaje\": 6.2, \"Rating\": \"PG-13\"}, {\"Presupuesto\": 50000000.0, \"Puntaje\": 4.9, \"Rating\": \"PG-13\"}, {\"Presupuesto\": 26000000.0, \"Puntaje\": 4.5, \"Rating\": \"PG\"}, {\"Presupuesto\": 50000000.0, \"Puntaje\": 6.1, \"Rating\": \"PG-13\"}, {\"Presupuesto\": 107000000.0, \"Puntaje\": 6.0, \"Rating\": \"PG-13\"}, {\"Presupuesto\": 55000000.0, \"Puntaje\": 6.5, \"Rating\": \"PG-13\"}, {\"Presupuesto\": 25000000.0, \"Puntaje\": 4.6, \"Rating\": \"PG-13\"}, {\"Presupuesto\": 50000000.0, \"Puntaje\": 6.0, \"Rating\": \"PG-13\"}, {\"Presupuesto\": 20000000.0, \"Puntaje\": 2.0, \"Rating\": \"PG\"}, {\"Presupuesto\": 40000000.0, \"Puntaje\": 4.8, \"Rating\": \"PG-13\"}, {\"Presupuesto\": 40000000.0, \"Puntaje\": 5.5, \"Rating\": \"PG-13\"}, {\"Presupuesto\": 20000000.0, \"Puntaje\": 6.6, \"Rating\": \"PG-13\"}, {\"Presupuesto\": 4200000.0, \"Puntaje\": 6.5, \"Rating\": \"R\"}, {\"Presupuesto\": 7000000.0, \"Puntaje\": 7.9, \"Rating\": \"NOT RATED\"}, {\"Presupuesto\": 50000000.0, \"Puntaje\": 5.2, \"Rating\": \"R\"}, {\"Presupuesto\": 110000000.0, \"Puntaje\": 5.4, \"Rating\": \"PG\"}, {\"Presupuesto\": 26000000.0, \"Puntaje\": 6.5, \"Rating\": \"PG-13\"}, {\"Presupuesto\": 26000000.0, \"Puntaje\": 4.3, \"Rating\": \"PG\"}, {\"Presupuesto\": 12000000.0, \"Puntaje\": 4.4, \"Rating\": \"PG-13\"}, {\"Presupuesto\": 5000000.0, \"Puntaje\": 5.2, \"Rating\": \"R\"}, {\"Presupuesto\": 19250000.0, \"Puntaje\": 6.6, \"Rating\": \"R\"}, {\"Presupuesto\": 28000000.0, \"Puntaje\": 5.9, \"Rating\": \"PG-13\"}, {\"Presupuesto\": 3000000.0, \"Puntaje\": 7.5, \"Rating\": \"R\"}, {\"Presupuesto\": 8000000.0, \"Puntaje\": 5.3, \"Rating\": \"R\"}, {\"Presupuesto\": 6000000.0, \"Puntaje\": 7.0, \"Rating\": \"PG-13\"}, {\"Presupuesto\": 35000000.0, \"Puntaje\": 5.3, \"Rating\": \"PG-13\"}, {\"Presupuesto\": 11000000.0, \"Puntaje\": 7.7, \"Rating\": \"R\"}, {\"Presupuesto\": 6500000.0, \"Puntaje\": 6.7, \"Rating\": \"R\"}, {\"Presupuesto\": 26000000.0, \"Puntaje\": 5.2, \"Rating\": \"PG-13\"}, {\"Presupuesto\": 27000000.0, \"Puntaje\": 5.9, \"Rating\": \"R\"}, {\"Presupuesto\": 50000.0, \"Puntaje\": 5.9, \"Rating\": \"UNRATED\"}, {\"Presupuesto\": 25000000.0, \"Puntaje\": 4.8, \"Rating\": \"PG-13\"}, {\"Presupuesto\": 18000000.0, \"Puntaje\": 5.7, \"Rating\": \"PG-13\"}, {\"Presupuesto\": 18000000.0, \"Puntaje\": 7.0, \"Rating\": \"R\"}, {\"Presupuesto\": 3000000.0, \"Puntaje\": 6.3, \"Rating\": \"R\"}, {\"Presupuesto\": 1000000.0, \"Puntaje\": 8.1, \"Rating\": \"R\"}, {\"Presupuesto\": 30000000.0, \"Puntaje\": 5.5, \"Rating\": \"PG-13\"}, {\"Presupuesto\": 12000000.0, \"Puntaje\": 7.4, \"Rating\": \"R\"}, {\"Presupuesto\": 45000000.0, \"Puntaje\": 5.3, \"Rating\": \"PG-13\"}, {\"Presupuesto\": 20000000.0, \"Puntaje\": 6.3, \"Rating\": \"PG-13\"}, {\"Presupuesto\": 6500000.0, \"Puntaje\": 6.8, \"Rating\": \"R\"}, {\"Presupuesto\": 20000000.0, \"Puntaje\": 4.6, \"Rating\": \"PG\"}, {\"Presupuesto\": 40000000.0, \"Puntaje\": 7.0, \"Rating\": \"PG-13\"}, {\"Presupuesto\": 150000000.0, \"Puntaje\": 6.7, \"Rating\": \"PG\"}, {\"Presupuesto\": 150000000.0, \"Puntaje\": 7.7, \"Rating\": \"PG-13\"}, {\"Presupuesto\": 150000000.0, \"Puntaje\": 8.3, \"Rating\": \"PG-13\"}, {\"Presupuesto\": 40000000.0, \"Puntaje\": 7.9, \"Rating\": \"PG-13\"}, {\"Presupuesto\": 54000000.0, \"Puntaje\": 8.2, \"Rating\": \"R\"}, {\"Presupuesto\": 40000000.0, \"Puntaje\": 8.0, \"Rating\": \"R\"}, {\"Presupuesto\": 28000000.0, \"Puntaje\": 7.8, \"Rating\": \"PG\"}, {\"Presupuesto\": 50000000.0, \"Puntaje\": 6.8, \"Rating\": \"PG\"}, {\"Presupuesto\": 14000000.0, \"Puntaje\": 7.7, \"Rating\": \"R\"}, {\"Presupuesto\": 40000000.0, \"Puntaje\": 7.0, \"Rating\": \"R\"}, {\"Presupuesto\": 180000000.0, \"Puntaje\": 6.9, \"Rating\": \"PG\"}, {\"Presupuesto\": 82000000.0, \"Puntaje\": 6.4, \"Rating\": \"PG-13\"}, {\"Presupuesto\": 4800000.0, \"Puntaje\": 5.9, \"Rating\": \"R\"}, {\"Presupuesto\": 130000000.0, \"Puntaje\": 7.2, \"Rating\": \"R\"}, {\"Presupuesto\": 113000000.0, \"Puntaje\": 7.6, \"Rating\": \"PG-13\"}, {\"Presupuesto\": 132000000.0, \"Puntaje\": 6.5, \"Rating\": \"PG-13\"}, {\"Presupuesto\": 100000000.0, \"Puntaje\": 6.9, \"Rating\": \"R\"}, {\"Presupuesto\": 43000000.0, \"Puntaje\": 4.8, \"Rating\": \"PG-13\"}, {\"Presupuesto\": 28000000.0, \"Puntaje\": 7.9, \"Rating\": \"PG-13\"}, {\"Presupuesto\": 19000000.0, \"Puntaje\": 6.0, \"Rating\": \"R\"}, {\"Presupuesto\": 70000000.0, \"Puntaje\": 6.6, \"Rating\": \"PG-13\"}, {\"Presupuesto\": 207000000.0, \"Puntaje\": 7.2, \"Rating\": \"PG-13\"}, {\"Presupuesto\": 26000000.0, \"Puntaje\": 7.1, \"Rating\": \"R\"}, {\"Presupuesto\": 120000000.0, \"Puntaje\": 6.5, \"Rating\": \"PG-13\"}, {\"Presupuesto\": 4000000.0, \"Puntaje\": 6.6, \"Rating\": \"R\"}, {\"Presupuesto\": 1500000.0, \"Puntaje\": 7.4, \"Rating\": \"R\"}, {\"Presupuesto\": 7000000.0, \"Puntaje\": 6.9, \"Rating\": \"R\"}, {\"Presupuesto\": 40000000.0, \"Puntaje\": 7.4, \"Rating\": \"PG\"}, {\"Presupuesto\": 35000000.0, \"Puntaje\": 6.2, \"Rating\": \"PG\"}, {\"Presupuesto\": 126000000.0, \"Puntaje\": 6.9, \"Rating\": \"PG-13\"}, {\"Presupuesto\": 15000000.0, \"Puntaje\": 6.1, \"Rating\": \"PG-13\"}, {\"Presupuesto\": 88000000.0, \"Puntaje\": 8.0, \"Rating\": \"PG-13\"}, {\"Presupuesto\": 72000000.0, \"Puntaje\": 7.0, \"Rating\": \"R\"}, {\"Presupuesto\": 70000000.0, \"Puntaje\": 7.6, \"Rating\": \"R\"}, {\"Presupuesto\": 53000000.0, \"Puntaje\": 5.7, \"Rating\": \"PG-13\"}, {\"Presupuesto\": 52000000.0, \"Puntaje\": 6.6, \"Rating\": \"R\"}, {\"Presupuesto\": 32000000.0, \"Puntaje\": 7.5, \"Rating\": \"R\"}, {\"Presupuesto\": 100000000.0, \"Puntaje\": 5.7, \"Rating\": \"PG-13\"}, {\"Presupuesto\": 15000000.0, \"Puntaje\": 7.7, \"Rating\": \"R\"}, {\"Presupuesto\": 65000000.0, \"Puntaje\": 6.1, \"Rating\": \"PG\"}, {\"Presupuesto\": 25000000.0, \"Puntaje\": 6.6, \"Rating\": \"PG\"}, {\"Presupuesto\": 75000000.0, \"Puntaje\": 6.9, \"Rating\": \"PG\"}, {\"Presupuesto\": 50000000.0, \"Puntaje\": 5.1, \"Rating\": \"PG-13\"}, {\"Presupuesto\": 50000000.0, \"Puntaje\": 7.6, \"Rating\": \"R\"}, {\"Presupuesto\": 950000.0, \"Puntaje\": 7.1, \"Rating\": \"R\"}, {\"Presupuesto\": 55000000.0, \"Puntaje\": 6.2, \"Rating\": \"PG-13\"}, {\"Presupuesto\": 85000000.0, \"Puntaje\": 7.4, \"Rating\": \"PG-13\"}, {\"Presupuesto\": 20000000.0, \"Puntaje\": 6.7, \"Rating\": \"PG-13\"}, {\"Presupuesto\": 30000000.0, \"Puntaje\": 6.7, \"Rating\": \"PG-13\"}, {\"Presupuesto\": 30000000.0, \"Puntaje\": 5.3, \"Rating\": \"R\"}, {\"Presupuesto\": 60000000.0, \"Puntaje\": 5.5, \"Rating\": \"PG\"}, {\"Presupuesto\": 45000000.0, \"Puntaje\": 6.9, \"Rating\": \"R\"}, {\"Presupuesto\": 50000000.0, \"Puntaje\": 3.5, \"Rating\": \"PG\"}, {\"Presupuesto\": 15000000.0, \"Puntaje\": 7.6, \"Rating\": \"R\"}, {\"Presupuesto\": 3000000.0, \"Puntaje\": 6.8, \"Rating\": \"R\"}, {\"Presupuesto\": 88000000.0, \"Puntaje\": 5.9, \"Rating\": \"PG-13\"}, {\"Presupuesto\": 62000000.0, \"Puntaje\": 5.5, \"Rating\": \"PG-13\"}, {\"Presupuesto\": 25000000.0, \"Puntaje\": 6.5, \"Rating\": \"PG\"}, {\"Presupuesto\": 60000000.0, \"Puntaje\": 4.4, \"Rating\": \"PG-13\"}, {\"Presupuesto\": 26000000.0, \"Puntaje\": 6.5, \"Rating\": \"PG-13\"}, {\"Presupuesto\": 75000000.0, \"Puntaje\": 6.3, \"Rating\": \"PG\"}, {\"Presupuesto\": 58000000.0, \"Puntaje\": 6.7, \"Rating\": \"PG-13\"}, {\"Presupuesto\": 475000.0, \"Puntaje\": 7.4, \"Rating\": \"R\"}, {\"Presupuesto\": 75000000.0, \"Puntaje\": 5.9, \"Rating\": \"PG\"}, {\"Presupuesto\": 30000000.0, \"Puntaje\": 7.3, \"Rating\": \"PG-13\"}, {\"Presupuesto\": 50000000.0, \"Puntaje\": 4.8, \"Rating\": \"G\"}, {\"Presupuesto\": 70000000.0, \"Puntaje\": 5.5, \"Rating\": \"PG-13\"}, {\"Presupuesto\": 56000000.0, \"Puntaje\": 5.6, \"Rating\": \"PG\"}, {\"Presupuesto\": 30000000.0, \"Puntaje\": 5.9, \"Rating\": \"R\"}, {\"Presupuesto\": 1000000.0, \"Puntaje\": 6.3, \"Rating\": \"R\"}, {\"Presupuesto\": 150000000.0, \"Puntaje\": 5.8, \"Rating\": \"G\"}, {\"Presupuesto\": 25000000.0, \"Puntaje\": 7.1, \"Rating\": \"PG-13\"}, {\"Presupuesto\": 22000000.0, \"Puntaje\": 6.6, \"Rating\": \"R\"}, {\"Presupuesto\": 43000000.0, \"Puntaje\": 6.5, \"Rating\": \"PG-13\"}, {\"Presupuesto\": 50000000.0, \"Puntaje\": 5.8, \"Rating\": \"PG-13\"}, {\"Presupuesto\": 60000000.0, \"Puntaje\": 5.2, \"Rating\": \"R\"}, {\"Presupuesto\": 7900000.0, \"Puntaje\": 6.8, \"Rating\": \"R\"}, {\"Presupuesto\": 32000000.0, \"Puntaje\": 6.3, \"Rating\": \"PG-13\"}, {\"Presupuesto\": 15000000.0, \"Puntaje\": 6.2, \"Rating\": \"R\"}, {\"Presupuesto\": 7000000.0, \"Puntaje\": 7.4, \"Rating\": \"R\"}, {\"Presupuesto\": 45000000.0, \"Puntaje\": 6.4, \"Rating\": \"PG-13\"}, {\"Presupuesto\": 10000000.0, \"Puntaje\": 7.2, \"Rating\": \"R\"}, {\"Presupuesto\": 130000000.0, \"Puntaje\": 6.0, \"Rating\": \"PG-13\"}, {\"Presupuesto\": 6500000.0, \"Puntaje\": 7.6, \"Rating\": \"R\"}, {\"Presupuesto\": 50000000.0, \"Puntaje\": 7.0, \"Rating\": \"R\"}, {\"Presupuesto\": 2000000.0, \"Puntaje\": 6.9, \"Rating\": \"R\"}, {\"Presupuesto\": 50000000.0, \"Puntaje\": 6.9, \"Rating\": \"R\"}, {\"Presupuesto\": 17500000.0, \"Puntaje\": 6.5, \"Rating\": \"PG\"}, {\"Presupuesto\": 17000000.0, \"Puntaje\": 6.3, \"Rating\": \"PG-13\"}, {\"Presupuesto\": 29000000.0, \"Puntaje\": 7.1, \"Rating\": \"R\"}, {\"Presupuesto\": 45000000.0, \"Puntaje\": 5.4, \"Rating\": \"PG\"}, {\"Presupuesto\": 5500000.0, \"Puntaje\": 5.7, \"Rating\": \"PG-13\"}, {\"Presupuesto\": 20000000.0, \"Puntaje\": 6.8, \"Rating\": \"PG-13\"}, {\"Presupuesto\": 50000000.0, \"Puntaje\": 5.4, \"Rating\": \"PG-13\"}, {\"Presupuesto\": 2000000.0, \"Puntaje\": 7.4, \"Rating\": \"R\"}, {\"Presupuesto\": 50000000.0, \"Puntaje\": 6.0, \"Rating\": \"R\"}, {\"Presupuesto\": 84000000.0, \"Puntaje\": 2.2, \"Rating\": \"PG\"}, {\"Presupuesto\": 30000000.0, \"Puntaje\": 6.6, \"Rating\": \"PG-13\"}, {\"Presupuesto\": 60000000.0, \"Puntaje\": 5.5, \"Rating\": \"PG-13\"}, {\"Presupuesto\": 30000000.0, \"Puntaje\": 5.6, \"Rating\": \"PG-13\"}, {\"Presupuesto\": 40000000.0, \"Puntaje\": 5.1, \"Rating\": \"R\"}, {\"Presupuesto\": 30000000.0, \"Puntaje\": 5.1, \"Rating\": \"PG-13\"}, {\"Presupuesto\": 19300000.0, \"Puntaje\": 6.5, \"Rating\": \"R\"}, {\"Presupuesto\": 18000000.0, \"Puntaje\": 3.6, \"Rating\": \"PG-13\"}, {\"Presupuesto\": 35000000.0, \"Puntaje\": 7.3, \"Rating\": \"R\"}, {\"Presupuesto\": 25000000.0, \"Puntaje\": 7.8, \"Rating\": \"PG-13\"}, {\"Presupuesto\": 100000000.0, \"Puntaje\": 6.1, \"Rating\": \"PG-13\"}, {\"Presupuesto\": 57000000.0, \"Puntaje\": 6.4, \"Rating\": \"PG-13\"}, {\"Presupuesto\": 7500000.0, \"Puntaje\": 7.5, \"Rating\": \"PG\"}, {\"Presupuesto\": 8000000.0, \"Puntaje\": 7.4, \"Rating\": \"R\"}, {\"Presupuesto\": 22000000.0, \"Puntaje\": 4.6, \"Rating\": \"R\"}, {\"Presupuesto\": 85000000.0, \"Puntaje\": 4.8, \"Rating\": \"PG-13\"}, {\"Presupuesto\": 30000000.0, \"Puntaje\": 7.5, \"Rating\": \"G\"}, {\"Presupuesto\": 3200000.0, \"Puntaje\": 6.4, \"Rating\": \"R\"}, {\"Presupuesto\": 20000000.0, \"Puntaje\": 2.3, \"Rating\": \"R\"}, {\"Presupuesto\": 15000000.0, \"Puntaje\": 7.4, \"Rating\": \"R\"}, {\"Presupuesto\": 30000000.0, \"Puntaje\": 7.0, \"Rating\": \"PG-13\"}, {\"Presupuesto\": 45000000.0, \"Puntaje\": 5.0, \"Rating\": \"PG-13\"}, {\"Presupuesto\": 45000000.0, \"Puntaje\": 7.0, \"Rating\": \"R\"}, {\"Presupuesto\": 80000000.0, \"Puntaje\": 6.4, \"Rating\": \"PG-13\"}, {\"Presupuesto\": 32000000.0, \"Puntaje\": 4.6, \"Rating\": \"PG\"}, {\"Presupuesto\": 38000000.0, \"Puntaje\": 5.0, \"Rating\": \"PG-13\"}, {\"Presupuesto\": 30000000.0, \"Puntaje\": 6.2, \"Rating\": \"PG-13\"}, {\"Presupuesto\": 135000000.0, \"Puntaje\": 5.0, \"Rating\": \"PG-13\"}, {\"Presupuesto\": 45000000.0, \"Puntaje\": 5.6, \"Rating\": \"PG\"}, {\"Presupuesto\": 1500000.0, \"Puntaje\": 6.7, \"Rating\": \"R\"}, {\"Presupuesto\": 900000.0, \"Puntaje\": 6.4, \"Rating\": \"R\"}, {\"Presupuesto\": 20000000.0, \"Puntaje\": 6.3, \"Rating\": \"R\"}, {\"Presupuesto\": 25000000.0, \"Puntaje\": 6.5, \"Rating\": \"UNRATED\"}, {\"Presupuesto\": 35000000.0, \"Puntaje\": 5.9, \"Rating\": \"PG-13\"}, {\"Presupuesto\": 25000000.0, \"Puntaje\": 2.9, \"Rating\": \"R\"}, {\"Presupuesto\": 20000000.0, \"Puntaje\": 4.1, \"Rating\": \"PG-13\"}, {\"Presupuesto\": 14000000.0, \"Puntaje\": 6.4, \"Rating\": \"PG\"}, {\"Presupuesto\": 2500000.0, \"Puntaje\": 6.6, \"Rating\": \"R\"}, {\"Presupuesto\": 10000000.0, \"Puntaje\": 6.7, \"Rating\": \"PG-13\"}, {\"Presupuesto\": 80000000.0, \"Puntaje\": 6.7, \"Rating\": \"R\"}, {\"Presupuesto\": 30000000.0, \"Puntaje\": 5.9, \"Rating\": \"PG-13\"}, {\"Presupuesto\": 1000000.0, \"Puntaje\": 5.9, \"Rating\": \"PG-13\"}, {\"Presupuesto\": 30000000.0, \"Puntaje\": 5.8, \"Rating\": \"PG-13\"}, {\"Presupuesto\": 1000000.0, \"Puntaje\": 7.4, \"Rating\": \"R\"}, {\"Presupuesto\": 33100000.0, \"Puntaje\": 5.1, \"Rating\": \"PG\"}, {\"Presupuesto\": 40000000.0, \"Puntaje\": 5.4, \"Rating\": \"PG-13\"}, {\"Presupuesto\": 20000000.0, \"Puntaje\": 6.2, \"Rating\": \"R\"}, {\"Presupuesto\": 16000000.0, \"Puntaje\": 4.1, \"Rating\": \"PG-13\"}, {\"Presupuesto\": 25000000.0, \"Puntaje\": 5.5, \"Rating\": \"PG\"}, {\"Presupuesto\": 7000000.0, \"Puntaje\": 7.5, \"Rating\": \"PG-13\"}, {\"Presupuesto\": 30000000.0, \"Puntaje\": 5.2, \"Rating\": \"PG\"}, {\"Presupuesto\": 3500000.0, \"Puntaje\": 6.1, \"Rating\": \"R\"}, {\"Presupuesto\": 1000000.0, \"Puntaje\": 7.0, \"Rating\": \"R\"}, {\"Presupuesto\": 22000000.0, \"Puntaje\": 6.6, \"Rating\": \"R\"}, {\"Presupuesto\": 22000000.0, \"Puntaje\": 7.8, \"Rating\": \"PG-13\"}, {\"Presupuesto\": 14200000.0, \"Puntaje\": 7.4, \"Rating\": \"NOT RATED\"}, {\"Presupuesto\": 4000000.0, \"Puntaje\": 6.6, \"Rating\": \"R\"}, {\"Presupuesto\": 80000000.0, \"Puntaje\": 4.2, \"Rating\": \"PG-13\"}, {\"Presupuesto\": 10000000.0, \"Puntaje\": 5.5, \"Rating\": \"PG-13\"}, {\"Presupuesto\": 30000000.0, \"Puntaje\": 5.3, \"Rating\": \"R\"}, {\"Presupuesto\": 4000000.0, \"Puntaje\": 6.9, \"Rating\": \"PG\"}, {\"Presupuesto\": 9000000.0, \"Puntaje\": 6.9, \"Rating\": \"R\"}, {\"Presupuesto\": 169000.0, \"Puntaje\": 6.8, \"Rating\": \"R\"}, {\"Presupuesto\": 14000000.0, \"Puntaje\": 5.0, \"Rating\": \"PG-13\"}, {\"Presupuesto\": 2000000.0, \"Puntaje\": 7.3, \"Rating\": \"R\"}, {\"Presupuesto\": 3800000.0, \"Puntaje\": 5.2, \"Rating\": \"R\"}, {\"Presupuesto\": 20000000.0, \"Puntaje\": 7.1, \"Rating\": \"R\"}, {\"Presupuesto\": 32000000.0, \"Puntaje\": 6.9, \"Rating\": \"PG\"}, {\"Presupuesto\": 16000000.0, \"Puntaje\": 6.7, \"Rating\": \"PG-13\"}, {\"Presupuesto\": 1000000.0, \"Puntaje\": 5.4, \"Rating\": \"R\"}, {\"Presupuesto\": 35000000.0, \"Puntaje\": 5.6, \"Rating\": \"G\"}, {\"Presupuesto\": 3000000.0, \"Puntaje\": 7.3, \"Rating\": \"R\"}, {\"Presupuesto\": 6800000.0, \"Puntaje\": 7.0, \"Rating\": \"R\"}, {\"Presupuesto\": 10000000.0, \"Puntaje\": 6.8, \"Rating\": \"R\"}, {\"Presupuesto\": 33000000.0, \"Puntaje\": 5.5, \"Rating\": \"PG-13\"}, {\"Presupuesto\": 7500000.0, \"Puntaje\": 4.0, \"Rating\": \"R\"}, {\"Presupuesto\": 3500000.0, \"Puntaje\": 6.4, \"Rating\": \"R\"}, {\"Presupuesto\": 2500000.0, \"Puntaje\": 6.6, \"Rating\": \"PG-13\"}, {\"Presupuesto\": 12500000.0, \"Puntaje\": 7.0, \"Rating\": \"UNRATED\"}, {\"Presupuesto\": 500000.0, \"Puntaje\": 8.0, \"Rating\": \"R\"}, {\"Presupuesto\": 40000000.0, \"Puntaje\": 8.5, \"Rating\": \"PG-13\"}, {\"Presupuesto\": 90000000.0, \"Puntaje\": 8.5, \"Rating\": \"R\"}, {\"Presupuesto\": 65000000.0, \"Puntaje\": 7.7, \"Rating\": \"R\"}, {\"Presupuesto\": 225000000.0, \"Puntaje\": 7.3, \"Rating\": \"PG-13\"}, {\"Presupuesto\": 35000000.0, \"Puntaje\": 7.3, \"Rating\": \"PG-13\"}, {\"Presupuesto\": 76000000.0, \"Puntaje\": 7.9, \"Rating\": \"R\"}, {\"Presupuesto\": 150000000.0, \"Puntaje\": 8.0, \"Rating\": \"PG-13\"}, {\"Presupuesto\": 40000000.0, \"Puntaje\": 7.8, \"Rating\": \"R\"}, {\"Presupuesto\": 35000000.0, \"Puntaje\": 6.8, \"Rating\": \"PG-13\"}, {\"Presupuesto\": 2000000.0, \"Puntaje\": 8.5, \"Rating\": \"R\"}, {\"Presupuesto\": 120000000.0, \"Puntaje\": 7.1, \"Rating\": \"G\"}, {\"Presupuesto\": 50000000.0, \"Puntaje\": 6.6, \"Rating\": \"R\"}, {\"Presupuesto\": 55000000.0, \"Puntaje\": 8.0, \"Rating\": \"PG-13\"}, {\"Presupuesto\": 8000000.0, \"Puntaje\": 7.8, \"Rating\": \"R\"}, {\"Presupuesto\": 700000.0, \"Puntaje\": 7.2, \"Rating\": \"R\"}, {\"Presupuesto\": 15000000.0, \"Puntaje\": 6.4, \"Rating\": \"R\"}, {\"Presupuesto\": 85000000.0, \"Puntaje\": 6.9, \"Rating\": \"PG-13\"}, {\"Presupuesto\": 20000000.0, \"Puntaje\": 6.4, \"Rating\": \"PG-13\"}, {\"Presupuesto\": 85000000.0, \"Puntaje\": 6.0, \"Rating\": \"PG-13\"}, {\"Presupuesto\": 125000000.0, \"Puntaje\": 6.6, \"Rating\": \"PG-13\"}, {\"Presupuesto\": 40000000.0, \"Puntaje\": 6.4, \"Rating\": \"PG-13\"}, {\"Presupuesto\": 100000000.0, \"Puntaje\": 8.0, \"Rating\": \"R\"}, {\"Presupuesto\": 35000000.0, \"Puntaje\": 6.9, \"Rating\": \"PG-13\"}, {\"Presupuesto\": 45000000.0, \"Puntaje\": 7.6, \"Rating\": \"R\"}, {\"Presupuesto\": 25000000.0, \"Puntaje\": 7.5, \"Rating\": \"R\"}, {\"Presupuesto\": 10000000.0, \"Puntaje\": 6.2, \"Rating\": \"R\"}, {\"Presupuesto\": 16000000.0, \"Puntaje\": 5.9, \"Rating\": \"R\"}, {\"Presupuesto\": 17000000.0, \"Puntaje\": 6.7, \"Rating\": \"R\"}, {\"Presupuesto\": 16000000.0, \"Puntaje\": 7.6, \"Rating\": \"PG-13\"}, {\"Presupuesto\": 24000000.0, \"Puntaje\": 7.2, \"Rating\": \"PG\"}, {\"Presupuesto\": 210000000.0, \"Puntaje\": 6.7, \"Rating\": \"PG-13\"}, {\"Presupuesto\": 70000000.0, \"Puntaje\": 6.4, \"Rating\": \"PG-13\"}, {\"Presupuesto\": 52000000.0, \"Puntaje\": 5.8, \"Rating\": \"PG-13\"}, {\"Presupuesto\": 75000000.0, \"Puntaje\": 7.0, \"Rating\": \"PG-13\"}, {\"Presupuesto\": 12000000.0, \"Puntaje\": 6.5, \"Rating\": \"PG-13\"}, {\"Presupuesto\": 135000000.0, \"Puntaje\": 6.0, \"Rating\": \"R\"}, {\"Presupuesto\": 209000000.0, \"Puntaje\": 6.1, \"Rating\": \"PG-13\"}, {\"Presupuesto\": 18000000.0, \"Puntaje\": 5.8, \"Rating\": \"PG-13\"}, {\"Presupuesto\": 72500000.0, \"Puntaje\": 6.6, \"Rating\": \"PG-13\"}, {\"Presupuesto\": 150000000.0, \"Puntaje\": 6.9, \"Rating\": \"PG-13\"}, {\"Presupuesto\": 18000000.0, \"Puntaje\": 7.3, \"Rating\": \"R\"}, {\"Presupuesto\": 27000000.0, \"Puntaje\": 7.8, \"Rating\": \"R\"}, {\"Presupuesto\": 110000000.0, \"Puntaje\": 6.4, \"Rating\": \"PG\"}, {\"Presupuesto\": 75000000.0, \"Puntaje\": 6.6, \"Rating\": \"PG\"}, {\"Presupuesto\": 20000000.0, \"Puntaje\": 5.3, \"Rating\": \"PG-13\"}, {\"Presupuesto\": 160000000.0, \"Puntaje\": 5.6, \"Rating\": \"PG-13\"}, {\"Presupuesto\": 70000000.0, \"Puntaje\": 6.5, \"Rating\": \"PG-13\"}, {\"Presupuesto\": 23000000.0, \"Puntaje\": 6.5, \"Rating\": \"PG-13\"}, {\"Presupuesto\": 15000000.0, \"Puntaje\": 7.0, \"Rating\": \"R\"}, {\"Presupuesto\": 70000000.0, \"Puntaje\": 4.2, \"Rating\": \"R\"}, {\"Presupuesto\": 26000000.0, \"Puntaje\": 7.6, \"Rating\": \"R\"}, {\"Presupuesto\": 65000000.0, \"Puntaje\": 5.5, \"Rating\": \"PG\"}, {\"Presupuesto\": 90000000.0, \"Puntaje\": 6.7, \"Rating\": \"R\"}, {\"Presupuesto\": 65000000.0, \"Puntaje\": 7.1, \"Rating\": \"PG\"}, {\"Presupuesto\": 100000000.0, \"Puntaje\": 5.1, \"Rating\": \"PG\"}, {\"Presupuesto\": 8700000.0, \"Puntaje\": 7.1, \"Rating\": \"R\"}, {\"Presupuesto\": 21000000.0, \"Puntaje\": 7.8, \"Rating\": \"R\"}, {\"Presupuesto\": 70000000.0, \"Puntaje\": 5.6, \"Rating\": \"PG-13\"}, {\"Presupuesto\": 2000000.0, \"Puntaje\": 6.5, \"Rating\": \"UNRATED\"}, {\"Presupuesto\": 19000000.0, \"Puntaje\": 7.9, \"Rating\": \"R\"}, {\"Presupuesto\": 12000000.0, \"Puntaje\": 7.0, \"Rating\": \"R\"}, {\"Presupuesto\": 19400000.0, \"Puntaje\": 7.5, \"Rating\": \"PG-13\"}, {\"Presupuesto\": 38000000.0, \"Puntaje\": 7.6, \"Rating\": \"PG-13\"}, {\"Presupuesto\": 63000000.0, \"Puntaje\": 6.0, \"Rating\": \"PG-13\"}, {\"Presupuesto\": 15500000.0, \"Puntaje\": 6.5, \"Rating\": \"R\"}, {\"Presupuesto\": 100000000.0, \"Puntaje\": 6.5, \"Rating\": \"PG\"}, {\"Presupuesto\": 40000000.0, \"Puntaje\": 7.3, \"Rating\": \"PG\"}, {\"Presupuesto\": 40000000.0, \"Puntaje\": 6.8, \"Rating\": \"PG\"}, {\"Presupuesto\": 90000000.0, \"Puntaje\": 7.1, \"Rating\": \"R\"}, {\"Presupuesto\": 80000000.0, \"Puntaje\": 6.8, \"Rating\": \"PG\"}, {\"Presupuesto\": 6000000.0, \"Puntaje\": 7.7, \"Rating\": \"R\"}, {\"Presupuesto\": 50000000.0, \"Puntaje\": 6.7, \"Rating\": \"R\"}, {\"Presupuesto\": 149000000.0, \"Puntaje\": 6.6, \"Rating\": \"PG\"}, {\"Presupuesto\": 25000000.0, \"Puntaje\": 5.8, \"Rating\": \"R\"}, {\"Presupuesto\": 15000000.0, \"Puntaje\": 7.6, \"Rating\": \"R\"}, {\"Presupuesto\": 30000000.0, \"Puntaje\": 4.4, \"Rating\": \"PG-13\"}, {\"Presupuesto\": 10000000.0, \"Puntaje\": 7.3, \"Rating\": \"PG-13\"}, {\"Presupuesto\": 32000000.0, \"Puntaje\": 5.7, \"Rating\": \"PG\"}, {\"Presupuesto\": 15000000.0, \"Puntaje\": 7.4, \"Rating\": \"R\"}, {\"Presupuesto\": 33000000.0, \"Puntaje\": 5.6, \"Rating\": \"R\"}, {\"Presupuesto\": 40000000.0, \"Puntaje\": 7.1, \"Rating\": \"PG\"}, {\"Presupuesto\": 12000000.0, \"Puntaje\": 5.3, \"Rating\": \"PG\"}, {\"Presupuesto\": 40000000.0, \"Puntaje\": 3.7, \"Rating\": \"PG-13\"}, {\"Presupuesto\": 20000000.0, \"Puntaje\": 4.7, \"Rating\": \"PG-13\"}, {\"Presupuesto\": 17500000.0, \"Puntaje\": 6.3, \"Rating\": \"R\"}, {\"Presupuesto\": 50000000.0, \"Puntaje\": 5.6, \"Rating\": \"R\"}, {\"Presupuesto\": 25000000.0, \"Puntaje\": 5.5, \"Rating\": \"R\"}, {\"Presupuesto\": 4000000.0, \"Puntaje\": 6.1, \"Rating\": \"R\"}, {\"Presupuesto\": 28000000.0, \"Puntaje\": 5.4, \"Rating\": \"PG-13\"}, {\"Presupuesto\": 33000000.0, \"Puntaje\": 5.6, \"Rating\": \"PG-13\"}, {\"Presupuesto\": 45000000.0, \"Puntaje\": 5.1, \"Rating\": \"PG-13\"}, {\"Presupuesto\": 50000000.0, \"Puntaje\": 5.6, \"Rating\": \"PG-13\"}, {\"Presupuesto\": 4000000.0, \"Puntaje\": 6.7, \"Rating\": \"PG-13\"}, {\"Presupuesto\": 10000000.0, \"Puntaje\": 5.3, \"Rating\": \"R\"}, {\"Presupuesto\": 21000000.0, \"Puntaje\": 4.8, \"Rating\": \"PG-13\"}, {\"Presupuesto\": 70000000.0, \"Puntaje\": 6.9, \"Rating\": \"PG-13\"}, {\"Presupuesto\": 15000000.0, \"Puntaje\": 5.1, \"Rating\": \"PG-13\"}, {\"Presupuesto\": 65000000.0, \"Puntaje\": 5.6, \"Rating\": \"PG\"}, {\"Presupuesto\": 10000000.0, \"Puntaje\": 7.3, \"Rating\": \"PG-13\"}, {\"Presupuesto\": 1000000.0, \"Puntaje\": 7.4, \"Rating\": \"R\"}, {\"Presupuesto\": 35000000.0, \"Puntaje\": 4.3, \"Rating\": \"PG\"}, {\"Presupuesto\": 15000000.0, \"Puntaje\": 6.8, \"Rating\": \"PG\"}, {\"Presupuesto\": 55000000.0, \"Puntaje\": 6.2, \"Rating\": \"PG-13\"}, {\"Presupuesto\": 20000000.0, \"Puntaje\": 2.7, \"Rating\": \"PG-13\"}, {\"Presupuesto\": 13000000.0, \"Puntaje\": 7.3, \"Rating\": \"R\"}, {\"Presupuesto\": 80000000.0, \"Puntaje\": 6.9, \"Rating\": \"PG\"}, {\"Presupuesto\": 5000000.0, \"Puntaje\": 7.4, \"Rating\": \"R\"}, {\"Presupuesto\": 64000000.0, \"Puntaje\": 4.3, \"Rating\": \"PG-13\"}, {\"Presupuesto\": 17000000.0, \"Puntaje\": 7.4, \"Rating\": \"R\"}, {\"Presupuesto\": 17000000.0, \"Puntaje\": 5.5, \"Rating\": \"R\"}, {\"Presupuesto\": 40000000.0, \"Puntaje\": 5.1, \"Rating\": \"PG\"}, {\"Presupuesto\": 20000000.0, \"Puntaje\": 4.7, \"Rating\": \"PG-13\"}, {\"Presupuesto\": 30000000.0, \"Puntaje\": 5.1, \"Rating\": \"PG-13\"}, {\"Presupuesto\": 28000000.0, \"Puntaje\": 6.5, \"Rating\": \"R\"}, {\"Presupuesto\": 30000000.0, \"Puntaje\": 6.9, \"Rating\": \"PG-13\"}, {\"Presupuesto\": 86000000.0, \"Puntaje\": 6.0, \"Rating\": \"PG\"}, {\"Presupuesto\": 9000000.0, \"Puntaje\": 5.1, \"Rating\": \"PG-13\"}, {\"Presupuesto\": 85000000.0, \"Puntaje\": 6.2, \"Rating\": \"PG\"}, {\"Presupuesto\": 1500000.0, \"Puntaje\": 5.7, \"Rating\": \"R\"}, {\"Presupuesto\": 9000000.0, \"Puntaje\": 4.6, \"Rating\": \"R\"}, {\"Presupuesto\": 18000000.0, \"Puntaje\": 6.5, \"Rating\": \"R\"}, {\"Presupuesto\": 52000000.0, \"Puntaje\": 6.6, \"Rating\": \"PG-13\"}, {\"Presupuesto\": 50000000.0, \"Puntaje\": 5.8, \"Rating\": \"PG-13\"}, {\"Presupuesto\": 54000000.0, \"Puntaje\": 5.6, \"Rating\": \"PG-13\"}, {\"Presupuesto\": 60000000.0, \"Puntaje\": 6.6, \"Rating\": \"PG-13\"}, {\"Presupuesto\": 20000000.0, \"Puntaje\": 5.0, \"Rating\": \"PG-13\"}, {\"Presupuesto\": 60000000.0, \"Puntaje\": 6.1, \"Rating\": \"PG-13\"}, {\"Presupuesto\": 1000000.0, \"Puntaje\": 6.6, \"Rating\": \"NOT RATED\"}, {\"Presupuesto\": 35000000.0, \"Puntaje\": 5.8, \"Rating\": \"G\"}, {\"Presupuesto\": 45000000.0, \"Puntaje\": 7.0, \"Rating\": \"R\"}, {\"Presupuesto\": 100000.0, \"Puntaje\": 6.7, \"Rating\": \"PG\"}, {\"Presupuesto\": 12000000.0, \"Puntaje\": 6.2, \"Rating\": \"R\"}, {\"Presupuesto\": 50000000.0, \"Puntaje\": 6.6, \"Rating\": \"G\"}, {\"Presupuesto\": 30000000.0, \"Puntaje\": 6.7, \"Rating\": \"PG-13\"}, {\"Presupuesto\": 40000000.0, \"Puntaje\": 4.6, \"Rating\": \"PG-13\"}, {\"Presupuesto\": 12000000.0, \"Puntaje\": 4.7, \"Rating\": \"G\"}, {\"Presupuesto\": 14000000.0, \"Puntaje\": 7.0, \"Rating\": \"R\"}, {\"Presupuesto\": 30000000.0, \"Puntaje\": 7.0, \"Rating\": \"PG\"}, {\"Presupuesto\": 7000000.0, \"Puntaje\": 6.4, \"Rating\": \"R\"}, {\"Presupuesto\": 6000000.0, \"Puntaje\": 5.1, \"Rating\": \"PG-13\"}, {\"Presupuesto\": 8000000.0, \"Puntaje\": 5.1, \"Rating\": \"R\"}, {\"Presupuesto\": 50000000.0, \"Puntaje\": 6.9, \"Rating\": \"R\"}, {\"Presupuesto\": 51000000.0, \"Puntaje\": 5.6, \"Rating\": \"PG\"}, {\"Presupuesto\": 16800000.0, \"Puntaje\": 6.5, \"Rating\": \"R\"}, {\"Presupuesto\": 13000000.0, \"Puntaje\": 7.1, \"Rating\": \"R\"}, {\"Presupuesto\": 20000000.0, \"Puntaje\": 5.9, \"Rating\": \"PG-13\"}, {\"Presupuesto\": 12000000.0, \"Puntaje\": 5.5, \"Rating\": \"PG-13\"}, {\"Presupuesto\": 500000.0, \"Puntaje\": 5.0, \"Rating\": \"NOT RATED\"}, {\"Presupuesto\": 6500000.0, \"Puntaje\": 5.8, \"Rating\": \"R\"}, {\"Presupuesto\": 6000000.0, \"Puntaje\": 7.3, \"Rating\": \"R\"}, {\"Presupuesto\": 60000000.0, \"Puntaje\": 5.0, \"Rating\": \"PG\"}, {\"Presupuesto\": 20000000.0, \"Puntaje\": 6.5, \"Rating\": \"R\"}, {\"Presupuesto\": 3700000.0, \"Puntaje\": 6.5, \"Rating\": \"NOT RATED\"}, {\"Presupuesto\": 50000000.0, \"Puntaje\": 5.9, \"Rating\": \"PG\"}, {\"Presupuesto\": 20000000.0, \"Puntaje\": 6.3, \"Rating\": \"PG\"}, {\"Presupuesto\": 17000000.0, \"Puntaje\": 5.5, \"Rating\": \"PG-13\"}, {\"Presupuesto\": 45000000.0, \"Puntaje\": 6.4, \"Rating\": \"PG-13\"}, {\"Presupuesto\": 80000000.0, \"Puntaje\": 5.3, \"Rating\": \"G\"}, {\"Presupuesto\": 13000000.0, \"Puntaje\": 7.1, \"Rating\": \"R\"}, {\"Presupuesto\": 26000000.0, \"Puntaje\": 5.8, \"Rating\": \"PG-13\"}, {\"Presupuesto\": 13000000.0, \"Puntaje\": 6.3, \"Rating\": \"PG\"}, {\"Presupuesto\": 20000000.0, \"Puntaje\": 6.2, \"Rating\": \"PG-13\"}, {\"Presupuesto\": 18000000.0, \"Puntaje\": 6.7, \"Rating\": \"R\"}, {\"Presupuesto\": 500000.0, \"Puntaje\": 6.2, \"Rating\": \"NOT RATED\"}, {\"Presupuesto\": 32000000.0, \"Puntaje\": 6.1, \"Rating\": \"R\"}, {\"Presupuesto\": 15000000.0, \"Puntaje\": 6.2, \"Rating\": \"PG\"}, {\"Presupuesto\": 26000000.0, \"Puntaje\": 5.1, \"Rating\": \"PG\"}, {\"Presupuesto\": 8000000.0, \"Puntaje\": 6.7, \"Rating\": \"R\"}, {\"Presupuesto\": 150000000.0, \"Puntaje\": 7.1, \"Rating\": \"PG-13\"}, {\"Presupuesto\": 25000000.0, \"Puntaje\": 8.1, \"Rating\": \"R\"}, {\"Presupuesto\": 65000000.0, \"Puntaje\": 7.7, \"Rating\": \"R\"}, {\"Presupuesto\": 70000000.0, \"Puntaje\": 7.7, \"Rating\": \"PG-13\"}, {\"Presupuesto\": 150000000.0, \"Puntaje\": 7.5, \"Rating\": \"PG-13\"}, {\"Presupuesto\": 61000000.0, \"Puntaje\": 7.2, \"Rating\": \"R\"}, {\"Presupuesto\": 25000000.0, \"Puntaje\": 8.1, \"Rating\": \"R\"}, {\"Presupuesto\": 15000000.0, \"Puntaje\": 8.1, \"Rating\": \"R\"}, {\"Presupuesto\": 18000000.0, \"Puntaje\": 7.2, \"Rating\": \"R\"}, {\"Presupuesto\": 19000000.0, \"Puntaje\": 7.7, \"Rating\": \"R\"}, {\"Presupuesto\": 300000000.0, \"Puntaje\": 7.1, \"Rating\": \"PG-13\"}, {\"Presupuesto\": 20000000.0, \"Puntaje\": 7.6, \"Rating\": \"R\"}, {\"Presupuesto\": 150000000.0, \"Puntaje\": 7.2, \"Rating\": \"PG-13\"}, {\"Presupuesto\": 30000000.0, \"Puntaje\": 7.5, \"Rating\": \"PG\"}, {\"Presupuesto\": 30000000.0, \"Puntaje\": 7.8, \"Rating\": \"R\"}, {\"Presupuesto\": 258000000.0, \"Puntaje\": 6.2, \"Rating\": \"PG-13\"}, {\"Presupuesto\": 15000000.0, \"Puntaje\": 6.1, \"Rating\": \"R\"}, {\"Presupuesto\": 75000000.0, \"Puntaje\": 6.7, \"Rating\": \"PG\"}, {\"Presupuesto\": 150000000.0, \"Puntaje\": 8.0, \"Rating\": \"G\"}, {\"Presupuesto\": 30000000.0, \"Puntaje\": 7.5, \"Rating\": \"R\"}, {\"Presupuesto\": 7500000.0, \"Puntaje\": 7.5, \"Rating\": \"PG-13\"}, {\"Presupuesto\": 15000000.0, \"Puntaje\": 6.5, \"Rating\": \"R\"}, {\"Presupuesto\": 85000000.0, \"Puntaje\": 7.1, \"Rating\": \"PG\"}, {\"Presupuesto\": 180000000.0, \"Puntaje\": 6.1, \"Rating\": \"PG-13\"}, {\"Presupuesto\": 100000000.0, \"Puntaje\": 7.8, \"Rating\": \"R\"}, {\"Presupuesto\": 50000000.0, \"Puntaje\": 7.4, \"Rating\": \"R\"}, {\"Presupuesto\": 110000000.0, \"Puntaje\": 8.1, \"Rating\": \"PG-13\"}, {\"Presupuesto\": 150000000.0, \"Puntaje\": 6.2, \"Rating\": \"PG-13\"}, {\"Presupuesto\": 15000000.0, \"Puntaje\": 7.0, \"Rating\": \"R\"}, {\"Presupuesto\": 30000000.0, \"Puntaje\": 7.1, \"Rating\": \"PG-13\"}, {\"Presupuesto\": 25000000.0, \"Puntaje\": 6.8, \"Rating\": \"PG-13\"}, {\"Presupuesto\": 30000000.0, \"Puntaje\": 7.0, \"Rating\": \"R\"}, {\"Presupuesto\": 24000000.0, \"Puntaje\": 6.3, \"Rating\": \"R\"}, {\"Presupuesto\": 110000000.0, \"Puntaje\": 7.2, \"Rating\": \"PG-13\"}, {\"Presupuesto\": 45000000.0, \"Puntaje\": 7.4, \"Rating\": \"PG-13\"}, {\"Presupuesto\": 53000000.0, \"Puntaje\": 7.6, \"Rating\": \"R\"}, {\"Presupuesto\": 17000000.0, \"Puntaje\": 7.2, \"Rating\": \"PG\"}, {\"Presupuesto\": 110000000.0, \"Puntaje\": 5.2, \"Rating\": \"PG-13\"}, {\"Presupuesto\": 17500000.0, \"Puntaje\": 7.2, \"Rating\": \"R\"}, {\"Presupuesto\": 10000000.0, \"Puntaje\": 5.5, \"Rating\": \"R\"}, {\"Presupuesto\": 20000000.0, \"Puntaje\": 6.9, \"Rating\": \"PG-13\"}, {\"Presupuesto\": 32000000.0, \"Puntaje\": 6.4, \"Rating\": \"R\"}, {\"Presupuesto\": 10000000.0, \"Puntaje\": 6.1, \"Rating\": \"R\"}, {\"Presupuesto\": 140000000.0, \"Puntaje\": 6.2, \"Rating\": \"PG-13\"}, {\"Presupuesto\": 55000000.0, \"Puntaje\": 7.7, \"Rating\": \"R\"}, {\"Presupuesto\": 160000000.0, \"Puntaje\": 6.1, \"Rating\": \"PG\"}, {\"Presupuesto\": 175000000.0, \"Puntaje\": 5.4, \"Rating\": \"PG\"}, {\"Presupuesto\": 12000000.0, \"Puntaje\": 7.4, \"Rating\": \"PG-13\"}, {\"Presupuesto\": 40000000.0, \"Puntaje\": 4.7, \"Rating\": \"R\"}, {\"Presupuesto\": 20000000.0, \"Puntaje\": 6.2, \"Rating\": \"R\"}, {\"Presupuesto\": 32000000.0, \"Puntaje\": 6.6, \"Rating\": \"R\"}, {\"Presupuesto\": 10000000.0, \"Puntaje\": 5.9, \"Rating\": \"R\"}, {\"Presupuesto\": 85000000.0, \"Puntaje\": 6.9, \"Rating\": \"PG-13\"}, {\"Presupuesto\": 150000000.0, \"Puntaje\": 6.1, \"Rating\": \"PG\"}, {\"Presupuesto\": 21000000.0, \"Puntaje\": 7.5, \"Rating\": \"PG-13\"}, {\"Presupuesto\": 45000000.0, \"Puntaje\": 7.4, \"Rating\": \"PG-13\"}, {\"Presupuesto\": 60000000.0, \"Puntaje\": 5.8, \"Rating\": \"R\"}, {\"Presupuesto\": 15000.0, \"Puntaje\": 6.3, \"Rating\": \"R\"}, {\"Presupuesto\": 20000000.0, \"Puntaje\": 7.3, \"Rating\": \"R\"}, {\"Presupuesto\": 75000000.0, \"Puntaje\": 7.4, \"Rating\": \"PG-13\"}, {\"Presupuesto\": 75000000.0, \"Puntaje\": 7.1, \"Rating\": \"R\"}, {\"Presupuesto\": 50000000.0, \"Puntaje\": 6.2, \"Rating\": \"R\"}, {\"Presupuesto\": 22000000.0, \"Puntaje\": 6.2, \"Rating\": \"PG\"}, {\"Presupuesto\": 85000000.0, \"Puntaje\": 6.0, \"Rating\": \"PG-13\"}, {\"Presupuesto\": 45000000.0, \"Puntaje\": 6.3, \"Rating\": \"R\"}, {\"Presupuesto\": 130000000.0, \"Puntaje\": 5.6, \"Rating\": \"PG\"}, {\"Presupuesto\": 70000000.0, \"Puntaje\": 6.2, \"Rating\": \"PG-13\"}, {\"Presupuesto\": 25000000.0, \"Puntaje\": 6.8, \"Rating\": \"PG-13\"}, {\"Presupuesto\": 9000000.0, \"Puntaje\": 7.4, \"Rating\": \"R\"}, {\"Presupuesto\": 39000000.0, \"Puntaje\": 6.7, \"Rating\": \"R\"}, {\"Presupuesto\": 130000000.0, \"Puntaje\": 6.5, \"Rating\": \"PG\"}, {\"Presupuesto\": 25000000.0, \"Puntaje\": 5.6, \"Rating\": \"R\"}, {\"Presupuesto\": 25000000.0, \"Puntaje\": 7.3, \"Rating\": \"R\"}, {\"Presupuesto\": 61000000.0, \"Puntaje\": 6.3, \"Rating\": \"PG-13\"}, {\"Presupuesto\": 35000000.0, \"Puntaje\": 5.4, \"Rating\": \"PG-13\"}, {\"Presupuesto\": 60000000.0, \"Puntaje\": 4.0, \"Rating\": \"PG-13\"}, {\"Presupuesto\": 20000000.0, \"Puntaje\": 7.0, \"Rating\": \"R\"}, {\"Presupuesto\": 150000000.0, \"Puntaje\": 6.9, \"Rating\": \"G\"}, {\"Presupuesto\": 20000000.0, \"Puntaje\": 6.8, \"Rating\": \"R\"}, {\"Presupuesto\": 25000000.0, \"Puntaje\": 6.3, \"Rating\": \"PG\"}, {\"Presupuesto\": 4000000.0, \"Puntaje\": 8.1, \"Rating\": \"R\"}, {\"Presupuesto\": 60000000.0, \"Puntaje\": 5.2, \"Rating\": \"PG\"}, {\"Presupuesto\": 20000000.0, \"Puntaje\": 2.9, \"Rating\": \"PG\"}, {\"Presupuesto\": 20000000.0, \"Puntaje\": 2.3, \"Rating\": \"PG-13\"}, {\"Presupuesto\": 15000000.0, \"Puntaje\": 5.1, \"Rating\": \"R\"}, {\"Presupuesto\": 80000000.0, \"Puntaje\": 5.9, \"Rating\": \"PG-13\"}, {\"Presupuesto\": 18000000.0, \"Puntaje\": 7.3, \"Rating\": \"R\"}, {\"Presupuesto\": 40000000.0, \"Puntaje\": 6.5, \"Rating\": \"PG-13\"}, {\"Presupuesto\": 55000000.0, \"Puntaje\": 6.9, \"Rating\": \"PG-13\"}, {\"Presupuesto\": 8600000.0, \"Puntaje\": 6.5, \"Rating\": \"R\"}, {\"Presupuesto\": 35000000.0, \"Puntaje\": 6.7, \"Rating\": \"R\"}, {\"Presupuesto\": 2600000.0, \"Puntaje\": 7.2, \"Rating\": \"R\"}, {\"Presupuesto\": 70000000.0, \"Puntaje\": 7.1, \"Rating\": \"R\"}, {\"Presupuesto\": 20000000.0, \"Puntaje\": 7.5, \"Rating\": \"R\"}, {\"Presupuesto\": 10000000.0, \"Puntaje\": 5.6, \"Rating\": \"R\"}, {\"Presupuesto\": 35000000.0, \"Puntaje\": 6.2, \"Rating\": \"R\"}, {\"Presupuesto\": 19000000.0, \"Puntaje\": 6.2, \"Rating\": \"R\"}, {\"Presupuesto\": 20000000.0, \"Puntaje\": 7.6, \"Rating\": \"PG-13\"}, {\"Presupuesto\": 1500000.0, \"Puntaje\": 7.0, \"Rating\": \"PG-13\"}, {\"Presupuesto\": 27500000.0, \"Puntaje\": 6.8, \"Rating\": \"R\"}, {\"Presupuesto\": 60795000.0, \"Puntaje\": 5.7, \"Rating\": \"R\"}, {\"Presupuesto\": 21000000.0, \"Puntaje\": 6.9, \"Rating\": \"R\"}, {\"Presupuesto\": 30000000.0, \"Puntaje\": 5.9, \"Rating\": \"R\"}, {\"Presupuesto\": 16500000.0, \"Puntaje\": 7.1, \"Rating\": \"PG\"}, {\"Presupuesto\": 20000000.0, \"Puntaje\": 5.9, \"Rating\": \"PG-13\"}, {\"Presupuesto\": 5000000.0, \"Puntaje\": 6.3, \"Rating\": \"R\"}, {\"Presupuesto\": 100000000.0, \"Puntaje\": 6.7, \"Rating\": \"PG\"}, {\"Presupuesto\": 25000000.0, \"Puntaje\": 6.3, \"Rating\": \"R\"}, {\"Presupuesto\": 70000000.0, \"Puntaje\": 6.8, \"Rating\": \"R\"}, {\"Presupuesto\": 20000000.0, \"Puntaje\": 6.2, \"Rating\": \"PG-13\"}, {\"Presupuesto\": 30000000.0, \"Puntaje\": 6.3, \"Rating\": \"PG-13\"}, {\"Presupuesto\": 34000000.0, \"Puntaje\": 6.3, \"Rating\": \"PG\"}, {\"Presupuesto\": 12000000.0, \"Puntaje\": 3.6, \"Rating\": \"R\"}, {\"Presupuesto\": 4600000.0, \"Puntaje\": 5.9, \"Rating\": \"NOT RATED\"}, {\"Presupuesto\": 20000000.0, \"Puntaje\": 5.4, \"Rating\": \"R\"}, {\"Presupuesto\": 22000000.0, \"Puntaje\": 5.2, \"Rating\": \"PG-13\"}, {\"Presupuesto\": 27000000.0, \"Puntaje\": 6.8, \"Rating\": \"PG\"}, {\"Presupuesto\": 28000000.0, \"Puntaje\": 6.3, \"Rating\": \"PG\"}, {\"Presupuesto\": 16500000.0, \"Puntaje\": 6.3, \"Rating\": \"PG-13\"}, {\"Presupuesto\": 20000000.0, \"Puntaje\": 5.9, \"Rating\": \"PG\"}, {\"Presupuesto\": 60000000.0, \"Puntaje\": 3.8, \"Rating\": \"PG-13\"}, {\"Presupuesto\": 45000000.0, \"Puntaje\": 6.4, \"Rating\": \"R\"}, {\"Presupuesto\": 7300000.0, \"Puntaje\": 8.1, \"Rating\": \"PG-13\"}, {\"Presupuesto\": 40000000.0, \"Puntaje\": 5.7, \"Rating\": \"R\"}, {\"Presupuesto\": 10000000.0, \"Puntaje\": 6.5, \"Rating\": \"PG-13\"}, {\"Presupuesto\": 15000000.0, \"Puntaje\": 7.6, \"Rating\": \"PG-13\"}, {\"Presupuesto\": 10000000.0, \"Puntaje\": 6.7, \"Rating\": \"PG-13\"}, {\"Presupuesto\": 5000000.0, \"Puntaje\": 6.0, \"Rating\": \"R\"}, {\"Presupuesto\": 17000000.0, \"Puntaje\": 4.7, \"Rating\": \"R\"}, {\"Presupuesto\": 8000000.0, \"Puntaje\": 5.9, \"Rating\": \"R\"}, {\"Presupuesto\": 65000000.0, \"Puntaje\": 6.2, \"Rating\": \"G\"}, {\"Presupuesto\": 20000000.0, \"Puntaje\": 5.9, \"Rating\": \"R\"}, {\"Presupuesto\": 12000000.0, \"Puntaje\": 7.4, \"Rating\": \"R\"}, {\"Presupuesto\": 6000000.0, \"Puntaje\": 5.9, \"Rating\": \"R\"}, {\"Presupuesto\": 2000000.0, \"Puntaje\": 5.7, \"Rating\": \"R\"}, {\"Presupuesto\": 16000000.0, \"Puntaje\": 5.4, \"Rating\": \"PG-13\"}, {\"Presupuesto\": 35000000.0, \"Puntaje\": 5.3, \"Rating\": \"PG-13\"}, {\"Presupuesto\": 12000000.0, \"Puntaje\": 7.0, \"Rating\": \"R\"}, {\"Presupuesto\": 15000000.0, \"Puntaje\": 7.6, \"Rating\": \"NC-17\"}, {\"Presupuesto\": 40000000.0, \"Puntaje\": 6.5, \"Rating\": \"PG\"}, {\"Presupuesto\": 16000000.0, \"Puntaje\": 7.1, \"Rating\": \"R\"}, {\"Presupuesto\": 14000000.0, \"Puntaje\": 5.3, \"Rating\": \"PG-13\"}, {\"Presupuesto\": 20000000.0, \"Puntaje\": 5.9, \"Rating\": \"R\"}, {\"Presupuesto\": 100000000.0, \"Puntaje\": 5.6, \"Rating\": \"PG\"}, {\"Presupuesto\": 10000000.0, \"Puntaje\": 5.5, \"Rating\": \"PG-13\"}, {\"Presupuesto\": 3800000.0, \"Puntaje\": 6.3, \"Rating\": \"R\"}, {\"Presupuesto\": 28000000.0, \"Puntaje\": 4.0, \"Rating\": \"PG\"}, {\"Presupuesto\": 16000000.0, \"Puntaje\": 7.2, \"Rating\": \"R\"}, {\"Presupuesto\": 25000000.0, \"Puntaje\": 6.9, \"Rating\": \"R\"}, {\"Presupuesto\": 20000000.0, \"Puntaje\": 7.3, \"Rating\": \"R\"}, {\"Presupuesto\": 16000000.0, \"Puntaje\": 6.7, \"Rating\": \"R\"}, {\"Presupuesto\": 20000000.0, \"Puntaje\": 4.2, \"Rating\": \"PG-13\"}, {\"Presupuesto\": 20000000.0, \"Puntaje\": 6.8, \"Rating\": \"PG-13\"}, {\"Presupuesto\": 11000000.0, \"Puntaje\": 6.7, \"Rating\": \"R\"}, {\"Presupuesto\": 3750000.0, \"Puntaje\": 6.3, \"Rating\": \"R\"}, {\"Presupuesto\": 2600000.0, \"Puntaje\": 5.3, \"Rating\": \"R\"}, {\"Presupuesto\": 15000000.0, \"Puntaje\": 5.7, \"Rating\": \"PG-13\"}, {\"Presupuesto\": 13000000.0, \"Puntaje\": 6.2, \"Rating\": \"PG-13\"}, {\"Presupuesto\": 15000000.0, \"Puntaje\": 5.5, \"Rating\": \"PG-13\"}, {\"Presupuesto\": 3500000.0, \"Puntaje\": 6.0, \"Rating\": \"R\"}, {\"Presupuesto\": 8000000.0, \"Puntaje\": 6.7, \"Rating\": \"R\"}, {\"Presupuesto\": 4000000.0, \"Puntaje\": 6.6, \"Rating\": \"PG-13\"}, {\"Presupuesto\": 3500000.0, \"Puntaje\": 5.1, \"Rating\": \"R\"}, {\"Presupuesto\": 10000000.0, \"Puntaje\": 6.9, \"Rating\": \"R\"}, {\"Presupuesto\": 35000000.0, \"Puntaje\": 3.6, \"Rating\": \"PG-13\"}, {\"Presupuesto\": 6000000.0, \"Puntaje\": 6.7, \"Rating\": \"R\"}, {\"Presupuesto\": 26000000.0, \"Puntaje\": 4.0, \"Rating\": \"PG-13\"}, {\"Presupuesto\": 45000000.0, \"Puntaje\": 4.8, \"Rating\": \"PG\"}, {\"Presupuesto\": 10000000.0, \"Puntaje\": 5.9, \"Rating\": \"R\"}, {\"Presupuesto\": 55000000.0, \"Puntaje\": 5.9, \"Rating\": \"PG-13\"}, {\"Presupuesto\": 185000000.0, \"Puntaje\": 9.0, \"Rating\": \"PG-13\"}, {\"Presupuesto\": 37000000.0, \"Puntaje\": 5.2, \"Rating\": \"PG-13\"}, {\"Presupuesto\": 85000000.0, \"Puntaje\": 7.0, \"Rating\": \"PG-13\"}, {\"Presupuesto\": 25000000.0, \"Puntaje\": 5.5, \"Rating\": \"PG-13\"}, {\"Presupuesto\": 52000000.0, \"Puntaje\": 6.4, \"Rating\": \"PG-13\"}, {\"Presupuesto\": 10000000.0, \"Puntaje\": 6.2, \"Rating\": \"R\"}, {\"Presupuesto\": 92000000.0, \"Puntaje\": 7.0, \"Rating\": \"R\"}, {\"Presupuesto\": 140000000.0, \"Puntaje\": 7.9, \"Rating\": \"PG-13\"}, {\"Presupuesto\": 25000000.0, \"Puntaje\": 7.8, \"Rating\": \"PG-13\"}, {\"Presupuesto\": 150000000.0, \"Puntaje\": 7.8, \"Rating\": \"PG-13\"}, {\"Presupuesto\": 18000000.0, \"Puntaje\": 7.3, \"Rating\": \"R\"}, {\"Presupuesto\": 6000000.0, \"Puntaje\": 7.9, \"Rating\": \"R\"}, {\"Presupuesto\": 75000000.0, \"Puntaje\": 6.7, \"Rating\": \"R\"}, {\"Presupuesto\": 15000000.0, \"Puntaje\": 8.0, \"Rating\": \"R\"}, {\"Presupuesto\": 180000000.0, \"Puntaje\": 8.4, \"Rating\": \"G\"}, {\"Presupuesto\": 150000000.0, \"Puntaje\": 6.8, \"Rating\": \"PG-13\"}, {\"Presupuesto\": 65000000.0, \"Puntaje\": 5.5, \"Rating\": \"R\"}, {\"Presupuesto\": 15000000.0, \"Puntaje\": 7.9, \"Rating\": \"R\"}, {\"Presupuesto\": 65000000.0, \"Puntaje\": 6.9, \"Rating\": \"R\"}, {\"Presupuesto\": 33000000.0, \"Puntaje\": 8.2, \"Rating\": \"R\"}, {\"Presupuesto\": 35000000.0, \"Puntaje\": 6.8, \"Rating\": \"PG-13\"}, {\"Presupuesto\": 12500000.0, \"Puntaje\": 7.8, \"Rating\": \"PG-13\"}, {\"Presupuesto\": 200000000.0, \"Puntaje\": 6.6, \"Rating\": \"PG-13\"}, {\"Presupuesto\": 30000000.0, \"Puntaje\": 7.2, \"Rating\": \"R\"}, {\"Presupuesto\": 15000000.0, \"Puntaje\": 7.6, \"Rating\": \"R\"}, {\"Presupuesto\": 25000000.0, \"Puntaje\": 7.0, \"Rating\": \"PG-13\"}, {\"Presupuesto\": 27000000.0, \"Puntaje\": 7.0, \"Rating\": \"R\"}, {\"Presupuesto\": 30000000.0, \"Puntaje\": 6.1, \"Rating\": \"PG-13\"}, {\"Presupuesto\": 185000000.0, \"Puntaje\": 6.2, \"Rating\": \"PG-13\"}, {\"Presupuesto\": 15500000.0, \"Puntaje\": 7.1, \"Rating\": \"PG-13\"}, {\"Presupuesto\": 35000000.0, \"Puntaje\": 7.3, \"Rating\": \"R\"}, {\"Presupuesto\": 35000000.0, \"Puntaje\": 6.0, \"Rating\": \"R\"}, {\"Presupuesto\": 145000000.0, \"Puntaje\": 5.2, \"Rating\": \"PG-13\"}, {\"Presupuesto\": 150000000.0, \"Puntaje\": 6.4, \"Rating\": \"PG-13\"}, {\"Presupuesto\": 70000000.0, \"Puntaje\": 7.1, \"Rating\": \"R\"}, {\"Presupuesto\": 130000000.0, \"Puntaje\": 7.6, \"Rating\": \"PG\"}, {\"Presupuesto\": 90000000.0, \"Puntaje\": 6.6, \"Rating\": \"PG\"}, {\"Presupuesto\": 24000000.0, \"Puntaje\": 6.6, \"Rating\": \"R\"}, {\"Presupuesto\": 48000000.0, \"Puntaje\": 5.0, \"Rating\": \"R\"}, {\"Presupuesto\": 75000000.0, \"Puntaje\": 7.1, \"Rating\": \"PG-13\"}, {\"Presupuesto\": 32000000.0, \"Puntaje\": 7.6, \"Rating\": \"R\"}, {\"Presupuesto\": 225000000.0, \"Puntaje\": 6.6, \"Rating\": \"PG\"}, {\"Presupuesto\": 50000000.0, \"Puntaje\": 7.0, \"Rating\": \"R\"}, {\"Presupuesto\": 70000000.0, \"Puntaje\": 5.7, \"Rating\": \"PG-13\"}, {\"Presupuesto\": 80000000.0, \"Puntaje\": 6.5, \"Rating\": \"PG-13\"}, {\"Presupuesto\": 55000000.0, \"Puntaje\": 7.7, \"Rating\": \"PG-13\"}, {\"Presupuesto\": 28000000.0, \"Puntaje\": 6.9, \"Rating\": \"R\"}, {\"Presupuesto\": 85000000.0, \"Puntaje\": 6.1, \"Rating\": \"PG-13\"}, {\"Presupuesto\": 4000000.0, \"Puntaje\": 7.9, \"Rating\": \"R\"}, {\"Presupuesto\": 20000000.0, \"Puntaje\": 6.6, \"Rating\": \"PG-13\"}, {\"Presupuesto\": 35000000.0, \"Puntaje\": 6.7, \"Rating\": \"PG-13\"}, {\"Presupuesto\": 30000000.0, \"Puntaje\": 6.0, \"Rating\": \"R\"}, {\"Presupuesto\": 37000000.0, \"Puntaje\": 7.0, \"Rating\": \"R\"}, {\"Presupuesto\": 50000000.0, \"Puntaje\": 6.3, \"Rating\": \"R\"}, {\"Presupuesto\": 90000000.0, \"Puntaje\": 5.5, \"Rating\": \"PG-13\"}, {\"Presupuesto\": 55000000.0, \"Puntaje\": 7.8, \"Rating\": \"R\"}, {\"Presupuesto\": 20000000.0, \"Puntaje\": 7.3, \"Rating\": \"R\"}, {\"Presupuesto\": 35000000.0, \"Puntaje\": 5.4, \"Rating\": \"PG-13\"}, {\"Presupuesto\": 45000000.0, \"Puntaje\": 5.8, \"Rating\": \"PG\"}, {\"Presupuesto\": 19000000.0, \"Puntaje\": 6.5, \"Rating\": \"R\"}, {\"Presupuesto\": 40000000.0, \"Puntaje\": 5.9, \"Rating\": \"PG-13\"}, {\"Presupuesto\": 45000000.0, \"Puntaje\": 6.4, \"Rating\": \"R\"}, {\"Presupuesto\": 70000000.0, \"Puntaje\": 6.8, \"Rating\": \"PG-13\"}, {\"Presupuesto\": 20000000.0, \"Puntaje\": 6.1, \"Rating\": \"PG-13\"}, {\"Presupuesto\": 150000000.0, \"Puntaje\": 6.9, \"Rating\": \"PG\"}, {\"Presupuesto\": 10800000.0, \"Puntaje\": 5.8, \"Rating\": \"R\"}, {\"Presupuesto\": 15000000.0, \"Puntaje\": 6.2, \"Rating\": \"PG-13\"}, {\"Presupuesto\": 20000000.0, \"Puntaje\": 7.6, \"Rating\": \"R\"}, {\"Presupuesto\": 70000000.0, \"Puntaje\": 5.6, \"Rating\": \"PG-13\"}, {\"Presupuesto\": 35000000.0, \"Puntaje\": 6.1, \"Rating\": \"PG-13\"}, {\"Presupuesto\": 34000000.0, \"Puntaje\": 7.7, \"Rating\": \"G\"}, {\"Presupuesto\": 25100000.0, \"Puntaje\": 6.3, \"Rating\": \"PG-13\"}, {\"Presupuesto\": 105000000.0, \"Puntaje\": 5.1, \"Rating\": \"PG-13\"}, {\"Presupuesto\": 60000000.0, \"Puntaje\": 7.1, \"Rating\": \"PG\"}, {\"Presupuesto\": 130000000.0, \"Puntaje\": 6.6, \"Rating\": \"PG-13\"}, {\"Presupuesto\": 120000000.0, \"Puntaje\": 6.0, \"Rating\": \"PG\"}, {\"Presupuesto\": 60000000.0, \"Puntaje\": 4.8, \"Rating\": \"PG-13\"}, {\"Presupuesto\": 32000000.0, \"Puntaje\": 7.2, \"Rating\": \"R\"}, {\"Presupuesto\": 16500000.0, \"Puntaje\": 4.9, \"Rating\": \"PG-13\"}, {\"Presupuesto\": 80000000.0, \"Puntaje\": 6.6, \"Rating\": \"PG-13\"}, {\"Presupuesto\": 12000000.0, \"Puntaje\": 6.6, \"Rating\": \"R\"}, {\"Presupuesto\": 21000000.0, \"Puntaje\": 7.5, \"Rating\": \"R\"}, {\"Presupuesto\": 20000000.0, \"Puntaje\": 7.5, \"Rating\": \"PG-13\"}, {\"Presupuesto\": 35000000.0, \"Puntaje\": 6.2, \"Rating\": \"R\"}, {\"Presupuesto\": 80000000.0, \"Puntaje\": 5.5, \"Rating\": \"PG-13\"}, {\"Presupuesto\": 85000000.0, \"Puntaje\": 6.8, \"Rating\": \"G\"}, {\"Presupuesto\": 17500000.0, \"Puntaje\": 6.2, \"Rating\": \"PG-13\"}, {\"Presupuesto\": 20000000.0, \"Puntaje\": 1.9, \"Rating\": \"PG-13\"}, {\"Presupuesto\": 11000000.0, \"Puntaje\": 4.6, \"Rating\": \"G\"}, {\"Presupuesto\": 37000000.0, \"Puntaje\": 6.0, \"Rating\": \"PG\"}, {\"Presupuesto\": 60000000.0, \"Puntaje\": 6.1, \"Rating\": \"PG\"}, {\"Presupuesto\": 150000000.0, \"Puntaje\": 6.7, \"Rating\": \"PG\"}, {\"Presupuesto\": 55000000.0, \"Puntaje\": 6.6, \"Rating\": \"PG-13\"}, {\"Presupuesto\": 8000000.0, \"Puntaje\": 5.9, \"Rating\": \"R\"}, {\"Presupuesto\": 30000000.0, \"Puntaje\": 6.1, \"Rating\": \"PG-13\"}, {\"Presupuesto\": 20000000.0, \"Puntaje\": 6.8, \"Rating\": \"R\"}, {\"Presupuesto\": 55000000.0, \"Puntaje\": 5.8, \"Rating\": \"R\"}, {\"Presupuesto\": 30000000.0, \"Puntaje\": 2.7, \"Rating\": \"PG-13\"}, {\"Presupuesto\": 40000000.0, \"Puntaje\": 6.6, \"Rating\": \"PG-13\"}, {\"Presupuesto\": 2900000.0, \"Puntaje\": 7.5, \"Rating\": \"R\"}, {\"Presupuesto\": 9000000.0, \"Puntaje\": 6.7, \"Rating\": \"PG-13\"}, {\"Presupuesto\": 55000000.0, \"Puntaje\": 6.5, \"Rating\": \"PG\"}, {\"Presupuesto\": 80000000.0, \"Puntaje\": 6.1, \"Rating\": \"PG\"}, {\"Presupuesto\": 12000000.0, \"Puntaje\": 6.0, \"Rating\": \"R\"}, {\"Presupuesto\": 30000000.0, \"Puntaje\": 6.7, \"Rating\": \"R\"}, {\"Presupuesto\": 20000000.0, \"Puntaje\": 6.4, \"Rating\": \"PG-13\"}, {\"Presupuesto\": 25000000.0, \"Puntaje\": 5.9, \"Rating\": \"PG-13\"}, {\"Presupuesto\": 11000000.0, \"Puntaje\": 7.3, \"Rating\": \"PG-13\"}, {\"Presupuesto\": 20000000.0, \"Puntaje\": 6.8, \"Rating\": \"R\"}, {\"Presupuesto\": 40000000.0, \"Puntaje\": 7.3, \"Rating\": \"PG\"}, {\"Presupuesto\": 8000000.0, \"Puntaje\": 6.9, \"Rating\": \"R\"}, {\"Presupuesto\": 22000000.0, \"Puntaje\": 6.1, \"Rating\": \"PG-13\"}, {\"Presupuesto\": 25000000.0, \"Puntaje\": 7.7, \"Rating\": \"R\"}, {\"Presupuesto\": 11500000.0, \"Puntaje\": 7.2, \"Rating\": \"R\"}, {\"Presupuesto\": 20000000.0, \"Puntaje\": 3.9, \"Rating\": \"PG-13\"}, {\"Presupuesto\": 14700000.0, \"Puntaje\": 6.3, \"Rating\": \"R\"}, {\"Presupuesto\": 8000000.0, \"Puntaje\": 5.2, \"Rating\": \"PG-13\"}, {\"Presupuesto\": 25000000.0, \"Puntaje\": 6.1, \"Rating\": \"R\"}, {\"Presupuesto\": 15000000.0, \"Puntaje\": 6.1, \"Rating\": \"R\"}, {\"Presupuesto\": 60000000.0, \"Puntaje\": 6.0, \"Rating\": \"R\"}, {\"Presupuesto\": 35000000.0, \"Puntaje\": 4.5, \"Rating\": \"PG-13\"}, {\"Presupuesto\": 30000000.0, \"Puntaje\": 5.9, \"Rating\": \"PG-13\"}, {\"Presupuesto\": 6000000.0, \"Puntaje\": 4.7, \"Rating\": \"R\"}, {\"Presupuesto\": 40000000.0, \"Puntaje\": 5.9, \"Rating\": \"R\"}, {\"Presupuesto\": 27000000.0, \"Puntaje\": 6.5, \"Rating\": \"R\"}, {\"Presupuesto\": 8000000.0, \"Puntaje\": 6.0, \"Rating\": \"R\"}, {\"Presupuesto\": 20000000.0, \"Puntaje\": 6.8, \"Rating\": \"PG-13\"}, {\"Presupuesto\": 30000000.0, \"Puntaje\": 6.0, \"Rating\": \"PG-13\"}, {\"Presupuesto\": 35000000.0, \"Puntaje\": 6.2, \"Rating\": \"R\"}, {\"Presupuesto\": 12000000.0, \"Puntaje\": 7.1, \"Rating\": \"R\"}, {\"Presupuesto\": 20000000.0, \"Puntaje\": 6.8, \"Rating\": \"R\"}, {\"Presupuesto\": 9000000.0, \"Puntaje\": 1.9, \"Rating\": \"PG-13\"}, {\"Presupuesto\": 40000000.0, \"Puntaje\": 5.7, \"Rating\": \"PG-13\"}, {\"Presupuesto\": 25000000.0, \"Puntaje\": 6.6, \"Rating\": \"R\"}, {\"Presupuesto\": 500000.0, \"Puntaje\": 6.6, \"Rating\": \"PG\"}, {\"Presupuesto\": 8500000.0, \"Puntaje\": 6.7, \"Rating\": \"R\"}, {\"Presupuesto\": 12000000.0, \"Puntaje\": 7.0, \"Rating\": \"R\"}, {\"Presupuesto\": 1500000.0, \"Puntaje\": 6.7, \"Rating\": \"NOT RATED\"}, {\"Presupuesto\": 80000000.0, \"Puntaje\": 5.6, \"Rating\": \"PG-13\"}, {\"Presupuesto\": 20000000.0, \"Puntaje\": 6.7, \"Rating\": \"PG-13\"}, {\"Presupuesto\": 30000000.0, \"Puntaje\": 6.0, \"Rating\": \"PG-13\"}, {\"Presupuesto\": 1200000.0, \"Puntaje\": 6.2, \"Rating\": \"R\"}, {\"Presupuesto\": 58000000.0, \"Puntaje\": 6.0, \"Rating\": \"PG-13\"}, {\"Presupuesto\": 10000000.0, \"Puntaje\": 5.2, \"Rating\": \"PG-13\"}, {\"Presupuesto\": 35000000.0, \"Puntaje\": 7.2, \"Rating\": \"NOT RATED\"}, {\"Presupuesto\": 40000000.0, \"Puntaje\": 5.4, \"Rating\": \"R\"}, {\"Presupuesto\": 12000000.0, \"Puntaje\": 5.4, \"Rating\": \"PG-13\"}, {\"Presupuesto\": 62000000.0, \"Puntaje\": 3.8, \"Rating\": \"PG-13\"}, {\"Presupuesto\": 3000000.0, \"Puntaje\": 6.5, \"Rating\": \"R\"}, {\"Presupuesto\": 8500000.0, \"Puntaje\": 5.9, \"Rating\": \"PG\"}, {\"Presupuesto\": 15000000.0, \"Puntaje\": 6.7, \"Rating\": \"R\"}, {\"Presupuesto\": 25000000.0, \"Puntaje\": 6.5, \"Rating\": \"R\"}, {\"Presupuesto\": 5000000.0, \"Puntaje\": 6.6, \"Rating\": \"R\"}, {\"Presupuesto\": 20000000.0, \"Puntaje\": 6.7, \"Rating\": \"PG-13\"}, {\"Presupuesto\": 60000000.0, \"Puntaje\": 4.9, \"Rating\": \"PG\"}, {\"Presupuesto\": 5000000.0, \"Puntaje\": 6.8, \"Rating\": \"PG-13\"}, {\"Presupuesto\": 10000000.0, \"Puntaje\": 6.1, \"Rating\": \"R\"}, {\"Presupuesto\": 22000000.0, \"Puntaje\": 7.0, \"Rating\": \"PG-13\"}, {\"Presupuesto\": 21000000.0, \"Puntaje\": 6.1, \"Rating\": \"PG-13\"}, {\"Presupuesto\": 10000000.0, \"Puntaje\": 7.3, \"Rating\": \"R\"}, {\"Presupuesto\": 25000000.0, \"Puntaje\": 5.7, \"Rating\": \"R\"}, {\"Presupuesto\": 27000000.0, \"Puntaje\": 4.0, \"Rating\": \"PG-13\"}, {\"Presupuesto\": 18000000.0, \"Puntaje\": 5.1, \"Rating\": \"R\"}, {\"Presupuesto\": 1500000.0, \"Puntaje\": 8.0, \"Rating\": \"R\"}, {\"Presupuesto\": 25000000.0, \"Puntaje\": 6.0, \"Rating\": \"PG\"}, {\"Presupuesto\": 20000000.0, \"Puntaje\": 5.3, \"Rating\": \"R\"}, {\"Presupuesto\": 60000000.0, \"Puntaje\": 6.1, \"Rating\": \"G\"}, {\"Presupuesto\": 25000000.0, \"Puntaje\": 5.2, \"Rating\": \"R\"}, {\"Presupuesto\": 25000000.0, \"Puntaje\": 6.8, \"Rating\": \"PG-13\"}, {\"Presupuesto\": 6000000.0, \"Puntaje\": 7.0, \"Rating\": \"R\"}, {\"Presupuesto\": 20000000.0, \"Puntaje\": 3.7, \"Rating\": \"PG\"}, {\"Presupuesto\": 3500000.0, \"Puntaje\": 6.4, \"Rating\": \"R\"}, {\"Presupuesto\": 5000000.0, \"Puntaje\": 3.9, \"Rating\": \"PG-13\"}, {\"Presupuesto\": 22000000.0, \"Puntaje\": 5.8, \"Rating\": \"PG-13\"}, {\"Presupuesto\": 35000000.0, \"Puntaje\": 5.4, \"Rating\": \"PG-13\"}, {\"Presupuesto\": 8000000.0, \"Puntaje\": 6.5, \"Rating\": \"R\"}, {\"Presupuesto\": 45000000.0, \"Puntaje\": 6.0, \"Rating\": \"R\"}, {\"Presupuesto\": 7000000.0, \"Puntaje\": 6.8, \"Rating\": \"R\"}, {\"Presupuesto\": 10000000.0, \"Puntaje\": 6.6, \"Rating\": \"G\"}, {\"Presupuesto\": 13000000.0, \"Puntaje\": 6.8, \"Rating\": \"R\"}, {\"Presupuesto\": 6500000.0, \"Puntaje\": 4.6, \"Rating\": \"R\"}, {\"Presupuesto\": 9000000.0, \"Puntaje\": 6.4, \"Rating\": \"R\"}, {\"Presupuesto\": 10000000.0, \"Puntaje\": 5.7, \"Rating\": \"R\"}, {\"Presupuesto\": 130000000.0, \"Puntaje\": 7.6, \"Rating\": \"R\"}, {\"Presupuesto\": 237000000.0, \"Puntaje\": 7.8, \"Rating\": \"PG-13\"}, {\"Presupuesto\": 75000000.0, \"Puntaje\": 8.3, \"Rating\": \"R\"}, {\"Presupuesto\": 150000000.0, \"Puntaje\": 8.0, \"Rating\": \"PG-13\"}, {\"Presupuesto\": 35000000.0, \"Puntaje\": 7.8, \"Rating\": \"R\"}, {\"Presupuesto\": 250000000.0, \"Puntaje\": 7.5, \"Rating\": \"PG\"}, {\"Presupuesto\": 40000000.0, \"Puntaje\": 7.8, \"Rating\": \"PG\"}, {\"Presupuesto\": 23600000.0, \"Puntaje\": 7.7, \"Rating\": \"R\"}, {\"Presupuesto\": 25000000.0, \"Puntaje\": 7.4, \"Rating\": \"R\"}, {\"Presupuesto\": 29000000.0, \"Puntaje\": 7.7, \"Rating\": \"PG-13\"}, {\"Presupuesto\": 19000000.0, \"Puntaje\": 5.6, \"Rating\": \"R\"}, {\"Presupuesto\": 90000000.0, \"Puntaje\": 7.6, \"Rating\": \"PG-13\"}, {\"Presupuesto\": 200000000.0, \"Puntaje\": 5.8, \"Rating\": \"PG-13\"}, {\"Presupuesto\": 60000000.0, \"Puntaje\": 7.7, \"Rating\": \"PG\"}, {\"Presupuesto\": 150000000.0, \"Puntaje\": 6.7, \"Rating\": \"PG-13\"}, {\"Presupuesto\": 175000000.0, \"Puntaje\": 8.3, \"Rating\": \"PG\"}, {\"Presupuesto\": 47000000.0, \"Puntaje\": 7.9, \"Rating\": \"R\"}, {\"Presupuesto\": 11000000.0, \"Puntaje\": 6.3, \"Rating\": \"R\"}, {\"Presupuesto\": 7500000.0, \"Puntaje\": 7.7, \"Rating\": \"PG-13\"}, {\"Presupuesto\": 200000000.0, \"Puntaje\": 6.6, \"Rating\": \"PG-13\"}, {\"Presupuesto\": 5000000.0, \"Puntaje\": 7.9, \"Rating\": \"R\"}, {\"Presupuesto\": 200000000.0, \"Puntaje\": 6.0, \"Rating\": \"PG-13\"}, {\"Presupuesto\": 2000000.0, \"Puntaje\": 8.2, \"Rating\": \"R\"}, {\"Presupuesto\": 13000000.0, \"Puntaje\": 7.8, \"Rating\": \"R\"}, {\"Presupuesto\": 30000000.0, \"Puntaje\": 2.6, \"Rating\": \"PG\"}, {\"Presupuesto\": 30000000.0, \"Puntaje\": 8.0, \"Rating\": \"R\"}, {\"Presupuesto\": 150000000.0, \"Puntaje\": 6.7, \"Rating\": \"PG-13\"}, {\"Presupuesto\": 16000000.0, \"Puntaje\": 5.1, \"Rating\": \"R\"}, {\"Presupuesto\": 11000000.0, \"Puntaje\": 6.6, \"Rating\": \"NOT RATED\"}, {\"Presupuesto\": 40000000.0, \"Puntaje\": 6.7, \"Rating\": \"PG-13\"}, {\"Presupuesto\": 25000000.0, \"Puntaje\": 7.3, \"Rating\": \"R\"}, {\"Presupuesto\": 50000000.0, \"Puntaje\": 7.4, \"Rating\": \"R\"}, {\"Presupuesto\": 65000000.0, \"Puntaje\": 5.7, \"Rating\": \"PG\"}, {\"Presupuesto\": 30000000.0, \"Puntaje\": 7.4, \"Rating\": \"PG-13\"}, {\"Presupuesto\": 175000000.0, \"Puntaje\": 5.8, \"Rating\": \"PG-13\"}, {\"Presupuesto\": 15000000.0, \"Puntaje\": 6.6, \"Rating\": \"R\"}, {\"Presupuesto\": 85000000.0, \"Puntaje\": 6.6, \"Rating\": \"PG-13\"}, {\"Presupuesto\": 65000000.0, \"Puntaje\": 6.7, \"Rating\": \"PG-13\"}, {\"Presupuesto\": 40000000.0, \"Puntaje\": 6.4, \"Rating\": \"PG-13\"}, {\"Presupuesto\": 33000000.0, \"Puntaje\": 6.8, \"Rating\": \"R\"}, {\"Presupuesto\": 100000000.0, \"Puntaje\": 7.0, \"Rating\": \"R\"}, {\"Presupuesto\": 20000000.0, \"Puntaje\": 6.4, \"Rating\": \"PG-13\"}, {\"Presupuesto\": 7000000.0, \"Puntaje\": 7.6, \"Rating\": \"R\"}, {\"Presupuesto\": 80000000.0, \"Puntaje\": 6.3, \"Rating\": \"PG-13\"}, {\"Presupuesto\": 50000000.0, \"Puntaje\": 4.6, \"Rating\": \"PG-13\"}, {\"Presupuesto\": 15000000.0, \"Puntaje\": 5.5, \"Rating\": \"R\"}, {\"Presupuesto\": 105000000.0, \"Puntaje\": 7.1, \"Rating\": \"G\"}, {\"Presupuesto\": 40000000.0, \"Puntaje\": 6.8, \"Rating\": \"PG-13\"}, {\"Presupuesto\": 40000000.0, \"Puntaje\": 7.0, \"Rating\": \"R\"}, {\"Presupuesto\": 40000000.0, \"Puntaje\": 5.9, \"Rating\": \"PG-13\"}, {\"Presupuesto\": 35000000.0, \"Puntaje\": 7.3, \"Rating\": \"PG\"}, {\"Presupuesto\": 26000000.0, \"Puntaje\": 7.1, \"Rating\": \"R\"}, {\"Presupuesto\": 900000.0, \"Puntaje\": 6.4, \"Rating\": \"R\"}, {\"Presupuesto\": 15000000.0, \"Puntaje\": 4.9, \"Rating\": \"R\"}, {\"Presupuesto\": 38000000.0, \"Puntaje\": 6.5, \"Rating\": \"R\"}, {\"Presupuesto\": 60000000.0, \"Puntaje\": 4.9, \"Rating\": \"PG-13\"}, {\"Presupuesto\": 20000000.0, \"Puntaje\": 6.2, \"Rating\": \"PG-13\"}, {\"Presupuesto\": 40000000.0, \"Puntaje\": 7.0, \"Rating\": \"PG-13\"}, {\"Presupuesto\": 30000000.0, \"Puntaje\": 7.1, \"Rating\": \"PG-13\"}, {\"Presupuesto\": 40000000.0, \"Puntaje\": 5.2, \"Rating\": \"R\"}, {\"Presupuesto\": 20000000.0, \"Puntaje\": 6.7, \"Rating\": \"R\"}, {\"Presupuesto\": 80000000.0, \"Puntaje\": 5.8, \"Rating\": \"PG-13\"}, {\"Presupuesto\": 5000000.0, \"Puntaje\": 7.8, \"Rating\": \"R\"}, {\"Presupuesto\": 8500000.0, \"Puntaje\": 7.0, \"Rating\": \"PG\"}, {\"Presupuesto\": 38000000.0, \"Puntaje\": 6.1, \"Rating\": \"PG-13\"}, {\"Presupuesto\": 75000000.0, \"Puntaje\": 6.3, \"Rating\": \"R\"}, {\"Presupuesto\": 10000000.0, \"Puntaje\": 7.3, \"Rating\": \"R\"}, {\"Presupuesto\": 11000000.0, \"Puntaje\": 6.0, \"Rating\": \"R\"}, {\"Presupuesto\": 50000000.0, \"Puntaje\": 5.8, \"Rating\": \"R\"}, {\"Presupuesto\": 30000000.0, \"Puntaje\": 5.5, \"Rating\": \"PG\"}, {\"Presupuesto\": 60000000.0, \"Puntaje\": 5.5, \"Rating\": \"PG-13\"}, {\"Presupuesto\": 30000000.0, \"Puntaje\": 6.6, \"Rating\": \"PG-13\"}, {\"Presupuesto\": 50000000.0, \"Puntaje\": 7.4, \"Rating\": \"R\"}, {\"Presupuesto\": 26000000.0, \"Puntaje\": 5.8, \"Rating\": \"R\"}, {\"Presupuesto\": 35000000.0, \"Puntaje\": 6.6, \"Rating\": \"R\"}, {\"Presupuesto\": 20000000.0, \"Puntaje\": 6.5, \"Rating\": \"R\"}, {\"Presupuesto\": 175000000.0, \"Puntaje\": 6.5, \"Rating\": \"PG\"}, {\"Presupuesto\": 26000000.0, \"Puntaje\": 5.2, \"Rating\": \"PG\"}, {\"Presupuesto\": 100000000.0, \"Puntaje\": 6.4, \"Rating\": \"R\"}, {\"Presupuesto\": 39000000.0, \"Puntaje\": 7.1, \"Rating\": \"PG-13\"}, {\"Presupuesto\": 50000000.0, \"Puntaje\": 6.2, \"Rating\": \"PG-13\"}, {\"Presupuesto\": 7000000.0, \"Puntaje\": 7.0, \"Rating\": \"R\"}, {\"Presupuesto\": 100000000.0, \"Puntaje\": 7.0, \"Rating\": \"PG\"}, {\"Presupuesto\": 25000000.0, \"Puntaje\": 6.2, \"Rating\": \"R\"}, {\"Presupuesto\": 6000000.0, \"Puntaje\": 5.0, \"Rating\": \"R\"}, {\"Presupuesto\": 16000000.0, \"Puntaje\": 5.6, \"Rating\": \"PG-13\"}, {\"Presupuesto\": 6000000.0, \"Puntaje\": 6.4, \"Rating\": \"R\"}, {\"Presupuesto\": 60000000.0, \"Puntaje\": 7.4, \"Rating\": \"PG-13\"}, {\"Presupuesto\": 150000000.0, \"Puntaje\": 5.9, \"Rating\": \"PG\"}, {\"Presupuesto\": 100000000.0, \"Puntaje\": 5.4, \"Rating\": \"PG-13\"}, {\"Presupuesto\": 26000000.0, \"Puntaje\": 6.2, \"Rating\": \"R\"}, {\"Presupuesto\": 85000000.0, \"Puntaje\": 6.6, \"Rating\": \"R\"}, {\"Presupuesto\": 100000000.0, \"Puntaje\": 6.8, \"Rating\": \"PG\"}, {\"Presupuesto\": 20000000.0, \"Puntaje\": 6.2, \"Rating\": \"R\"}, {\"Presupuesto\": 7000000.0, \"Puntaje\": 7.3, \"Rating\": \"R\"}, {\"Presupuesto\": 16000000.0, \"Puntaje\": 4.8, \"Rating\": \"PG-13\"}, {\"Presupuesto\": 35000000.0, \"Puntaje\": 5.4, \"Rating\": \"PG\"}, {\"Presupuesto\": 30000000.0, \"Puntaje\": 4.3, \"Rating\": \"G\"}, {\"Presupuesto\": 70000000.0, \"Puntaje\": 7.2, \"Rating\": \"R\"}, {\"Presupuesto\": 20000000.0, \"Puntaje\": 4.9, \"Rating\": \"PG-13\"}, {\"Presupuesto\": 42000000.0, \"Puntaje\": 5.8, \"Rating\": \"R\"}, {\"Presupuesto\": 10000000.0, \"Puntaje\": 5.9, \"Rating\": \"PG-13\"}, {\"Presupuesto\": 40000000.0, \"Puntaje\": 6.4, \"Rating\": \"R\"}, {\"Presupuesto\": 15000000.0, \"Puntaje\": 7.2, \"Rating\": \"PG-13\"}, {\"Presupuesto\": 35000000.0, \"Puntaje\": 5.5, \"Rating\": \"R\"}, {\"Presupuesto\": 22000000.0, \"Puntaje\": 6.6, \"Rating\": \"R\"}, {\"Presupuesto\": 18500000.0, \"Puntaje\": 6.4, \"Rating\": \"PG-13\"}, {\"Presupuesto\": 8000000.0, \"Puntaje\": 6.2, \"Rating\": \"R\"}, {\"Presupuesto\": 90000000.0, \"Puntaje\": 7.0, \"Rating\": \"PG\"}, {\"Presupuesto\": 75000000.0, \"Puntaje\": 4.5, \"Rating\": \"PG\"}, {\"Presupuesto\": 14000000.0, \"Puntaje\": 6.5, \"Rating\": \"R\"}, {\"Presupuesto\": 15000000.0, \"Puntaje\": 6.9, \"Rating\": \"PG-13\"}, {\"Presupuesto\": 200000000.0, \"Puntaje\": 6.8, \"Rating\": \"PG\"}, {\"Presupuesto\": 50000000.0, \"Puntaje\": 6.5, \"Rating\": \"R\"}, {\"Presupuesto\": 35000000.0, \"Puntaje\": 5.4, \"Rating\": \"PG\"}, {\"Presupuesto\": 8000000.0, \"Puntaje\": 6.3, \"Rating\": \"R\"}, {\"Presupuesto\": 17000000.0, \"Puntaje\": 6.7, \"Rating\": \"R\"}, {\"Presupuesto\": 2900000.0, \"Puntaje\": 7.4, \"Rating\": \"R\"}, {\"Presupuesto\": 22000000.0, \"Puntaje\": 6.5, \"Rating\": \"R\"}, {\"Presupuesto\": 18000000.0, \"Puntaje\": 5.8, \"Rating\": \"R\"}, {\"Presupuesto\": 13000000.0, \"Puntaje\": 6.6, \"Rating\": \"R\"}, {\"Presupuesto\": 15000000.0, \"Puntaje\": 4.8, \"Rating\": \"PG-13\"}, {\"Presupuesto\": 1700000.0, \"Puntaje\": 5.5, \"Rating\": \"R\"}, {\"Presupuesto\": 18000000.0, \"Puntaje\": 5.0, \"Rating\": \"PG\"}, {\"Presupuesto\": 18000000.0, \"Puntaje\": 5.3, \"Rating\": \"PG-13\"}, {\"Presupuesto\": 18000000.0, \"Puntaje\": 6.5, \"Rating\": \"R\"}, {\"Presupuesto\": 60000000.0, \"Puntaje\": 6.2, \"Rating\": \"PG-13\"}, {\"Presupuesto\": 17000000.0, \"Puntaje\": 7.1, \"Rating\": \"R\"}, {\"Presupuesto\": 3900000.0, \"Puntaje\": 6.6, \"Rating\": \"PG-13\"}, {\"Presupuesto\": 7300000.0, \"Puntaje\": 7.2, \"Rating\": \"R\"}, {\"Presupuesto\": 8000000.0, \"Puntaje\": 5.6, \"Rating\": \"PG\"}, {\"Presupuesto\": 20000000.0, \"Puntaje\": 6.7, \"Rating\": \"R\"}, {\"Presupuesto\": 5000000.0, \"Puntaje\": 7.2, \"Rating\": \"R\"}, {\"Presupuesto\": 16000000.0, \"Puntaje\": 5.1, \"Rating\": \"R\"}, {\"Presupuesto\": 60000000.0, \"Puntaje\": 6.7, \"Rating\": \"PG-13\"}, {\"Presupuesto\": 4500000.0, \"Puntaje\": 5.9, \"Rating\": \"R\"}, {\"Presupuesto\": 800000.0, \"Puntaje\": 6.3, \"Rating\": \"NOT RATED\"}, {\"Presupuesto\": 45000000.0, \"Puntaje\": 5.4, \"Rating\": \"PG\"}, {\"Presupuesto\": 18000000.0, \"Puntaje\": 3.7, \"Rating\": \"PG-13\"}, {\"Presupuesto\": 21000000.0, \"Puntaje\": 7.2, \"Rating\": \"PG-13\"}, {\"Presupuesto\": 150000000.0, \"Puntaje\": 5.1, \"Rating\": \"PG\"}, {\"Presupuesto\": 18000000.0, \"Puntaje\": 5.6, \"Rating\": \"PG-13\"}, {\"Presupuesto\": 40000000.0, \"Puntaje\": 4.8, \"Rating\": \"PG\"}, {\"Presupuesto\": 19000000.0, \"Puntaje\": 6.8, \"Rating\": \"R\"}, {\"Presupuesto\": 5000000.0, \"Puntaje\": 6.5, \"Rating\": \"R\"}, {\"Presupuesto\": 70000000.0, \"Puntaje\": 5.6, \"Rating\": \"PG\"}, {\"Presupuesto\": 65000000.0, \"Puntaje\": 6.3, \"Rating\": \"PG\"}, {\"Presupuesto\": 70000000.0, \"Puntaje\": 6.1, \"Rating\": \"PG\"}, {\"Presupuesto\": 58000000.0, \"Puntaje\": 4.8, \"Rating\": \"PG-13\"}, {\"Presupuesto\": 23000000.0, \"Puntaje\": 6.2, \"Rating\": \"R\"}, {\"Presupuesto\": 22000000.0, \"Puntaje\": 5.6, \"Rating\": \"PG-13\"}, {\"Presupuesto\": 40000000.0, \"Puntaje\": 5.8, \"Rating\": \"PG\"}, {\"Presupuesto\": 18000000.0, \"Puntaje\": 7.2, \"Rating\": \"R\"}, {\"Presupuesto\": 30000000.0, \"Puntaje\": 6.7, \"Rating\": \"R\"}, {\"Presupuesto\": 5600000.0, \"Puntaje\": 6.6, \"Rating\": \"R\"}, {\"Presupuesto\": 10000000.0, \"Puntaje\": 7.6, \"Rating\": \"R\"}, {\"Presupuesto\": 3500000.0, \"Puntaje\": 6.8, \"Rating\": \"R\"}, {\"Presupuesto\": 27000000.0, \"Puntaje\": 5.7, \"Rating\": \"PG-13\"}, {\"Presupuesto\": 15000000.0, \"Puntaje\": 6.4, \"Rating\": \"R\"}, {\"Presupuesto\": 17000000.0, \"Puntaje\": 5.9, \"Rating\": \"PG-13\"}, {\"Presupuesto\": 6000000.0, \"Puntaje\": 7.4, \"Rating\": \"PG-13\"}, {\"Presupuesto\": 800000.0, \"Puntaje\": 6.8, \"Rating\": \"R\"}, {\"Presupuesto\": 8000000.0, \"Puntaje\": 5.9, \"Rating\": \"R\"}, {\"Presupuesto\": 4000000.0, \"Puntaje\": 4.9, \"Rating\": \"R\"}, {\"Presupuesto\": 6500000.0, \"Puntaje\": 7.2, \"Rating\": \"R\"}, {\"Presupuesto\": 7500000.0, \"Puntaje\": 7.1, \"Rating\": \"PG-13\"}, {\"Presupuesto\": 12000000.0, \"Puntaje\": 6.8, \"Rating\": \"PG-13\"}, {\"Presupuesto\": 5000000.0, \"Puntaje\": 6.9, \"Rating\": \"R\"}, {\"Presupuesto\": 10000000.0, \"Puntaje\": 5.9, \"Rating\": \"R\"}, {\"Presupuesto\": 13000000.0, \"Puntaje\": 4.2, \"Rating\": \"PG-13\"}, {\"Presupuesto\": 3000000.0, \"Puntaje\": 5.9, \"Rating\": \"R\"}, {\"Presupuesto\": 25000000.0, \"Puntaje\": 5.9, \"Rating\": \"PG-13\"}, {\"Presupuesto\": 160000000.0, \"Puntaje\": 8.8, \"Rating\": \"PG-13\"}, {\"Presupuesto\": 13000000.0, \"Puntaje\": 8.0, \"Rating\": \"R\"}, {\"Presupuesto\": 60000000.0, \"Puntaje\": 7.5, \"Rating\": \"PG-13\"}, {\"Presupuesto\": 80000000.0, \"Puntaje\": 8.1, \"Rating\": \"R\"}, {\"Presupuesto\": 30000000.0, \"Puntaje\": 7.7, \"Rating\": \"R\"}, {\"Presupuesto\": 20000000.0, \"Puntaje\": 6.4, \"Rating\": \"R\"}, {\"Presupuesto\": 125000000.0, \"Puntaje\": 5.8, \"Rating\": \"PG-13\"}, {\"Presupuesto\": 6800000.0, \"Puntaje\": 8.2, \"Rating\": \"R\"}, {\"Presupuesto\": 1500000.0, \"Puntaje\": 6.8, \"Rating\": \"PG-13\"}, {\"Presupuesto\": 40000000.0, \"Puntaje\": 7.7, \"Rating\": \"PG-13\"}, {\"Presupuesto\": 69000000.0, \"Puntaje\": 7.7, \"Rating\": \"PG\"}, {\"Presupuesto\": 37000000.0, \"Puntaje\": 7.6, \"Rating\": \"R\"}, {\"Presupuesto\": 260000000.0, \"Puntaje\": 7.8, \"Rating\": \"PG\"}, {\"Presupuesto\": 95000000.0, \"Puntaje\": 5.9, \"Rating\": \"PG\"}, {\"Presupuesto\": 15000000.0, \"Puntaje\": 8.0, \"Rating\": \"R\"}, {\"Presupuesto\": 8000000.0, \"Puntaje\": 7.1, \"Rating\": \"PG-13\"}, {\"Presupuesto\": 200000000.0, \"Puntaje\": 7.0, \"Rating\": \"PG-13\"}, {\"Presupuesto\": 30000000.0, \"Puntaje\": 6.7, \"Rating\": \"R\"}, {\"Presupuesto\": 170000000.0, \"Puntaje\": 6.8, \"Rating\": \"PG\"}, {\"Presupuesto\": 26000000.0, \"Puntaje\": 5.2, \"Rating\": \"R\"}, {\"Presupuesto\": 200000000.0, \"Puntaje\": 6.5, \"Rating\": \"PG\"}, {\"Presupuesto\": 38000000.0, \"Puntaje\": 7.6, \"Rating\": \"PG-13\"}, {\"Presupuesto\": 35000000.0, \"Puntaje\": 5.2, \"Rating\": \"R\"}, {\"Presupuesto\": 58000000.0, \"Puntaje\": 7.1, \"Rating\": \"PG-13\"}, {\"Presupuesto\": 80000000.0, \"Puntaje\": 6.9, \"Rating\": \"R\"}, {\"Presupuesto\": 100000000.0, \"Puntaje\": 4.4, \"Rating\": \"R\"}, {\"Presupuesto\": 110000000.0, \"Puntaje\": 6.8, \"Rating\": \"PG-13\"}, {\"Presupuesto\": 117000000.0, \"Puntaje\": 6.3, \"Rating\": \"PG-13\"}, {\"Presupuesto\": 200000000.0, \"Puntaje\": 8.3, \"Rating\": \"G\"}, {\"Presupuesto\": 3500000.0, \"Puntaje\": 7.4, \"Rating\": \"R\"}, {\"Presupuesto\": 2000000.0, \"Puntaje\": 6.3, \"Rating\": \"R\"}, {\"Presupuesto\": 165000000.0, \"Puntaje\": 8.1, \"Rating\": \"PG\"}, {\"Presupuesto\": 16000000.0, \"Puntaje\": 7.2, \"Rating\": \"PG-13\"}, {\"Presupuesto\": 200000000.0, \"Puntaje\": 6.6, \"Rating\": \"PG-13\"}, {\"Presupuesto\": 25000000.0, \"Puntaje\": 7.8, \"Rating\": \"R\"}, {\"Presupuesto\": 15000000.0, \"Puntaje\": 7.2, \"Rating\": \"R\"}, {\"Presupuesto\": 80000000.0, \"Puntaje\": 6.0, \"Rating\": \"PG-13\"}, {\"Presupuesto\": 35000000.0, \"Puntaje\": 6.1, \"Rating\": \"PG\"}, {\"Presupuesto\": 20000000.0, \"Puntaje\": 5.6, \"Rating\": \"R\"}, {\"Presupuesto\": 200000000.0, \"Puntaje\": 6.7, \"Rating\": \"PG-13\"}, {\"Presupuesto\": 110000000.0, \"Puntaje\": 6.4, \"Rating\": \"PG-13\"}, {\"Presupuesto\": 80000000.0, \"Puntaje\": 6.5, \"Rating\": \"R\"}, {\"Presupuesto\": 150000000.0, \"Puntaje\": 4.2, \"Rating\": \"PG\"}, {\"Presupuesto\": 38000000.0, \"Puntaje\": 6.6, \"Rating\": \"PG-13\"}, {\"Presupuesto\": 55000000.0, \"Puntaje\": 6.3, \"Rating\": \"PG-13\"}, {\"Presupuesto\": 55000000.0, \"Puntaje\": 6.4, \"Rating\": \"PG-13\"}, {\"Presupuesto\": 18000000.0, \"Puntaje\": 7.6, \"Rating\": \"R\"}, {\"Presupuesto\": 40000000.0, \"Puntaje\": 6.4, \"Rating\": \"R\"}, {\"Presupuesto\": 35000000.0, \"Puntaje\": 7.4, \"Rating\": \"PG-13\"}, {\"Presupuesto\": 100000000.0, \"Puntaje\": 6.7, \"Rating\": \"PG-13\"}, {\"Presupuesto\": 19000000.0, \"Puntaje\": 6.5, \"Rating\": \"PG\"}, {\"Presupuesto\": 40000000.0, \"Puntaje\": 6.2, \"Rating\": \"PG\"}, {\"Presupuesto\": 68000000.0, \"Puntaje\": 4.9, \"Rating\": \"PG-13\"}, {\"Presupuesto\": 55000000.0, \"Puntaje\": 5.6, \"Rating\": \"PG-13\"}, {\"Presupuesto\": 2000000.0, \"Puntaje\": 7.2, \"Rating\": \"R\"}, {\"Presupuesto\": 24000000.0, \"Puntaje\": 5.5, \"Rating\": \"R\"}, {\"Presupuesto\": 36000000.0, \"Puntaje\": 6.4, \"Rating\": \"R\"}, {\"Presupuesto\": 100000000.0, \"Puntaje\": 6.8, \"Rating\": \"PG-13\"}, {\"Presupuesto\": 24000000.0, \"Puntaje\": 6.5, \"Rating\": \"R\"}, {\"Presupuesto\": 12000000.0, \"Puntaje\": 6.4, \"Rating\": \"R\"}, {\"Presupuesto\": 15000000.0, \"Puntaje\": 6.7, \"Rating\": \"G\"}, {\"Presupuesto\": 15000000.0, \"Puntaje\": 6.2, \"Rating\": \"PG\"}, {\"Presupuesto\": 52000000.0, \"Puntaje\": 5.7, \"Rating\": \"PG-13\"}, {\"Presupuesto\": 80000000.0, \"Puntaje\": 6.6, \"Rating\": \"R\"}, {\"Presupuesto\": 44000000.0, \"Puntaje\": 6.5, \"Rating\": \"PG-13\"}, {\"Presupuesto\": 20000000.0, \"Puntaje\": 7.2, \"Rating\": \"R\"}, {\"Presupuesto\": 130000000.0, \"Puntaje\": 7.3, \"Rating\": \"PG\"}, {\"Presupuesto\": 3000000.0, \"Puntaje\": 7.0, \"Rating\": \"R\"}, {\"Presupuesto\": 165000000.0, \"Puntaje\": 6.3, \"Rating\": \"PG\"}, {\"Presupuesto\": 14000000.0, \"Puntaje\": 7.7, \"Rating\": \"PG\"}, {\"Presupuesto\": 100000000.0, \"Puntaje\": 6.0, \"Rating\": \"PG-13\"}, {\"Presupuesto\": 20000000.0, \"Puntaje\": 5.8, \"Rating\": \"PG\"}, {\"Presupuesto\": 155000000.0, \"Puntaje\": 6.3, \"Rating\": \"PG\"}, {\"Presupuesto\": 10500000.0, \"Puntaje\": 6.6, \"Rating\": \"R\"}, {\"Presupuesto\": 150000000.0, \"Puntaje\": 6.1, \"Rating\": \"PG\"}, {\"Presupuesto\": 70000000.0, \"Puntaje\": 6.2, \"Rating\": \"PG-13\"}, {\"Presupuesto\": 25000000.0, \"Puntaje\": 6.3, \"Rating\": \"PG-13\"}, {\"Presupuesto\": 60000000.0, \"Puntaje\": 5.7, \"Rating\": \"PG-13\"}, {\"Presupuesto\": 65000000.0, \"Puntaje\": 6.6, \"Rating\": \"R\"}, {\"Presupuesto\": 25000000.0, \"Puntaje\": 6.4, \"Rating\": \"PG-13\"}, {\"Presupuesto\": 20000000.0, \"Puntaje\": 6.5, \"Rating\": \"R\"}, {\"Presupuesto\": 8000000.0, \"Puntaje\": 7.1, \"Rating\": \"PG-13\"}, {\"Presupuesto\": 100000000.0, \"Puntaje\": 5.5, \"Rating\": \"PG-13\"}, {\"Presupuesto\": 2500000.0, \"Puntaje\": 6.8, \"Rating\": \"R\"}, {\"Presupuesto\": 20000000.0, \"Puntaje\": 5.9, \"Rating\": \"PG\"}, {\"Presupuesto\": 60000000.0, \"Puntaje\": 5.9, \"Rating\": \"R\"}, {\"Presupuesto\": 10000000.0, \"Puntaje\": 6.3, \"Rating\": \"PG-13\"}, {\"Presupuesto\": 19000000.0, \"Puntaje\": 6.1, \"Rating\": \"PG-13\"}, {\"Presupuesto\": 45000000.0, \"Puntaje\": 7.2, \"Rating\": \"PG-13\"}, {\"Presupuesto\": 150000000.0, \"Puntaje\": 5.8, \"Rating\": \"R\"}, {\"Presupuesto\": 20000000.0, \"Puntaje\": 6.2, \"Rating\": \"PG-13\"}, {\"Presupuesto\": 47000000.0, \"Puntaje\": 4.7, \"Rating\": \"PG-13\"}, {\"Presupuesto\": 35000000.0, \"Puntaje\": 5.3, \"Rating\": \"PG-13\"}, {\"Presupuesto\": 40000000.0, \"Puntaje\": 5.5, \"Rating\": \"PG-13\"}, {\"Presupuesto\": 10000000.0, \"Puntaje\": 6.6, \"Rating\": \"R\"}, {\"Presupuesto\": 10000000.0, \"Puntaje\": 4.4, \"Rating\": \"PG-13\"}, {\"Presupuesto\": 120000000.0, \"Puntaje\": 5.4, \"Rating\": \"PG-13\"}, {\"Presupuesto\": 7000000.0, \"Puntaje\": 6.3, \"Rating\": \"R\"}, {\"Presupuesto\": 20000000.0, \"Puntaje\": 6.9, \"Rating\": \"R\"}, {\"Presupuesto\": 3200000.0, \"Puntaje\": 7.2, \"Rating\": \"R\"}, {\"Presupuesto\": 75000000.0, \"Puntaje\": 5.4, \"Rating\": \"PG-13\"}, {\"Presupuesto\": 30000000.0, \"Puntaje\": 6.6, \"Rating\": \"PG\"}, {\"Presupuesto\": 5000000.0, \"Puntaje\": 7.0, \"Rating\": \"PG-13\"}, {\"Presupuesto\": 9500000.0, \"Puntaje\": 6.9, \"Rating\": \"R\"}, {\"Presupuesto\": 52000000.0, \"Puntaje\": 6.5, \"Rating\": \"R\"}, {\"Presupuesto\": 100000000.0, \"Puntaje\": 6.8, \"Rating\": \"R\"}, {\"Presupuesto\": 3500000.0, \"Puntaje\": 7.1, \"Rating\": \"R\"}, {\"Presupuesto\": 50000000.0, \"Puntaje\": 6.5, \"Rating\": \"PG-13\"}, {\"Presupuesto\": 28000000.0, \"Puntaje\": 5.4, \"Rating\": \"PG\"}, {\"Presupuesto\": 20000000.0, \"Puntaje\": 6.3, \"Rating\": \"R\"}, {\"Presupuesto\": 8000000.0, \"Puntaje\": 6.9, \"Rating\": \"PG-13\"}, {\"Presupuesto\": 6000000.0, \"Puntaje\": 7.6, \"Rating\": \"R\"}, {\"Presupuesto\": 80000000.0, \"Puntaje\": 7.0, \"Rating\": \"PG\"}, {\"Presupuesto\": 22000000.0, \"Puntaje\": 6.8, \"Rating\": \"PG-13\"}, {\"Presupuesto\": 37000000.0, \"Puntaje\": 5.6, \"Rating\": \"R\"}, {\"Presupuesto\": 30000000.0, \"Puntaje\": 6.2, \"Rating\": \"PG-13\"}, {\"Presupuesto\": 23000000.0, \"Puntaje\": 7.6, \"Rating\": \"G\"}, {\"Presupuesto\": 20000000.0, \"Puntaje\": 5.7, \"Rating\": \"R\"}, {\"Presupuesto\": 25000000.0, \"Puntaje\": 5.6, \"Rating\": \"R\"}, {\"Presupuesto\": 12000000.0, \"Puntaje\": 8.0, \"Rating\": \"PG-13\"}, {\"Presupuesto\": 32000000.0, \"Puntaje\": 6.3, \"Rating\": \"R\"}, {\"Presupuesto\": 20000000.0, \"Puntaje\": 3.5, \"Rating\": \"PG-13\"}, {\"Presupuesto\": 40000000.0, \"Puntaje\": 6.5, \"Rating\": \"PG-13\"}, {\"Presupuesto\": 15000000.0, \"Puntaje\": 6.8, \"Rating\": \"R\"}, {\"Presupuesto\": 48000000.0, \"Puntaje\": 5.0, \"Rating\": \"PG\"}, {\"Presupuesto\": 650000.0, \"Puntaje\": 6.5, \"Rating\": \"R\"}, {\"Presupuesto\": 35000000.0, \"Puntaje\": 7.2, \"Rating\": \"PG\"}, {\"Presupuesto\": 500000.0, \"Puntaje\": 5.8, \"Rating\": \"R\"}, {\"Presupuesto\": 22000000.0, \"Puntaje\": 6.3, \"Rating\": \"R\"}, {\"Presupuesto\": 13000000.0, \"Puntaje\": 6.1, \"Rating\": \"R\"}, {\"Presupuesto\": 112000000.0, \"Puntaje\": 4.9, \"Rating\": \"PG\"}, {\"Presupuesto\": 25000000.0, \"Puntaje\": 7.1, \"Rating\": \"NOT RATED\"}, {\"Presupuesto\": 10000000.0, \"Puntaje\": 5.5, \"Rating\": \"R\"}, {\"Presupuesto\": 3000000.0, \"Puntaje\": 5.7, \"Rating\": \"R\"}, {\"Presupuesto\": 1800000.0, \"Puntaje\": 5.6, \"Rating\": \"PG-13\"}, {\"Presupuesto\": 22000000.0, \"Puntaje\": 5.4, \"Rating\": \"R\"}, {\"Presupuesto\": 32000000.0, \"Puntaje\": 6.3, \"Rating\": \"R\"}, {\"Presupuesto\": 7000000.0, \"Puntaje\": 7.1, \"Rating\": \"R\"}, {\"Presupuesto\": 8000000.0, \"Puntaje\": 5.0, \"Rating\": \"R\"}, {\"Presupuesto\": 4000000.0, \"Puntaje\": 6.5, \"Rating\": \"R\"}, {\"Presupuesto\": 12500000.0, \"Puntaje\": 7.2, \"Rating\": \"R\"}, {\"Presupuesto\": 25000000.0, \"Puntaje\": 6.2, \"Rating\": \"R\"}, {\"Presupuesto\": 25000000.0, \"Puntaje\": 6.9, \"Rating\": \"PG-13\"}, {\"Presupuesto\": 20000000.0, \"Puntaje\": 5.4, \"Rating\": \"PG-13\"}, {\"Presupuesto\": 7000000.0, \"Puntaje\": 6.3, \"Rating\": \"R\"}, {\"Presupuesto\": 80000000.0, \"Puntaje\": 4.6, \"Rating\": \"PG\"}, {\"Presupuesto\": 15000000.0, \"Puntaje\": 6.3, \"Rating\": \"PG-13\"}, {\"Presupuesto\": 500000.0, \"Puntaje\": 6.8, \"Rating\": \"R\"}, {\"Presupuesto\": 10000000.0, \"Puntaje\": 6.2, \"Rating\": \"R\"}, {\"Presupuesto\": 25000000.0, \"Puntaje\": 5.7, \"Rating\": \"R\"}, {\"Presupuesto\": 7200000.0, \"Puntaje\": 7.2, \"Rating\": \"R\"}, {\"Presupuesto\": 4500000.0, \"Puntaje\": 5.1, \"Rating\": \"PG-13\"}, {\"Presupuesto\": 5000000.0, \"Puntaje\": 6.4, \"Rating\": \"R\"}, {\"Presupuesto\": 45000000.0, \"Puntaje\": 6.3, \"Rating\": \"R\"}, {\"Presupuesto\": 25000000.0, \"Puntaje\": 4.8, \"Rating\": \"R\"}, {\"Presupuesto\": 31000000.0, \"Puntaje\": 6.5, \"Rating\": \"PG\"}, {\"Presupuesto\": 800000.0, \"Puntaje\": 5.5, \"Rating\": \"R\"}, {\"Presupuesto\": 50000000.0, \"Puntaje\": 4.2, \"Rating\": \"PG\"}, {\"Presupuesto\": 20000000.0, \"Puntaje\": 5.1, \"Rating\": \"PG-13\"}, {\"Presupuesto\": 15000000.0, \"Puntaje\": 6.2, \"Rating\": \"R\"}, {\"Presupuesto\": 12000000.0, \"Puntaje\": 6.0, \"Rating\": \"R\"}, {\"Presupuesto\": 85000000.0, \"Puntaje\": 4.3, \"Rating\": \"PG\"}, {\"Presupuesto\": 35000000.0, \"Puntaje\": 3.8, \"Rating\": \"PG\"}, {\"Presupuesto\": 10000000.0, \"Puntaje\": 4.9, \"Rating\": \"R\"}, {\"Presupuesto\": 65000.0, \"Puntaje\": 6.2, \"Rating\": \"NOT RATED\"}, {\"Presupuesto\": 20000000.0, \"Puntaje\": 5.3, \"Rating\": \"PG\"}, {\"Presupuesto\": 125000000.0, \"Puntaje\": 8.1, \"Rating\": \"PG-13\"}, {\"Presupuesto\": 163000000.0, \"Puntaje\": 6.0, \"Rating\": \"PG-13\"}, {\"Presupuesto\": 250000000.0, \"Puntaje\": 6.6, \"Rating\": \"PG-13\"}, {\"Presupuesto\": 15000000.0, \"Puntaje\": 7.8, \"Rating\": \"R\"}, {\"Presupuesto\": 25000000.0, \"Puntaje\": 8.1, \"Rating\": \"PG-13\"}, {\"Presupuesto\": 50000000.0, \"Puntaje\": 7.4, \"Rating\": \"PG-13\"}, {\"Presupuesto\": 90000000.0, \"Puntaje\": 7.8, \"Rating\": \"R\"}, {\"Presupuesto\": 32500000.0, \"Puntaje\": 6.8, \"Rating\": \"R\"}, {\"Presupuesto\": 82000000.0, \"Puntaje\": 6.1, \"Rating\": \"PG-13\"}, {\"Presupuesto\": 150000000.0, \"Puntaje\": 7.0, \"Rating\": \"PG-13\"}, {\"Presupuesto\": 140000000.0, \"Puntaje\": 6.9, \"Rating\": \"PG-13\"}, {\"Presupuesto\": 25000000.0, \"Puntaje\": 8.2, \"Rating\": \"PG-13\"}, {\"Presupuesto\": 160000000.0, \"Puntaje\": 7.8, \"Rating\": \"PG-13\"}, {\"Presupuesto\": 200000000.0, \"Puntaje\": 5.6, \"Rating\": \"PG-13\"}, {\"Presupuesto\": 27000000.0, \"Puntaje\": 7.4, \"Rating\": \"PG-13\"}, {\"Presupuesto\": 75000000.0, \"Puntaje\": 6.0, \"Rating\": \"R\"}, {\"Presupuesto\": 50000000.0, \"Puntaje\": 7.0, \"Rating\": \"PG-13\"}, {\"Presupuesto\": 93000000.0, \"Puntaje\": 7.6, \"Rating\": \"PG-13\"}, {\"Presupuesto\": 60000000.0, \"Puntaje\": 5.7, \"Rating\": \"PG-13\"}, {\"Presupuesto\": 195000000.0, \"Puntaje\": 6.3, \"Rating\": \"PG-13\"}, {\"Presupuesto\": 40000000.0, \"Puntaje\": 6.7, \"Rating\": \"PG-13\"}, {\"Presupuesto\": 50000000.0, \"Puntaje\": 7.1, \"Rating\": \"PG\"}, {\"Presupuesto\": 17000000.0, \"Puntaje\": 7.7, \"Rating\": \"PG-13\"}, {\"Presupuesto\": 32000000.0, \"Puntaje\": 7.5, \"Rating\": \"PG-13\"}, {\"Presupuesto\": 145000000.0, \"Puntaje\": 7.4, \"Rating\": \"PG-13\"}, {\"Presupuesto\": 80000000.0, \"Puntaje\": 6.4, \"Rating\": \"PG-13\"}, {\"Presupuesto\": 40000000.0, \"Puntaje\": 7.3, \"Rating\": \"R\"}, {\"Presupuesto\": 35000000.0, \"Puntaje\": 6.9, \"Rating\": \"R\"}, {\"Presupuesto\": 60000000.0, \"Puntaje\": 6.1, \"Rating\": \"PG-13\"}, {\"Presupuesto\": 6500000.0, \"Puntaje\": 7.2, \"Rating\": \"NC-17\"}, {\"Presupuesto\": 40000000.0, \"Puntaje\": 6.2, \"Rating\": \"R\"}, {\"Presupuesto\": 35000000.0, \"Puntaje\": 6.6, \"Rating\": \"R\"}, {\"Presupuesto\": 20000000.0, \"Puntaje\": 5.7, \"Rating\": \"R\"}, {\"Presupuesto\": 150000000.0, \"Puntaje\": 7.5, \"Rating\": \"PG\"}, {\"Presupuesto\": 1000000.0, \"Puntaje\": 6.5, \"Rating\": \"R\"}, {\"Presupuesto\": 50000000.0, \"Puntaje\": 7.6, \"Rating\": \"PG-13\"}, {\"Presupuesto\": 15000000.0, \"Puntaje\": 7.0, \"Rating\": \"PG-13\"}, {\"Presupuesto\": 25000000.0, \"Puntaje\": 6.2, \"Rating\": \"R\"}, {\"Presupuesto\": 110000000.0, \"Puntaje\": 4.9, \"Rating\": \"PG-13\"}, {\"Presupuesto\": 7000000.0, \"Puntaje\": 7.5, \"Rating\": \"R\"}, {\"Presupuesto\": 125000000.0, \"Puntaje\": 7.5, \"Rating\": \"PG-13\"}, {\"Presupuesto\": 7400000.0, \"Puntaje\": 7.1, \"Rating\": \"R\"}, {\"Presupuesto\": 125000000.0, \"Puntaje\": 7.3, \"Rating\": \"PG-13\"}, {\"Presupuesto\": 30000000.0, \"Puntaje\": 6.8, \"Rating\": \"PG-13\"}, {\"Presupuesto\": 50200000.0, \"Puntaje\": 7.1, \"Rating\": \"PG-13\"}, {\"Presupuesto\": 13000000.0, \"Puntaje\": 7.6, \"Rating\": \"R\"}, {\"Presupuesto\": 25000000.0, \"Puntaje\": 6.8, \"Rating\": \"R\"}, {\"Presupuesto\": 110000000.0, \"Puntaje\": 7.1, \"Rating\": \"PG-13\"}, {\"Presupuesto\": 135000000.0, \"Puntaje\": 7.2, \"Rating\": \"PG\"}, {\"Presupuesto\": 6000000.0, \"Puntaje\": 5.6, \"Rating\": \"PG-13\"}, {\"Presupuesto\": 38000000.0, \"Puntaje\": 6.2, \"Rating\": \"R\"}, {\"Presupuesto\": 90000000.0, \"Puntaje\": 5.2, \"Rating\": \"R\"}, {\"Presupuesto\": 32000000.0, \"Puntaje\": 6.8, \"Rating\": \"PG-13\"}, {\"Presupuesto\": 20000000.0, \"Puntaje\": 7.3, \"Rating\": \"R\"}, {\"Presupuesto\": 40000000.0, \"Puntaje\": 7.0, \"Rating\": \"R\"}, {\"Presupuesto\": 52000000.0, \"Puntaje\": 6.3, \"Rating\": \"R\"}, {\"Presupuesto\": 60000000.0, \"Puntaje\": 6.6, \"Rating\": \"PG-13\"}, {\"Presupuesto\": 500000.0, \"Puntaje\": 8.4, \"Rating\": \"PG-13\"}, {\"Presupuesto\": 24000000.0, \"Puntaje\": 5.9, \"Rating\": \"PG-13\"}, {\"Presupuesto\": 35000000.0, \"Puntaje\": 5.1, \"Rating\": \"PG-13\"}, {\"Presupuesto\": 11000000.0, \"Puntaje\": 6.7, \"Rating\": \"R\"}, {\"Presupuesto\": 18000000.0, \"Puntaje\": 7.1, \"Rating\": \"PG\"}, {\"Presupuesto\": 75000000.0, \"Puntaje\": 5.8, \"Rating\": \"PG-13\"}, {\"Presupuesto\": 8000000.0, \"Puntaje\": 7.7, \"Rating\": \"R\"}, {\"Presupuesto\": 36000000.0, \"Puntaje\": 5.9, \"Rating\": \"R\"}, {\"Presupuesto\": 80000000.0, \"Puntaje\": 6.5, \"Rating\": \"R\"}, {\"Presupuesto\": 200000000.0, \"Puntaje\": 6.2, \"Rating\": \"G\"}, {\"Presupuesto\": 1100000.0, \"Puntaje\": 7.6, \"Rating\": \"R\"}, {\"Presupuesto\": 135000000.0, \"Puntaje\": 7.4, \"Rating\": \"PG\"}, {\"Presupuesto\": 40000000.0, \"Puntaje\": 6.4, \"Rating\": \"PG-13\"}, {\"Presupuesto\": 49900000.0, \"Puntaje\": 5.6, \"Rating\": \"R\"}, {\"Presupuesto\": 66000000.0, \"Puntaje\": 7.2, \"Rating\": \"PG-13\"}, {\"Presupuesto\": 45000000.0, \"Puntaje\": 6.3, \"Rating\": \"PG\"}, {\"Presupuesto\": 40000000.0, \"Puntaje\": 6.6, \"Rating\": \"R\"}, {\"Presupuesto\": 12500000.0, \"Puntaje\": 7.1, \"Rating\": \"R\"}, {\"Presupuesto\": 15000000.0, \"Puntaje\": 7.9, \"Rating\": \"PG-13\"}, {\"Presupuesto\": 35000000.0, \"Puntaje\": 6.6, \"Rating\": \"R\"}, {\"Presupuesto\": 70000000.0, \"Puntaje\": 5.8, \"Rating\": \"PG-13\"}, {\"Presupuesto\": 3500000.0, \"Puntaje\": 7.1, \"Rating\": \"R\"}, {\"Presupuesto\": 30000000.0, \"Puntaje\": 6.4, \"Rating\": \"R\"}, {\"Presupuesto\": 90000000.0, \"Puntaje\": 6.9, \"Rating\": \"G\"}, {\"Presupuesto\": 110000000.0, \"Puntaje\": 5.5, \"Rating\": \"PG\"}, {\"Presupuesto\": 250000.0, \"Puntaje\": 6.7, \"Rating\": \"PG-13\"}, {\"Presupuesto\": 13000000.0, \"Puntaje\": 6.6, \"Rating\": \"R\"}, {\"Presupuesto\": 5000000.0, \"Puntaje\": 7.4, \"Rating\": \"R\"}, {\"Presupuesto\": 30000000.0, \"Puntaje\": 6.9, \"Rating\": \"PG-13\"}, {\"Presupuesto\": 17000000.0, \"Puntaje\": 5.6, \"Rating\": \"PG-13\"}, {\"Presupuesto\": 40000000.0, \"Puntaje\": 5.9, \"Rating\": \"R\"}, {\"Presupuesto\": 150000000.0, \"Puntaje\": 7.3, \"Rating\": \"PG\"}, {\"Presupuesto\": 4000000.0, \"Puntaje\": 6.2, \"Rating\": \"R\"}, {\"Presupuesto\": 100000.0, \"Puntaje\": 7.0, \"Rating\": \"PG-13\"}, {\"Presupuesto\": 57000000.0, \"Puntaje\": 4.3, \"Rating\": \"PG-13\"}, {\"Presupuesto\": 42000000.0, \"Puntaje\": 5.4, \"Rating\": \"PG-13\"}, {\"Presupuesto\": 16000000.0, \"Puntaje\": 4.9, \"Rating\": \"PG-13\"}, {\"Presupuesto\": 38000000.0, \"Puntaje\": 6.9, \"Rating\": \"PG-13\"}, {\"Presupuesto\": 23000000.0, \"Puntaje\": 5.8, \"Rating\": \"R\"}, {\"Presupuesto\": 20000000.0, \"Puntaje\": 6.1, \"Rating\": \"R\"}, {\"Presupuesto\": 25000000.0, \"Puntaje\": 5.8, \"Rating\": \"R\"}, {\"Presupuesto\": 23000000.0, \"Puntaje\": 6.3, \"Rating\": \"R\"}, {\"Presupuesto\": 75000000.0, \"Puntaje\": 6.2, \"Rating\": \"PG-13\"}, {\"Presupuesto\": 50000000.0, \"Puntaje\": 5.4, \"Rating\": \"R\"}, {\"Presupuesto\": 10000000.0, \"Puntaje\": 7.3, \"Rating\": \"PG-13\"}, {\"Presupuesto\": 55000000.0, \"Puntaje\": 6.0, \"Rating\": \"PG-13\"}, {\"Presupuesto\": 56000000.0, \"Puntaje\": 5.7, \"Rating\": \"PG-13\"}, {\"Presupuesto\": 30000000.0, \"Puntaje\": 6.1, \"Rating\": \"PG-13\"}, {\"Presupuesto\": 70000000.0, \"Puntaje\": 6.5, \"Rating\": \"R\"}, {\"Presupuesto\": 37000000.0, \"Puntaje\": 6.0, \"Rating\": \"PG-13\"}, {\"Presupuesto\": 27000000.0, \"Puntaje\": 3.6, \"Rating\": \"PG\"}, {\"Presupuesto\": 20000000.0, \"Puntaje\": 5.8, \"Rating\": \"PG\"}, {\"Presupuesto\": 6000000.0, \"Puntaje\": 7.3, \"Rating\": \"R\"}, {\"Presupuesto\": 40000000.0, \"Puntaje\": 6.9, \"Rating\": \"PG-13\"}, {\"Presupuesto\": 35000000.0, \"Puntaje\": 5.9, \"Rating\": \"PG-13\"}, {\"Presupuesto\": 45000000.0, \"Puntaje\": 6.2, \"Rating\": \"R\"}, {\"Presupuesto\": 13000000.0, \"Puntaje\": 6.4, \"Rating\": \"PG-13\"}, {\"Presupuesto\": 25000000.0, \"Puntaje\": 7.2, \"Rating\": \"R\"}, {\"Presupuesto\": 750000.0, \"Puntaje\": 5.5, \"Rating\": \"R\"}, {\"Presupuesto\": 70000000.0, \"Puntaje\": 5.3, \"Rating\": \"PG-13\"}, {\"Presupuesto\": 28000000.0, \"Puntaje\": 6.1, \"Rating\": \"R\"}, {\"Presupuesto\": 120000000.0, \"Puntaje\": 5.8, \"Rating\": \"PG-13\"}, {\"Presupuesto\": 35000000.0, \"Puntaje\": 5.3, \"Rating\": \"R\"}, {\"Presupuesto\": 45000000.0, \"Puntaje\": 7.1, \"Rating\": \"PG\"}, {\"Presupuesto\": 30000000.0, \"Puntaje\": 4.9, \"Rating\": \"PG-13\"}, {\"Presupuesto\": 40000000.0, \"Puntaje\": 5.4, \"Rating\": \"PG-13\"}, {\"Presupuesto\": 36000000.0, \"Puntaje\": 6.0, \"Rating\": \"G\"}, {\"Presupuesto\": 12000000.0, \"Puntaje\": 7.1, \"Rating\": \"R\"}, {\"Presupuesto\": 15000000.0, \"Puntaje\": 6.2, \"Rating\": \"R\"}, {\"Presupuesto\": 5000000.0, \"Puntaje\": 6.8, \"Rating\": \"PG-13\"}, {\"Presupuesto\": 25000000.0, \"Puntaje\": 6.2, \"Rating\": \"PG-13\"}, {\"Presupuesto\": 30000000.0, \"Puntaje\": 6.8, \"Rating\": \"R\"}, {\"Presupuesto\": 2000000.0, \"Puntaje\": 5.3, \"Rating\": \"R\"}, {\"Presupuesto\": 79000000.0, \"Puntaje\": 3.4, \"Rating\": \"PG\"}, {\"Presupuesto\": 17000000.0, \"Puntaje\": 6.2, \"Rating\": \"R\"}, {\"Presupuesto\": 130000000.0, \"Puntaje\": 6.7, \"Rating\": \"PG\"}, {\"Presupuesto\": 12000000.0, \"Puntaje\": 6.3, \"Rating\": \"R\"}, {\"Presupuesto\": 63000000.0, \"Puntaje\": 5.5, \"Rating\": \"PG\"}, {\"Presupuesto\": 25000000.0, \"Puntaje\": 4.0, \"Rating\": \"PG-13\"}, {\"Presupuesto\": 37000000.0, \"Puntaje\": 6.9, \"Rating\": \"PG\"}, {\"Presupuesto\": 80000000.0, \"Puntaje\": 5.2, \"Rating\": \"PG\"}, {\"Presupuesto\": 21000000.0, \"Puntaje\": 6.7, \"Rating\": \"PG-13\"}, {\"Presupuesto\": 55000000.0, \"Puntaje\": 6.0, \"Rating\": \"PG\"}, {\"Presupuesto\": 30000000.0, \"Puntaje\": 6.9, \"Rating\": \"PG-13\"}, {\"Presupuesto\": 94000000.0, \"Puntaje\": 7.6, \"Rating\": \"R\"}, {\"Presupuesto\": 3000000.0, \"Puntaje\": 5.8, \"Rating\": \"R\"}, {\"Presupuesto\": 12000000.0, \"Puntaje\": 5.8, \"Rating\": \"R\"}, {\"Presupuesto\": 21000000.0, \"Puntaje\": 6.6, \"Rating\": \"PG\"}, {\"Presupuesto\": 30000000.0, \"Puntaje\": 7.2, \"Rating\": \"G\"}, {\"Presupuesto\": 3000000.0, \"Puntaje\": 6.1, \"Rating\": \"NOT RATED\"}, {\"Presupuesto\": 135000000.0, \"Puntaje\": 5.9, \"Rating\": \"PG\"}, {\"Presupuesto\": 30000000.0, \"Puntaje\": 5.9, \"Rating\": \"R\"}, {\"Presupuesto\": 5000000.0, \"Puntaje\": 5.8, \"Rating\": \"R\"}, {\"Presupuesto\": 10000000.0, \"Puntaje\": 6.2, \"Rating\": \"R\"}, {\"Presupuesto\": 5000000.0, \"Puntaje\": 6.4, \"Rating\": \"R\"}, {\"Presupuesto\": 19000000.0, \"Puntaje\": 6.3, \"Rating\": \"R\"}, {\"Presupuesto\": 14000000.0, \"Puntaje\": 6.5, \"Rating\": \"R\"}, {\"Presupuesto\": 8000000.0, \"Puntaje\": 6.7, \"Rating\": \"R\"}, {\"Presupuesto\": 5000000.0, \"Puntaje\": 5.2, \"Rating\": \"PG-13\"}, {\"Presupuesto\": 7000000.0, \"Puntaje\": 4.6, \"Rating\": \"R\"}, {\"Presupuesto\": 75000000.0, \"Puntaje\": 4.4, \"Rating\": \"G\"}, {\"Presupuesto\": 2000000.0, \"Puntaje\": 6.6, \"Rating\": \"NOT RATED\"}, {\"Presupuesto\": 40000000.0, \"Puntaje\": 5.7, \"Rating\": \"PG-13\"}, {\"Presupuesto\": 2000000.0, \"Puntaje\": 7.0, \"Rating\": \"PG-13\"}, {\"Presupuesto\": 41000000.0, \"Puntaje\": 6.2, \"Rating\": \"PG\"}, {\"Presupuesto\": 8000000.0, \"Puntaje\": 5.4, \"Rating\": \"PG\"}, {\"Presupuesto\": 13000000.0, \"Puntaje\": 4.4, \"Rating\": \"R\"}, {\"Presupuesto\": 10000000.0, \"Puntaje\": 6.6, \"Rating\": \"R\"}, {\"Presupuesto\": 10920000.0, \"Puntaje\": 7.6, \"Rating\": \"NOT RATED\"}, {\"Presupuesto\": 20000000.0, \"Puntaje\": 5.7, \"Rating\": \"PG-13\"}, {\"Presupuesto\": 5000000.0, \"Puntaje\": 6.4, \"Rating\": \"NOT RATED\"}, {\"Presupuesto\": 13000000.0, \"Puntaje\": 5.4, \"Rating\": \"R\"}, {\"Presupuesto\": 6600000.0, \"Puntaje\": 5.7, \"Rating\": \"PG-13\"}, {\"Presupuesto\": 22000000.0, \"Puntaje\": 7.5, \"Rating\": \"PG\"}, {\"Presupuesto\": 32000000.0, \"Puntaje\": 4.4, \"Rating\": \"PG-13\"}, {\"Presupuesto\": 16700000.0, \"Puntaje\": 7.1, \"Rating\": \"NOT RATED\"}, {\"Presupuesto\": 8000000.0, \"Puntaje\": 6.1, \"Rating\": \"R\"}, {\"Presupuesto\": 250000000.0, \"Puntaje\": 8.4, \"Rating\": \"PG-13\"}, {\"Presupuesto\": 100000000.0, \"Puntaje\": 8.4, \"Rating\": \"R\"}, {\"Presupuesto\": 78000000.0, \"Puntaje\": 7.2, \"Rating\": \"PG-13\"}, {\"Presupuesto\": 220000000.0, \"Puntaje\": 8.1, \"Rating\": \"PG-13\"}, {\"Presupuesto\": 130000000.0, \"Puntaje\": 7.0, \"Rating\": \"R\"}, {\"Presupuesto\": 180000000.0, \"Puntaje\": 7.9, \"Rating\": \"PG-13\"}, {\"Presupuesto\": 17000000.0, \"Puntaje\": 7.2, \"Rating\": \"PG-13\"}, {\"Presupuesto\": 60000000.0, \"Puntaje\": 7.0, \"Rating\": \"PG-13\"}, {\"Presupuesto\": 13000000.0, \"Puntaje\": 8.0, \"Rating\": \"PG-13\"}, {\"Presupuesto\": 102000000.0, \"Puntaje\": 7.5, \"Rating\": \"R\"}, {\"Presupuesto\": 120000000.0, \"Puntaje\": 5.5, \"Rating\": \"PG-13\"}, {\"Presupuesto\": 30000000.0, \"Puntaje\": 7.0, \"Rating\": \"R\"}, {\"Presupuesto\": 61000000.0, \"Puntaje\": 7.6, \"Rating\": \"PG-13\"}, {\"Presupuesto\": 16000000.0, \"Puntaje\": 7.8, \"Rating\": \"PG-13\"}, {\"Presupuesto\": 200000000.0, \"Puntaje\": 7.8, \"Rating\": \"PG-13\"}, {\"Presupuesto\": 42000000.0, \"Puntaje\": 7.2, \"Rating\": \"R\"}, {\"Presupuesto\": 209000000.0, \"Puntaje\": 5.8, \"Rating\": \"PG-13\"}, {\"Presupuesto\": 30000000.0, \"Puntaje\": 7.4, \"Rating\": \"R\"}, {\"Presupuesto\": 40000000.0, \"Puntaje\": 7.4, \"Rating\": \"R\"}, {\"Presupuesto\": 170000000.0, \"Puntaje\": 6.1, \"Rating\": \"PG-13\"}, {\"Presupuesto\": 21000000.0, \"Puntaje\": 7.8, \"Rating\": \"R\"}, {\"Presupuesto\": 50000000.0, \"Puntaje\": 6.7, \"Rating\": \"R\"}, {\"Presupuesto\": 150000000.0, \"Puntaje\": 6.2, \"Rating\": \"PG-13\"}, {\"Presupuesto\": 230000000.0, \"Puntaje\": 7.0, \"Rating\": \"PG-13\"}, {\"Presupuesto\": 15000000.0, \"Puntaje\": 7.3, \"Rating\": \"R\"}, {\"Presupuesto\": 44500000.0, \"Puntaje\": 7.7, \"Rating\": \"R\"}, {\"Presupuesto\": 3800000.0, \"Puntaje\": 8.3, \"Rating\": \"R\"}, {\"Presupuesto\": 7000000.0, \"Puntaje\": 6.1, \"Rating\": \"R\"}, {\"Presupuesto\": 125000000.0, \"Puntaje\": 6.7, \"Rating\": \"PG-13\"}, {\"Presupuesto\": 45000000.0, \"Puntaje\": 7.6, \"Rating\": \"PG-13\"}, {\"Presupuesto\": 5000000.0, \"Puntaje\": 5.3, \"Rating\": \"R\"}, {\"Presupuesto\": 165000000.0, \"Puntaje\": 7.7, \"Rating\": \"PG\"}, {\"Presupuesto\": 185000000.0, \"Puntaje\": 7.2, \"Rating\": \"PG\"}, {\"Presupuesto\": 35000000.0, \"Puntaje\": 7.1, \"Rating\": \"R\"}, {\"Presupuesto\": 26000000.0, \"Puntaje\": 7.3, \"Rating\": \"R\"}, {\"Presupuesto\": 3000000.0, \"Puntaje\": 6.8, \"Rating\": \"R\"}, {\"Presupuesto\": 250000000.0, \"Puntaje\": 6.6, \"Rating\": \"PG-13\"}, {\"Presupuesto\": 65000000.0, \"Puntaje\": 7.4, \"Rating\": \"PG-13\"}, {\"Presupuesto\": 75000000.0, \"Puntaje\": 5.9, \"Rating\": \"PG-13\"}, {\"Presupuesto\": 225000000.0, \"Puntaje\": 6.8, \"Rating\": \"PG-13\"}, {\"Presupuesto\": 31000000.0, \"Puntaje\": 7.3, \"Rating\": \"R\"}, {\"Presupuesto\": 50000000.0, \"Puntaje\": 7.0, \"Rating\": \"R\"}, {\"Presupuesto\": 32000000.0, \"Puntaje\": 7.1, \"Rating\": \"R\"}, {\"Presupuesto\": 7000000.0, \"Puntaje\": 7.7, \"Rating\": \"R\"}, {\"Presupuesto\": 120000000.0, \"Puntaje\": 7.9, \"Rating\": \"PG\"}, {\"Presupuesto\": 85000000.0, \"Puntaje\": 7.1, \"Rating\": \"PG\"}, {\"Presupuesto\": 65000000.0, \"Puntaje\": 6.3, \"Rating\": \"PG-13\"}, {\"Presupuesto\": 70000000.0, \"Puntaje\": 5.6, \"Rating\": \"R\"}, {\"Presupuesto\": 30000000.0, \"Puntaje\": 6.8, \"Rating\": \"PG-13\"}, {\"Presupuesto\": 12000000.0, \"Puntaje\": 6.7, \"Rating\": \"R\"}, {\"Presupuesto\": 125000000.0, \"Puntaje\": 6.3, \"Rating\": \"PG-13\"}, {\"Presupuesto\": 45000000.0, \"Puntaje\": 6.5, \"Rating\": \"R\"}, {\"Presupuesto\": 65000000.0, \"Puntaje\": 6.4, \"Rating\": \"R\"}, {\"Presupuesto\": 15000000.0, \"Puntaje\": 7.2, \"Rating\": \"R\"}, {\"Presupuesto\": 2000000.0, \"Puntaje\": 6.9, \"Rating\": \"PG-13\"}, {\"Presupuesto\": 35000000.0, \"Puntaje\": 6.2, \"Rating\": \"R\"}, {\"Presupuesto\": 25000000.0, \"Puntaje\": 6.5, \"Rating\": \"PG-13\"}, {\"Presupuesto\": 145000000.0, \"Puntaje\": 7.3, \"Rating\": \"PG\"}, {\"Presupuesto\": 150000000.0, \"Puntaje\": 5.8, \"Rating\": \"PG-13\"}, {\"Presupuesto\": 79000000.0, \"Puntaje\": 5.8, \"Rating\": \"PG\"}, {\"Presupuesto\": 20000000.0, \"Puntaje\": 5.0, \"Rating\": \"R\"}, {\"Presupuesto\": 85000000.0, \"Puntaje\": 6.8, \"Rating\": \"R\"}, {\"Presupuesto\": 8000000.0, \"Puntaje\": 7.2, \"Rating\": \"R\"}, {\"Presupuesto\": 10000000.0, \"Puntaje\": 7.4, \"Rating\": \"PG-13\"}, {\"Presupuesto\": 70000000.0, \"Puntaje\": 6.4, \"Rating\": \"R\"}, {\"Presupuesto\": 100000000.0, \"Puntaje\": 6.6, \"Rating\": \"R\"}, {\"Presupuesto\": 65000000.0, \"Puntaje\": 5.4, \"Rating\": \"R\"}, {\"Presupuesto\": 40000000.0, \"Puntaje\": 5.7, \"Rating\": \"PG-13\"}, {\"Presupuesto\": 45000000.0, \"Puntaje\": 6.3, \"Rating\": \"PG-13\"}, {\"Presupuesto\": 3000000.0, \"Puntaje\": 5.3, \"Rating\": \"R\"}, {\"Presupuesto\": 12000000.0, \"Puntaje\": 7.1, \"Rating\": \"PG-13\"}, {\"Presupuesto\": 17000000.0, \"Puntaje\": 6.4, \"Rating\": \"PG-13\"}, {\"Presupuesto\": 30000000.0, \"Puntaje\": 6.2, \"Rating\": \"R\"}, {\"Presupuesto\": 15000000.0, \"Puntaje\": 5.4, \"Rating\": \"R\"}, {\"Presupuesto\": 69000000.0, \"Puntaje\": 5.9, \"Rating\": \"R\"}, {\"Presupuesto\": 20000000.0, \"Puntaje\": 4.9, \"Rating\": \"PG-13\"}, {\"Presupuesto\": 6900000.0, \"Puntaje\": 5.6, \"Rating\": \"PG-13\"}, {\"Presupuesto\": 25000000.0, \"Puntaje\": 6.1, \"Rating\": \"R\"}, {\"Presupuesto\": 6000000.0, \"Puntaje\": 7.1, \"Rating\": \"PG-13\"}, {\"Presupuesto\": 65000000.0, \"Puntaje\": 5.4, \"Rating\": \"PG-13\"}, {\"Presupuesto\": 10000000.0, \"Puntaje\": 6.9, \"Rating\": \"R\"}, {\"Presupuesto\": 70000000.0, \"Puntaje\": 6.4, \"Rating\": \"PG\"}, {\"Presupuesto\": 26000000.0, \"Puntaje\": 6.4, \"Rating\": \"R\"}, {\"Presupuesto\": 42000000.0, \"Puntaje\": 6.6, \"Rating\": \"PG-13\"}, {\"Presupuesto\": 6000000.0, \"Puntaje\": 6.1, \"Rating\": \"NOT RATED\"}, {\"Presupuesto\": 10000000.0, \"Puntaje\": 6.7, \"Rating\": \"R\"}, {\"Presupuesto\": 11000000.0, \"Puntaje\": 4.3, \"Rating\": \"PG-13\"}, {\"Presupuesto\": 85000000.0, \"Puntaje\": 5.6, \"Rating\": \"PG\"}, {\"Presupuesto\": 20000000.0, \"Puntaje\": 6.1, \"Rating\": \"PG-13\"}, {\"Presupuesto\": 60000000.0, \"Puntaje\": 7.0, \"Rating\": \"PG\"}, {\"Presupuesto\": 60000000.0, \"Puntaje\": 6.8, \"Rating\": \"PG-13\"}, {\"Presupuesto\": 40000000.0, \"Puntaje\": 5.3, \"Rating\": \"PG-13\"}, {\"Presupuesto\": 15000000.0, \"Puntaje\": 6.2, \"Rating\": \"R\"}, {\"Presupuesto\": 95000000.0, \"Puntaje\": 6.6, \"Rating\": \"PG\"}, {\"Presupuesto\": 42000000.0, \"Puntaje\": 6.4, \"Rating\": \"PG\"}, {\"Presupuesto\": 5000000.0, \"Puntaje\": 3.8, \"Rating\": \"R\"}, {\"Presupuesto\": 30000000.0, \"Puntaje\": 6.5, \"Rating\": \"R\"}, {\"Presupuesto\": 12000000.0, \"Puntaje\": 6.5, \"Rating\": \"R\"}, {\"Presupuesto\": 2500000.0, \"Puntaje\": 5.1, \"Rating\": \"R\"}, {\"Presupuesto\": 35000000.0, \"Puntaje\": 5.5, \"Rating\": \"R\"}, {\"Presupuesto\": 20000000.0, \"Puntaje\": 5.3, \"Rating\": \"R\"}, {\"Presupuesto\": 25000000.0, \"Puntaje\": 6.5, \"Rating\": \"R\"}, {\"Presupuesto\": 12500000.0, \"Puntaje\": 5.8, \"Rating\": \"R\"}, {\"Presupuesto\": 8900000.0, \"Puntaje\": 7.9, \"Rating\": \"PG-13\"}, {\"Presupuesto\": 14000000.0, \"Puntaje\": 5.9, \"Rating\": \"PG-13\"}, {\"Presupuesto\": 145000000.0, \"Puntaje\": 6.9, \"Rating\": \"PG\"}, {\"Presupuesto\": 39000000.0, \"Puntaje\": 7.0, \"Rating\": \"PG\"}, {\"Presupuesto\": 68000000.0, \"Puntaje\": 5.7, \"Rating\": \"R\"}, {\"Presupuesto\": 12000000.0, \"Puntaje\": 6.6, \"Rating\": \"PG-13\"}, {\"Presupuesto\": 95000000.0, \"Puntaje\": 6.1, \"Rating\": \"R\"}, {\"Presupuesto\": 16000000.0, \"Puntaje\": 7.1, \"Rating\": \"PG-13\"}, {\"Presupuesto\": 750000.0, \"Puntaje\": 7.0, \"Rating\": \"R\"}, {\"Presupuesto\": 2500000.0, \"Puntaje\": 4.8, \"Rating\": \"R\"}, {\"Presupuesto\": 10000000.0, \"Puntaje\": 6.1, \"Rating\": \"R\"}, {\"Presupuesto\": 33000000.0, \"Puntaje\": 6.5, \"Rating\": \"PG-13\"}, {\"Presupuesto\": 10000000.0, \"Puntaje\": 7.6, \"Rating\": \"R\"}, {\"Presupuesto\": 25000000.0, \"Puntaje\": 6.6, \"Rating\": \"PG\"}, {\"Presupuesto\": 270000.0, \"Puntaje\": 6.4, \"Rating\": \"R\"}, {\"Presupuesto\": 16600000.0, \"Puntaje\": 7.2, \"Rating\": \"PG-13\"}, {\"Presupuesto\": 12000000.0, \"Puntaje\": 6.6, \"Rating\": \"R\"}, {\"Presupuesto\": 60000000.0, \"Puntaje\": 6.4, \"Rating\": \"PG-13\"}, {\"Presupuesto\": 35000000.0, \"Puntaje\": 6.5, \"Rating\": \"PG-13\"}, {\"Presupuesto\": 55000000.0, \"Puntaje\": 5.7, \"Rating\": \"R\"}, {\"Presupuesto\": 12000000.0, \"Puntaje\": 6.3, \"Rating\": \"R\"}, {\"Presupuesto\": 35000000.0, \"Puntaje\": 5.1, \"Rating\": \"PG-13\"}, {\"Presupuesto\": 1000000.0, \"Puntaje\": 7.2, \"Rating\": \"R\"}, {\"Presupuesto\": 1000000.0, \"Puntaje\": 5.0, \"Rating\": \"R\"}, {\"Presupuesto\": 1800000.0, \"Puntaje\": 7.3, \"Rating\": \"PG-13\"}, {\"Presupuesto\": 22000000.0, \"Puntaje\": 6.3, \"Rating\": \"PG\"}, {\"Presupuesto\": 12000000.0, \"Puntaje\": 5.6, \"Rating\": \"R\"}, {\"Presupuesto\": 2000000.0, \"Puntaje\": 6.4, \"Rating\": \"R\"}, {\"Presupuesto\": 20500000.0, \"Puntaje\": 5.0, \"Rating\": \"R\"}, {\"Presupuesto\": 2000000.0, \"Puntaje\": 6.1, \"Rating\": \"R\"}, {\"Presupuesto\": 58000000.0, \"Puntaje\": 5.9, \"Rating\": \"PG-13\"}, {\"Presupuesto\": 15000000.0, \"Puntaje\": 6.5, \"Rating\": \"R\"}, {\"Presupuesto\": 35000000.0, \"Puntaje\": 5.7, \"Rating\": \"PG-13\"}, {\"Presupuesto\": 20000000.0, \"Puntaje\": 7.2, \"Rating\": \"PG\"}, {\"Presupuesto\": 2500000.0, \"Puntaje\": 7.1, \"Rating\": \"PG-13\"}, {\"Presupuesto\": 40000000.0, \"Puntaje\": 6.5, \"Rating\": \"PG\"}, {\"Presupuesto\": 15000000.0, \"Puntaje\": 6.6, \"Rating\": \"R\"}, {\"Presupuesto\": 2900000.0, \"Puntaje\": 6.0, \"Rating\": \"R\"}, {\"Presupuesto\": 14000000.0, \"Puntaje\": 5.4, \"Rating\": \"PG-13\"}, {\"Presupuesto\": 5000000.0, \"Puntaje\": 4.6, \"Rating\": \"R\"}, {\"Presupuesto\": 55000000.0, \"Puntaje\": 6.7, \"Rating\": \"PG\"}, {\"Presupuesto\": 30000000.0, \"Puntaje\": 6.3, \"Rating\": \"PG-13\"}, {\"Presupuesto\": 750000.0, \"Puntaje\": 4.2, \"Rating\": \"R\"}, {\"Presupuesto\": 6000000.0, \"Puntaje\": 7.5, \"Rating\": \"R\"}, {\"Presupuesto\": 25000000.0, \"Puntaje\": 6.1, \"Rating\": \"PG\"}, {\"Presupuesto\": 850000.0, \"Puntaje\": 6.0, \"Rating\": \"R\"}, {\"Presupuesto\": 11000000.0, \"Puntaje\": 6.8, \"Rating\": \"PG-13\"}, {\"Presupuesto\": 40000000.0, \"Puntaje\": 5.8, \"Rating\": \"PG-13\"}, {\"Presupuesto\": 11500000.0, \"Puntaje\": 5.0, \"Rating\": \"R\"}, {\"Presupuesto\": 40000000.0, \"Puntaje\": 5.9, \"Rating\": \"PG-13\"}, {\"Presupuesto\": 6000000.0, \"Puntaje\": 5.5, \"Rating\": \"R\"}, {\"Presupuesto\": 25000000.0, \"Puntaje\": 5.7, \"Rating\": \"PG-13\"}, {\"Presupuesto\": 16000000.0, \"Puntaje\": 5.1, \"Rating\": \"PG-13\"}, {\"Presupuesto\": 500000.0, \"Puntaje\": 6.8, \"Rating\": \"R\"}, {\"Presupuesto\": 17000000.0, \"Puntaje\": 4.1, \"Rating\": \"PG-13\"}, {\"Presupuesto\": 26350000.0, \"Puntaje\": 4.8, \"Rating\": \"R\"}, {\"Presupuesto\": 20000000.0, \"Puntaje\": 4.9, \"Rating\": \"PG-13\"}, {\"Presupuesto\": 6400000.0, \"Puntaje\": 5.0, \"Rating\": \"R\"}, {\"Presupuesto\": 7395080.0, \"Puntaje\": 7.3, \"Rating\": \"NOT RATED\"}, {\"Presupuesto\": 3000000.0, \"Puntaje\": 4.7, \"Rating\": \"R\"}, {\"Presupuesto\": 20000000.0, \"Puntaje\": 6.0, \"Rating\": \"R\"}, {\"Presupuesto\": 3000000.0, \"Puntaje\": 5.3, \"Rating\": \"R\"}, {\"Presupuesto\": 2000000.0, \"Puntaje\": 4.8, \"Rating\": \"R\"}, {\"Presupuesto\": 7980000.0, \"Puntaje\": 6.2, \"Rating\": \"NOT RATED\"}, {\"Presupuesto\": 100000000.0, \"Puntaje\": 8.2, \"Rating\": \"R\"}, {\"Presupuesto\": 20000000.0, \"Puntaje\": 7.5, \"Rating\": \"R\"}, {\"Presupuesto\": 46000000.0, \"Puntaje\": 8.1, \"Rating\": \"R\"}, {\"Presupuesto\": 150000000.0, \"Puntaje\": 7.5, \"Rating\": \"PG\"}, {\"Presupuesto\": 75000000.0, \"Puntaje\": 7.3, \"Rating\": \"PG-13\"}, {\"Presupuesto\": 20000000.0, \"Puntaje\": 6.2, \"Rating\": \"PG-13\"}, {\"Presupuesto\": 23000000.0, \"Puntaje\": 8.0, \"Rating\": \"R\"}, {\"Presupuesto\": 225000000.0, \"Puntaje\": 7.1, \"Rating\": \"PG-13\"}, {\"Presupuesto\": 37000000.0, \"Puntaje\": 7.0, \"Rating\": \"R\"}, {\"Presupuesto\": 105000000.0, \"Puntaje\": 7.3, \"Rating\": \"PG-13\"}, {\"Presupuesto\": 190000000.0, \"Puntaje\": 7.0, \"Rating\": \"PG-13\"}, {\"Presupuesto\": 130000000.0, \"Puntaje\": 7.6, \"Rating\": \"PG-13\"}, {\"Presupuesto\": 40000000.0, \"Puntaje\": 7.3, \"Rating\": \"R\"}, {\"Presupuesto\": 100000000.0, \"Puntaje\": 7.8, \"Rating\": \"PG-13\"}, {\"Presupuesto\": 20000000.0, \"Puntaje\": 8.1, \"Rating\": \"R\"}, {\"Presupuesto\": 190000000.0, \"Puntaje\": 7.8, \"Rating\": \"PG-13\"}, {\"Presupuesto\": 200000000.0, \"Puntaje\": 7.2, \"Rating\": \"PG-13\"}, {\"Presupuesto\": 70000000.0, \"Puntaje\": 6.5, \"Rating\": \"R\"}, {\"Presupuesto\": 120000000.0, \"Puntaje\": 7.0, \"Rating\": \"PG-13\"}, {\"Presupuesto\": 5000000.0, \"Puntaje\": 8.0, \"Rating\": \"R\"}, {\"Presupuesto\": 12000000.0, \"Puntaje\": 7.8, \"Rating\": \"R\"}, {\"Presupuesto\": 190000000.0, \"Puntaje\": 7.0, \"Rating\": \"PG-13\"}, {\"Presupuesto\": 60000000.0, \"Puntaje\": 6.7, \"Rating\": \"R\"}, {\"Presupuesto\": 40000000.0, \"Puntaje\": 7.5, \"Rating\": \"R\"}, {\"Presupuesto\": 30000000.0, \"Puntaje\": 5.9, \"Rating\": \"R\"}, {\"Presupuesto\": 170000000.0, \"Puntaje\": 7.0, \"Rating\": \"PG-13\"}, {\"Presupuesto\": 38000000.0, \"Puntaje\": 8.1, \"Rating\": \"R\"}, {\"Presupuesto\": 32000000.0, \"Puntaje\": 6.6, \"Rating\": \"R\"}, {\"Presupuesto\": 39200000.0, \"Puntaje\": 7.0, \"Rating\": \"R\"}, {\"Presupuesto\": 3000000.0, \"Puntaje\": 5.7, \"Rating\": \"R\"}, {\"Presupuesto\": 160000000.0, \"Puntaje\": 7.1, \"Rating\": \"PG-13\"}, {\"Presupuesto\": 6000000.0, \"Puntaje\": 5.3, \"Rating\": \"R\"}, {\"Presupuesto\": 80000000.0, \"Puntaje\": 5.4, \"Rating\": \"PG-13\"}, {\"Presupuesto\": 28000000.0, \"Puntaje\": 6.6, \"Rating\": \"R\"}, {\"Presupuesto\": 225000000.0, \"Puntaje\": 7.9, \"Rating\": \"PG-13\"}, {\"Presupuesto\": 60000000.0, \"Puntaje\": 6.2, \"Rating\": \"PG-13\"}, {\"Presupuesto\": 25000000.0, \"Puntaje\": 5.3, \"Rating\": \"R\"}, {\"Presupuesto\": 17000000.0, \"Puntaje\": 6.5, \"Rating\": \"R\"}, {\"Presupuesto\": 90000000.0, \"Puntaje\": 7.3, \"Rating\": \"PG\"}, {\"Presupuesto\": 115000000.0, \"Puntaje\": 6.6, \"Rating\": \"R\"}, {\"Presupuesto\": 20000000.0, \"Puntaje\": 7.0, \"Rating\": \"R\"}, {\"Presupuesto\": 43000000.0, \"Puntaje\": 6.6, \"Rating\": \"R\"}, {\"Presupuesto\": 30000000.0, \"Puntaje\": 6.3, \"Rating\": \"R\"}, {\"Presupuesto\": 13300000.0, \"Puntaje\": 6.3, \"Rating\": \"R\"}, {\"Presupuesto\": 76000000.0, \"Puntaje\": 7.4, \"Rating\": \"PG\"}, {\"Presupuesto\": 3000000.0, \"Puntaje\": 6.6, \"Rating\": \"R\"}, {\"Presupuesto\": 60000000.0, \"Puntaje\": 5.9, \"Rating\": \"PG-13\"}, {\"Presupuesto\": 30000000.0, \"Puntaje\": 5.8, \"Rating\": \"R\"}, {\"Presupuesto\": 50000000.0, \"Puntaje\": 6.1, \"Rating\": \"R\"}, {\"Presupuesto\": 28000000.0, \"Puntaje\": 6.7, \"Rating\": \"PG-13\"}, {\"Presupuesto\": 130000000.0, \"Puntaje\": 5.8, \"Rating\": \"PG-13\"}, {\"Presupuesto\": 6000000.0, \"Puntaje\": 4.3, \"Rating\": \"R\"}, {\"Presupuesto\": 50000000.0, \"Puntaje\": 6.7, \"Rating\": \"R\"}, {\"Presupuesto\": 110000000.0, \"Puntaje\": 6.7, \"Rating\": \"PG-13\"}, {\"Presupuesto\": 22000000.0, \"Puntaje\": 6.8, \"Rating\": \"R\"}, {\"Presupuesto\": 5000000.0, \"Puntaje\": 6.5, \"Rating\": \"R\"}, {\"Presupuesto\": 26000000.0, \"Puntaje\": 6.5, \"Rating\": \"R\"}, {\"Presupuesto\": 12000000.0, \"Puntaje\": 6.8, \"Rating\": \"R\"}, {\"Presupuesto\": 135000000.0, \"Puntaje\": 7.2, \"Rating\": \"PG\"}, {\"Presupuesto\": 45000000.0, \"Puntaje\": 6.4, \"Rating\": \"R\"}, {\"Presupuesto\": 50000.0, \"Puntaje\": 7.2, \"Rating\": \"NOT RATED\"}, {\"Presupuesto\": 120000000.0, \"Puntaje\": 6.7, \"Rating\": \"PG-13\"}, {\"Presupuesto\": 35000000.0, \"Puntaje\": 6.9, \"Rating\": \"PG-13\"}, {\"Presupuesto\": 20000000.0, \"Puntaje\": 4.8, \"Rating\": \"R\"}, {\"Presupuesto\": 55000000.0, \"Puntaje\": 7.8, \"Rating\": \"PG-13\"}, {\"Presupuesto\": 2500000.0, \"Puntaje\": 7.1, \"Rating\": \"R\"}, {\"Presupuesto\": 103000000.0, \"Puntaje\": 5.9, \"Rating\": \"R\"}, {\"Presupuesto\": 58000000.0, \"Puntaje\": 6.3, \"Rating\": \"PG-13\"}, {\"Presupuesto\": 215000000.0, \"Puntaje\": 6.5, \"Rating\": \"PG-13\"}, {\"Presupuesto\": 215000000.0, \"Puntaje\": 6.3, \"Rating\": \"PG\"}, {\"Presupuesto\": 16000000.0, \"Puntaje\": 6.2, \"Rating\": \"R\"}, {\"Presupuesto\": 200000000.0, \"Puntaje\": 7.3, \"Rating\": \"G\"}, {\"Presupuesto\": 4800000.0, \"Puntaje\": 5.7, \"Rating\": \"R\"}, {\"Presupuesto\": 150000000.0, \"Puntaje\": 6.4, \"Rating\": \"PG-13\"}, {\"Presupuesto\": 11000000.0, \"Puntaje\": 6.8, \"Rating\": \"PG-13\"}, {\"Presupuesto\": 5000000.0, \"Puntaje\": 6.6, \"Rating\": \"PG-13\"}, {\"Presupuesto\": 30000000.0, \"Puntaje\": 7.1, \"Rating\": \"R\"}, {\"Presupuesto\": 90000000.0, \"Puntaje\": 5.9, \"Rating\": \"PG\"}, {\"Presupuesto\": 84000000.0, \"Puntaje\": 6.7, \"Rating\": \"PG-13\"}, {\"Presupuesto\": 8000000.0, \"Puntaje\": 7.4, \"Rating\": \"R\"}, {\"Presupuesto\": 38000000.0, \"Puntaje\": 6.4, \"Rating\": \"R\"}, {\"Presupuesto\": 40000000.0, \"Puntaje\": 5.9, \"Rating\": \"PG-13\"}, {\"Presupuesto\": 5000000.0, \"Puntaje\": 7.1, \"Rating\": \"R\"}, {\"Presupuesto\": 40000000.0, \"Puntaje\": 7.5, \"Rating\": \"PG-13\"}, {\"Presupuesto\": 92000000.0, \"Puntaje\": 5.3, \"Rating\": \"R\"}, {\"Presupuesto\": 130000000.0, \"Puntaje\": 4.9, \"Rating\": \"PG-13\"}, {\"Presupuesto\": 5000000.0, \"Puntaje\": 7.4, \"Rating\": \"PG-13\"}, {\"Presupuesto\": 175000000.0, \"Puntaje\": 6.3, \"Rating\": \"PG-13\"}, {\"Presupuesto\": 18000000.0, \"Puntaje\": 7.3, \"Rating\": \"PG-13\"}, {\"Presupuesto\": 30000000.0, \"Puntaje\": 7.2, \"Rating\": \"PG-13\"}, {\"Presupuesto\": 22000000.0, \"Puntaje\": 6.5, \"Rating\": \"R\"}, {\"Presupuesto\": 25000000.0, \"Puntaje\": 7.2, \"Rating\": \"R\"}, {\"Presupuesto\": 195000000.0, \"Puntaje\": 6.3, \"Rating\": \"PG-13\"}, {\"Presupuesto\": 130000000.0, \"Puntaje\": 5.6, \"Rating\": \"PG-13\"}, {\"Presupuesto\": 13000000.0, \"Puntaje\": 5.9, \"Rating\": \"R\"}, {\"Presupuesto\": 30000000.0, \"Puntaje\": 6.5, \"Rating\": \"R\"}, {\"Presupuesto\": 11000000.0, \"Puntaje\": 7.5, \"Rating\": \"R\"}, {\"Presupuesto\": 20000000.0, \"Puntaje\": 5.6, \"Rating\": \"R\"}, {\"Presupuesto\": 7000000.0, \"Puntaje\": 7.3, \"Rating\": \"R\"}, {\"Presupuesto\": 35000000.0, \"Puntaje\": 7.5, \"Rating\": \"PG-13\"}, {\"Presupuesto\": 35000000.0, \"Puntaje\": 5.7, \"Rating\": \"R\"}, {\"Presupuesto\": 20000000.0, \"Puntaje\": 7.0, \"Rating\": \"R\"}, {\"Presupuesto\": 61000000.0, \"Puntaje\": 6.7, \"Rating\": \"R\"}, {\"Presupuesto\": 12000000.0, \"Puntaje\": 5.9, \"Rating\": \"PG-13\"}, {\"Presupuesto\": 3000000.0, \"Puntaje\": 7.9, \"Rating\": \"R\"}, {\"Presupuesto\": 15000000.0, \"Puntaje\": 6.5, \"Rating\": \"PG-13\"}, {\"Presupuesto\": 10000000.0, \"Puntaje\": 6.2, \"Rating\": \"R\"}, {\"Presupuesto\": 8000000.0, \"Puntaje\": 5.6, \"Rating\": \"R\"}, {\"Presupuesto\": 35000000.0, \"Puntaje\": 5.6, \"Rating\": \"R\"}, {\"Presupuesto\": 35000000.0, \"Puntaje\": 6.2, \"Rating\": \"R\"}, {\"Presupuesto\": 19000000.0, \"Puntaje\": 7.6, \"Rating\": \"PG-13\"}, {\"Presupuesto\": 50000000.0, \"Puntaje\": 6.3, \"Rating\": \"PG-13\"}, {\"Presupuesto\": 105000000.0, \"Puntaje\": 5.4, \"Rating\": \"PG\"}, {\"Presupuesto\": 13000000.0, \"Puntaje\": 6.7, \"Rating\": \"R\"}, {\"Presupuesto\": 1066167.0, \"Puntaje\": 7.1, \"Rating\": \"R\"}, {\"Presupuesto\": 30000000.0, \"Puntaje\": 5.9, \"Rating\": \"PG-13\"}, {\"Presupuesto\": 8500000.0, \"Puntaje\": 6.1, \"Rating\": \"R\"}, {\"Presupuesto\": 28000000.0, \"Puntaje\": 6.6, \"Rating\": \"PG-13\"}, {\"Presupuesto\": 10900000.0, \"Puntaje\": 7.4, \"Rating\": \"PG\"}, {\"Presupuesto\": 20000000.0, \"Puntaje\": 3.5, \"Rating\": \"PG-13\"}, {\"Presupuesto\": 12000000.0, \"Puntaje\": 7.6, \"Rating\": \"PG-13\"}, {\"Presupuesto\": 30000000.0, \"Puntaje\": 5.6, \"Rating\": \"R\"}, {\"Presupuesto\": 9000000.0, \"Puntaje\": 6.9, \"Rating\": \"PG-13\"}, {\"Presupuesto\": 12000000.0, \"Puntaje\": 7.7, \"Rating\": \"R\"}, {\"Presupuesto\": 50000.0, \"Puntaje\": 6.7, \"Rating\": \"NOT RATED\"}, {\"Presupuesto\": 8000000.0, \"Puntaje\": 7.1, \"Rating\": \"PG-13\"}, {\"Presupuesto\": 28000000.0, \"Puntaje\": 6.4, \"Rating\": \"R\"}, {\"Presupuesto\": 100000000.0, \"Puntaje\": 6.7, \"Rating\": \"PG\"}, {\"Presupuesto\": 26000000.0, \"Puntaje\": 6.4, \"Rating\": \"PG-13\"}, {\"Presupuesto\": 1500000.0, \"Puntaje\": 5.8, \"Rating\": \"R\"}, {\"Presupuesto\": 3500000.0, \"Puntaje\": 6.3, \"Rating\": \"PG-13\"}, {\"Presupuesto\": 18000000.0, \"Puntaje\": 6.9, \"Rating\": \"PG-13\"}, {\"Presupuesto\": 20000000.0, \"Puntaje\": 6.2, \"Rating\": \"R\"}, {\"Presupuesto\": 78000000.0, \"Puntaje\": 6.4, \"Rating\": \"PG\"}, {\"Presupuesto\": 250000.0, \"Puntaje\": 3.9, \"Rating\": \"R\"}, {\"Presupuesto\": 30000000.0, \"Puntaje\": 7.8, \"Rating\": \"PG-13\"}, {\"Presupuesto\": 28000000.0, \"Puntaje\": 6.2, \"Rating\": \"R\"}, {\"Presupuesto\": 35000000.0, \"Puntaje\": 6.2, \"Rating\": \"R\"}, {\"Presupuesto\": 16000000.0, \"Puntaje\": 6.6, \"Rating\": \"R\"}, {\"Presupuesto\": 900000.0, \"Puntaje\": 7.5, \"Rating\": \"R\"}, {\"Presupuesto\": 18000000.0, \"Puntaje\": 7.1, \"Rating\": \"R\"}, {\"Presupuesto\": 35000000.0, \"Puntaje\": 5.7, \"Rating\": \"PG-13\"}, {\"Presupuesto\": 40000000.0, \"Puntaje\": 6.4, \"Rating\": \"PG-13\"}, {\"Presupuesto\": 15000000.0, \"Puntaje\": 5.5, \"Rating\": \"PG-13\"}, {\"Presupuesto\": 135000000.0, \"Puntaje\": 6.5, \"Rating\": \"PG\"}, {\"Presupuesto\": 2500000.0, \"Puntaje\": 5.1, \"Rating\": \"R\"}, {\"Presupuesto\": 4000000.0, \"Puntaje\": 6.1, \"Rating\": \"R\"}, {\"Presupuesto\": 50000000.0, \"Puntaje\": 5.8, \"Rating\": \"PG\"}, {\"Presupuesto\": 15000000.0, \"Puntaje\": 6.5, \"Rating\": \"R\"}, {\"Presupuesto\": 4000000.0, \"Puntaje\": 6.9, \"Rating\": \"R\"}, {\"Presupuesto\": 3300000.0, \"Puntaje\": 6.5, \"Rating\": \"PG-13\"}, {\"Presupuesto\": 7000000.0, \"Puntaje\": 6.5, \"Rating\": \"R\"}, {\"Presupuesto\": 25000000.0, \"Puntaje\": 6.1, \"Rating\": \"R\"}, {\"Presupuesto\": 6500000.0, \"Puntaje\": 6.8, \"Rating\": \"PG-13\"}, {\"Presupuesto\": 25500000.0, \"Puntaje\": 6.5, \"Rating\": \"R\"}, {\"Presupuesto\": 8500000.0, \"Puntaje\": 6.1, \"Rating\": \"R\"}, {\"Presupuesto\": 5000000.0, \"Puntaje\": 6.6, \"Rating\": \"R\"}, {\"Presupuesto\": 10000000.0, \"Puntaje\": 6.3, \"Rating\": \"PG-13\"}, {\"Presupuesto\": 5000000.0, \"Puntaje\": 7.6, \"Rating\": \"PG-13\"}, {\"Presupuesto\": 1000000.0, \"Puntaje\": 7.8, \"Rating\": \"PG\"}, {\"Presupuesto\": 35000000.0, \"Puntaje\": 7.1, \"Rating\": \"PG-13\"}, {\"Presupuesto\": 38600000.0, \"Puntaje\": 6.5, \"Rating\": \"PG-13\"}, {\"Presupuesto\": 17000000.0, \"Puntaje\": 6.7, \"Rating\": \"R\"}, {\"Presupuesto\": 30000000.0, \"Puntaje\": 5.6, \"Rating\": \"R\"}, {\"Presupuesto\": 12000000.0, \"Puntaje\": 5.8, \"Rating\": \"R\"}, {\"Presupuesto\": 11000000.0, \"Puntaje\": 7.8, \"Rating\": \"PG-13\"}, {\"Presupuesto\": 81000000.0, \"Puntaje\": 7.7, \"Rating\": \"R\"}, {\"Presupuesto\": 165000000.0, \"Puntaje\": 8.6, \"Rating\": \"PG-13\"}, {\"Presupuesto\": 170000000.0, \"Puntaje\": 8.1, \"Rating\": \"PG-13\"}, {\"Presupuesto\": 15000000.0, \"Puntaje\": 7.7, \"Rating\": \"R\"}, {\"Presupuesto\": 61000000.0, \"Puntaje\": 8.1, \"Rating\": \"R\"}, {\"Presupuesto\": 20000000.0, \"Puntaje\": 7.3, \"Rating\": \"R\"}, {\"Presupuesto\": 25000000.0, \"Puntaje\": 8.1, \"Rating\": \"R\"}, {\"Presupuesto\": 3300000.0, \"Puntaje\": 8.5, \"Rating\": \"R\"}, {\"Presupuesto\": 34000000.0, \"Puntaje\": 6.8, \"Rating\": \"PG-13\"}, {\"Presupuesto\": 6500000.0, \"Puntaje\": 5.4, \"Rating\": \"R\"}, {\"Presupuesto\": 2000000.0, \"Puntaje\": 6.9, \"Rating\": \"R\"}, {\"Presupuesto\": 85000000.0, \"Puntaje\": 6.7, \"Rating\": \"PG-13\"}, {\"Presupuesto\": 14000000.0, \"Puntaje\": 8.0, \"Rating\": \"PG-13\"}, {\"Presupuesto\": 170000000.0, \"Puntaje\": 7.6, \"Rating\": \"PG-13\"}, {\"Presupuesto\": 178000000.0, \"Puntaje\": 7.9, \"Rating\": \"PG-13\"}, {\"Presupuesto\": 55000000.0, \"Puntaje\": 7.2, \"Rating\": \"R\"}, {\"Presupuesto\": 210000000.0, \"Puntaje\": 5.7, \"Rating\": \"PG-13\"}, {\"Presupuesto\": 50000000.0, \"Puntaje\": 7.1, \"Rating\": \"R\"}, {\"Presupuesto\": 68000000.0, \"Puntaje\": 7.6, \"Rating\": \"R\"}, {\"Presupuesto\": 12000000.0, \"Puntaje\": 7.8, \"Rating\": \"PG-13\"}, {\"Presupuesto\": 18000000.0, \"Puntaje\": 7.8, \"Rating\": \"R\"}, {\"Presupuesto\": 8500000.0, \"Puntaje\": 7.9, \"Rating\": \"R\"}, {\"Presupuesto\": 200000000.0, \"Puntaje\": 8.0, \"Rating\": \"PG-13\"}, {\"Presupuesto\": 2000000.0, \"Puntaje\": 6.8, \"Rating\": \"NOT RATED\"}, {\"Presupuesto\": 58800000.0, \"Puntaje\": 7.3, \"Rating\": \"R\"}, {\"Presupuesto\": 170000000.0, \"Puntaje\": 7.8, \"Rating\": \"PG-13\"}, {\"Presupuesto\": 60000000.0, \"Puntaje\": 7.8, \"Rating\": \"PG\"}, {\"Presupuesto\": 1500000.0, \"Puntaje\": 5.7, \"Rating\": \"R\"}, {\"Presupuesto\": 40000000.0, \"Puntaje\": 6.4, \"Rating\": \"R\"}, {\"Presupuesto\": 200000000.0, \"Puntaje\": 6.7, \"Rating\": \"PG-13\"}, {\"Presupuesto\": 165000000.0, \"Puntaje\": 7.8, \"Rating\": \"PG\"}, {\"Presupuesto\": 180000000.0, \"Puntaje\": 7.0, \"Rating\": \"PG\"}, {\"Presupuesto\": 125000000.0, \"Puntaje\": 5.8, \"Rating\": \"PG-13\"}, {\"Presupuesto\": 15000000.0, \"Puntaje\": 7.7, \"Rating\": \"PG-13\"}, {\"Presupuesto\": 250000000.0, \"Puntaje\": 7.4, \"Rating\": \"PG-13\"}, {\"Presupuesto\": 100000000.0, \"Puntaje\": 6.0, \"Rating\": \"PG-13\"}, {\"Presupuesto\": 80000000.0, \"Puntaje\": 5.5, \"Rating\": \"PG-13\"}, {\"Presupuesto\": 125000000.0, \"Puntaje\": 6.7, \"Rating\": \"PG-13\"}, {\"Presupuesto\": 44000000.0, \"Puntaje\": 6.6, \"Rating\": \"R\"}, {\"Presupuesto\": 90000000.0, \"Puntaje\": 6.1, \"Rating\": \"PG-13\"}, {\"Presupuesto\": 3300000.0, \"Puntaje\": 8.1, \"Rating\": \"R\"}, {\"Presupuesto\": 25000000.0, \"Puntaje\": 6.5, \"Rating\": \"PG-13\"}, {\"Presupuesto\": 1600000.0, \"Puntaje\": 7.6, \"Rating\": \"R\"}, {\"Presupuesto\": 110000000.0, \"Puntaje\": 6.2, \"Rating\": \"R\"}, {\"Presupuesto\": 8000000.0, \"Puntaje\": 7.1, \"Rating\": \"R\"}, {\"Presupuesto\": 40000000.0, \"Puntaje\": 6.0, \"Rating\": \"PG-13\"}, {\"Presupuesto\": 160000000.0, \"Puntaje\": 6.4, \"Rating\": \"PG-13\"}, {\"Presupuesto\": 50000000.0, \"Puntaje\": 6.0, \"Rating\": \"PG\"}, {\"Presupuesto\": 11000000.0, \"Puntaje\": 7.3, \"Rating\": \"R\"}, {\"Presupuesto\": 140000000.0, \"Puntaje\": 6.0, \"Rating\": \"PG-13\"}, {\"Presupuesto\": 40000000.0, \"Puntaje\": 6.1, \"Rating\": \"R\"}, {\"Presupuesto\": 65000000.0, \"Puntaje\": 6.5, \"Rating\": \"R\"}, {\"Presupuesto\": 70000000.0, \"Puntaje\": 6.3, \"Rating\": \"PG-13\"}, {\"Presupuesto\": 65000000.0, \"Puntaje\": 7.2, \"Rating\": \"PG-13\"}, {\"Presupuesto\": 95000000.0, \"Puntaje\": 5.5, \"Rating\": \"PG-13\"}, {\"Presupuesto\": 1000000.0, \"Puntaje\": 5.6, \"Rating\": \"R\"}, {\"Presupuesto\": 48000000.0, \"Puntaje\": 6.0, \"Rating\": \"PG-13\"}, {\"Presupuesto\": 40000000.0, \"Puntaje\": 6.5, \"Rating\": \"PG-13\"}, {\"Presupuesto\": 26000000.0, \"Puntaje\": 6.7, \"Rating\": \"PG-13\"}, {\"Presupuesto\": 4000000.0, \"Puntaje\": 7.9, \"Rating\": \"R\"}, {\"Presupuesto\": 65000000.0, \"Puntaje\": 5.3, \"Rating\": \"PG\"}, {\"Presupuesto\": 40000000.0, \"Puntaje\": 5.1, \"Rating\": \"R\"}, {\"Presupuesto\": 20000000.0, \"Puntaje\": 6.7, \"Rating\": \"R\"}, {\"Presupuesto\": 1000000.0, \"Puntaje\": 5.7, \"Rating\": \"R\"}, {\"Presupuesto\": 60000000.0, \"Puntaje\": 6.2, \"Rating\": \"PG-13\"}, {\"Presupuesto\": 15000000.0, \"Puntaje\": 7.1, \"Rating\": \"R\"}, {\"Presupuesto\": 3000000.0, \"Puntaje\": 5.4, \"Rating\": \"R\"}, {\"Presupuesto\": 66000000.0, \"Puntaje\": 6.5, \"Rating\": \"PG-13\"}, {\"Presupuesto\": 50000000.0, \"Puntaje\": 7.3, \"Rating\": \"PG\"}, {\"Presupuesto\": 18000000.0, \"Puntaje\": 6.3, \"Rating\": \"R\"}, {\"Presupuesto\": 100000000.0, \"Puntaje\": 6.2, \"Rating\": \"PG-13\"}, {\"Presupuesto\": 127000000.0, \"Puntaje\": 6.2, \"Rating\": \"PG\"}, {\"Presupuesto\": 12600000.0, \"Puntaje\": 7.1, \"Rating\": \"R\"}, {\"Presupuesto\": 11000000.0, \"Puntaje\": 6.8, \"Rating\": \"PG-13\"}, {\"Presupuesto\": 145000000.0, \"Puntaje\": 7.8, \"Rating\": \"PG\"}, {\"Presupuesto\": 5000000.0, \"Puntaje\": 6.7, \"Rating\": \"R\"}, {\"Presupuesto\": 125000000.0, \"Puntaje\": 5.8, \"Rating\": \"PG-13\"}, {\"Presupuesto\": 70000000.0, \"Puntaje\": 4.2, \"Rating\": \"PG-13\"}, {\"Presupuesto\": 30000000.0, \"Puntaje\": 5.6, \"Rating\": \"PG-13\"}, {\"Presupuesto\": 100000000.0, \"Puntaje\": 6.3, \"Rating\": \"PG-13\"}, {\"Presupuesto\": 24000000.0, \"Puntaje\": 7.0, \"Rating\": \"R\"}, {\"Presupuesto\": 13000000.0, \"Puntaje\": 7.3, \"Rating\": \"PG-13\"}, {\"Presupuesto\": 14000000.0, \"Puntaje\": 6.3, \"Rating\": \"R\"}, {\"Presupuesto\": 25000000.0, \"Puntaje\": 6.0, \"Rating\": \"R\"}, {\"Presupuesto\": 8000000.0, \"Puntaje\": 6.2, \"Rating\": \"R\"}, {\"Presupuesto\": 10000000.0, \"Puntaje\": 7.0, \"Rating\": \"PG-13\"}, {\"Presupuesto\": 9000000.0, \"Puntaje\": 6.5, \"Rating\": \"R\"}, {\"Presupuesto\": 50000000.0, \"Puntaje\": 7.0, \"Rating\": \"PG-13\"}, {\"Presupuesto\": 50000000.0, \"Puntaje\": 5.8, \"Rating\": \"PG-13\"}, {\"Presupuesto\": 50000000.0, \"Puntaje\": 7.4, \"Rating\": \"R\"}, {\"Presupuesto\": 35000000.0, \"Puntaje\": 5.7, \"Rating\": \"PG-13\"}, {\"Presupuesto\": 5000000.0, \"Puntaje\": 6.2, \"Rating\": \"R\"}, {\"Presupuesto\": 17000000.0, \"Puntaje\": 6.5, \"Rating\": \"R\"}, {\"Presupuesto\": 42000000.0, \"Puntaje\": 6.3, \"Rating\": \"R\"}, {\"Presupuesto\": 20000000.0, \"Puntaje\": 7.0, \"Rating\": \"R\"}, {\"Presupuesto\": 19800000.0, \"Puntaje\": 6.6, \"Rating\": \"R\"}, {\"Presupuesto\": 30000000.0, \"Puntaje\": 6.2, \"Rating\": \"R\"}, {\"Presupuesto\": 60000000.0, \"Puntaje\": 6.2, \"Rating\": \"PG-13\"}, {\"Presupuesto\": 22000000.0, \"Puntaje\": 6.3, \"Rating\": \"R\"}, {\"Presupuesto\": 20000000.0, \"Puntaje\": 6.3, \"Rating\": \"PG-13\"}, {\"Presupuesto\": 16800000.0, \"Puntaje\": 6.6, \"Rating\": \"PG-13\"}, {\"Presupuesto\": 30000000.0, \"Puntaje\": 5.4, \"Rating\": \"R\"}, {\"Presupuesto\": 28000000.0, \"Puntaje\": 6.2, \"Rating\": \"PG-13\"}, {\"Presupuesto\": 22000000.0, \"Puntaje\": 7.3, \"Rating\": \"PG\"}, {\"Presupuesto\": 28000000.0, \"Puntaje\": 6.5, \"Rating\": \"R\"}, {\"Presupuesto\": 5000000.0, \"Puntaje\": 7.5, \"Rating\": \"PG-13\"}, {\"Presupuesto\": 70000000.0, \"Puntaje\": 6.1, \"Rating\": \"PG-13\"}, {\"Presupuesto\": 4000000.0, \"Puntaje\": 6.1, \"Rating\": \"PG-13\"}, {\"Presupuesto\": 55000000.0, \"Puntaje\": 7.2, \"Rating\": \"PG\"}, {\"Presupuesto\": 7000000.0, \"Puntaje\": 6.4, \"Rating\": \"R\"}, {\"Presupuesto\": 4500000.0, \"Puntaje\": 8.0, \"Rating\": \"R\"}, {\"Presupuesto\": 5000000.0, \"Puntaje\": 4.5, \"Rating\": \"PG-13\"}, {\"Presupuesto\": 65000000.0, \"Puntaje\": 5.1, \"Rating\": \"PG-13\"}, {\"Presupuesto\": 20000000.0, \"Puntaje\": 7.5, \"Rating\": \"PG-13\"}, {\"Presupuesto\": 16000000.0, \"Puntaje\": 6.6, \"Rating\": \"R\"}, {\"Presupuesto\": 19000000.0, \"Puntaje\": 7.0, \"Rating\": \"PG-13\"}, {\"Presupuesto\": 16000000.0, \"Puntaje\": 3.1, \"Rating\": \"PG-13\"}, {\"Presupuesto\": 15000000.0, \"Puntaje\": 6.8, \"Rating\": \"R\"}, {\"Presupuesto\": 10000000.0, \"Puntaje\": 7.4, \"Rating\": \"PG-13\"}, {\"Presupuesto\": 132000000.0, \"Puntaje\": 6.7, \"Rating\": \"PG\"}, {\"Presupuesto\": 35000000.0, \"Puntaje\": 5.7, \"Rating\": \"R\"}, {\"Presupuesto\": 15000000.0, \"Puntaje\": 6.2, \"Rating\": \"R\"}, {\"Presupuesto\": 5000000.0, \"Puntaje\": 7.0, \"Rating\": \"R\"}, {\"Presupuesto\": 25000000.0, \"Puntaje\": 6.8, \"Rating\": \"PG-13\"}, {\"Presupuesto\": 100000.0, \"Puntaje\": 7.1, \"Rating\": \"R\"}, {\"Presupuesto\": 16000000.0, \"Puntaje\": 6.7, \"Rating\": \"R\"}, {\"Presupuesto\": 10000000.0, \"Puntaje\": 6.3, \"Rating\": \"R\"}, {\"Presupuesto\": 2000000.0, \"Puntaje\": 4.8, \"Rating\": \"PG\"}, {\"Presupuesto\": 45000000.0, \"Puntaje\": 6.0, \"Rating\": \"PG-13\"}, {\"Presupuesto\": 145000000.0, \"Puntaje\": 6.8, \"Rating\": \"PG\"}, {\"Presupuesto\": 28000000.0, \"Puntaje\": 5.7, \"Rating\": \"PG-13\"}, {\"Presupuesto\": 6000000.0, \"Puntaje\": 6.8, \"Rating\": \"PG-13\"}, {\"Presupuesto\": 28000000.0, \"Puntaje\": 6.2, \"Rating\": \"PG\"}, {\"Presupuesto\": 22500000.0, \"Puntaje\": 7.1, \"Rating\": \"R\"}, {\"Presupuesto\": 15000000.0, \"Puntaje\": 6.3, \"Rating\": \"R\"}, {\"Presupuesto\": 2000000.0, \"Puntaje\": 5.8, \"Rating\": \"R\"}, {\"Presupuesto\": 42000000.0, \"Puntaje\": 5.8, \"Rating\": \"PG\"}, {\"Presupuesto\": 17000000.0, \"Puntaje\": 6.6, \"Rating\": \"R\"}, {\"Presupuesto\": 5000000.0, \"Puntaje\": 5.2, \"Rating\": \"R\"}, {\"Presupuesto\": 103000000.0, \"Puntaje\": 6.3, \"Rating\": \"G\"}, {\"Presupuesto\": 40000000.0, \"Puntaje\": 6.8, \"Rating\": \"R\"}, {\"Presupuesto\": 6000000.0, \"Puntaje\": 6.7, \"Rating\": \"R\"}, {\"Presupuesto\": 20000000.0, \"Puntaje\": 4.9, \"Rating\": \"R\"}, {\"Presupuesto\": 500000.0, \"Puntaje\": 1.5, \"Rating\": \"PG\"}, {\"Presupuesto\": 25000000.0, \"Puntaje\": 6.2, \"Rating\": \"PG-13\"}, {\"Presupuesto\": 5000000.0, \"Puntaje\": 6.4, \"Rating\": \"R\"}, {\"Presupuesto\": 60000000.0, \"Puntaje\": 6.8, \"Rating\": \"PG\"}, {\"Presupuesto\": 2400000.0, \"Puntaje\": 5.6, \"Rating\": \"R\"}, {\"Presupuesto\": 7000000.0, \"Puntaje\": 6.9, \"Rating\": \"PG-13\"}, {\"Presupuesto\": 12000000.0, \"Puntaje\": 6.4, \"Rating\": \"R\"}, {\"Presupuesto\": 20000000.0, \"Puntaje\": 7.4, \"Rating\": \"PG-13\"}, {\"Presupuesto\": 25000000.0, \"Puntaje\": 7.0, \"Rating\": \"PG\"}, {\"Presupuesto\": 1000000.0, \"Puntaje\": 7.0, \"Rating\": \"R\"}, {\"Presupuesto\": 18000000.0, \"Puntaje\": 5.8, \"Rating\": \"PG-13\"}, {\"Presupuesto\": 8500000.0, \"Puntaje\": 6.4, \"Rating\": \"R\"}, {\"Presupuesto\": 5000000.0, \"Puntaje\": 5.4, \"Rating\": \"PG\"}, {\"Presupuesto\": 24000000.0, \"Puntaje\": 5.8, \"Rating\": \"PG-13\"}, {\"Presupuesto\": 12500000.0, \"Puntaje\": 6.1, \"Rating\": \"R\"}, {\"Presupuesto\": 1000000.0, \"Puntaje\": 6.6, \"Rating\": \"UNRATED\"}, {\"Presupuesto\": 5000000.0, \"Puntaje\": 6.4, \"Rating\": \"NOT RATED\"}, {\"Presupuesto\": 15000000.0, \"Puntaje\": 4.9, \"Rating\": \"PG-13\"}, {\"Presupuesto\": 5000000.0, \"Puntaje\": 7.5, \"Rating\": \"R\"}, {\"Presupuesto\": 50000000.0, \"Puntaje\": 6.4, \"Rating\": \"PG\"}, {\"Presupuesto\": 13000000.0, \"Puntaje\": 5.8, \"Rating\": \"PG\"}, {\"Presupuesto\": 13200000.0, \"Puntaje\": 5.6, \"Rating\": \"PG-13\"}, {\"Presupuesto\": 15000000.0, \"Puntaje\": 6.7, \"Rating\": \"PG\"}, {\"Presupuesto\": 4000000.0, \"Puntaje\": 6.3, \"Rating\": \"R\"}, {\"Presupuesto\": 12000000.0, \"Puntaje\": 5.8, \"Rating\": \"PG\"}, {\"Presupuesto\": 5000000.0, \"Puntaje\": 6.3, \"Rating\": \"NOT RATED\"}, {\"Presupuesto\": 4000000.0, \"Puntaje\": 4.7, \"Rating\": \"R\"}, {\"Presupuesto\": 6000000.0, \"Puntaje\": 6.6, \"Rating\": \"PG-13\"}, {\"Presupuesto\": 3000000.0, \"Puntaje\": 6.3, \"Rating\": \"R\"}, {\"Presupuesto\": 200000.0, \"Puntaje\": 5.1, \"Rating\": \"PG-13\"}, {\"Presupuesto\": 1000000.0, \"Puntaje\": 6.1, \"Rating\": \"R\"}, {\"Presupuesto\": 245000000.0, \"Puntaje\": 8.1, \"Rating\": \"PG-13\"}, {\"Presupuesto\": 150000000.0, \"Puntaje\": 8.1, \"Rating\": \"R\"}, {\"Presupuesto\": 44000000.0, \"Puntaje\": 7.8, \"Rating\": \"R\"}, {\"Presupuesto\": 110000000.0, \"Puntaje\": 6.1, \"Rating\": \"PG-13\"}, {\"Presupuesto\": 30000000.0, \"Puntaje\": 7.6, \"Rating\": \"R\"}, {\"Presupuesto\": 40000000.0, \"Puntaje\": 4.1, \"Rating\": \"R\"}, {\"Presupuesto\": 155000000.0, \"Puntaje\": 6.5, \"Rating\": \"PG-13\"}, {\"Presupuesto\": 135000000.0, \"Puntaje\": 8.0, \"Rating\": \"R\"}, {\"Presupuesto\": 108000000.0, \"Puntaje\": 8.0, \"Rating\": \"PG-13\"}, {\"Presupuesto\": 61000000.0, \"Puntaje\": 6.3, \"Rating\": \"PG-13\"}, {\"Presupuesto\": 245000000.0, \"Puntaje\": 6.8, \"Rating\": \"PG-13\"}, {\"Presupuesto\": 150000000.0, \"Puntaje\": 7.0, \"Rating\": \"PG-13\"}, {\"Presupuesto\": 3500000.0, \"Puntaje\": 6.8, \"Rating\": \"R\"}, {\"Presupuesto\": 13000000.0, \"Puntaje\": 8.2, \"Rating\": \"R\"}, {\"Presupuesto\": 95000000.0, \"Puntaje\": 7.0, \"Rating\": \"PG\"}, {\"Presupuesto\": 28000000.0, \"Puntaje\": 7.8, \"Rating\": \"R\"}, {\"Presupuesto\": 30000000.0, \"Puntaje\": 7.0, \"Rating\": \"R\"}, {\"Presupuesto\": 65000000.0, \"Puntaje\": 7.0, \"Rating\": \"R\"}, {\"Presupuesto\": 250000000.0, \"Puntaje\": 7.4, \"Rating\": \"PG-13\"}, {\"Presupuesto\": 190000000.0, \"Puntaje\": 6.5, \"Rating\": \"PG\"}, {\"Presupuesto\": 75000000.0, \"Puntaje\": 7.3, \"Rating\": \"PG-13\"}, {\"Presupuesto\": 15000000.0, \"Puntaje\": 7.1, \"Rating\": \"R\"}, {\"Presupuesto\": 175000000.0, \"Puntaje\": 8.2, \"Rating\": \"PG\"}, {\"Presupuesto\": 176000000.0, \"Puntaje\": 5.3, \"Rating\": \"PG-13\"}, {\"Presupuesto\": 2500000.0, \"Puntaje\": 4.9, \"Rating\": \"R\"}, {\"Presupuesto\": 20000000.0, \"Puntaje\": 8.1, \"Rating\": \"R\"}, {\"Presupuesto\": 11800000.0, \"Puntaje\": 7.2, \"Rating\": \"R\"}, {\"Presupuesto\": 150000000.0, \"Puntaje\": 7.4, \"Rating\": \"PG-13\"}, {\"Presupuesto\": 190000000.0, \"Puntaje\": 7.2, \"Rating\": \"PG-13\"}, {\"Presupuesto\": 29000000.0, \"Puntaje\": 6.4, \"Rating\": \"PG-13\"}, {\"Presupuesto\": 20000000.0, \"Puntaje\": 6.6, \"Rating\": \"R\"}, {\"Presupuesto\": 55000000.0, \"Puntaje\": 7.1, \"Rating\": \"PG-13\"}, {\"Presupuesto\": 130000000.0, \"Puntaje\": 7.3, \"Rating\": \"PG-13\"}, {\"Presupuesto\": 28000000.0, \"Puntaje\": 7.9, \"Rating\": \"R\"}, {\"Presupuesto\": 160000000.0, \"Puntaje\": 6.6, \"Rating\": \"PG-13\"}, {\"Presupuesto\": 5000000.0, \"Puntaje\": 6.2, \"Rating\": \"PG-13\"}, {\"Presupuesto\": 25000000.0, \"Puntaje\": 7.2, \"Rating\": \"PG-13\"}, {\"Presupuesto\": 53000000.0, \"Puntaje\": 6.9, \"Rating\": \"R\"}, {\"Presupuesto\": 55000000.0, \"Puntaje\": 6.5, \"Rating\": \"R\"}, {\"Presupuesto\": 30000000.0, \"Puntaje\": 7.4, \"Rating\": \"R\"}, {\"Presupuesto\": 35000000.0, \"Puntaje\": 7.6, \"Rating\": \"PG-13\"}, {\"Presupuesto\": 110000000.0, \"Puntaje\": 6.3, \"Rating\": \"PG-13\"}, {\"Presupuesto\": 35000000.0, \"Puntaje\": 5.7, \"Rating\": \"R\"}, {\"Presupuesto\": 8500000.0, \"Puntaje\": 6.5, \"Rating\": \"PG-13\"}, {\"Presupuesto\": 35000000.0, \"Puntaje\": 6.3, \"Rating\": \"R\"}, {\"Presupuesto\": 5000000.0, \"Puntaje\": 7.1, \"Rating\": \"R\"}, {\"Presupuesto\": 105000000.0, \"Puntaje\": 5.3, \"Rating\": \"PG-13\"}, {\"Presupuesto\": 80000000.0, \"Puntaje\": 6.7, \"Rating\": \"PG\"}, {\"Presupuesto\": 50000000.0, \"Puntaje\": 6.1, \"Rating\": \"PG-13\"}, {\"Presupuesto\": 40000000.0, \"Puntaje\": 7.6, \"Rating\": \"PG-13\"}, {\"Presupuesto\": 30000000.0, \"Puntaje\": 7.2, \"Rating\": \"R\"}, {\"Presupuesto\": 31000000.0, \"Puntaje\": 6.1, \"Rating\": \"R\"}, {\"Presupuesto\": 90000000.0, \"Puntaje\": 6.0, \"Rating\": \"PG-13\"}, {\"Presupuesto\": 120000000.0, \"Puntaje\": 4.3, \"Rating\": \"PG-13\"}, {\"Presupuesto\": 50100000.0, \"Puntaje\": 6.6, \"Rating\": \"R\"}, {\"Presupuesto\": 35000000.0, \"Puntaje\": 7.1, \"Rating\": \"PG-13\"}, {\"Presupuesto\": 49000000.0, \"Puntaje\": 6.9, \"Rating\": \"R\"}, {\"Presupuesto\": 11000000.0, \"Puntaje\": 7.5, \"Rating\": \"PG-13\"}, {\"Presupuesto\": 74000000.0, \"Puntaje\": 6.4, \"Rating\": \"PG\"}, {\"Presupuesto\": 37000000.0, \"Puntaje\": 5.4, \"Rating\": \"PG-13\"}, {\"Presupuesto\": 10000000.0, \"Puntaje\": 7.0, \"Rating\": \"R\"}, {\"Presupuesto\": 14800000.0, \"Puntaje\": 5.6, \"Rating\": \"R\"}, {\"Presupuesto\": 5000000.0, \"Puntaje\": 7.0, \"Rating\": \"R\"}, {\"Presupuesto\": 34000000.0, \"Puntaje\": 7.1, \"Rating\": \"PG-13\"}, {\"Presupuesto\": 100000000.0, \"Puntaje\": 6.9, \"Rating\": \"PG-13\"}, {\"Presupuesto\": 60000000.0, \"Puntaje\": 6.6, \"Rating\": \"PG-13\"}, {\"Presupuesto\": 88000000.0, \"Puntaje\": 5.6, \"Rating\": \"PG-13\"}, {\"Presupuesto\": 12000000.0, \"Puntaje\": 6.3, \"Rating\": \"PG-13\"}, {\"Presupuesto\": 35000000.0, \"Puntaje\": 7.1, \"Rating\": \"PG-13\"}, {\"Presupuesto\": 40000000.0, \"Puntaje\": 6.0, \"Rating\": \"R\"}, {\"Presupuesto\": 68000000.0, \"Puntaje\": 6.3, \"Rating\": \"R\"}, {\"Presupuesto\": 2000000.0, \"Puntaje\": 6.9, \"Rating\": \"R\"}, {\"Presupuesto\": 58000000.0, \"Puntaje\": 6.3, \"Rating\": \"PG\"}, {\"Presupuesto\": 2000000.0, \"Puntaje\": 6.7, \"Rating\": \"R\"}, {\"Presupuesto\": 15000000.0, \"Puntaje\": 6.3, \"Rating\": \"R\"}, {\"Presupuesto\": 50000000.0, \"Puntaje\": 6.5, \"Rating\": \"R\"}, {\"Presupuesto\": 150000000.0, \"Puntaje\": 5.8, \"Rating\": \"PG\"}, {\"Presupuesto\": 15000000.0, \"Puntaje\": 6.7, \"Rating\": \"R\"}, {\"Presupuesto\": 10000000.0, \"Puntaje\": 6.1, \"Rating\": \"PG-13\"}, {\"Presupuesto\": 16200000.0, \"Puntaje\": 6.8, \"Rating\": \"R\"}, {\"Presupuesto\": 26000000.0, \"Puntaje\": 6.5, \"Rating\": \"PG-13\"}, {\"Presupuesto\": 8000000.0, \"Puntaje\": 6.3, \"Rating\": \"R\"}, {\"Presupuesto\": 19500000.0, \"Puntaje\": 6.2, \"Rating\": \"PG-13\"}, {\"Presupuesto\": 25000000.0, \"Puntaje\": 6.4, \"Rating\": \"R\"}, {\"Presupuesto\": 200000000.0, \"Puntaje\": 6.7, \"Rating\": \"PG\"}, {\"Presupuesto\": 135000000.0, \"Puntaje\": 6.7, \"Rating\": \"PG\"}, {\"Presupuesto\": 35000000.0, \"Puntaje\": 7.3, \"Rating\": \"PG\"}, {\"Presupuesto\": 40000000.0, \"Puntaje\": 6.0, \"Rating\": \"PG-13\"}, {\"Presupuesto\": 15000000.0, \"Puntaje\": 6.2, \"Rating\": \"PG-13\"}, {\"Presupuesto\": 8000000.0, \"Puntaje\": 7.8, \"Rating\": \"PG-13\"}, {\"Presupuesto\": 25000000.0, \"Puntaje\": 5.9, \"Rating\": \"R\"}, {\"Presupuesto\": 25000000.0, \"Puntaje\": 5.1, \"Rating\": \"PG-13\"}, {\"Presupuesto\": 30000000.0, \"Puntaje\": 6.6, \"Rating\": \"R\"}, {\"Presupuesto\": 7000000.0, \"Puntaje\": 7.3, \"Rating\": \"R\"}, {\"Presupuesto\": 50000000.0, \"Puntaje\": 6.6, \"Rating\": \"R\"}, {\"Presupuesto\": 10000000.0, \"Puntaje\": 5.2, \"Rating\": \"R\"}, {\"Presupuesto\": 13000000.0, \"Puntaje\": 7.3, \"Rating\": \"R\"}, {\"Presupuesto\": 16000000.0, \"Puntaje\": 6.0, \"Rating\": \"PG-13\"}, {\"Presupuesto\": 23000000.0, \"Puntaje\": 6.7, \"Rating\": \"R\"}, {\"Presupuesto\": 2000000.0, \"Puntaje\": 6.2, \"Rating\": \"R\"}, {\"Presupuesto\": 6000000.0, \"Puntaje\": 7.8, \"Rating\": \"NOT RATED\"}, {\"Presupuesto\": 30000000.0, \"Puntaje\": 6.0, \"Rating\": \"R\"}, {\"Presupuesto\": 28000000.0, \"Puntaje\": 6.1, \"Rating\": \"R\"}, {\"Presupuesto\": 11000000.0, \"Puntaje\": 7.3, \"Rating\": \"PG-13\"}, {\"Presupuesto\": 8000000.0, \"Puntaje\": 7.2, \"Rating\": \"R\"}, {\"Presupuesto\": 12000000.0, \"Puntaje\": 6.4, \"Rating\": \"PG-13\"}, {\"Presupuesto\": 11000000.0, \"Puntaje\": 6.6, \"Rating\": \"R\"}, {\"Presupuesto\": 40000000.0, \"Puntaje\": 5.8, \"Rating\": \"R\"}, {\"Presupuesto\": 4000000.0, \"Puntaje\": 4.7, \"Rating\": \"R\"}, {\"Presupuesto\": 60000000.0, \"Puntaje\": 5.5, \"Rating\": \"R\"}, {\"Presupuesto\": 15000000.0, \"Puntaje\": 7.5, \"Rating\": \"R\"}, {\"Presupuesto\": 10000000.0, \"Puntaje\": 5.3, \"Rating\": \"R\"}, {\"Presupuesto\": 81200000.0, \"Puntaje\": 7.8, \"Rating\": \"PG\"}, {\"Presupuesto\": 3500000.0, \"Puntaje\": 6.0, \"Rating\": \"R\"}, {\"Presupuesto\": 35000000.0, \"Puntaje\": 4.9, \"Rating\": \"PG-13\"}, {\"Presupuesto\": 8000000.0, \"Puntaje\": 6.3, \"Rating\": \"R\"}, {\"Presupuesto\": 26000000.0, \"Puntaje\": 6.9, \"Rating\": \"PG-13\"}, {\"Presupuesto\": 74000000.0, \"Puntaje\": 6.0, \"Rating\": \"PG\"}, {\"Presupuesto\": 25000000.0, \"Puntaje\": 5.9, \"Rating\": \"PG-13\"}, {\"Presupuesto\": 100000.0, \"Puntaje\": 7.0, \"Rating\": \"R\"}, {\"Presupuesto\": 70000000.0, \"Puntaje\": 5.4, \"Rating\": \"R\"}, {\"Presupuesto\": 90000000.0, \"Puntaje\": 5.1, \"Rating\": \"PG\"}, {\"Presupuesto\": 8000000.0, \"Puntaje\": 5.2, \"Rating\": \"R\"}, {\"Presupuesto\": 1000000.0, \"Puntaje\": 6.7, \"Rating\": \"R\"}, {\"Presupuesto\": 35000000.0, \"Puntaje\": 5.1, \"Rating\": \"PG-13\"}, {\"Presupuesto\": 28000000.0, \"Puntaje\": 6.1, \"Rating\": \"R\"}, {\"Presupuesto\": 8500000.0, \"Puntaje\": 5.6, \"Rating\": \"PG-13\"}, {\"Presupuesto\": 3000000.0, \"Puntaje\": 6.4, \"Rating\": \"PG\"}, {\"Presupuesto\": 9600000.0, \"Puntaje\": 6.8, \"Rating\": \"R\"}, {\"Presupuesto\": 9400000.0, \"Puntaje\": 8.4, \"Rating\": \"NOT RATED\"}, {\"Presupuesto\": 18000000.0, \"Puntaje\": 6.0, \"Rating\": \"PG-13\"}, {\"Presupuesto\": 5000000.0, \"Puntaje\": 4.1, \"Rating\": \"PG\"}, {\"Presupuesto\": 14000000.0, \"Puntaje\": 6.9, \"Rating\": \"PG-13\"}, {\"Presupuesto\": 20000000.0, \"Puntaje\": 6.8, \"Rating\": \"PG\"}, {\"Presupuesto\": 18026148.0, \"Puntaje\": 8.2, \"Rating\": \"Not specified\"}, {\"Presupuesto\": 3300000.0, \"Puntaje\": 5.2, \"Rating\": \"PG-13\"}, {\"Presupuesto\": 17000000.0, \"Puntaje\": 7.4, \"Rating\": \"PG\"}, {\"Presupuesto\": 65000000.0, \"Puntaje\": 6.1, \"Rating\": \"R\"}, {\"Presupuesto\": 10000000.0, \"Puntaje\": 6.9, \"Rating\": \"PG\"}, {\"Presupuesto\": 3000000.0, \"Puntaje\": 6.0, \"Rating\": \"R\"}, {\"Presupuesto\": 17000000.0, \"Puntaje\": 5.7, \"Rating\": \"PG-13\"}, {\"Presupuesto\": 99000000.0, \"Puntaje\": 7.1, \"Rating\": \"G\"}, {\"Presupuesto\": 36000000.0, \"Puntaje\": 7.1, \"Rating\": \"PG-13\"}, {\"Presupuesto\": 10000000.0, \"Puntaje\": 7.0, \"Rating\": \"R\"}, {\"Presupuesto\": 12000000.0, \"Puntaje\": 5.6, \"Rating\": \"PG-13\"}, {\"Presupuesto\": 13000000.0, \"Puntaje\": 5.7, \"Rating\": \"R\"}, {\"Presupuesto\": 5000000.0, \"Puntaje\": 5.6, \"Rating\": \"PG-13\"}, {\"Presupuesto\": 10000000.0, \"Puntaje\": 5.2, \"Rating\": \"R\"}, {\"Presupuesto\": 30000000.0, \"Puntaje\": 4.4, \"Rating\": \"PG\"}, {\"Presupuesto\": 6000000.0, \"Puntaje\": 6.7, \"Rating\": \"PG-13\"}, {\"Presupuesto\": 14000000.0, \"Puntaje\": 5.1, \"Rating\": \"R\"}, {\"Presupuesto\": 10000000.0, \"Puntaje\": 4.6, \"Rating\": \"R\"}, {\"Presupuesto\": 10000000.0, \"Puntaje\": 6.6, \"Rating\": \"PG\"}, {\"Presupuesto\": 35000000.0, \"Puntaje\": 5.4, \"Rating\": \"R\"}, {\"Presupuesto\": 7000000.0, \"Puntaje\": 6.5, \"Rating\": \"PG-13\"}, {\"Presupuesto\": 2000000.0, \"Puntaje\": 5.4, \"Rating\": \"PG-13\"}, {\"Presupuesto\": 3000000.0, \"Puntaje\": 5.0, \"Rating\": \"R\"}, {\"Presupuesto\": 2000000.0, \"Puntaje\": 6.9, \"Rating\": \"R\"}, {\"Presupuesto\": 11000000.0, \"Puntaje\": 6.6, \"Rating\": \"R\"}, {\"Presupuesto\": 800000.0, \"Puntaje\": 6.3, \"Rating\": \"R\"}, {\"Presupuesto\": 1400000.0, \"Puntaje\": 7.9, \"Rating\": \"NOT RATED\"}, {\"Presupuesto\": 4000000.0, \"Puntaje\": 6.0, \"Rating\": \"PG-13\"}, {\"Presupuesto\": 25000000.0, \"Puntaje\": 7.4, \"Rating\": \"PG\"}, {\"Presupuesto\": 3200000.0, \"Puntaje\": 6.3, \"Rating\": \"PG-13\"}, {\"Presupuesto\": 15000000.0, \"Puntaje\": 5.5, \"Rating\": \"R\"}, {\"Presupuesto\": 15000000.0, \"Puntaje\": 6.4, \"Rating\": \"NOT RATED\"}, {\"Presupuesto\": 20000000.0, \"Puntaje\": 7.4, \"Rating\": \"PG-13\"}, {\"Presupuesto\": 8000000.0, \"Puntaje\": 5.1, \"Rating\": \"PG-13\"}, {\"Presupuesto\": 5000000.0, \"Puntaje\": 4.7, \"Rating\": \"PG-13\"}, {\"Presupuesto\": 6000000.0, \"Puntaje\": 5.4, \"Rating\": \"R\"}, {\"Presupuesto\": 125000000.0, \"Puntaje\": 5.9, \"Rating\": \"PG-13\"}, {\"Presupuesto\": 30000000.0, \"Puntaje\": 8.2, \"Rating\": \"PG-13\"}, {\"Presupuesto\": 175000000.0, \"Puntaje\": 6.2, \"Rating\": \"PG-13\"}, {\"Presupuesto\": 75000000.0, \"Puntaje\": 7.1, \"Rating\": \"PG\"}, {\"Presupuesto\": 180000000.0, \"Puntaje\": 7.4, \"Rating\": \"PG-13\"}, {\"Presupuesto\": 150000000.0, \"Puntaje\": 7.6, \"Rating\": \"PG\"}, {\"Presupuesto\": 90000000.0, \"Puntaje\": 6.9, \"Rating\": \"PG-13\"}, {\"Presupuesto\": 44000000.0, \"Puntaje\": 7.4, \"Rating\": \"R\"}, {\"Presupuesto\": 30000000.0, \"Puntaje\": 6.6, \"Rating\": \"PG-13\"}, {\"Presupuesto\": 22500000.0, \"Puntaje\": 7.5, \"Rating\": \"R\"}, {\"Presupuesto\": 25000000.0, \"Puntaje\": 7.8, \"Rating\": \"PG\"}, {\"Presupuesto\": 47000000.0, \"Puntaje\": 8.0, \"Rating\": \"PG-13\"}, {\"Presupuesto\": 125000000.0, \"Puntaje\": 6.5, \"Rating\": \"PG\"}, {\"Presupuesto\": 200000000.0, \"Puntaje\": 7.9, \"Rating\": \"PG-13\"}, {\"Presupuesto\": 40000000.0, \"Puntaje\": 8.2, \"Rating\": \"R\"}, {\"Presupuesto\": 58000000.0, \"Puntaje\": 8.0, \"Rating\": \"R\"}, {\"Presupuesto\": 9000000.0, \"Puntaje\": 7.3, \"Rating\": \"PG-13\"}, {\"Presupuesto\": 110000000.0, \"Puntaje\": 7.0, \"Rating\": \"PG-13\"}, {\"Presupuesto\": 250000000.0, \"Puntaje\": 6.6, \"Rating\": \"PG-13\"}, {\"Presupuesto\": 185000000.0, \"Puntaje\": 7.1, \"Rating\": \"PG-13\"}, {\"Presupuesto\": 165000000.0, \"Puntaje\": 7.5, \"Rating\": \"PG-13\"}, {\"Presupuesto\": 12000000.0, \"Puntaje\": 8.1, \"Rating\": \"PG-13\"}, {\"Presupuesto\": 250000000.0, \"Puntaje\": 7.9, \"Rating\": \"PG-13\"}, {\"Presupuesto\": 40000000.0, \"Puntaje\": 7.4, \"Rating\": \"R\"}, {\"Presupuesto\": 20000000.0, \"Puntaje\": 7.4, \"Rating\": \"PG-13\"}, {\"Presupuesto\": 45000000.0, \"Puntaje\": 6.5, \"Rating\": \"R\"}, {\"Presupuesto\": 178000000.0, \"Puntaje\": 7.0, \"Rating\": \"PG-13\"}, {\"Presupuesto\": 8500000.0, \"Puntaje\": 7.9, \"Rating\": \"R\"}, {\"Presupuesto\": 150000000.0, \"Puntaje\": 8.0, \"Rating\": \"PG\"}, {\"Presupuesto\": 85000000.0, \"Puntaje\": 7.1, \"Rating\": \"R\"}, {\"Presupuesto\": 40000000.0, \"Puntaje\": 5.6, \"Rating\": \"R\"}, {\"Presupuesto\": 1500000.0, \"Puntaje\": 7.5, \"Rating\": \"R\"}, {\"Presupuesto\": 9900000.0, \"Puntaje\": 7.2, \"Rating\": \"R\"}, {\"Presupuesto\": 12000000.0, \"Puntaje\": 7.6, \"Rating\": \"R\"}, {\"Presupuesto\": 110000000.0, \"Puntaje\": 5.7, \"Rating\": \"PG-13\"}, {\"Presupuesto\": 110000000.0, \"Puntaje\": 6.7, \"Rating\": \"PG-13\"}, {\"Presupuesto\": 46000000.0, \"Puntaje\": 7.2, \"Rating\": \"R\"}, {\"Presupuesto\": 120000000.0, \"Puntaje\": 6.7, \"Rating\": \"PG-13\"}, {\"Presupuesto\": 9000000.0, \"Puntaje\": 7.4, \"Rating\": \"R\"}, {\"Presupuesto\": 25000000.0, \"Puntaje\": 7.2, \"Rating\": \"PG-13\"}, {\"Presupuesto\": 180000000.0, \"Puntaje\": 6.3, \"Rating\": \"PG-13\"}, {\"Presupuesto\": 35000000.0, \"Puntaje\": 5.8, \"Rating\": \"R\"}, {\"Presupuesto\": 20000000.0, \"Puntaje\": 6.7, \"Rating\": \"R\"}, {\"Presupuesto\": 50000000.0, \"Puntaje\": 7.4, \"Rating\": \"R\"}, {\"Presupuesto\": 43000000.0, \"Puntaje\": 7.5, \"Rating\": \"PG-13\"}, {\"Presupuesto\": 60000000.0, \"Puntaje\": 7.5, \"Rating\": \"PG-13\"}, {\"Presupuesto\": 20000000.0, \"Puntaje\": 6.2, \"Rating\": \"R\"}, {\"Presupuesto\": 30000000.0, \"Puntaje\": 6.8, \"Rating\": \"PG\"}, {\"Presupuesto\": 40000000.0, \"Puntaje\": 6.4, \"Rating\": \"R\"}, {\"Presupuesto\": 150000000.0, \"Puntaje\": 6.0, \"Rating\": \"PG-13\"}, {\"Presupuesto\": 40000000.0, \"Puntaje\": 7.1, \"Rating\": \"R\"}, {\"Presupuesto\": 38000000.0, \"Puntaje\": 6.3, \"Rating\": \"R\"}, {\"Presupuesto\": 9000000.0, \"Puntaje\": 6.8, \"Rating\": \"R\"}, {\"Presupuesto\": 108000000.0, \"Puntaje\": 6.4, \"Rating\": \"R\"}, {\"Presupuesto\": 75000000.0, \"Puntaje\": 6.6, \"Rating\": \"PG\"}, {\"Presupuesto\": 140000000.0, \"Puntaje\": 5.4, \"Rating\": \"PG-13\"}, {\"Presupuesto\": 40000000.0, \"Puntaje\": 5.8, \"Rating\": \"PG-13\"}, {\"Presupuesto\": 60000000.0, \"Puntaje\": 6.1, \"Rating\": \"PG-13\"}, {\"Presupuesto\": 19000000.0, \"Puntaje\": 6.2, \"Rating\": \"R\"}, {\"Presupuesto\": 50000000.0, \"Puntaje\": 7.3, \"Rating\": \"R\"}, {\"Presupuesto\": 36000000.0, \"Puntaje\": 6.8, \"Rating\": \"PG-13\"}, {\"Presupuesto\": 75000000.0, \"Puntaje\": 6.2, \"Rating\": \"PG-13\"}, {\"Presupuesto\": 5000000.0, \"Puntaje\": 5.8, \"Rating\": \"PG\"}, {\"Presupuesto\": 13000000.0, \"Puntaje\": 7.4, \"Rating\": \"R\"}, {\"Presupuesto\": 144000000.0, \"Puntaje\": 5.3, \"Rating\": \"PG-13\"}, {\"Presupuesto\": 15000000.0, \"Puntaje\": 7.2, \"Rating\": \"PG-13\"}, {\"Presupuesto\": 20000000.0, \"Puntaje\": 6.6, \"Rating\": \"PG-13\"}, {\"Presupuesto\": 160000000.0, \"Puntaje\": 6.9, \"Rating\": \"PG-13\"}, {\"Presupuesto\": 33000000.0, \"Puntaje\": 6.0, \"Rating\": \"R\"}, {\"Presupuesto\": 90000000.0, \"Puntaje\": 6.5, \"Rating\": \"PG-13\"}, {\"Presupuesto\": 175000000.0, \"Puntaje\": 7.5, \"Rating\": \"PG\"}, {\"Presupuesto\": 7000000.0, \"Puntaje\": 6.2, \"Rating\": \"R\"}, {\"Presupuesto\": 110000000.0, \"Puntaje\": 7.2, \"Rating\": \"PG-13\"}, {\"Presupuesto\": 17000000.0, \"Puntaje\": 6.3, \"Rating\": \"PG-13\"}, {\"Presupuesto\": 24000000.0, \"Puntaje\": 7.2, \"Rating\": \"PG-13\"}, {\"Presupuesto\": 23000000.0, \"Puntaje\": 7.4, \"Rating\": \"PG-13\"}, {\"Presupuesto\": 5000000.0, \"Puntaje\": 6.1, \"Rating\": \"R\"}, {\"Presupuesto\": 45000000.0, \"Puntaje\": 7.4, \"Rating\": \"R\"}, {\"Presupuesto\": 4900000.0, \"Puntaje\": 6.4, \"Rating\": \"PG-13\"}, {\"Presupuesto\": 40000000.0, \"Puntaje\": 7.3, \"Rating\": \"R\"}, {\"Presupuesto\": 200000000.0, \"Puntaje\": 7.4, \"Rating\": \"PG\"}, {\"Presupuesto\": 115000000.0, \"Puntaje\": 6.1, \"Rating\": \"PG-13\"}, {\"Presupuesto\": 10000000.0, \"Puntaje\": 6.5, \"Rating\": \"R\"}, {\"Presupuesto\": 20000000.0, \"Puntaje\": 7.2, \"Rating\": \"PG-13\"}, {\"Presupuesto\": 165000000.0, \"Puntaje\": 5.3, \"Rating\": \"PG-13\"}, {\"Presupuesto\": 50000000.0, \"Puntaje\": 6.3, \"Rating\": \"PG-13\"}, {\"Presupuesto\": 8000000.0, \"Puntaje\": 5.8, \"Rating\": \"R\"}, {\"Presupuesto\": 28000000.0, \"Puntaje\": 5.8, \"Rating\": \"PG-13\"}, {\"Presupuesto\": 100000000.0, \"Puntaje\": 5.7, \"Rating\": \"PG-13\"}, {\"Presupuesto\": 31500000.0, \"Puntaje\": 6.3, \"Rating\": \"R\"}, {\"Presupuesto\": 28000000.0, \"Puntaje\": 7.0, \"Rating\": \"R\"}, {\"Presupuesto\": 27500000.0, \"Puntaje\": 6.0, \"Rating\": \"R\"}, {\"Presupuesto\": 70000000.0, \"Puntaje\": 6.8, \"Rating\": \"PG\"}, {\"Presupuesto\": 6000000.0, \"Puntaje\": 6.2, \"Rating\": \"R\"}, {\"Presupuesto\": 25000000.0, \"Puntaje\": 5.8, \"Rating\": \"PG-13\"}, {\"Presupuesto\": 3000000.0, \"Puntaje\": 7.0, \"Rating\": \"R\"}, {\"Presupuesto\": 38000000.0, \"Puntaje\": 5.2, \"Rating\": \"PG-13\"}, {\"Presupuesto\": 135000000.0, \"Puntaje\": 6.0, \"Rating\": \"PG-13\"}, {\"Presupuesto\": 60000000.0, \"Puntaje\": 5.9, \"Rating\": \"R\"}, {\"Presupuesto\": 9000000.0, \"Puntaje\": 6.1, \"Rating\": \"PG-13\"}, {\"Presupuesto\": 35000000.0, \"Puntaje\": 5.7, \"Rating\": \"R\"}, {\"Presupuesto\": 60000000.0, \"Puntaje\": 7.8, \"Rating\": \"PG\"}, {\"Presupuesto\": 35000000.0, \"Puntaje\": 6.6, \"Rating\": \"R\"}, {\"Presupuesto\": 20000000.0, \"Puntaje\": 6.3, \"Rating\": \"R\"}, {\"Presupuesto\": 22000000.0, \"Puntaje\": 6.3, \"Rating\": \"PG-13\"}, {\"Presupuesto\": 8000000.0, \"Puntaje\": 6.0, \"Rating\": \"PG-13\"}, {\"Presupuesto\": 6000000.0, \"Puntaje\": 6.8, \"Rating\": \"R\"}, {\"Presupuesto\": 30000000.0, \"Puntaje\": 6.7, \"Rating\": \"PG-13\"}, {\"Presupuesto\": 170000000.0, \"Puntaje\": 6.2, \"Rating\": \"PG\"}, {\"Presupuesto\": 29000000.0, \"Puntaje\": 6.9, \"Rating\": \"PG-13\"}, {\"Presupuesto\": 18000000.0, \"Puntaje\": 6.7, \"Rating\": \"PG-13\"}, {\"Presupuesto\": 10000000.0, \"Puntaje\": 6.0, \"Rating\": \"R\"}, {\"Presupuesto\": 35000000.0, \"Puntaje\": 6.2, \"Rating\": \"R\"}, {\"Presupuesto\": 105000000.0, \"Puntaje\": 5.7, \"Rating\": \"PG\"}, {\"Presupuesto\": 50000000.0, \"Puntaje\": 4.7, \"Rating\": \"PG-13\"}, {\"Presupuesto\": 10000000.0, \"Puntaje\": 7.0, \"Rating\": \"R\"}, {\"Presupuesto\": 40000000.0, \"Puntaje\": 5.6, \"Rating\": \"R\"}, {\"Presupuesto\": 125000000.0, \"Puntaje\": 5.7, \"Rating\": \"PG\"}, {\"Presupuesto\": 45000000.0, \"Puntaje\": 5.8, \"Rating\": \"R\"}, {\"Presupuesto\": 7000000.0, \"Puntaje\": 7.4, \"Rating\": \"R\"}, {\"Presupuesto\": 140000000.0, \"Puntaje\": 6.4, \"Rating\": \"PG\"}, {\"Presupuesto\": 80000000.0, \"Puntaje\": 6.8, \"Rating\": \"PG-13\"}, {\"Presupuesto\": 20000000.0, \"Puntaje\": 6.7, \"Rating\": \"R\"}, {\"Presupuesto\": 38000000.0, \"Puntaje\": 6.1, \"Rating\": \"R\"}, {\"Presupuesto\": 10000000.0, \"Puntaje\": 4.7, \"Rating\": \"PG-13\"}, {\"Presupuesto\": 250000.0, \"Puntaje\": 5.9, \"Rating\": \"R\"}, {\"Presupuesto\": 73000000.0, \"Puntaje\": 6.3, \"Rating\": \"PG\"}, {\"Presupuesto\": 1500000.0, \"Puntaje\": 5.0, \"Rating\": \"R\"}, {\"Presupuesto\": 15000000.0, \"Puntaje\": 5.7, \"Rating\": \"R\"}, {\"Presupuesto\": 40000000.0, \"Puntaje\": 6.3, \"Rating\": \"R\"}, {\"Presupuesto\": 65000000.0, \"Puntaje\": 6.7, \"Rating\": \"PG\"}, {\"Presupuesto\": 27000000.0, \"Puntaje\": 6.5, \"Rating\": \"R\"}, {\"Presupuesto\": 50000000.0, \"Puntaje\": 6.9, \"Rating\": \"R\"}, {\"Presupuesto\": 25000000.0, \"Puntaje\": 5.6, \"Rating\": \"PG-13\"}, {\"Presupuesto\": 25000000.0, \"Puntaje\": 5.7, \"Rating\": \"PG-13\"}, {\"Presupuesto\": 145000000.0, \"Puntaje\": 7.1, \"Rating\": \"PG\"}, {\"Presupuesto\": 9000000.0, \"Puntaje\": 7.0, \"Rating\": \"PG-13\"}, {\"Presupuesto\": 20000000.0, \"Puntaje\": 4.7, \"Rating\": \"PG-13\"}, {\"Presupuesto\": 10000000.0, \"Puntaje\": 4.8, \"Rating\": \"PG-13\"}, {\"Presupuesto\": 35000000.0, \"Puntaje\": 6.6, \"Rating\": \"R\"}, {\"Presupuesto\": 10000000.0, \"Puntaje\": 4.6, \"Rating\": \"PG-13\"}, {\"Presupuesto\": 8000000.0, \"Puntaje\": 7.4, \"Rating\": \"UNRATED\"}, {\"Presupuesto\": 14000000.0, \"Puntaje\": 6.8, \"Rating\": \"PG-13\"}, {\"Presupuesto\": 8500000.0, \"Puntaje\": 6.3, \"Rating\": \"R\"}, {\"Presupuesto\": 5000000.0, \"Puntaje\": 5.0, \"Rating\": \"R\"}, {\"Presupuesto\": 30000000.0, \"Puntaje\": 6.1, \"Rating\": \"R\"}, {\"Presupuesto\": 20000000.0, \"Puntaje\": 6.6, \"Rating\": \"R\"}, {\"Presupuesto\": 30000000.0, \"Puntaje\": 5.3, \"Rating\": \"PG\"}, {\"Presupuesto\": 21500000.0, \"Puntaje\": 5.7, \"Rating\": \"PG-13\"}, {\"Presupuesto\": 15000000.0, \"Puntaje\": 6.3, \"Rating\": \"R\"}, {\"Presupuesto\": 13000000.0, \"Puntaje\": 7.0, \"Rating\": \"PG\"}, {\"Presupuesto\": 29000000.0, \"Puntaje\": 5.4, \"Rating\": \"R\"}, {\"Presupuesto\": 26000000.0, \"Puntaje\": 5.5, \"Rating\": \"R\"}, {\"Presupuesto\": 130000.0, \"Puntaje\": 6.9, \"Rating\": \"NOT RATED\"}, {\"Presupuesto\": 8000000.0, \"Puntaje\": 7.7, \"Rating\": \"PG-13\"}, {\"Presupuesto\": 900000.0, \"Puntaje\": 6.0, \"Rating\": \"R\"}, {\"Presupuesto\": 15000000.0, \"Puntaje\": 3.9, \"Rating\": \"R\"}, {\"Presupuesto\": 10000000.0, \"Puntaje\": 6.6, \"Rating\": \"PG-13\"}, {\"Presupuesto\": 20000000.0, \"Puntaje\": 6.3, \"Rating\": \"R\"}, {\"Presupuesto\": 18000000.0, \"Puntaje\": 6.0, \"Rating\": \"PG-13\"}, {\"Presupuesto\": 17000000.0, \"Puntaje\": 6.0, \"Rating\": \"PG-13\"}, {\"Presupuesto\": 5000000.0, \"Puntaje\": 5.2, \"Rating\": \"PG-13\"}, {\"Presupuesto\": 4000000.0, \"Puntaje\": 4.4, \"Rating\": \"PG-13\"}, {\"Presupuesto\": 3000000.0, \"Puntaje\": 6.5, \"Rating\": \"PG\"}, {\"Presupuesto\": 3800000.0, \"Puntaje\": 6.5, \"Rating\": \"PG-13\"}, {\"Presupuesto\": 8500000.0, \"Puntaje\": 6.1, \"Rating\": \"PG\"}, {\"Presupuesto\": 20000000.0, \"Puntaje\": 6.3, \"Rating\": \"PG-13\"}, {\"Presupuesto\": 3500000.0, \"Puntaje\": 6.5, \"Rating\": \"R\"}]}}, {\"mode\": \"vega-lite\"});\n",
              "</script>"
            ]
          },
          "metadata": {
            "tags": []
          },
          "execution_count": 11
        }
      ]
    },
    {
      "cell_type": "markdown",
      "metadata": {
        "id": "oCnlAyx4Gcgs",
        "colab_type": "text"
      },
      "source": [
        "Referencias:\n",
        "https://www.analyticslane.com/2019/06/21/seleccionar-filas-y-columnas-en-pandas-con-iloc-y-loc/#comment-188\n",
        "https://www.analyticslane.com/2019/03/25/como-eliminar-columnas-y-filas-en-un-dataframe-pandas/\n",
        "http://exponentis.es/como-eliminar-filas-de-un-dataframe-de-python-pandas-segun-una-condicion\n",
        "https://altair-viz.github.io/gallery/dot_dash_plot.html"
      ]
    },
    {
      "cell_type": "markdown",
      "metadata": {
        "id": "evugUAFhL1_Z",
        "colab_type": "text"
      },
      "source": [
        "## \"¿Dirías que el presupuesto es determinante del puntaje?\" \n",
        "\n",
        "Claramente el presupuesto no determina el puntaje que se le otorga a las peliculas, ya que se puede ver en el gráfico que las con mayor presupuesto son, la mayoría, evaluadas igual que las de menor presupuesto. Cabe mencionar eso sí, que las peliculas en las cuales se invirtió un mayor presupuesto están en un intervalo de puntaje de [5,10]. Por lo tanto, se puede decir que generalmente, a mayor presupuesto se evita tener un mal puntaje, pero eso no impide que las peliculas de menor presupuesto obtengan un buen puntaje."
      ]
    },
    {
      "cell_type": "markdown",
      "metadata": {
        "id": "hNqYRi4fL1LM",
        "colab_type": "text"
      },
      "source": [
        "Pregunta 4"
      ]
    },
    {
      "cell_type": "code",
      "metadata": {
        "id": "afIWJ0GfL0aP",
        "colab_type": "code",
        "colab": {
          "base_uri": "https://localhost:8080/",
          "height": 419
        },
        "outputId": "81d62194-fe71-4509-f67e-377ea6798984"
      },
      "source": [
        "import datetime\n",
        "z = df.loc[:,[\"released\",\"score\"]]\n",
        "z = pd.DataFrame(z)\n",
        "z = z.rename(columns ={\"score\":\"Puntaje\"})\n",
        "z['released'] =pd.to_datetime(z['released'])\n",
        "z\n"
      ],
      "execution_count": 12,
      "outputs": [
        {
          "output_type": "execute_result",
          "data": {
            "text/html": [
              "<div>\n",
              "<style scoped>\n",
              "    .dataframe tbody tr th:only-of-type {\n",
              "        vertical-align: middle;\n",
              "    }\n",
              "\n",
              "    .dataframe tbody tr th {\n",
              "        vertical-align: top;\n",
              "    }\n",
              "\n",
              "    .dataframe thead th {\n",
              "        text-align: right;\n",
              "    }\n",
              "</style>\n",
              "<table border=\"1\" class=\"dataframe\">\n",
              "  <thead>\n",
              "    <tr style=\"text-align: right;\">\n",
              "      <th></th>\n",
              "      <th>released</th>\n",
              "      <th>Puntaje</th>\n",
              "    </tr>\n",
              "  </thead>\n",
              "  <tbody>\n",
              "    <tr>\n",
              "      <th>0</th>\n",
              "      <td>1986-08-22</td>\n",
              "      <td>8.1</td>\n",
              "    </tr>\n",
              "    <tr>\n",
              "      <th>1</th>\n",
              "      <td>1986-06-11</td>\n",
              "      <td>7.8</td>\n",
              "    </tr>\n",
              "    <tr>\n",
              "      <th>2</th>\n",
              "      <td>1986-05-16</td>\n",
              "      <td>6.9</td>\n",
              "    </tr>\n",
              "    <tr>\n",
              "      <th>3</th>\n",
              "      <td>1986-07-18</td>\n",
              "      <td>8.4</td>\n",
              "    </tr>\n",
              "    <tr>\n",
              "      <th>4</th>\n",
              "      <td>1986-08-01</td>\n",
              "      <td>6.9</td>\n",
              "    </tr>\n",
              "    <tr>\n",
              "      <th>...</th>\n",
              "      <td>...</td>\n",
              "      <td>...</td>\n",
              "    </tr>\n",
              "    <tr>\n",
              "      <th>6815</th>\n",
              "      <td>2016-07-22</td>\n",
              "      <td>5.4</td>\n",
              "    </tr>\n",
              "    <tr>\n",
              "      <th>6816</th>\n",
              "      <td>2016-05-06</td>\n",
              "      <td>4.9</td>\n",
              "    </tr>\n",
              "    <tr>\n",
              "      <th>6817</th>\n",
              "      <td>2016-07-25</td>\n",
              "      <td>6.5</td>\n",
              "    </tr>\n",
              "    <tr>\n",
              "      <th>6818</th>\n",
              "      <td>2016-12-02</td>\n",
              "      <td>6.2</td>\n",
              "    </tr>\n",
              "    <tr>\n",
              "      <th>6819</th>\n",
              "      <td>2017-07-28</td>\n",
              "      <td>6.7</td>\n",
              "    </tr>\n",
              "  </tbody>\n",
              "</table>\n",
              "<p>6820 rows × 2 columns</p>\n",
              "</div>"
            ],
            "text/plain": [
              "       released  Puntaje\n",
              "0    1986-08-22      8.1\n",
              "1    1986-06-11      7.8\n",
              "2    1986-05-16      6.9\n",
              "3    1986-07-18      8.4\n",
              "4    1986-08-01      6.9\n",
              "...         ...      ...\n",
              "6815 2016-07-22      5.4\n",
              "6816 2016-05-06      4.9\n",
              "6817 2016-07-25      6.5\n",
              "6818 2016-12-02      6.2\n",
              "6819 2017-07-28      6.7\n",
              "\n",
              "[6820 rows x 2 columns]"
            ]
          },
          "metadata": {
            "tags": []
          },
          "execution_count": 12
        }
      ]
    },
    {
      "cell_type": "code",
      "metadata": {
        "id": "pfb8dEz3PtyS",
        "colab_type": "code",
        "colab": {
          "base_uri": "https://localhost:8080/",
          "height": 255
        },
        "outputId": "157a01a1-d80c-40c7-aa4a-ce49a55a7eb3"
      },
      "source": [
        "z.groupby(z['released'].dt.strftime('%B'))['Puntaje'].median().sort_values()\n"
      ],
      "execution_count": 13,
      "outputs": [
        {
          "output_type": "execute_result",
          "data": {
            "text/plain": [
              "released\n",
              "April        6.3\n",
              "August       6.3\n",
              "February     6.4\n",
              "July         6.4\n",
              "March        6.4\n",
              "September    6.4\n",
              "January      6.5\n",
              "June         6.5\n",
              "May          6.5\n",
              "October      6.5\n",
              "November     6.6\n",
              "December     6.7\n",
              "Name: Puntaje, dtype: float64"
            ]
          },
          "metadata": {
            "tags": []
          },
          "execution_count": 13
        }
      ]
    },
    {
      "cell_type": "code",
      "metadata": {
        "id": "gFqorMSMY3J0",
        "colab_type": "code",
        "colab": {
          "base_uri": "https://localhost:8080/",
          "height": 389
        },
        "outputId": "8e595124-517e-4195-aa12-81965d73f2fb"
      },
      "source": [
        "source = pd.DataFrame({\n",
        "    'Mes': ['0.1', '0.2', '0.3', '0.4', '0.5', '0.6', '0.7', '0.8', '0.9', '10', '11', '12'],\n",
        "    'Puntaje': [6.5, 6.4, 6.4, 6.3, 6.5, 6.5, 6.4, 6.3, 6.4, 6.5,6.6,6.7]\n",
        "})\n",
        "\n",
        "alt.Chart(source).mark_bar().encode(\n",
        "    x='Mes',\n",
        "    y='Puntaje'\n",
        ").interactive().properties(\n",
        "    title='Gráfico 4: ¿Importa el mes?'\n",
        ")"
      ],
      "execution_count": 14,
      "outputs": [
        {
          "output_type": "execute_result",
          "data": {
            "text/plain": [
              "alt.Chart(...)"
            ],
            "text/html": [
              "\n",
              "<div id=\"altair-viz-d0d2ddef70a34939b5ae35a84e033d4a\"></div>\n",
              "<script type=\"text/javascript\">\n",
              "  (function(spec, embedOpt){\n",
              "    let outputDiv = document.currentScript.previousElementSibling;\n",
              "    if (outputDiv.id !== \"altair-viz-d0d2ddef70a34939b5ae35a84e033d4a\") {\n",
              "      outputDiv = document.getElementById(\"altair-viz-d0d2ddef70a34939b5ae35a84e033d4a\");\n",
              "    }\n",
              "    const paths = {\n",
              "      \"vega\": \"https://cdn.jsdelivr.net/npm//vega@5?noext\",\n",
              "      \"vega-lib\": \"https://cdn.jsdelivr.net/npm//vega-lib?noext\",\n",
              "      \"vega-lite\": \"https://cdn.jsdelivr.net/npm//vega-lite@4.8.1?noext\",\n",
              "      \"vega-embed\": \"https://cdn.jsdelivr.net/npm//vega-embed@6?noext\",\n",
              "    };\n",
              "\n",
              "    function loadScript(lib) {\n",
              "      return new Promise(function(resolve, reject) {\n",
              "        var s = document.createElement('script');\n",
              "        s.src = paths[lib];\n",
              "        s.async = true;\n",
              "        s.onload = () => resolve(paths[lib]);\n",
              "        s.onerror = () => reject(`Error loading script: ${paths[lib]}`);\n",
              "        document.getElementsByTagName(\"head\")[0].appendChild(s);\n",
              "      });\n",
              "    }\n",
              "\n",
              "    function showError(err) {\n",
              "      outputDiv.innerHTML = `<div class=\"error\" style=\"color:red;\">${err}</div>`;\n",
              "      throw err;\n",
              "    }\n",
              "\n",
              "    function displayChart(vegaEmbed) {\n",
              "      vegaEmbed(outputDiv, spec, embedOpt)\n",
              "        .catch(err => showError(`Javascript Error: ${err.message}<br>This usually means there's a typo in your chart specification. See the javascript console for the full traceback.`));\n",
              "    }\n",
              "\n",
              "    if(typeof define === \"function\" && define.amd) {\n",
              "      requirejs.config({paths});\n",
              "      require([\"vega-embed\"], displayChart, err => showError(`Error loading script: ${err.message}`));\n",
              "    } else if (typeof vegaEmbed === \"function\") {\n",
              "      displayChart(vegaEmbed);\n",
              "    } else {\n",
              "      loadScript(\"vega\")\n",
              "        .then(() => loadScript(\"vega-lite\"))\n",
              "        .then(() => loadScript(\"vega-embed\"))\n",
              "        .catch(showError)\n",
              "        .then(() => displayChart(vegaEmbed));\n",
              "    }\n",
              "  })({\"config\": {\"view\": {\"continuousWidth\": 400, \"continuousHeight\": 300}}, \"data\": {\"name\": \"data-b3584da0625d53e981e321e9699e3fe2\"}, \"mark\": \"bar\", \"encoding\": {\"x\": {\"type\": \"nominal\", \"field\": \"Mes\"}, \"y\": {\"type\": \"quantitative\", \"field\": \"Puntaje\"}}, \"selection\": {\"selector004\": {\"type\": \"interval\", \"bind\": \"scales\", \"encodings\": [\"x\", \"y\"]}}, \"title\": \"Gr\\u00e1fico 4: \\u00bfImporta el mes?\", \"$schema\": \"https://vega.github.io/schema/vega-lite/v4.8.1.json\", \"datasets\": {\"data-b3584da0625d53e981e321e9699e3fe2\": [{\"Mes\": \"0.1\", \"Puntaje\": 6.5}, {\"Mes\": \"0.2\", \"Puntaje\": 6.4}, {\"Mes\": \"0.3\", \"Puntaje\": 6.4}, {\"Mes\": \"0.4\", \"Puntaje\": 6.3}, {\"Mes\": \"0.5\", \"Puntaje\": 6.5}, {\"Mes\": \"0.6\", \"Puntaje\": 6.5}, {\"Mes\": \"0.7\", \"Puntaje\": 6.4}, {\"Mes\": \"0.8\", \"Puntaje\": 6.3}, {\"Mes\": \"0.9\", \"Puntaje\": 6.4}, {\"Mes\": \"10\", \"Puntaje\": 6.5}, {\"Mes\": \"11\", \"Puntaje\": 6.6}, {\"Mes\": \"12\", \"Puntaje\": 6.7}]}}, {\"mode\": \"vega-lite\"});\n",
              "</script>"
            ]
          },
          "metadata": {
            "tags": []
          },
          "execution_count": 14
        }
      ]
    },
    {
      "cell_type": "markdown",
      "metadata": {
        "id": "JTfmCXIJY3po",
        "colab_type": "text"
      },
      "source": [
        "Referencias:\n",
        "https://www.it-swarm.dev/es/python/como-puedo-agrupar-por-mes-desde-un-campo-de-fecha-usando-python-pandas/833749839/\n",
        "https://pandas.pydata.org/Pandas_Cheat_Sheet.pdf"
      ]
    },
    {
      "cell_type": "markdown",
      "metadata": {
        "id": "eU7-pkNLd3u1",
        "colab_type": "text"
      },
      "source": [
        "### PARTE 2\n"
      ]
    },
    {
      "cell_type": "code",
      "metadata": {
        "id": "vgTr-tvbehW0",
        "colab_type": "code",
        "colab": {
          "base_uri": "https://localhost:8080/",
          "height": 292
        },
        "outputId": "3632db1d-fa29-475c-cd6c-020b8a6b20c8"
      },
      "source": [
        "!pip install wikipedia"
      ],
      "execution_count": 16,
      "outputs": [
        {
          "output_type": "stream",
          "text": [
            "Collecting wikipedia\n",
            "  Downloading https://files.pythonhosted.org/packages/67/35/25e68fbc99e672127cc6fbb14b8ec1ba3dfef035bf1e4c90f78f24a80b7d/wikipedia-1.4.0.tar.gz\n",
            "Requirement already satisfied: beautifulsoup4 in /usr/local/lib/python3.6/dist-packages (from wikipedia) (4.6.3)\n",
            "Requirement already satisfied: requests<3.0.0,>=2.0.0 in /usr/local/lib/python3.6/dist-packages (from wikipedia) (2.21.0)\n",
            "Requirement already satisfied: certifi>=2017.4.17 in /usr/local/lib/python3.6/dist-packages (from requests<3.0.0,>=2.0.0->wikipedia) (2019.11.28)\n",
            "Requirement already satisfied: chardet<3.1.0,>=3.0.2 in /usr/local/lib/python3.6/dist-packages (from requests<3.0.0,>=2.0.0->wikipedia) (3.0.4)\n",
            "Requirement already satisfied: idna<2.9,>=2.5 in /usr/local/lib/python3.6/dist-packages (from requests<3.0.0,>=2.0.0->wikipedia) (2.8)\n",
            "Requirement already satisfied: urllib3<1.25,>=1.21.1 in /usr/local/lib/python3.6/dist-packages (from requests<3.0.0,>=2.0.0->wikipedia) (1.24.3)\n",
            "Building wheels for collected packages: wikipedia\n",
            "  Building wheel for wikipedia (setup.py) ... \u001b[?25l\u001b[?25hdone\n",
            "  Created wheel for wikipedia: filename=wikipedia-1.4.0-cp36-none-any.whl size=11686 sha256=7f8d4beef113b89bd560cb7193820a2d68ea3fa2f0dda57461bb69a135254268\n",
            "  Stored in directory: /root/.cache/pip/wheels/87/2a/18/4e471fd96d12114d16fe4a446d00c3b38fb9efcb744bd31f4a\n",
            "Successfully built wikipedia\n",
            "Installing collected packages: wikipedia\n",
            "Successfully installed wikipedia-1.4.0\n"
          ],
          "name": "stdout"
        }
      ]
    },
    {
      "cell_type": "code",
      "metadata": {
        "id": "VZdEb4OBfWNg",
        "colab_type": "code",
        "colab": {
          "base_uri": "https://localhost:8080/",
          "height": 360
        },
        "outputId": "1e043e9a-7b88-46f0-8ee2-f74a1e005948"
      },
      "source": [
        "top5 = df.nlargest(5,\"score\")\n",
        "top5"
      ],
      "execution_count": 17,
      "outputs": [
        {
          "output_type": "execute_result",
          "data": {
            "text/html": [
              "<div>\n",
              "<style scoped>\n",
              "    .dataframe tbody tr th:only-of-type {\n",
              "        vertical-align: middle;\n",
              "    }\n",
              "\n",
              "    .dataframe tbody tr th {\n",
              "        vertical-align: top;\n",
              "    }\n",
              "\n",
              "    .dataframe thead th {\n",
              "        text-align: right;\n",
              "    }\n",
              "</style>\n",
              "<table border=\"1\" class=\"dataframe\">\n",
              "  <thead>\n",
              "    <tr style=\"text-align: right;\">\n",
              "      <th></th>\n",
              "      <th>budget</th>\n",
              "      <th>company</th>\n",
              "      <th>country</th>\n",
              "      <th>director</th>\n",
              "      <th>genre</th>\n",
              "      <th>gross</th>\n",
              "      <th>name</th>\n",
              "      <th>rating</th>\n",
              "      <th>released</th>\n",
              "      <th>runtime</th>\n",
              "      <th>score</th>\n",
              "      <th>star</th>\n",
              "      <th>votes</th>\n",
              "      <th>writer</th>\n",
              "      <th>year</th>\n",
              "    </tr>\n",
              "  </thead>\n",
              "  <tbody>\n",
              "    <tr>\n",
              "      <th>1760</th>\n",
              "      <td>25000000.0</td>\n",
              "      <td>Castle Rock Entertainment</td>\n",
              "      <td>USA</td>\n",
              "      <td>Frank Darabont</td>\n",
              "      <td>Crime</td>\n",
              "      <td>28341469.0</td>\n",
              "      <td>The Shawshank Redemption</td>\n",
              "      <td>R</td>\n",
              "      <td>1994-10-14</td>\n",
              "      <td>142</td>\n",
              "      <td>9.3</td>\n",
              "      <td>Tim Robbins</td>\n",
              "      <td>1861666</td>\n",
              "      <td>Stephen King</td>\n",
              "      <td>1994</td>\n",
              "    </tr>\n",
              "    <tr>\n",
              "      <th>4840</th>\n",
              "      <td>185000000.0</td>\n",
              "      <td>Warner Bros.</td>\n",
              "      <td>USA</td>\n",
              "      <td>Christopher Nolan</td>\n",
              "      <td>Action</td>\n",
              "      <td>534858444.0</td>\n",
              "      <td>The Dark Knight</td>\n",
              "      <td>PG-13</td>\n",
              "      <td>2008-07-18</td>\n",
              "      <td>152</td>\n",
              "      <td>9.0</td>\n",
              "      <td>Christian Bale</td>\n",
              "      <td>1839571</td>\n",
              "      <td>Jonathan Nolan</td>\n",
              "      <td>2008</td>\n",
              "    </tr>\n",
              "    <tr>\n",
              "      <th>1542</th>\n",
              "      <td>22000000.0</td>\n",
              "      <td>Universal Pictures</td>\n",
              "      <td>USA</td>\n",
              "      <td>Steven Spielberg</td>\n",
              "      <td>Biography</td>\n",
              "      <td>96067179.0</td>\n",
              "      <td>Schindler's List</td>\n",
              "      <td>R</td>\n",
              "      <td>1994-02-04</td>\n",
              "      <td>195</td>\n",
              "      <td>8.9</td>\n",
              "      <td>Liam Neeson</td>\n",
              "      <td>956124</td>\n",
              "      <td>Thomas Keneally</td>\n",
              "      <td>1993</td>\n",
              "    </tr>\n",
              "    <tr>\n",
              "      <th>1761</th>\n",
              "      <td>8000000.0</td>\n",
              "      <td>Miramax</td>\n",
              "      <td>USA</td>\n",
              "      <td>Quentin Tarantino</td>\n",
              "      <td>Crime</td>\n",
              "      <td>107928762.0</td>\n",
              "      <td>Pulp Fiction</td>\n",
              "      <td>R</td>\n",
              "      <td>1994-10-14</td>\n",
              "      <td>154</td>\n",
              "      <td>8.9</td>\n",
              "      <td>John Travolta</td>\n",
              "      <td>1456787</td>\n",
              "      <td>Quentin Tarantino</td>\n",
              "      <td>1994</td>\n",
              "    </tr>\n",
              "    <tr>\n",
              "      <th>3743</th>\n",
              "      <td>94000000.0</td>\n",
              "      <td>New Line Cinema</td>\n",
              "      <td>USA</td>\n",
              "      <td>Peter Jackson</td>\n",
              "      <td>Adventure</td>\n",
              "      <td>377845905.0</td>\n",
              "      <td>The Lord of the Rings: The Return of the King</td>\n",
              "      <td>PG-13</td>\n",
              "      <td>2003-12-17</td>\n",
              "      <td>201</td>\n",
              "      <td>8.9</td>\n",
              "      <td>Elijah Wood</td>\n",
              "      <td>1332020</td>\n",
              "      <td>J.R.R. Tolkien</td>\n",
              "      <td>2003</td>\n",
              "    </tr>\n",
              "  </tbody>\n",
              "</table>\n",
              "</div>"
            ],
            "text/plain": [
              "           budget                    company  ...             writer  year\n",
              "1760   25000000.0  Castle Rock Entertainment  ...       Stephen King  1994\n",
              "4840  185000000.0               Warner Bros.  ...     Jonathan Nolan  2008\n",
              "1542   22000000.0         Universal Pictures  ...    Thomas Keneally  1993\n",
              "1761    8000000.0                    Miramax  ...  Quentin Tarantino  1994\n",
              "3743   94000000.0            New Line Cinema  ...     J.R.R. Tolkien  2003\n",
              "\n",
              "[5 rows x 15 columns]"
            ]
          },
          "metadata": {
            "tags": []
          },
          "execution_count": 17
        }
      ]
    },
    {
      "cell_type": "code",
      "metadata": {
        "id": "YKlXU5VlgBVu",
        "colab_type": "code",
        "colab": {
          "base_uri": "https://localhost:8080/",
          "height": 204
        },
        "outputId": "d30a645d-ca44-4fc0-96c0-8d0fae30f801"
      },
      "source": [
        "df2 = top5.loc[:,[\"name\"]]\n",
        "df2 = pd.DataFrame(df2)\n",
        "df2 = df2.rename(columns ={\"name\": \"Nombre\"})\n",
        "df2"
      ],
      "execution_count": 23,
      "outputs": [
        {
          "output_type": "execute_result",
          "data": {
            "text/html": [
              "<div>\n",
              "<style scoped>\n",
              "    .dataframe tbody tr th:only-of-type {\n",
              "        vertical-align: middle;\n",
              "    }\n",
              "\n",
              "    .dataframe tbody tr th {\n",
              "        vertical-align: top;\n",
              "    }\n",
              "\n",
              "    .dataframe thead th {\n",
              "        text-align: right;\n",
              "    }\n",
              "</style>\n",
              "<table border=\"1\" class=\"dataframe\">\n",
              "  <thead>\n",
              "    <tr style=\"text-align: right;\">\n",
              "      <th></th>\n",
              "      <th>Nombre</th>\n",
              "    </tr>\n",
              "  </thead>\n",
              "  <tbody>\n",
              "    <tr>\n",
              "      <th>1760</th>\n",
              "      <td>The Shawshank Redemption</td>\n",
              "    </tr>\n",
              "    <tr>\n",
              "      <th>4840</th>\n",
              "      <td>The Dark Knight</td>\n",
              "    </tr>\n",
              "    <tr>\n",
              "      <th>1542</th>\n",
              "      <td>Schindler's List</td>\n",
              "    </tr>\n",
              "    <tr>\n",
              "      <th>1761</th>\n",
              "      <td>Pulp Fiction</td>\n",
              "    </tr>\n",
              "    <tr>\n",
              "      <th>3743</th>\n",
              "      <td>The Lord of the Rings: The Return of the King</td>\n",
              "    </tr>\n",
              "  </tbody>\n",
              "</table>\n",
              "</div>"
            ],
            "text/plain": [
              "                                             Nombre\n",
              "1760                       The Shawshank Redemption\n",
              "4840                                The Dark Knight\n",
              "1542                               Schindler's List\n",
              "1761                                   Pulp Fiction\n",
              "3743  The Lord of the Rings: The Return of the King"
            ]
          },
          "metadata": {
            "tags": []
          },
          "execution_count": 23
        }
      ]
    },
    {
      "cell_type": "code",
      "metadata": {
        "id": "uRtVVC49hkg9",
        "colab_type": "code",
        "colab": {
          "base_uri": "https://localhost:8080/",
          "height": 204
        },
        "outputId": "a9831b75-8b56-4370-822a-f2e434ceecb2"
      },
      "source": [
        "import wikipedia\n",
        "s1 = wikipedia.summary('The Shawshank Redemption')\n",
        "s2 = wikipedia.summary('The Dark Knight (film)')\n",
        "s3 = wikipedia.summary(\"Schindler's List\")\n",
        "s4 = wikipedia.summary('Pulp Fiction')\n",
        "s5 = wikipedia.summary('The Lord of the Rings: The Return of the King')\n",
        "summaries = [s1,s2,s3,s4,s5]\n",
        "nombres = ['The Shawshank Redemption', 'The Dark Knight', \"Schindler's List\", 'Pulp Fiction', 'The Lord of the Rings: The Return of the King']\n",
        "df = pd.DataFrame(nombres, columns=[\"Nombre\"])\n",
        "df[\"Resumen\"] = summaries\n",
        "df"
      ],
      "execution_count": 27,
      "outputs": [
        {
          "output_type": "execute_result",
          "data": {
            "text/html": [
              "<div>\n",
              "<style scoped>\n",
              "    .dataframe tbody tr th:only-of-type {\n",
              "        vertical-align: middle;\n",
              "    }\n",
              "\n",
              "    .dataframe tbody tr th {\n",
              "        vertical-align: top;\n",
              "    }\n",
              "\n",
              "    .dataframe thead th {\n",
              "        text-align: right;\n",
              "    }\n",
              "</style>\n",
              "<table border=\"1\" class=\"dataframe\">\n",
              "  <thead>\n",
              "    <tr style=\"text-align: right;\">\n",
              "      <th></th>\n",
              "      <th>Nombre</th>\n",
              "      <th>Resumen</th>\n",
              "    </tr>\n",
              "  </thead>\n",
              "  <tbody>\n",
              "    <tr>\n",
              "      <th>0</th>\n",
              "      <td>The Shawshank Redemption</td>\n",
              "      <td>The Shawshank Redemption is a 1994 American dr...</td>\n",
              "    </tr>\n",
              "    <tr>\n",
              "      <th>1</th>\n",
              "      <td>The Dark Knight</td>\n",
              "      <td>The Dark Knight is a 2008 superhero film direc...</td>\n",
              "    </tr>\n",
              "    <tr>\n",
              "      <th>2</th>\n",
              "      <td>Schindler's List</td>\n",
              "      <td>Schindler's List is a 1993 American historical...</td>\n",
              "    </tr>\n",
              "    <tr>\n",
              "      <th>3</th>\n",
              "      <td>Pulp Fiction</td>\n",
              "      <td>Pulp Fiction is a 1994 American crime film wri...</td>\n",
              "    </tr>\n",
              "    <tr>\n",
              "      <th>4</th>\n",
              "      <td>The Lord of the Rings: The Return of the King</td>\n",
              "      <td>The Lord of the Rings: The Return of the King ...</td>\n",
              "    </tr>\n",
              "  </tbody>\n",
              "</table>\n",
              "</div>"
            ],
            "text/plain": [
              "                                          Nombre                                            Resumen\n",
              "0                       The Shawshank Redemption  The Shawshank Redemption is a 1994 American dr...\n",
              "1                                The Dark Knight  The Dark Knight is a 2008 superhero film direc...\n",
              "2                               Schindler's List  Schindler's List is a 1993 American historical...\n",
              "3                                   Pulp Fiction  Pulp Fiction is a 1994 American crime film wri...\n",
              "4  The Lord of the Rings: The Return of the King  The Lord of the Rings: The Return of the King ..."
            ]
          },
          "metadata": {
            "tags": []
          },
          "execution_count": 27
        }
      ]
    },
    {
      "cell_type": "code",
      "metadata": {
        "id": "XCmbpGHFmAiG",
        "colab_type": "code",
        "colab": {
          "base_uri": "https://localhost:8080/",
          "height": 54
        },
        "outputId": "7e73f234-0163-4dc7-edb7-6f15903c9c49"
      },
      "source": [
        "df.iloc[df.index.get_loc(0), 1]\n",
        "## lo usé para verificar que el summary efectivamente este completo, ya que me entró la duda viendo los \"...\" en el dataFrame\n",
        "## ref: https://www.interactivechaos.com/manual/tutorial-de-pandas/dataframes-seleccion-con-indices-y-etiquetas"
      ],
      "execution_count": 30,
      "outputs": [
        {
          "output_type": "execute_result",
          "data": {
            "text/plain": [
              "'The Shawshank Redemption is a 1994 American drama film written and directed by Frank Darabont, based on the 1982 Stephen King novella Rita Hayworth and Shawshank Redemption. It tells the story of banker Andy Dufresne (Tim Robbins), who is sentenced to life in Shawshank State Penitentiary for the murders of his wife and her lover, despite his claims of innocence. Over the following two decades, he befriends a fellow prisoner, contraband smuggler Ellis \"Red\" Redding (Morgan Freeman), and becomes instrumental in a money-laundering operation led by the prison warden Samuel Norton (Bob Gunton). William Sadler, Clancy Brown, Gil Bellows, and James Whitmore appear in supporting roles.\\nDarabont purchased the film rights to King\\'s story in 1987, but development did not begin until five years later, when he wrote the script over an eight-week period. Two weeks after submitting his script to Castle Rock Entertainment, Darabont secured a $25 million budget to produce The Shawshank Redemption, which started pre-production in January 1993. While the film is set in Maine, principal photography took place from June to August 1993 almost entirely in Mansfield, Ohio, with the Ohio State Reformatory serving as the eponymous penitentiary. The project attracted many stars of the time for the role of Andy, including Tom Hanks, Tom Cruise, and Kevin Costner. Thomas Newman provided the film\\'s score.\\nWhile The Shawshank Redemption received positive reviews on its release, particularly for its story and the performances of Robbins and Freeman, it was a box-office disappointment, earning only $16 million during its initial theatrical run. Many reasons were cited for its failure at the time, including competition from films such as Pulp Fiction and Forrest Gump, to the general unpopularity of prison films, lack of female characters, and even the title, which was considered to be confusing for audiences. It went on to receive multiple award nominations, including seven Academy Award nominations, and a theatrical re-release that, combined with international takings, increased the film\\'s box-office gross to $58.3 million.\\nOver 320,000 VHS copies were shipped throughout the United States, and based on its award nominations and word of mouth, it became one of the top rented films of 1995. The broadcast rights were acquired following the purchase of Castle Rock by Turner Broadcasting System, and it was shown regularly on the TNT network starting in 1997, further increasing its popularity. It is now considered by many to be one of the greatest films of the 1990s. As of 2017, the film is still broadcast regularly, and is popular in several countries, with audience members and celebrities citing it as a source of inspiration, and naming the film as a favorite in various surveys. In 2015, the United States Library of Congress selected the film for preservation in the National Film Registry, finding it \"culturally, historically, or aesthetically significant\".'"
            ]
          },
          "metadata": {
            "tags": []
          },
          "execution_count": 30
        }
      ]
    }
  ]
}